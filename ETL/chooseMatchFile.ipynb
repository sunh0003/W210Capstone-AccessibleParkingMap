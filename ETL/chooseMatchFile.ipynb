{
 "cells": [
  {
   "cell_type": "code",
   "execution_count": 2,
   "metadata": {},
   "outputs": [],
   "source": [
    "import os\n",
    "import pandas as pd"
   ]
  },
  {
   "cell_type": "code",
   "execution_count": 3,
   "metadata": {},
   "outputs": [
    {
     "name": "stdout",
     "output_type": "stream",
     "text": [
      "/Users/KirbyMac/Desktop/BerkeleyClass/W210/POC1/training\n"
     ]
    }
   ],
   "source": [
    "#check current directory\n",
    "cwd = os.getcwd()\n",
    "print(cwd)"
   ]
  },
  {
   "cell_type": "code",
   "execution_count": 4,
   "metadata": {},
   "outputs": [
    {
     "data": {
      "text/plain": [
       "'/Users/KirbyMac/Desktop/BerkeleyClass/W210/POC1/training/39.74755--104.982331-135.xml'"
      ]
     },
     "execution_count": 4,
     "metadata": {},
     "output_type": "execute_result"
    }
   ],
   "source": [
    "#check if I can get abs path for one file, replace the filen name with one of your file name\n",
    "os.path.abspath('39.74755--104.982331-135.xml')"
   ]
  },
  {
   "cell_type": "code",
   "execution_count": 27,
   "metadata": {},
   "outputs": [
    {
     "data": {
      "text/plain": [
       "301"
      ]
     },
     "execution_count": 27,
     "metadata": {},
     "output_type": "execute_result"
    }
   ],
   "source": [
    "# make a list of labels in your label folder\n",
    "label_list=os.listdir(\"/Users/KirbyMac/Desktop/BerkeleyClass/W210/POC1/training/michelleLabel\")\n",
    "#removel .xml for each file\n",
    "label_list_1=[]\n",
    "for i in label_list:\n",
    "    label_list_1.append(i.replace('.xml',''))\n",
    "label_list_1.remove('classes.txt')\n",
    "len(label_list_1)"
   ]
  },
  {
   "cell_type": "code",
   "execution_count": 26,
   "metadata": {},
   "outputs": [
    {
     "data": {
      "text/plain": [
       "624"
      ]
     },
     "execution_count": 26,
     "metadata": {},
     "output_type": "execute_result"
    }
   ],
   "source": [
    "#list of original images\n",
    "image_list = os.listdir(\"/Users/KirbyMac/Desktop/BerkeleyClass/W210/POC1/training/michelle\")\n",
    "\n",
    "image_list_1=[]\n",
    "for i in image_list:\n",
    "    image_list_1.append(i.replace('.jpg',''))\n",
    "image_list_1.remove('.DS_Store')\n",
    "len(image_list_1)"
   ]
  },
  {
   "cell_type": "code",
   "execution_count": 33,
   "metadata": {},
   "outputs": [
    {
     "name": "stdout",
     "output_type": "stream",
     "text": [
      "the remove list length:  325\n"
     ]
    },
    {
     "data": {
      "text/plain": [
       "['39.7535774--104.995225-135.jpg',\n",
       " '39.761992--104.9174233-315.jpg',\n",
       " '39.7475515--104.99954509999999-315.jpg',\n",
       " '39.7209656--104.9862457-315.jpg',\n",
       " '39.761975--104.9100811-315.jpg']"
      ]
     },
     "execution_count": 33,
     "metadata": {},
     "output_type": "execute_result"
    }
   ],
   "source": [
    "#make remove list\n",
    "remove_list=[]\n",
    "for i in image_list_1:\n",
    "    if i not in label_list_1:\n",
    "        remove_list.append(i)\n",
    "print('the remove list length: ',len(remove_list))\n",
    "remove_list_1=[]\n",
    "for i in remove_list:\n",
    "    remove_list_1.append(i+str('.jpg'))\n",
    "remove_list_1[:5]"
   ]
  },
  {
   "cell_type": "code",
   "execution_count": 35,
   "metadata": {},
   "outputs": [],
   "source": [
    "path = \"/Users/KirbyMac/Desktop/BerkeleyClass/W210/POC1/training/michelle\"\n",
    "os.chdir(path)\n",
    "for fname in remove_list_1:\n",
    "    if os.path.isfile(fname):\n",
    "        os.remove(fname)"
   ]
  }
 ],
 "metadata": {
  "kernelspec": {
   "display_name": "Python 3",
   "language": "python",
   "name": "python3"
  },
  "language_info": {
   "codemirror_mode": {
    "name": "ipython",
    "version": 3
   },
   "file_extension": ".py",
   "mimetype": "text/x-python",
   "name": "python",
   "nbconvert_exporter": "python",
   "pygments_lexer": "ipython3",
   "version": "3.7.3"
  }
 },
 "nbformat": 4,
 "nbformat_minor": 4
}
