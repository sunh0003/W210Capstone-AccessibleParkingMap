{
 "cells": [
  {
   "cell_type": "code",
   "execution_count": 3,
   "metadata": {},
   "outputs": [],
   "source": [
    "import numpy as np\n",
    "import geopy\n",
    "import pandas as pd\n",
    "import math\n",
    "from uszipcode import SearchEngine, SimpleZipcode, Zipcode\n",
    "search = SearchEngine()\n",
    "import glob"
   ]
  },
  {
   "cell_type": "code",
   "execution_count": 4,
   "metadata": {},
   "outputs": [],
   "source": [
    "PATH = '/Users/richardryu/Desktop/Cantwo/w210/data/*.csv'"
   ]
  },
  {
   "cell_type": "code",
   "execution_count": 22,
   "metadata": {},
   "outputs": [],
   "source": [
    "# 7/8 save df by zipcode in csv\n",
    "def zip_df2(df):\n",
    "    zip1 = list(df['zipcode'].unique())\n",
    "    zip2 = list(df['zipcode2'].unique())\n",
    "    all_zip = list(set(zip1 + zip2))\n",
    "    for i in all_zip:\n",
    "        temp_df = df[df[\"zipcode\"] == i]\n",
    "        temp_df2 = df[df[\"zipcode2\"] == i]\n",
    "        temp_final = pd.concat([temp_df, temp_df2])\n",
    "        temp_final.drop_duplicates()\n",
    "        temp_final.to_csv(i + '.csv', encoding = 'utf-8', index = False)"
   ]
  },
  {
   "cell_type": "code",
   "execution_count": 21,
   "metadata": {},
   "outputs": [],
   "source": [
    "#7/12 modified function\n",
    "def csv_par9(df, delta):\n",
    "    for i in range(len(df)):\n",
    "        df.loc[i, 'lat'] = float(df.loc[i, 'imgname'].split('-')[0])\n",
    "        df.loc[i, 'long'] = float(df.loc[i, 'imgname'].split('-')[2]) * -1.0\n",
    "        df.loc[i, 'angle'] = df.loc[i, 'imgname'].split('-')[3][:-4]\n",
    "        result = search.by_coordinates(df.loc[i, 'lat'], df.loc[i, 'long'], radius=3)\n",
    "        df.loc[i, 'zipcode'] = result[0].zipcode\n",
    "        df.loc[i, 'zipcode2'] = result[1].zipcode\n",
    "        if df.loc[i, 'xcenter'] <= 0.333333:\n",
    "            df.loc[i, 'detect_loc'] = 'L'\n",
    "            df.loc[i, 'new_lat'] = df.loc[i, 'lat'] + (delta * math.cos((math.pi / 180)*(float(df.loc[i, 'angle'])-90)))\n",
    "            df.loc[i, 'new_long'] = df.loc[i, 'long'] + (delta * math.sin((math.pi / 180)*(float(df.loc[i, 'angle'])-90)))\n",
    "        elif df.loc[i, 'xcenter'] > 0.666666:\n",
    "            df.loc[i, 'detect_loc'] = 'R'\n",
    "            df.loc[i, 'new_lat'] = df.loc[i, 'lat'] - (delta * math.cos((math.pi / 180)*(float(df.loc[i, 'angle']) -90)))\n",
    "            df.loc[i, 'new_long'] = df.loc[i, 'long'] - (delta * math.sin((math.pi / 180)*(float(df.loc[i, 'angle']) -90)))\n",
    "        else:\n",
    "            df.loc[i, 'detect_loc'] = 'C'\n",
    "            df.loc[i, 'new_lat'] = df.loc[i, 'lat']\n",
    "            df.loc[i, 'new_long'] = df.loc[i, 'long']\n",
    "    return df"
   ]
  },
  {
   "cell_type": "code",
   "execution_count": 37,
   "metadata": {},
   "outputs": [],
   "source": [
    "pm = pd.read_csv('parking_meters.csv')\n",
    "# class 0- lamp, class 1- sign-h, class 2- fh, class 3-nopark, class 4-stop, class 5- pm\n",
    "pm_ff = pd.DataFrame(columns=['lat', 'long', 'zipcode', 'zipcode2', 'class'])\n",
    "for i in range(len(pm)):\n",
    "    result = search.by_coordinates(pm.loc[i, 'LATITUDE'], pm.loc[i, 'LONGITUDE'], radius=2)\n",
    "    pm_ff.loc[i, 'lat'] = pm.loc[i, 'LATITUDE']\n",
    "    pm_ff.loc[i, 'long'] = pm.loc[i, 'LONGITUDE']\n",
    "    pm_ff.loc[i, 'zipcode'] = result[0].zipcode\n",
    "    pm_ff.loc[i, 'zipcode2'] = result[1].zipcode\n",
    "    pm_ff.loc[i, 'class'] = 5"
   ]
  },
  {
   "cell_type": "code",
   "execution_count": 19,
   "metadata": {},
   "outputs": [],
   "source": [
    "# grabbing all csv files and reading them as separate pd dataframes\n",
    "temp = []\n",
    "for fname in glob.glob(PATH):\n",
    "    temp.append(pd.read_csv(fname))"
   ]
  },
  {
   "cell_type": "code",
   "execution_count": 23,
   "metadata": {
    "scrolled": true
   },
   "outputs": [],
   "source": [
    "# transforming lat/long on each csv file and adding new lat/long with 2 zipcodes\n",
    "conv_temp = []\n",
    "for i in temp:\n",
    "    conv_temp.append(csv_par9(i, 0.0001))"
   ]
  },
  {
   "cell_type": "code",
   "execution_count": 31,
   "metadata": {},
   "outputs": [],
   "source": [
    "final_df11 = pd.concat([conv_temp[0], conv_temp[1], conv_temp[2], conv_temp[3], conv_temp[4], conv_temp[5], conv_temp[6], conv_temp[7], conv_temp[8], conv_temp[9], conv_temp[10], conv_temp[11], conv_temp[12], conv_temp[13], conv_temp[14]] , ignore_index=True)"
   ]
  },
  {
   "cell_type": "code",
   "execution_count": 38,
   "metadata": {},
   "outputs": [],
   "source": [
    "# dropping \"className\" which is filled with NaN and is a duplicate of 'class'\n",
    "new_final_df11 = final_df11.drop(columns = [\"className\"])\n",
    "mosaic5 = pd.concat([new_final_df11, pm_ff], ignore_index=True)"
   ]
  },
  {
   "cell_type": "code",
   "execution_count": 40,
   "metadata": {},
   "outputs": [],
   "source": [
    "zip_df2(mosaic5)"
   ]
  },
  {
   "cell_type": "code",
   "execution_count": null,
   "metadata": {},
   "outputs": [],
   "source": []
  }
 ],
 "metadata": {
  "kernelspec": {
   "display_name": "Python 3",
   "language": "python",
   "name": "python3"
  },
  "language_info": {
   "codemirror_mode": {
    "name": "ipython",
    "version": 3
   },
   "file_extension": ".py",
   "mimetype": "text/x-python",
   "name": "python",
   "nbconvert_exporter": "python",
   "pygments_lexer": "ipython3",
   "version": "3.7.6"
  }
 },
 "nbformat": 4,
 "nbformat_minor": 4
}
