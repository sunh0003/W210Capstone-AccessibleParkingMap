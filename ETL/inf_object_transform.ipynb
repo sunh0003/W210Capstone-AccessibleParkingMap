{
 "cells": [
  {
   "cell_type": "code",
   "execution_count": 6,
   "metadata": {},
   "outputs": [],
   "source": [
    "import numpy as np\n",
    "import geopy\n",
    "import pandas as pd\n",
    "import math\n",
    "from uszipcode import SearchEngine, SimpleZipcode, Zipcode"
   ]
  },
  {
   "cell_type": "code",
   "execution_count": 4,
   "metadata": {},
   "outputs": [],
   "source": [
    "infers1 = pd.read_csv('/Users/richardryu/Desktop/Cantwo/w210/output_yolo_infer1_horizon_0.csv')\n",
    "infers2 = pd.read_csv('/Users/richardryu/Desktop/Cantwo/w210/output_yolo_infer1_horizon_180.csv')\n",
    "infers3 = pd.read_csv('/Users/richardryu/Desktop/Cantwo/w210/output_yolo_infer1_vertical_270.csv')\n",
    "infers4 = pd.read_csv('/Users/richardryu/Desktop/Cantwo/w210/output_yolo_infer1_vertical_90.csv')\n",
    "infers5 = pd.read_csv('/Users/richardryu/Desktop/Cantwo/w210/output_yolo_infer2_horizon_0.csv')\n",
    "infers6 = pd.read_csv('/Users/richardryu/Desktop/Cantwo/w210/output_yolo_infer2_horizon_180.csv')\n",
    "infers7 = pd.read_csv('/Users/richardryu/Desktop/Cantwo/w210/output_yolo_infer2_vertical_270.csv')\n",
    "infers8 = pd.read_csv('/Users/richardryu/Desktop/Cantwo/w210/output_yolo_infer2_vertical_90.csv')"
   ]
  },
  {
   "cell_type": "code",
   "execution_count": 7,
   "metadata": {},
   "outputs": [],
   "source": [
    "search = SearchEngine()\n",
    "\n",
    "def csv_par(df):\n",
    "    for i in range(len(df)):\n",
    "        df.loc[i, 'lat'] = float(df.loc[i, 'imgname'].split('-')[0])\n",
    "        df.loc[i, 'long'] = float(df.loc[i, 'imgname'].split('-')[2]) * -1.0\n",
    "        df.loc[i, 'angle'] = df.loc[i, 'imgname'].split('-')[3][:-4]\n",
    "        result = search.by_coordinates(df.loc[i, 'lat'], df.loc[i, 'long'], radius=3)\n",
    "        df.loc[i, 'zipcode'] = result[0].zipcode\n",
    "    return df\n",
    "\n",
    "# lat/long rounded to 4 decimals\n",
    "def csv_par2(df):\n",
    "    for i in range(len(df)):\n",
    "        df.loc[i, 'lat'] = float(df.loc[i, 'imgname'].split('-')[0])\n",
    "        df.loc[i, 'long'] = float(df.loc[i, 'imgname'].split('-')[2]) * -1.0\n",
    "        df.loc[i, 'angle'] = df.loc[i, 'imgname'].split('-')[3][:-4]\n",
    "        result = search.by_coordinates(df.loc[i, 'lat'], df.loc[i, 'long'], radius=3)\n",
    "        df.loc[i, 'zipcode'] = result[0].zipcode\n",
    "        df.loc[i, 'lat'] = df.loc[i, 'lat'].astype(float).round(4)\n",
    "        df.loc[i, 'long'] = df.loc[i, 'long'].astype(float).round(4)\n",
    "    return df\n",
    "\n",
    "#7/5 adjusting coordinates by 'xcenter' position [L, C, R]. 0.013 mile = ~20 meters = 0.0002\n",
    "# currently only accounts for the 0 angle. need to account for 'angle'\n",
    "def csv_par3(df, delta):\n",
    "    for i in range(len(df)):\n",
    "        df.loc[i, 'lat'] = float(df.loc[i, 'imgname'].split('-')[0])\n",
    "        df.loc[i, 'long'] = float(df.loc[i, 'imgname'].split('-')[2]) * -1.0\n",
    "        df.loc[i, 'angle'] = df.loc[i, 'imgname'].split('-')[3][:-4]\n",
    "        result = search.by_coordinates(df.loc[i, 'lat'], df.loc[i, 'long'], radius=3)\n",
    "        df.loc[i, 'zipcode'] = result[0].zipcode\n",
    "        df.loc[i, 'lat'] = df.loc[i, 'lat'].astype(float).round(4)\n",
    "        df.loc[i, 'long'] = df.loc[i, 'long'].astype(float).round(4)\n",
    "        if df.loc[i, 'xcenter'] <= 0.333333:\n",
    "            df.loc[i, 'detect_loc'] = 'L'\n",
    "            df.loc[i, 'new_lat'] = df.loc[i, 'lat'] + delta/2\n",
    "            df.loc[i, 'new_long'] = df.loc[i, 'long']\n",
    "        elif df.loc[i, 'xcenter'] > 0.666666:\n",
    "            df.loc[i, 'detect_loc'] = 'R'\n",
    "            df.loc[i, 'new_lat'] = df.loc[i, 'lat']\n",
    "            df.loc[i, 'new_long'] = df.loc[i, 'long']\n",
    "        else:\n",
    "            df.loc[i, 'detect_loc'] = 'C'\n",
    "            df.loc[i, 'new_lat'] = df.loc[i, 'lat'] - delta/2\n",
    "            df.loc[i, 'new_long'] = df.loc[i, 'long']\n",
    "    return df\n",
    "\n",
    "#7/5 adjusting coordinates by 'xcenter' position [L, C, R]. 0.013 mile = ~20 meters = 0.0002\n",
    "# Rachael's version\n",
    "def csv_par4(df, delta):\n",
    "    for i in range(len(df)):\n",
    "        df.loc[i, 'lat'] = float(df.loc[i, 'imgname'].split('-')[0])\n",
    "        df.loc[i, 'long'] = float(df.loc[i, 'imgname'].split('-')[2]) * -1.0\n",
    "        df.loc[i, 'angle'] = df.loc[i, 'imgname'].split('-')[3][:-4]\n",
    "        result = search.by_coordinates(df.loc[i, 'lat'], df.loc[i, 'long'], radius=3)\n",
    "        df.loc[i, 'zipcode'] = result[0].zipcode\n",
    "        df.loc[i, 'lat'] = df.loc[i, 'lat'].astype(float).round(4)\n",
    "        df.loc[i, 'long'] = df.loc[i, 'long'].astype(float).round(4)\n",
    "        df.loc[i, 'new_lat'] = df.loc[i, 'lat'] + (delta * math.cos((math.pi / 180)*float(df.loc[i, 'angle'])))\n",
    "        df.loc[i, 'new_long'] = df.loc[i, 'long'] + (delta * math.sin((math.pi / 180)*float(df.loc[i, 'angle'])))\n",
    "    return df"
   ]
  },
  {
   "cell_type": "code",
   "execution_count": 8,
   "metadata": {},
   "outputs": [],
   "source": [
    "# 7/1 save df by zipcode in csv\n",
    "def zip_df(df):\n",
    "    for i in df[\"zipcode\"].unique():\n",
    "        temp_df = df[df[\"zipcode\"] == i]\n",
    "        temp_df.to_csv(i + '.csv', encoding = 'utf-8', index = False)"
   ]
  },
  {
   "cell_type": "code",
   "execution_count": 9,
   "metadata": {},
   "outputs": [],
   "source": [
    "output1 = csv_par(infers1)\n",
    "output2 = csv_par(infers2)\n",
    "output3 = csv_par(infers3)\n",
    "output4 = csv_par(infers4)\n",
    "output5 = csv_par(infers5)\n",
    "output6 = csv_par(infers6)\n",
    "output7 = csv_par(infers7)\n",
    "output8 = csv_par(infers8)"
   ]
  },
  {
   "cell_type": "code",
   "execution_count": 10,
   "metadata": {},
   "outputs": [],
   "source": [
    "final_df = pd.concat([output1, output2, output3, output4, output5, output6, output7, output8], ignore_index=True)"
   ]
  },
  {
   "cell_type": "code",
   "execution_count": 15,
   "metadata": {},
   "outputs": [],
   "source": [
    "zip_df(final_df)"
   ]
  },
  {
   "cell_type": "code",
   "execution_count": 16,
   "metadata": {},
   "outputs": [],
   "source": [
    "# rounded version\n",
    "r_output1 = csv_par2(infers1)\n",
    "r_output2 = csv_par2(infers2)\n",
    "r_output3 = csv_par2(infers3)\n",
    "r_output4 = csv_par2(infers4)\n",
    "r_output5 = csv_par2(infers5)\n",
    "r_output6 = csv_par2(infers6)\n",
    "r_output7 = csv_par2(infers7)\n",
    "r_output8 = csv_par2(infers8)"
   ]
  },
  {
   "cell_type": "code",
   "execution_count": 17,
   "metadata": {},
   "outputs": [],
   "source": [
    "final_df2 = pd.concat([r_output1, r_output2, r_output3, r_output4, r_output5, r_output6, r_output7, r_output8], ignore_index=True)"
   ]
  },
  {
   "cell_type": "code",
   "execution_count": 18,
   "metadata": {},
   "outputs": [],
   "source": [
    "zip_df(final_df2)"
   ]
  },
  {
   "cell_type": "code",
   "execution_count": 20,
   "metadata": {},
   "outputs": [],
   "source": [
    "# angle modified coordinates\n",
    "a_output1 = csv_par4(infers1, 0.0002)\n",
    "a_output2 = csv_par4(infers2, 0.0002)\n",
    "a_output3 = csv_par4(infers3, 0.0002)\n",
    "a_output4 = csv_par4(infers4, 0.0002)\n",
    "a_output5 = csv_par4(infers5, 0.0002)\n",
    "a_output6 = csv_par4(infers6, 0.0002)\n",
    "a_output7 = csv_par4(infers7, 0.0002)\n",
    "a_output8 = csv_par4(infers8, 0.0002)"
   ]
  },
  {
   "cell_type": "code",
   "execution_count": 21,
   "metadata": {},
   "outputs": [],
   "source": [
    "final_df3 = pd.concat([a_output1, a_output2, a_output3, a_output4, a_output5, a_output6, a_output7, a_output8], ignore_index=True)"
   ]
  },
  {
   "cell_type": "code",
   "execution_count": 22,
   "metadata": {},
   "outputs": [],
   "source": [
    "zip_df(final_df3)"
   ]
  },
  {
   "cell_type": "code",
   "execution_count": null,
   "metadata": {},
   "outputs": [],
   "source": []
  }
 ],
 "metadata": {
  "kernelspec": {
   "display_name": "Python 3",
   "language": "python",
   "name": "python3"
  },
  "language_info": {
   "codemirror_mode": {
    "name": "ipython",
    "version": 3
   },
   "file_extension": ".py",
   "mimetype": "text/x-python",
   "name": "python",
   "nbconvert_exporter": "python",
   "pygments_lexer": "ipython3",
   "version": "3.7.6"
  }
 },
 "nbformat": 4,
 "nbformat_minor": 4
}
