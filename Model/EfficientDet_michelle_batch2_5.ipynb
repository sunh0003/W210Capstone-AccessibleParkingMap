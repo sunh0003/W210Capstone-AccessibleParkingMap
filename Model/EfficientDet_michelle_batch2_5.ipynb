{
  "nbformat": 4,
  "nbformat_minor": 0,
  "metadata": {
    "colab": {
      "name": "EfficientDet_michelle_batch2.5.ipynb",
      "provenance": [],
      "collapsed_sections": [],
      "toc_visible": true
    },
    "kernelspec": {
      "name": "python3",
      "display_name": "Python 3"
    },
    "accelerator": "GPU"
  },
  "cells": [
    {
      "cell_type": "markdown",
      "metadata": {
        "id": "8SJBVVCyvObX",
        "colab_type": "text"
      },
      "source": [
        "# Setting up our envionment"
      ]
    },
    {
      "cell_type": "markdown",
      "metadata": {
        "id": "NmBxUxa7hONc",
        "colab_type": "text"
      },
      "source": [
        "upload effiDetTrain2.zip"
      ]
    },
    {
      "cell_type": "markdown",
      "metadata": {
        "id": "5FAZMoujpaaz",
        "colab_type": "text"
      },
      "source": [
        "need to upload our dataset <br>\n",
        "also need to upload github Monk_object_detection.git"
      ]
    },
    {
      "cell_type": "code",
      "metadata": {
        "id": "X2EDGrtsba1E",
        "colab_type": "code",
        "colab": {
          "base_uri": "https://localhost:8080/",
          "height": 153
        },
        "outputId": "82061b28-3836-4e9d-971f-907e116b7ddc"
      },
      "source": [
        "\n",
        "#!rm -rf Monk_Object_Detection\n",
        "! git clone https://github.com/roboflow-ai/Monk_Object_Detection.git"
      ],
      "execution_count": null,
      "outputs": [
        {
          "output_type": "stream",
          "text": [
            "Cloning into 'Monk_Object_Detection'...\n",
            "remote: Enumerating objects: 3, done.\u001b[K\n",
            "remote: Counting objects: 100% (3/3), done.\u001b[K\n",
            "remote: Compressing objects: 100% (3/3), done.\u001b[K\n",
            "remote: Total 3747 (delta 0), reused 1 (delta 0), pack-reused 3744\u001b[K\n",
            "Receiving objects: 100% (3747/3747), 132.20 MiB | 27.73 MiB/s, done.\n",
            "Resolving deltas: 100% (800/800), done.\n",
            "Checking out files: 100% (4032/4032), done.\n"
          ],
          "name": "stdout"
        }
      ]
    },
    {
      "cell_type": "code",
      "metadata": {
        "id": "EIu1PTPlcAuU",
        "colab_type": "code",
        "colab": {
          "base_uri": "https://localhost:8080/",
          "height": 547
        },
        "outputId": "5327e6ca-056b-454f-d060-3ad47838bfc4"
      },
      "source": [
        "# For colab use the command below\n",
        "# Set up library requirments\n",
        "! cd Monk_Object_Detection/3_mxrcnn/installation && cat requirements_colab.txt | xargs -n 1 -L 1 pip install\n"
      ],
      "execution_count": null,
      "outputs": [
        {
          "output_type": "stream",
          "text": [
            "Collecting mxnet-cu100\n",
            "\u001b[?25l  Downloading https://files.pythonhosted.org/packages/3d/84/d098e0607ee6207448b6af65315f5d45946b49e4f48160eade6cdd64ce4e/mxnet_cu100-1.5.1.post0-py2.py3-none-manylinux1_x86_64.whl (540.1MB)\n",
            "\u001b[K     |████████████████████████████████| 540.1MB 20kB/s \n",
            "\u001b[?25hRequirement already satisfied: numpy<2.0.0,>1.16.0 in /usr/local/lib/python3.6/dist-packages (from mxnet-cu100) (1.18.5)\n",
            "Requirement already satisfied: requests<3,>=2.20.0 in /usr/local/lib/python3.6/dist-packages (from mxnet-cu100) (2.23.0)\n",
            "Collecting graphviz<0.9.0,>=0.8.1\n",
            "  Downloading https://files.pythonhosted.org/packages/53/39/4ab213673844e0c004bed8a0781a0721a3f6bb23eb8854ee75c236428892/graphviz-0.8.4-py2.py3-none-any.whl\n",
            "Requirement already satisfied: certifi>=2017.4.17 in /usr/local/lib/python3.6/dist-packages (from requests<3,>=2.20.0->mxnet-cu100) (2020.4.5.1)\n",
            "Requirement already satisfied: chardet<4,>=3.0.2 in /usr/local/lib/python3.6/dist-packages (from requests<3,>=2.20.0->mxnet-cu100) (3.0.4)\n",
            "Requirement already satisfied: urllib3!=1.25.0,!=1.25.1,<1.26,>=1.21.1 in /usr/local/lib/python3.6/dist-packages (from requests<3,>=2.20.0->mxnet-cu100) (1.24.3)\n",
            "Requirement already satisfied: idna<3,>=2.5 in /usr/local/lib/python3.6/dist-packages (from requests<3,>=2.20.0->mxnet-cu100) (2.9)\n",
            "Installing collected packages: graphviz, mxnet-cu100\n",
            "  Found existing installation: graphviz 0.10.1\n",
            "    Uninstalling graphviz-0.10.1:\n",
            "      Successfully uninstalled graphviz-0.10.1\n",
            "Successfully installed graphviz-0.8.4 mxnet-cu100-1.5.1.post0\n",
            "Collecting dicttoxml\n",
            "  Downloading https://files.pythonhosted.org/packages/74/36/534db111db9e7610a41641a1f6669a964aacaf51858f466de264cc8dcdd9/dicttoxml-1.7.4.tar.gz\n",
            "Building wheels for collected packages: dicttoxml\n",
            "  Building wheel for dicttoxml (setup.py) ... \u001b[?25l\u001b[?25hdone\n",
            "  Created wheel for dicttoxml: filename=dicttoxml-1.7.4-cp36-none-any.whl size=17452 sha256=c8a03e673be6e734d7e5352b128fb601ac72b3c25094a6d36de0d0401826a522\n",
            "  Stored in directory: /root/.cache/pip/wheels/62/4f/a3/afd4a68f5add45a668c14efa53b64d5cffb2be6bacf993c151\n",
            "Successfully built dicttoxml\n",
            "Installing collected packages: dicttoxml\n",
            "Successfully installed dicttoxml-1.7.4\n",
            "Collecting xmltodict\n",
            "  Downloading https://files.pythonhosted.org/packages/28/fd/30d5c1d3ac29ce229f6bdc40bbc20b28f716e8b363140c26eff19122d8a5/xmltodict-0.12.0-py2.py3-none-any.whl\n",
            "Installing collected packages: xmltodict\n",
            "Successfully installed xmltodict-0.12.0\n",
            "Requirement already satisfied: pycocotools from git+https://github.com/abhi-kumar/cocoapi.git#egg=pycocotools&subdirectory=PythonAPI in /usr/local/lib/python3.6/dist-packages (2.0.0)\n"
          ],
          "name": "stdout"
        }
      ]
    },
    {
      "cell_type": "code",
      "metadata": {
        "id": "N2YxNg_6ftEC",
        "colab_type": "code",
        "colab": {
          "base_uri": "https://localhost:8080/",
          "height": 718
        },
        "outputId": "e2986718-7503-4d3d-b3ef-bf46f322bf6d"
      },
      "source": [
        "#fixed version of tqdm output for Colab\n",
        "!pip install --force https://github.com/chengs/tqdm/archive/colab.zip\n",
        "#IGNORE restart runtime warning, it is indeed installed\n",
        "#missing a few extra packages that we will need later! \n",
        "!pip install efficientnet_pytorch\n",
        "!pip install tensorboardX\n",
        "#!tensorboard --logdir runs"
      ],
      "execution_count": null,
      "outputs": [
        {
          "output_type": "stream",
          "text": [
            "Collecting https://github.com/chengs/tqdm/archive/colab.zip\n",
            "\u001b[?25l  Downloading https://github.com/chengs/tqdm/archive/colab.zip\n",
            "\u001b[K     / 368kB 1.2MB/s\n",
            "\u001b[?25hBuilding wheels for collected packages: tqdm\n",
            "  Building wheel for tqdm (setup.py) ... \u001b[?25l\u001b[?25hdone\n",
            "  Created wheel for tqdm: filename=tqdm-4.28.1-py2.py3-none-any.whl size=47867 sha256=d1adc6c6854c1ad690b7633244e551cfb8af8760a7f8d4ddc790046b172e6688\n",
            "  Stored in directory: /tmp/pip-ephem-wheel-cache-pg9kw5h_/wheels/41/18/ee/d5dd158441b27965855b1bbae03fa2d8a91fe645c01b419896\n",
            "Successfully built tqdm\n",
            "\u001b[31mERROR: spacy 2.2.4 has requirement tqdm<5.0.0,>=4.38.0, but you'll have tqdm 4.28.1 which is incompatible.\u001b[0m\n",
            "Installing collected packages: tqdm\n",
            "  Found existing installation: tqdm 4.41.1\n",
            "    Uninstalling tqdm-4.41.1:\n",
            "      Successfully uninstalled tqdm-4.41.1\n",
            "Successfully installed tqdm-4.28.1\n"
          ],
          "name": "stdout"
        },
        {
          "output_type": "display_data",
          "data": {
            "application/vnd.colab-display-data+json": {
              "pip_warning": {
                "packages": [
                  "tqdm"
                ]
              }
            }
          },
          "metadata": {
            "tags": []
          }
        },
        {
          "output_type": "stream",
          "text": [
            "Collecting efficientnet_pytorch\n",
            "  Downloading https://files.pythonhosted.org/packages/b8/cb/0309a6e3d404862ae4bc017f89645cf150ac94c14c88ef81d215c8e52925/efficientnet_pytorch-0.6.3.tar.gz\n",
            "Requirement already satisfied: torch in /usr/local/lib/python3.6/dist-packages (from efficientnet_pytorch) (1.5.0+cu101)\n",
            "Requirement already satisfied: numpy in /usr/local/lib/python3.6/dist-packages (from torch->efficientnet_pytorch) (1.18.5)\n",
            "Requirement already satisfied: future in /usr/local/lib/python3.6/dist-packages (from torch->efficientnet_pytorch) (0.16.0)\n",
            "Building wheels for collected packages: efficientnet-pytorch\n",
            "  Building wheel for efficientnet-pytorch (setup.py) ... \u001b[?25l\u001b[?25hdone\n",
            "  Created wheel for efficientnet-pytorch: filename=efficientnet_pytorch-0.6.3-cp36-none-any.whl size=12422 sha256=0dec56679ed669e2807cde0f92478c21ad5496542d4c05305814f99adde5074b\n",
            "  Stored in directory: /root/.cache/pip/wheels/42/1e/a9/2a578ba9ad04e776e80bf0f70d8a7f4c29ec0718b92d8f6ccd\n",
            "Successfully built efficientnet-pytorch\n",
            "Installing collected packages: efficientnet-pytorch\n",
            "Successfully installed efficientnet-pytorch-0.6.3\n",
            "Collecting tensorboardX\n",
            "\u001b[?25l  Downloading https://files.pythonhosted.org/packages/35/f1/5843425495765c8c2dd0784a851a93ef204d314fc87bcc2bbb9f662a3ad1/tensorboardX-2.0-py2.py3-none-any.whl (195kB)\n",
            "\u001b[K     |████████████████████████████████| 204kB 6.7MB/s \n",
            "\u001b[?25hRequirement already satisfied: protobuf>=3.8.0 in /usr/local/lib/python3.6/dist-packages (from tensorboardX) (3.10.0)\n",
            "Requirement already satisfied: six in /usr/local/lib/python3.6/dist-packages (from tensorboardX) (1.12.0)\n",
            "Requirement already satisfied: numpy in /usr/local/lib/python3.6/dist-packages (from tensorboardX) (1.18.5)\n",
            "Requirement already satisfied: setuptools in /usr/local/lib/python3.6/dist-packages (from protobuf>=3.8.0->tensorboardX) (47.1.1)\n",
            "Installing collected packages: tensorboardX\n",
            "Successfully installed tensorboardX-2.0\n"
          ],
          "name": "stdout"
        }
      ]
    },
    {
      "cell_type": "code",
      "metadata": {
        "id": "egG0KATufy3j",
        "colab_type": "code",
        "colab": {}
      },
      "source": [
        "#Install latest Tensorflow build\n",
        "#!pip install -q tf-nightly-2.0-preview\n",
        "#!pip install tensorflow==2.0.0rc1\n",
        "#from tensorflow import summary\n",
        "#%reload_ext tensorboard\n",
        "#!tensorboard --logdir runs"
      ],
      "execution_count": null,
      "outputs": []
    },
    {
      "cell_type": "markdown",
      "metadata": {
        "id": "8PdgWcjbc0hj",
        "colab_type": "text"
      },
      "source": [
        "# Load data to train (AccessPark) and test (Testdir) folder\n",
        "\n",
        "Here upload effiDetTrain2.zip file "
      ]
    },
    {
      "cell_type": "code",
      "metadata": {
        "id": "KMEU3Bh7YgF6",
        "colab_type": "code",
        "colab": {
          "base_uri": "https://localhost:8080/",
          "height": 1000
        },
        "outputId": "cddd67ac-a650-48eb-a6e3-cfb8c45fe2fc"
      },
      "source": [
        "#!unzip Chess-Pieces-Full.v1-416x416-auto-orient.coco.zip\n",
        "!unzip effiDetTrainNewLabelV1.zip"
      ],
      "execution_count": null,
      "outputs": [
        {
          "output_type": "stream",
          "text": [
            "Archive:  effiDetTrainNewLabelV1.zip\n",
            "   creating: effiDetTrainNewLabelV1/\n",
            "  inflating: effiDetTrainNewLabelV1/.DS_Store  \n",
            "  inflating: __MACOSX/effiDetTrainNewLabelV1/._.DS_Store  \n",
            "   creating: effiDetTrainNewLabelV1/test/\n",
            "   creating: effiDetTrainNewLabelV1/train/\n",
            "   creating: effiDetTrainNewLabelV1/testLabel/\n",
            "  inflating: effiDetTrainNewLabelV1/test/39.75050027--104.9852889-315.jpg  \n",
            "  inflating: __MACOSX/effiDetTrainNewLabelV1/test/._39.75050027--104.9852889-315.jpg  \n",
            "  inflating: effiDetTrainNewLabelV1/test/39.75316601--104.9784342-315.jpg  \n",
            "  inflating: __MACOSX/effiDetTrainNewLabelV1/test/._39.75316601--104.9784342-315.jpg  \n",
            "  inflating: effiDetTrainNewLabelV1/test/39.75230322--104.99167050000001-135.jpg  \n",
            "  inflating: __MACOSX/effiDetTrainNewLabelV1/test/._39.75230322--104.99167050000001-135.jpg  \n",
            "  inflating: effiDetTrainNewLabelV1/test/39.75050879--104.9939957-135.jpg  \n",
            "  inflating: __MACOSX/effiDetTrainNewLabelV1/test/._39.75050879--104.9939957-135.jpg  \n",
            "  inflating: effiDetTrainNewLabelV1/test/39.75108959--105.0001919-135.jpg  \n",
            "  inflating: __MACOSX/effiDetTrainNewLabelV1/test/._39.75108959--105.0001919-135.jpg  \n",
            "  inflating: effiDetTrainNewLabelV1/test/39.75193941--104.99736170000001-135.jpg  \n",
            "  inflating: __MACOSX/effiDetTrainNewLabelV1/test/._39.75193941--104.99736170000001-135.jpg  \n",
            "  inflating: effiDetTrainNewLabelV1/test/39.75014724--104.99968829999999-315.jpg  \n",
            "  inflating: __MACOSX/effiDetTrainNewLabelV1/test/._39.75014724--104.99968829999999-315.jpg  \n",
            "  inflating: effiDetTrainNewLabelV1/test/39.75185838--104.98355459999999-135.jpg  \n",
            "  inflating: __MACOSX/effiDetTrainNewLabelV1/test/._39.75185838--104.98355459999999-135.jpg  \n",
            "  inflating: effiDetTrainNewLabelV1/test/39.75234714--104.9863966-315.jpg  \n",
            "  inflating: __MACOSX/effiDetTrainNewLabelV1/test/._39.75234714--104.9863966-315.jpg  \n",
            "  inflating: effiDetTrainNewLabelV1/test/39.74917208--104.98704620000001-315.jpg  \n",
            "  inflating: __MACOSX/effiDetTrainNewLabelV1/test/._39.74917208--104.98704620000001-315.jpg  \n",
            "  inflating: effiDetTrainNewLabelV1/test/39.75193303--104.98402659999998-315.jpg  \n",
            "  inflating: __MACOSX/effiDetTrainNewLabelV1/test/._39.75193303--104.98402659999998-315.jpg  \n",
            "  inflating: effiDetTrainNewLabelV1/test/39.74897698--104.9942037-315.jpg  \n",
            "  inflating: __MACOSX/effiDetTrainNewLabelV1/test/._39.74897698--104.9942037-315.jpg  \n",
            "  inflating: effiDetTrainNewLabelV1/test/39.74950289--104.99007560000001-315.jpg  \n",
            "  inflating: __MACOSX/effiDetTrainNewLabelV1/test/._39.74950289--104.99007560000001-315.jpg  \n",
            "  inflating: effiDetTrainNewLabelV1/test/39.74919901--104.98872959999998-135.jpg  \n",
            "  inflating: __MACOSX/effiDetTrainNewLabelV1/test/._39.74919901--104.98872959999998-135.jpg  \n",
            "  inflating: effiDetTrainNewLabelV1/test/39.74902548--104.98550970000001-315.jpg  \n",
            "  inflating: __MACOSX/effiDetTrainNewLabelV1/test/._39.74902548--104.98550970000001-315.jpg  \n",
            "  inflating: effiDetTrainNewLabelV1/test/39.75200831--104.98336110000001-135.jpg  \n",
            "  inflating: __MACOSX/effiDetTrainNewLabelV1/test/._39.75200831--104.98336110000001-135.jpg  \n",
            "  inflating: effiDetTrainNewLabelV1/test/39.74894099--105.0012304-135.jpg  \n",
            "  inflating: __MACOSX/effiDetTrainNewLabelV1/test/._39.74894099--105.0012304-135.jpg  \n",
            "  inflating: effiDetTrainNewLabelV1/test/39.75049371--105.00096869999999-315.jpg  \n",
            "  inflating: __MACOSX/effiDetTrainNewLabelV1/test/._39.75049371--105.00096869999999-315.jpg  \n",
            "  inflating: effiDetTrainNewLabelV1/test/39.75025541--104.9908683-315.jpg  \n",
            "  inflating: __MACOSX/effiDetTrainNewLabelV1/test/._39.75025541--104.9908683-315.jpg  \n",
            "  inflating: effiDetTrainNewLabelV1/test/39.74992712--104.9843507-135.jpg  \n",
            "  inflating: __MACOSX/effiDetTrainNewLabelV1/test/._39.74992712--104.9843507-135.jpg  \n",
            "  inflating: effiDetTrainNewLabelV1/test/39.74885675--104.99612150000002-315.jpg  \n",
            "  inflating: __MACOSX/effiDetTrainNewLabelV1/test/._39.74885675--104.99612150000002-315.jpg  \n",
            "  inflating: effiDetTrainNewLabelV1/test/39.75086502--104.99530120000001-135.jpg  \n",
            "  inflating: __MACOSX/effiDetTrainNewLabelV1/test/._39.75086502--104.99530120000001-135.jpg  \n",
            "  inflating: effiDetTrainNewLabelV1/test/39.75112911--104.982805-315.jpg  \n",
            "  inflating: __MACOSX/effiDetTrainNewLabelV1/test/._39.75112911--104.982805-315.jpg  \n",
            "  inflating: effiDetTrainNewLabelV1/test/39.75152453--104.99091399999999-135.jpg  \n",
            "  inflating: __MACOSX/effiDetTrainNewLabelV1/test/._39.75152453--104.99091399999999-135.jpg  \n",
            "  inflating: effiDetTrainNewLabelV1/test/39.75668782--104.9790507-135.jpg  \n",
            "  inflating: __MACOSX/effiDetTrainNewLabelV1/test/._39.75668782--104.9790507-135.jpg  \n",
            "  inflating: effiDetTrainNewLabelV1/test/39.75060079--104.98171-135.jpg  \n",
            "  inflating: __MACOSX/effiDetTrainNewLabelV1/test/._39.75060079--104.98171-135.jpg  \n",
            "  inflating: effiDetTrainNewLabelV1/test/39.74879542--105.001427-315.jpg  \n",
            "  inflating: __MACOSX/effiDetTrainNewLabelV1/test/._39.74879542--105.001427-315.jpg  \n",
            "  inflating: effiDetTrainNewLabelV1/test/39.75245371--104.99147749999999-315.jpg  \n",
            "  inflating: __MACOSX/effiDetTrainNewLabelV1/test/._39.75245371--104.99147749999999-315.jpg  \n",
            "  inflating: effiDetTrainNewLabelV1/test/39.74904557--104.9873963-135.jpg  \n",
            "  inflating: __MACOSX/effiDetTrainNewLabelV1/test/._39.74904557--104.9873963-135.jpg  \n",
            "  inflating: effiDetTrainNewLabelV1/test/39.74972803--104.9932375-135.jpg  \n",
            "  inflating: __MACOSX/effiDetTrainNewLabelV1/test/._39.74972803--104.9932375-135.jpg  \n",
            "  inflating: effiDetTrainNewLabelV1/test/39.75238657--104.9846041-135.jpg  \n",
            "  inflating: __MACOSX/effiDetTrainNewLabelV1/test/._39.75238657--104.9846041-135.jpg  \n",
            "  inflating: effiDetTrainNewLabelV1/test/39.74895055--104.9801471-135.jpg  \n",
            "  inflating: __MACOSX/effiDetTrainNewLabelV1/test/._39.74895055--104.9801471-135.jpg  \n",
            "  inflating: effiDetTrainNewLabelV1/test/39.75163357--104.98363940000002-315.jpg  \n",
            "  inflating: __MACOSX/effiDetTrainNewLabelV1/test/._39.75163357--104.98363940000002-315.jpg  \n",
            "  inflating: effiDetTrainNewLabelV1/test/39.75085129--104.99009140000001-135.jpg  \n",
            "  inflating: __MACOSX/effiDetTrainNewLabelV1/test/._39.75085129--104.99009140000001-135.jpg  \n",
            "  inflating: effiDetTrainNewLabelV1/test/39.74953471--105.000452-135.jpg  \n",
            "  inflating: __MACOSX/effiDetTrainNewLabelV1/test/._39.74953471--105.000452-135.jpg  \n",
            "  inflating: effiDetTrainNewLabelV1/test/39.75099463--104.9864054-315.jpg  \n",
            "  inflating: __MACOSX/effiDetTrainNewLabelV1/test/._39.75099463--104.9864054-315.jpg  \n",
            "  inflating: effiDetTrainNewLabelV1/test/39.74911224--104.98365279999999-315.jpg  \n",
            "  inflating: __MACOSX/effiDetTrainNewLabelV1/test/._39.74911224--104.98365279999999-315.jpg  \n",
            "  inflating: effiDetTrainNewLabelV1/test/39.74964685--104.9881478-315.jpg  \n",
            "  inflating: __MACOSX/effiDetTrainNewLabelV1/test/._39.74964685--104.9881478-315.jpg  \n",
            "  inflating: effiDetTrainNewLabelV1/test/39.74908927--105.0010357-315.jpg  \n",
            "  inflating: __MACOSX/effiDetTrainNewLabelV1/test/._39.74908927--105.0010357-315.jpg  \n",
            "  inflating: effiDetTrainNewLabelV1/test/39.74941627--105.00228759999999-315.jpg  \n",
            "  inflating: __MACOSX/effiDetTrainNewLabelV1/test/._39.74941627--105.00228759999999-315.jpg  \n",
            "  inflating: effiDetTrainNewLabelV1/test/39.75007707--104.9841572-135.jpg  \n",
            "  inflating: __MACOSX/effiDetTrainNewLabelV1/test/._39.75007707--104.9841572-135.jpg  \n",
            "  inflating: effiDetTrainNewLabelV1/test/39.74920428--104.9904635-135.jpg  \n",
            "  inflating: __MACOSX/effiDetTrainNewLabelV1/test/._39.74920428--104.9904635-135.jpg  \n",
            "  inflating: effiDetTrainNewLabelV1/test/39.75104715--104.9985281-315.jpg  \n",
            "  inflating: __MACOSX/effiDetTrainNewLabelV1/test/._39.75104715--104.9985281-315.jpg  \n",
            "  inflating: effiDetTrainNewLabelV1/test/39.74994222--105.00440729999998-135.jpg  \n",
            "  inflating: __MACOSX/effiDetTrainNewLabelV1/test/._39.74994222--105.00440729999998-135.jpg  \n",
            "  inflating: effiDetTrainNewLabelV1/test/39.75163955--104.99774860000001-315.jpg  \n",
            "  inflating: __MACOSX/effiDetTrainNewLabelV1/test/._39.75163955--104.99774860000001-315.jpg  \n",
            "  inflating: effiDetTrainNewLabelV1/test/39.75464121--104.99388200000001-315.jpg  \n",
            "  inflating: __MACOSX/effiDetTrainNewLabelV1/test/._39.75464121--104.99388200000001-315.jpg  \n",
            "  inflating: effiDetTrainNewLabelV1/test/39.75064966--104.985095-135.jpg  \n",
            "  inflating: __MACOSX/effiDetTrainNewLabelV1/test/._39.75064966--104.985095-135.jpg  \n",
            "  inflating: effiDetTrainNewLabelV1/test/39.74902595--104.98724250000001-135.jpg  \n",
            "  inflating: __MACOSX/effiDetTrainNewLabelV1/test/._39.74902595--104.98724250000001-135.jpg  \n",
            "  inflating: effiDetTrainNewLabelV1/test/39.74947406--105.0038439-315.jpg  \n",
            "  inflating: __MACOSX/effiDetTrainNewLabelV1/test/._39.74947406--105.0038439-315.jpg  \n",
            "  inflating: effiDetTrainNewLabelV1/test/39.75024927--104.98910579999999-135.jpg  \n",
            "  inflating: __MACOSX/effiDetTrainNewLabelV1/test/._39.75024927--104.98910579999999-135.jpg  \n",
            "  inflating: effiDetTrainNewLabelV1/test/39.74979483--105.0042119-135.jpg  \n",
            "  inflating: __MACOSX/effiDetTrainNewLabelV1/test/._39.74979483--105.0042119-135.jpg  \n",
            "  inflating: effiDetTrainNewLabelV1/test/39.75080865--104.99360870000001-135.jpg  \n",
            "  inflating: __MACOSX/effiDetTrainNewLabelV1/test/._39.75080865--104.99360870000001-135.jpg  \n",
            "  inflating: effiDetTrainNewLabelV1/test/39.75051411--104.987389-135.jpg  \n",
            "  inflating: __MACOSX/effiDetTrainNewLabelV1/test/._39.75051411--104.987389-135.jpg  \n",
            "  inflating: effiDetTrainNewLabelV1/test/39.75116755--104.99491640000001-135.jpg  \n",
            "  inflating: __MACOSX/effiDetTrainNewLabelV1/test/._39.75116755--104.99491640000001-135.jpg  \n",
            "  inflating: effiDetTrainNewLabelV1/test/39.74931821--104.98684979999999-315.jpg  \n",
            "  inflating: __MACOSX/effiDetTrainNewLabelV1/test/._39.74931821--104.98684979999999-315.jpg  \n",
            "  inflating: effiDetTrainNewLabelV1/test/39.74890342--104.99260729999999-315.jpg  \n",
            "  inflating: __MACOSX/effiDetTrainNewLabelV1/test/._39.74890342--104.99260729999999-315.jpg  \n",
            "  inflating: effiDetTrainNewLabelV1/test/39.74980573--104.9966477-135.jpg  \n",
            "  inflating: __MACOSX/effiDetTrainNewLabelV1/test/._39.74980573--104.9966477-135.jpg  \n",
            "  inflating: effiDetTrainNewLabelV1/test/39.74887857--104.98743789999999-315.jpg  \n",
            "  inflating: __MACOSX/effiDetTrainNewLabelV1/test/._39.74887857--104.98743789999999-315.jpg  \n",
            "  inflating: effiDetTrainNewLabelV1/test/39.74938586--105.0006463-135.jpg  \n",
            "  inflating: __MACOSX/effiDetTrainNewLabelV1/test/._39.74938586--105.0006463-135.jpg  \n",
            "  inflating: effiDetTrainNewLabelV1/test/39.74945038--104.99534299999999-315.jpg  \n",
            "  inflating: __MACOSX/effiDetTrainNewLabelV1/test/._39.74945038--104.99534299999999-315.jpg  \n",
            "  inflating: effiDetTrainNewLabelV1/test/39.75025554--104.99606740000002-135.jpg  \n",
            "  inflating: __MACOSX/effiDetTrainNewLabelV1/test/._39.75025554--104.99606740000002-135.jpg  \n",
            "  inflating: effiDetTrainNewLabelV1/test/39.75320592--104.9874068-135.jpg  \n",
            "  inflating: __MACOSX/effiDetTrainNewLabelV1/test/._39.75320592--104.9874068-135.jpg  \n",
            "  inflating: effiDetTrainNewLabelV1/test/39.75054591--104.9869866-135.jpg  \n",
            "  inflating: __MACOSX/effiDetTrainNewLabelV1/test/._39.75054591--104.9869866-135.jpg  \n",
            "  inflating: effiDetTrainNewLabelV1/test/39.74950059--104.97969099999999-135.jpg  \n",
            "  inflating: __MACOSX/effiDetTrainNewLabelV1/test/._39.74950059--104.97969099999999-135.jpg  \n",
            "  inflating: effiDetTrainNewLabelV1/test/39.75054209--104.9800563-135.jpg  \n",
            "  inflating: __MACOSX/effiDetTrainNewLabelV1/test/._39.75054209--104.9800563-135.jpg  \n",
            "  inflating: effiDetTrainNewLabelV1/test/39.74977796--104.98454469999999-135.jpg  \n",
            "  inflating: __MACOSX/effiDetTrainNewLabelV1/test/._39.74977796--104.98454469999999-135.jpg  \n",
            "  inflating: effiDetTrainNewLabelV1/test/39.75253742--104.99658649999999-315.jpg  \n",
            "  inflating: __MACOSX/effiDetTrainNewLabelV1/test/._39.75253742--104.99658649999999-315.jpg  \n",
            "  inflating: effiDetTrainNewLabelV1/test/39.75124836--104.98738449999999-315.jpg  \n",
            "  inflating: __MACOSX/effiDetTrainNewLabelV1/test/._39.75124836--104.98738449999999-315.jpg  \n",
            "  inflating: effiDetTrainNewLabelV1/test/39.75065872--104.9938022-315.jpg  \n",
            "  inflating: __MACOSX/effiDetTrainNewLabelV1/test/._39.75065872--104.9938022-315.jpg  \n",
            "  inflating: effiDetTrainNewLabelV1/test/39.75217304--104.98144640000001-135.jpg  \n",
            "  inflating: __MACOSX/effiDetTrainNewLabelV1/test/._39.75217304--104.98144640000001-135.jpg  \n",
            "  inflating: effiDetTrainNewLabelV1/test/39.75097903--104.9829983-315.jpg  \n",
            "  inflating: __MACOSX/effiDetTrainNewLabelV1/test/._39.75097903--104.9829983-315.jpg  \n",
            "  inflating: effiDetTrainNewLabelV1/test/39.75010416--104.99625970000001-135.jpg  \n",
            "  inflating: __MACOSX/effiDetTrainNewLabelV1/test/._39.75010416--104.99625970000001-135.jpg  \n",
            "  inflating: effiDetTrainNewLabelV1/test/39.75189566--104.9852457-135.jpg  \n",
            "  inflating: __MACOSX/effiDetTrainNewLabelV1/test/._39.75189566--104.9852457-135.jpg  \n",
            "  inflating: effiDetTrainNewLabelV1/test/39.75115277--104.9879481-135.jpg  \n",
            "  inflating: __MACOSX/effiDetTrainNewLabelV1/test/._39.75115277--104.9879481-135.jpg  \n",
            "  inflating: effiDetTrainNewLabelV1/test/39.75039931--104.9889124-315.jpg  \n",
            "  inflating: __MACOSX/effiDetTrainNewLabelV1/test/._39.75039931--104.9889124-315.jpg  \n",
            "  inflating: effiDetTrainNewLabelV1/test/39.75170866--104.98374820000001-315.jpg  \n",
            "  inflating: __MACOSX/effiDetTrainNewLabelV1/test/._39.75170866--104.98374820000001-315.jpg  \n",
            "  inflating: effiDetTrainNewLabelV1/test/39.74975209--104.9949575-135.jpg  \n",
            "  inflating: __MACOSX/effiDetTrainNewLabelV1/test/._39.74975209--104.9949575-135.jpg  \n",
            "  inflating: effiDetTrainNewLabelV1/test/39.75235255--104.9933577-135.jpg  \n",
            "  inflating: __MACOSX/effiDetTrainNewLabelV1/test/._39.75235255--104.9933577-135.jpg  \n",
            "  inflating: effiDetTrainNewLabelV1/test/39.74965496--104.9916415-315.jpg  \n",
            "  inflating: __MACOSX/effiDetTrainNewLabelV1/test/._39.74965496--104.9916415-315.jpg  \n",
            "  inflating: effiDetTrainNewLabelV1/test/39.74920219--104.9922196-315.jpg  \n",
            "  inflating: __MACOSX/effiDetTrainNewLabelV1/test/._39.74920219--104.9922196-315.jpg  \n",
            "  inflating: effiDetTrainNewLabelV1/test/39.75038511--105.004993-315.jpg  \n",
            "  inflating: __MACOSX/effiDetTrainNewLabelV1/test/._39.75038511--105.004993-315.jpg  \n",
            "  inflating: effiDetTrainNewLabelV1/test/39.75055858--104.97834340000001-315.jpg  \n",
            "  inflating: __MACOSX/effiDetTrainNewLabelV1/test/._39.75055858--104.97834340000001-315.jpg  \n",
            "  inflating: effiDetTrainNewLabelV1/test/39.75010675--104.99106270000001-315.jpg  \n",
            "  inflating: __MACOSX/effiDetTrainNewLabelV1/test/._39.75010675--104.99106270000001-315.jpg  \n",
            "  inflating: effiDetTrainNewLabelV1/test/39.75123908--104.99999809999998-315.jpg  \n",
            "  inflating: __MACOSX/effiDetTrainNewLabelV1/test/._39.75123908--104.99999809999998-315.jpg  \n",
            "  inflating: effiDetTrainNewLabelV1/test/39.75215342--104.99186399999999-135.jpg  \n",
            "  inflating: __MACOSX/effiDetTrainNewLabelV1/test/._39.75215342--104.99186399999999-135.jpg  \n",
            "  inflating: effiDetTrainNewLabelV1/test/39.74925717--104.98052870000001-135.jpg  \n",
            "  inflating: __MACOSX/effiDetTrainNewLabelV1/test/._39.74925717--104.98052870000001-135.jpg  \n",
            "  inflating: effiDetTrainNewLabelV1/test/39.75073549--104.9824778-135.jpg  \n",
            "  inflating: __MACOSX/effiDetTrainNewLabelV1/test/._39.75073549--104.9824778-135.jpg  \n",
            "  inflating: effiDetTrainNewLabelV1/test/39.75238974--104.9967817-135.jpg  \n",
            "  inflating: __MACOSX/effiDetTrainNewLabelV1/test/._39.75238974--104.9967817-135.jpg  \n",
            "  inflating: effiDetTrainNewLabelV1/test/39.75140897--104.9928354-315.jpg  \n",
            "  inflating: __MACOSX/effiDetTrainNewLabelV1/test/._39.75140897--104.9928354-315.jpg  \n",
            "  inflating: effiDetTrainNewLabelV1/test/39.75149005--104.99794240000001-135.jpg  \n",
            "  inflating: __MACOSX/effiDetTrainNewLabelV1/test/._39.75149005--104.99794240000001-135.jpg  \n",
            "  inflating: effiDetTrainNewLabelV1/test/39.74891328--104.99781399999999-315.jpg  \n",
            "  inflating: __MACOSX/effiDetTrainNewLabelV1/test/._39.74891328--104.99781399999999-315.jpg  \n",
            "  inflating: effiDetTrainNewLabelV1/test/39.74960094--104.99515-135.jpg  \n",
            "  inflating: __MACOSX/effiDetTrainNewLabelV1/test/._39.74960094--104.99515-135.jpg  \n",
            "  inflating: effiDetTrainNewLabelV1/test/39.74995478--104.99645359999998-315.jpg  \n",
            "  inflating: __MACOSX/effiDetTrainNewLabelV1/test/._39.74995478--104.99645359999998-315.jpg  \n",
            "  inflating: effiDetTrainNewLabelV1/test/39.75022711--104.9839638-315.jpg  \n",
            "  inflating: __MACOSX/effiDetTrainNewLabelV1/test/._39.75022711--104.9839638-315.jpg  \n",
            "  inflating: effiDetTrainNewLabelV1/test/39.74987847--104.99304450000001-135.jpg  \n",
            "  inflating: __MACOSX/effiDetTrainNewLabelV1/test/._39.74987847--104.99304450000001-135.jpg  \n",
            "  inflating: effiDetTrainNewLabelV1/test/39.75067796--104.98338429999998-135.jpg  \n",
            "  inflating: __MACOSX/effiDetTrainNewLabelV1/test/._39.75067796--104.98338429999998-135.jpg  \n",
            "  inflating: effiDetTrainNewLabelV1/test/39.75175647--104.99413429999998-135.jpg  \n",
            "  inflating: __MACOSX/effiDetTrainNewLabelV1/test/._39.75175647--104.99413429999998-135.jpg  \n",
            "  inflating: effiDetTrainNewLabelV1/test/39.74999342--104.9998787-315.jpg  \n",
            "  inflating: __MACOSX/effiDetTrainNewLabelV1/test/._39.74999342--104.9998787-315.jpg  \n",
            "  inflating: effiDetTrainNewLabelV1/test/39.74964338--105.00401969999999-135.jpg  \n",
            "  inflating: __MACOSX/effiDetTrainNewLabelV1/test/._39.74964338--105.00401969999999-135.jpg  \n",
            "  inflating: effiDetTrainNewLabelV1/test/39.75247303--104.9810596-315.jpg  \n",
            "  inflating: __MACOSX/effiDetTrainNewLabelV1/test/._39.75247303--104.9810596-315.jpg  \n",
            "  inflating: effiDetTrainNewLabelV1/test/39.75044834--104.98190149999999-135.jpg  \n",
            "  inflating: __MACOSX/effiDetTrainNewLabelV1/test/._39.75044834--104.98190149999999-135.jpg  \n",
            "  inflating: effiDetTrainNewLabelV1/test/39.74887806--104.9821726-315.jpg  \n",
            "  inflating: __MACOSX/effiDetTrainNewLabelV1/test/._39.74887806--104.9821726-315.jpg  \n",
            "  inflating: effiDetTrainNewLabelV1/test/39.75197523--104.99033429999999-315.jpg  \n",
            "  inflating: __MACOSX/effiDetTrainNewLabelV1/test/._39.75197523--104.99033429999999-315.jpg  \n",
            "  inflating: effiDetTrainNewLabelV1/test/39.75058113--104.98228780000001-315.jpg  \n",
            "  inflating: __MACOSX/effiDetTrainNewLabelV1/test/._39.75058113--104.98228780000001-315.jpg  \n",
            "  inflating: effiDetTrainNewLabelV1/test/39.75045516--104.9993077-315.jpg  \n",
            "  inflating: __MACOSX/effiDetTrainNewLabelV1/test/._39.75045516--104.9993077-315.jpg  \n",
            "  inflating: effiDetTrainNewLabelV1/test/39.74923756--105.000841-135.jpg  \n",
            "  inflating: __MACOSX/effiDetTrainNewLabelV1/test/._39.74923756--105.000841-135.jpg  \n",
            "  inflating: effiDetTrainNewLabelV1/test/39.74965667--104.99684189999999-135.jpg  \n",
            "  inflating: __MACOSX/effiDetTrainNewLabelV1/test/._39.74965667--104.99684189999999-135.jpg  \n",
            "  inflating: effiDetTrainNewLabelV1/test/39.75214731--104.99884399999999-315.jpg  \n",
            "  inflating: __MACOSX/effiDetTrainNewLabelV1/test/._39.75214731--104.99884399999999-315.jpg  \n",
            "  inflating: effiDetTrainNewLabelV1/test/39.75129764--104.9895084-315.jpg  \n",
            "  inflating: __MACOSX/effiDetTrainNewLabelV1/test/._39.75129764--104.9895084-315.jpg  \n",
            "  inflating: effiDetTrainNewLabelV1/test/39.74962376--104.9812023-315.jpg  \n",
            "  inflating: __MACOSX/effiDetTrainNewLabelV1/test/._39.74962376--104.9812023-315.jpg  \n",
            "  inflating: effiDetTrainNewLabelV1/test/39.75039594--104.98718000000001-315.jpg  \n",
            "  inflating: __MACOSX/effiDetTrainNewLabelV1/test/._39.75039594--104.98718000000001-315.jpg  \n",
            "  inflating: effiDetTrainNewLabelV1/test/39.74990386--104.98606529999999-135.jpg  \n",
            "  inflating: __MACOSX/effiDetTrainNewLabelV1/test/._39.74990386--104.98606529999999-135.jpg  \n",
            "  inflating: effiDetTrainNewLabelV1/test/39.74917611--104.98178429999999-135.jpg  \n",
            "  inflating: __MACOSX/effiDetTrainNewLabelV1/test/._39.74917611--104.98178429999999-135.jpg  \n",
            "  inflating: effiDetTrainNewLabelV1/test/39.75023775--105.0047976-135.jpg  \n",
            "  inflating: __MACOSX/effiDetTrainNewLabelV1/test/._39.75023775--105.0047976-135.jpg  \n",
            "  inflating: effiDetTrainNewLabelV1/test/39.75034525--105.00116329999999-315.jpg  \n",
            "  inflating: __MACOSX/effiDetTrainNewLabelV1/test/._39.75034525--105.00116329999999-315.jpg  \n",
            "  inflating: effiDetTrainNewLabelV1/test/39.74965192--104.9898815-315.jpg  \n",
            "  inflating: __MACOSX/effiDetTrainNewLabelV1/test/._39.74965192--104.9898815-315.jpg  \n",
            "  inflating: effiDetTrainNewLabelV1/test/39.74977482--104.9810097-135.jpg  \n",
            "  inflating: __MACOSX/effiDetTrainNewLabelV1/test/._39.74977482--104.9810097-135.jpg  \n",
            "  inflating: effiDetTrainNewLabelV1/test/39.74912704--104.99401040000001-135.jpg  \n",
            "  inflating: __MACOSX/effiDetTrainNewLabelV1/test/._39.74912704--104.99401040000001-135.jpg  \n",
            "  inflating: effiDetTrainNewLabelV1/test/39.74965112--104.97949799999999-135.jpg  \n",
            "  inflating: __MACOSX/effiDetTrainNewLabelV1/test/._39.74965112--104.97949799999999-135.jpg  \n",
            "  inflating: effiDetTrainNewLabelV1/test/39.74995733--104.99125649999999-315.jpg  \n",
            "  inflating: __MACOSX/effiDetTrainNewLabelV1/test/._39.74995733--104.99125649999999-315.jpg  \n",
            "  inflating: effiDetTrainNewLabelV1/test/39.74956346--104.9809105-315.jpg  \n",
            "  inflating: __MACOSX/effiDetTrainNewLabelV1/test/._39.74956346--104.9809105-315.jpg  \n",
            "  inflating: effiDetTrainNewLabelV1/test/39.75093054--104.9916922-315.jpg  \n",
            "  inflating: __MACOSX/effiDetTrainNewLabelV1/test/._39.75093054--104.9916922-315.jpg  \n",
            "  inflating: effiDetTrainNewLabelV1/test/39.74955921--104.9830703-135.jpg  \n",
            "  inflating: __MACOSX/effiDetTrainNewLabelV1/test/._39.74955921--104.9830703-135.jpg  \n",
            "  inflating: effiDetTrainNewLabelV1/test/39.75005483--104.99457279999999-135.jpg  \n",
            "  inflating: __MACOSX/effiDetTrainNewLabelV1/test/._39.75005483--104.99457279999999-135.jpg  \n",
            "  inflating: effiDetTrainNewLabelV1/test/39.74880082--104.9873972-135.jpg  \n",
            "  inflating: __MACOSX/effiDetTrainNewLabelV1/test/._39.74880082--104.9873972-135.jpg  \n",
            "  inflating: effiDetTrainNewLabelV1/test/39.75242772--104.989756-315.jpg  \n",
            "  inflating: __MACOSX/effiDetTrainNewLabelV1/test/._39.75242772--104.989756-315.jpg  \n",
            "  inflating: effiDetTrainNewLabelV1/test/39.75333508--104.9886013-315.jpg  \n",
            "  inflating: __MACOSX/effiDetTrainNewLabelV1/test/._39.75333508--104.9886013-315.jpg  \n",
            "  inflating: effiDetTrainNewLabelV1/test/39.75088985--104.98266770000001-315.jpg  \n",
            "  inflating: __MACOSX/effiDetTrainNewLabelV1/test/._39.75088985--104.98266770000001-315.jpg  \n",
            "  inflating: effiDetTrainNewLabelV1/test/39.75026935--104.98738970000001-315.jpg  \n",
            "  inflating: __MACOSX/effiDetTrainNewLabelV1/test/._39.75026935--104.98738970000001-315.jpg  \n",
            "  inflating: effiDetTrainNewLabelV1/test/39.75220264--104.99355109999999-315.jpg  \n",
            "  inflating: __MACOSX/effiDetTrainNewLabelV1/test/._39.75220264--104.99355109999999-315.jpg  \n",
            "  inflating: effiDetTrainNewLabelV1/test/39.75068003--105.00538370000001-315.jpg  \n",
            "  inflating: __MACOSX/effiDetTrainNewLabelV1/test/._39.75068003--105.00538370000001-315.jpg  \n",
            "  inflating: effiDetTrainNewLabelV1/test/39.75071261--104.99549270000001-135.jpg  \n",
            "  inflating: __MACOSX/effiDetTrainNewLabelV1/test/._39.75071261--104.99549270000001-135.jpg  \n",
            "  inflating: effiDetTrainNewLabelV1/test/39.74906155--104.9976193-135.jpg  \n",
            "  inflating: __MACOSX/effiDetTrainNewLabelV1/test/._39.74906155--104.9976193-135.jpg  \n",
            "  inflating: effiDetTrainNewLabelV1/test/39.75101789--104.99511000000001-135.jpg  \n",
            "  inflating: __MACOSX/effiDetTrainNewLabelV1/test/._39.75101789--104.99511000000001-135.jpg  \n",
            "  inflating: effiDetTrainNewLabelV1/test/39.75030107--104.99949790000001-315.jpg  \n",
            "  inflating: __MACOSX/effiDetTrainNewLabelV1/test/._39.75030107--104.99949790000001-315.jpg  \n",
            "  inflating: effiDetTrainNewLabelV1/test/39.74990346--104.99476509999998-135.jpg  \n",
            "  inflating: __MACOSX/effiDetTrainNewLabelV1/test/._39.74990346--104.99476509999998-135.jpg  \n",
            "  inflating: effiDetTrainNewLabelV1/test/39.74960256--105.00213590000001-315.jpg  \n",
            "  inflating: __MACOSX/effiDetTrainNewLabelV1/test/._39.74960256--105.00213590000001-315.jpg  \n",
            "  inflating: effiDetTrainNewLabelV1/test/39.75009922--104.9892992-135.jpg  \n",
            "  inflating: __MACOSX/effiDetTrainNewLabelV1/test/._39.75009922--104.9892992-135.jpg  \n",
            "  inflating: effiDetTrainNewLabelV1/test/39.75056021--104.9956842-135.jpg  \n",
            "  inflating: __MACOSX/effiDetTrainNewLabelV1/test/._39.75056021--104.9956842-135.jpg  \n",
            "  inflating: effiDetTrainNewLabelV1/test/39.75048208--104.9922736-135.jpg  \n",
            "  inflating: __MACOSX/effiDetTrainNewLabelV1/test/._39.75048208--104.9922736-135.jpg  \n",
            "  inflating: effiDetTrainNewLabelV1/test/39.75037728--104.9837706-315.jpg  \n",
            "  inflating: __MACOSX/effiDetTrainNewLabelV1/test/._39.75037728--104.9837706-315.jpg  \n",
            "  inflating: effiDetTrainNewLabelV1/test/39.75664902--104.9773584-315.jpg  \n",
            "  inflating: __MACOSX/effiDetTrainNewLabelV1/test/._39.75664902--104.9773584-315.jpg  \n",
            "  inflating: effiDetTrainNewLabelV1/test/39.74957738--104.9934304-135.jpg  \n",
            "  inflating: __MACOSX/effiDetTrainNewLabelV1/test/._39.74957738--104.9934304-135.jpg  \n",
            "  inflating: effiDetTrainNewLabelV1/test/39.74971601--104.98110190000001-315.jpg  \n",
            "  inflating: __MACOSX/effiDetTrainNewLabelV1/test/._39.74971601--104.98110190000001-315.jpg  \n",
            "  inflating: effiDetTrainNewLabelV1/test/39.74934789--104.9885354-315.jpg  \n",
            "  inflating: __MACOSX/effiDetTrainNewLabelV1/test/._39.74934789--104.9885354-315.jpg  \n",
            "  inflating: effiDetTrainNewLabelV1/test/39.75238974--104.9967817-315.jpg  \n",
            "  inflating: __MACOSX/effiDetTrainNewLabelV1/test/._39.75238974--104.9967817-315.jpg  \n",
            "  inflating: effiDetTrainNewLabelV1/test/39.75140897--104.9928354-135.jpg  \n",
            "  inflating: __MACOSX/effiDetTrainNewLabelV1/test/._39.75140897--104.9928354-135.jpg  \n",
            "  inflating: effiDetTrainNewLabelV1/test/39.75149005--104.99794240000001-315.jpg  \n",
            "  inflating: __MACOSX/effiDetTrainNewLabelV1/test/._39.75149005--104.99794240000001-315.jpg  \n",
            "  inflating: effiDetTrainNewLabelV1/test/39.74999342--104.9998787-135.jpg  \n",
            "  inflating: __MACOSX/effiDetTrainNewLabelV1/test/._39.74999342--104.9998787-135.jpg  \n",
            "  inflating: effiDetTrainNewLabelV1/test/39.75022711--104.9839638-135.jpg  \n",
            "  inflating: __MACOSX/effiDetTrainNewLabelV1/test/._39.75022711--104.9839638-135.jpg  \n",
            "  inflating: effiDetTrainNewLabelV1/test/39.74995478--104.99645359999998-135.jpg  \n",
            "  inflating: __MACOSX/effiDetTrainNewLabelV1/test/._39.74995478--104.99645359999998-135.jpg  \n",
            "  inflating: effiDetTrainNewLabelV1/test/39.75054982--104.98871940000001-315.jpg  \n",
            "  inflating: __MACOSX/effiDetTrainNewLabelV1/test/._39.75054982--104.98871940000001-315.jpg  \n",
            "  inflating: effiDetTrainNewLabelV1/test/39.74987847--104.99304450000001-315.jpg  \n",
            "  inflating: __MACOSX/effiDetTrainNewLabelV1/test/._39.74987847--104.99304450000001-315.jpg  \n",
            "  inflating: effiDetTrainNewLabelV1/test/39.75067796--104.98338429999998-315.jpg  \n",
            "  inflating: __MACOSX/effiDetTrainNewLabelV1/test/._39.75067796--104.98338429999998-315.jpg  \n",
            "  inflating: effiDetTrainNewLabelV1/test/39.75045516--104.9993077-135.jpg  \n",
            "  inflating: __MACOSX/effiDetTrainNewLabelV1/test/._39.75045516--104.9993077-135.jpg  \n",
            "  inflating: effiDetTrainNewLabelV1/test/39.74923756--105.000841-315.jpg  \n",
            "  inflating: __MACOSX/effiDetTrainNewLabelV1/test/._39.74923756--105.000841-315.jpg  \n",
            "  inflating: effiDetTrainNewLabelV1/test/39.74942717--104.9936237-315.jpg  \n",
            "  inflating: __MACOSX/effiDetTrainNewLabelV1/test/._39.74942717--104.9936237-315.jpg  \n",
            "  inflating: effiDetTrainNewLabelV1/test/39.75247303--104.9810596-135.jpg  \n",
            "  inflating: __MACOSX/effiDetTrainNewLabelV1/test/._39.75247303--104.9810596-135.jpg  \n",
            "  inflating: effiDetTrainNewLabelV1/test/39.74887806--104.9821726-135.jpg  \n",
            "  inflating: __MACOSX/effiDetTrainNewLabelV1/test/._39.74887806--104.9821726-135.jpg  \n",
            "  inflating: effiDetTrainNewLabelV1/test/39.74935302--104.99202679999999-315.jpg  \n",
            "  inflating: __MACOSX/effiDetTrainNewLabelV1/test/._39.74935302--104.99202679999999-315.jpg  \n",
            "  inflating: effiDetTrainNewLabelV1/test/39.74909335--105.0035368-135.jpg  \n",
            "  inflating: __MACOSX/effiDetTrainNewLabelV1/test/._39.74909335--105.0035368-135.jpg  \n",
            "  inflating: effiDetTrainNewLabelV1/test/39.74965667--104.99684189999999-315.jpg  \n",
            "  inflating: __MACOSX/effiDetTrainNewLabelV1/test/._39.74965667--104.99684189999999-315.jpg  \n",
            "  inflating: effiDetTrainNewLabelV1/test/39.74918063--104.98532040000002-135.jpg  \n",
            "  inflating: __MACOSX/effiDetTrainNewLabelV1/test/._39.74918063--104.98532040000002-135.jpg  \n",
            "  inflating: effiDetTrainNewLabelV1/test/39.75075886--104.987389-315.jpg  \n",
            "  inflating: __MACOSX/effiDetTrainNewLabelV1/test/._39.75075886--104.987389-315.jpg  \n",
            "  inflating: effiDetTrainNewLabelV1/test/39.74975209--104.9949575-315.jpg  \n",
            "  inflating: __MACOSX/effiDetTrainNewLabelV1/test/._39.74975209--104.9949575-315.jpg  \n",
            "  inflating: effiDetTrainNewLabelV1/test/39.75235255--104.9933577-315.jpg  \n",
            "  inflating: __MACOSX/effiDetTrainNewLabelV1/test/._39.75235255--104.9933577-315.jpg  \n",
            "  inflating: effiDetTrainNewLabelV1/test/39.74920219--104.9922196-135.jpg  \n",
            "  inflating: __MACOSX/effiDetTrainNewLabelV1/test/._39.74920219--104.9922196-135.jpg  \n",
            "  inflating: effiDetTrainNewLabelV1/test/39.75115277--104.9879481-315.jpg  \n",
            "  inflating: __MACOSX/effiDetTrainNewLabelV1/test/._39.75115277--104.9879481-315.jpg  \n",
            "  inflating: effiDetTrainNewLabelV1/test/39.75134171--104.99813710000001-315.jpg  \n",
            "  inflating: __MACOSX/effiDetTrainNewLabelV1/test/._39.75134171--104.99813710000001-315.jpg  \n",
            "  inflating: effiDetTrainNewLabelV1/test/39.75039931--104.9889124-135.jpg  \n",
            "  inflating: __MACOSX/effiDetTrainNewLabelV1/test/._39.75039931--104.9889124-135.jpg  \n",
            "  inflating: effiDetTrainNewLabelV1/test/39.75170866--104.98374820000001-135.jpg  \n",
            "  inflating: __MACOSX/effiDetTrainNewLabelV1/test/._39.75170866--104.98374820000001-135.jpg  \n",
            "  inflating: effiDetTrainNewLabelV1/test/39.75149311--104.98738300000001-315.jpg  \n",
            "  inflating: __MACOSX/effiDetTrainNewLabelV1/test/._39.75149311--104.98738300000001-315.jpg  \n",
            "  inflating: effiDetTrainNewLabelV1/test/39.74935374--104.9902697-315.jpg  \n",
            "  inflating: __MACOSX/effiDetTrainNewLabelV1/test/._39.74935374--104.9902697-315.jpg  \n",
            "  inflating: effiDetTrainNewLabelV1/test/39.75178945--104.9975551-135.jpg  \n",
            "  inflating: __MACOSX/effiDetTrainNewLabelV1/test/._39.75178945--104.9975551-135.jpg  \n",
            "  inflating: effiDetTrainNewLabelV1/test/39.75013935--104.9817019-315.jpg  \n",
            "  inflating: __MACOSX/effiDetTrainNewLabelV1/test/._39.75013935--104.9817019-315.jpg  \n",
            "  inflating: effiDetTrainNewLabelV1/test/39.74979651--104.9879541-315.jpg  \n",
            "  inflating: __MACOSX/effiDetTrainNewLabelV1/test/._39.74979651--104.9879541-315.jpg  \n",
            "  inflating: effiDetTrainNewLabelV1/test/39.75055858--104.97834340000001-135.jpg  \n",
            "  inflating: __MACOSX/effiDetTrainNewLabelV1/test/._39.75055858--104.97834340000001-135.jpg  \n",
            "  inflating: effiDetTrainNewLabelV1/test/39.75608767--104.9745971-135.jpg  \n",
            "  inflating: __MACOSX/effiDetTrainNewLabelV1/test/._39.75608767--104.9745971-135.jpg  \n",
            "  inflating: effiDetTrainNewLabelV1/test/39.75283257--104.996196-315.jpg  \n",
            "  inflating: __MACOSX/effiDetTrainNewLabelV1/test/._39.75283257--104.996196-315.jpg  \n",
            "  inflating: effiDetTrainNewLabelV1/test/39.75038511--105.004993-135.jpg  \n",
            "  inflating: __MACOSX/effiDetTrainNewLabelV1/test/._39.75038511--105.004993-135.jpg  \n",
            "  inflating: effiDetTrainNewLabelV1/test/39.75189315--104.98873130000001-135.jpg  \n",
            "  inflating: __MACOSX/effiDetTrainNewLabelV1/test/._39.75189315--104.98873130000001-135.jpg  \n",
            "  inflating: effiDetTrainNewLabelV1/test/39.74980095--104.98968729999999-315.jpg  \n",
            "  inflating: __MACOSX/effiDetTrainNewLabelV1/test/._39.74980095--104.98968729999999-315.jpg  \n",
            "  inflating: effiDetTrainNewLabelV1/test/39.75010675--104.99106270000001-135.jpg  \n",
            "  inflating: __MACOSX/effiDetTrainNewLabelV1/test/._39.75010675--104.99106270000001-135.jpg  \n",
            "  inflating: effiDetTrainNewLabelV1/test/39.75068003--105.00538370000001-135.jpg  \n",
            "  inflating: __MACOSX/effiDetTrainNewLabelV1/test/._39.75068003--105.00538370000001-135.jpg  \n",
            "  inflating: effiDetTrainNewLabelV1/test/39.75071261--104.99549270000001-315.jpg  \n",
            "  inflating: __MACOSX/effiDetTrainNewLabelV1/test/._39.75071261--104.99549270000001-315.jpg  \n",
            "  inflating: effiDetTrainNewLabelV1/test/39.75430592--104.9871419-135.jpg  \n",
            "  inflating: __MACOSX/effiDetTrainNewLabelV1/test/._39.75430592--104.9871419-135.jpg  \n",
            "  inflating: effiDetTrainNewLabelV1/test/39.75026935--104.98738970000001-135.jpg  \n",
            "  inflating: __MACOSX/effiDetTrainNewLabelV1/test/._39.75026935--104.98738970000001-135.jpg  \n",
            "  inflating: effiDetTrainNewLabelV1/test/39.75030107--104.99949790000001-135.jpg  \n",
            "  inflating: __MACOSX/effiDetTrainNewLabelV1/test/._39.75030107--104.99949790000001-135.jpg  \n",
            "  inflating: effiDetTrainNewLabelV1/test/39.74990346--104.99476509999998-315.jpg  \n",
            "  inflating: __MACOSX/effiDetTrainNewLabelV1/test/._39.74990346--104.99476509999998-315.jpg  \n",
            "  inflating: effiDetTrainNewLabelV1/test/39.75009922--104.9892992-315.jpg  \n",
            "  inflating: __MACOSX/effiDetTrainNewLabelV1/test/._39.75009922--104.9892992-315.jpg  \n",
            "  inflating: effiDetTrainNewLabelV1/test/39.74960256--105.00213590000001-135.jpg  \n",
            "  inflating: __MACOSX/effiDetTrainNewLabelV1/test/._39.74960256--105.00213590000001-135.jpg  \n",
            "  inflating: effiDetTrainNewLabelV1/test/39.74906155--104.9976193-315.jpg  \n",
            "  inflating: __MACOSX/effiDetTrainNewLabelV1/test/._39.74906155--104.9976193-315.jpg  \n",
            "  inflating: effiDetTrainNewLabelV1/test/39.75055319--104.99047970000001-135.jpg  \n",
            "  inflating: __MACOSX/effiDetTrainNewLabelV1/test/._39.75055319--104.99047970000001-135.jpg  \n",
            "  inflating: effiDetTrainNewLabelV1/test/39.75037728--104.9837706-135.jpg  \n",
            "  inflating: __MACOSX/effiDetTrainNewLabelV1/test/._39.75037728--104.9837706-135.jpg  \n",
            "  inflating: effiDetTrainNewLabelV1/test/39.75056021--104.9956842-315.jpg  \n",
            "  inflating: __MACOSX/effiDetTrainNewLabelV1/test/._39.75056021--104.9956842-315.jpg  \n",
            "  inflating: effiDetTrainNewLabelV1/test/39.74889861--105.0033885-315.jpg  \n",
            "  inflating: __MACOSX/effiDetTrainNewLabelV1/test/._39.74889861--105.0033885-315.jpg  \n",
            "  inflating: effiDetTrainNewLabelV1/test/39.75204633--104.98505279999999-315.jpg  \n",
            "  inflating: __MACOSX/effiDetTrainNewLabelV1/test/._39.75204633--104.98505279999999-315.jpg  \n",
            "  inflating: effiDetTrainNewLabelV1/test/39.74879753--104.9799561-135.jpg  \n",
            "  inflating: __MACOSX/effiDetTrainNewLabelV1/test/._39.74879753--104.9799561-135.jpg  \n",
            "  inflating: effiDetTrainNewLabelV1/test/39.74957738--104.9934304-315.jpg  \n",
            "  inflating: __MACOSX/effiDetTrainNewLabelV1/test/._39.74957738--104.9934304-315.jpg  \n",
            "  inflating: effiDetTrainNewLabelV1/test/39.74934789--104.9885354-135.jpg  \n",
            "  inflating: __MACOSX/effiDetTrainNewLabelV1/test/._39.74934789--104.9885354-135.jpg  \n",
            "  inflating: effiDetTrainNewLabelV1/test/39.74971601--104.98110190000001-135.jpg  \n",
            "  inflating: __MACOSX/effiDetTrainNewLabelV1/test/._39.74971601--104.98110190000001-135.jpg  \n",
            "  inflating: effiDetTrainNewLabelV1/test/39.75010351--104.97891969999999-135.jpg  \n",
            "  inflating: __MACOSX/effiDetTrainNewLabelV1/test/._39.75010351--104.97891969999999-135.jpg  \n",
            "  inflating: effiDetTrainNewLabelV1/test/39.74990386--104.98606529999999-315.jpg  \n",
            "  inflating: __MACOSX/effiDetTrainNewLabelV1/test/._39.74990386--104.98606529999999-315.jpg  \n",
            "  inflating: effiDetTrainNewLabelV1/test/39.75060659--104.9991155-315.jpg  \n",
            "  inflating: __MACOSX/effiDetTrainNewLabelV1/test/._39.75060659--104.9991155-315.jpg  \n",
            "  inflating: effiDetTrainNewLabelV1/test/39.74962376--104.9812023-135.jpg  \n",
            "  inflating: __MACOSX/effiDetTrainNewLabelV1/test/._39.74962376--104.9812023-135.jpg  \n",
            "  inflating: effiDetTrainNewLabelV1/test/39.74995218--104.97911200000001-315.jpg  \n",
            "  inflating: __MACOSX/effiDetTrainNewLabelV1/test/._39.74995218--104.97911200000001-315.jpg  \n",
            "  inflating: effiDetTrainNewLabelV1/test/39.75023775--105.0047976-315.jpg  \n",
            "  inflating: __MACOSX/effiDetTrainNewLabelV1/test/._39.75023775--105.0047976-315.jpg  \n",
            "  inflating: effiDetTrainNewLabelV1/test/39.75009683--104.98756750000001-315.jpg  \n",
            "  inflating: __MACOSX/effiDetTrainNewLabelV1/test/._39.75009683--104.98756750000001-315.jpg  \n",
            "  inflating: effiDetTrainNewLabelV1/test/39.74995733--104.99125649999999-135.jpg  \n",
            "  inflating: __MACOSX/effiDetTrainNewLabelV1/test/._39.74995733--104.99125649999999-135.jpg  \n",
            "  inflating: effiDetTrainNewLabelV1/test/39.75035818--104.9941886-135.jpg  \n",
            "  inflating: __MACOSX/effiDetTrainNewLabelV1/test/._39.75035818--104.9941886-135.jpg  \n",
            "  inflating: effiDetTrainNewLabelV1/test/39.75034525--105.00116329999999-135.jpg  \n",
            "  inflating: __MACOSX/effiDetTrainNewLabelV1/test/._39.75034525--105.00116329999999-135.jpg  \n",
            "  inflating: effiDetTrainNewLabelV1/test/39.75137562--104.9911082-315.jpg  \n",
            "  inflating: __MACOSX/effiDetTrainNewLabelV1/test/._39.75137562--104.9911082-315.jpg  \n",
            "  inflating: effiDetTrainNewLabelV1/test/39.74977482--104.9810097-315.jpg  \n",
            "  inflating: __MACOSX/effiDetTrainNewLabelV1/test/._39.74977482--104.9810097-315.jpg  \n",
            "  inflating: effiDetTrainNewLabelV1/test/39.75070049--104.98852649999999-315.jpg  \n",
            "  inflating: __MACOSX/effiDetTrainNewLabelV1/test/._39.75070049--104.98852649999999-315.jpg  \n",
            "  inflating: effiDetTrainNewLabelV1/test/39.75119251--104.98305239999999-135.jpg  \n",
            "  inflating: __MACOSX/effiDetTrainNewLabelV1/test/._39.75119251--104.98305239999999-135.jpg  \n",
            "  inflating: effiDetTrainNewLabelV1/test/39.75069487--104.97986509999998-135.jpg  \n",
            "  inflating: __MACOSX/effiDetTrainNewLabelV1/test/._39.75069487--104.97986509999998-135.jpg  \n",
            "  inflating: effiDetTrainNewLabelV1/test/39.75005483--104.99457279999999-315.jpg  \n",
            "  inflating: __MACOSX/effiDetTrainNewLabelV1/test/._39.75005483--104.99457279999999-315.jpg  \n",
            "  inflating: effiDetTrainNewLabelV1/test/39.74894099--105.0012304-315.jpg  \n",
            "  inflating: __MACOSX/effiDetTrainNewLabelV1/test/._39.74894099--105.0012304-315.jpg  \n",
            "  inflating: effiDetTrainNewLabelV1/test/39.75004797--105.0015522-315.jpg  \n",
            "  inflating: __MACOSX/effiDetTrainNewLabelV1/test/._39.75004797--105.0015522-315.jpg  \n",
            "  inflating: effiDetTrainNewLabelV1/test/39.74902548--104.98550970000001-135.jpg  \n",
            "  inflating: __MACOSX/effiDetTrainNewLabelV1/test/._39.74902548--104.98550970000001-135.jpg  \n",
            "  inflating: effiDetTrainNewLabelV1/test/39.75086502--104.99530120000001-315.jpg  \n",
            "  inflating: __MACOSX/effiDetTrainNewLabelV1/test/._39.75086502--104.99530120000001-315.jpg  \n",
            "  inflating: effiDetTrainNewLabelV1/test/39.75100361--104.9873866-135.jpg  \n",
            "  inflating: __MACOSX/effiDetTrainNewLabelV1/test/._39.75100361--104.9873866-135.jpg  \n",
            "  inflating: effiDetTrainNewLabelV1/test/39.75025541--104.9908683-135.jpg  \n",
            "  inflating: __MACOSX/effiDetTrainNewLabelV1/test/._39.75025541--104.9908683-135.jpg  \n",
            "  inflating: effiDetTrainNewLabelV1/test/39.75038843--104.98024679999999-135.jpg  \n",
            "  inflating: __MACOSX/effiDetTrainNewLabelV1/test/._39.75038843--104.98024679999999-135.jpg  \n",
            "  inflating: effiDetTrainNewLabelV1/test/39.74992712--104.9843507-315.jpg  \n",
            "  inflating: __MACOSX/effiDetTrainNewLabelV1/test/._39.74992712--104.9843507-315.jpg  \n",
            "  inflating: effiDetTrainNewLabelV1/test/39.75198252--104.9873925-315.jpg  \n",
            "  inflating: __MACOSX/effiDetTrainNewLabelV1/test/._39.75198252--104.9873925-315.jpg  \n",
            "  inflating: effiDetTrainNewLabelV1/test/39.75002927--104.9928517-135.jpg  \n",
            "  inflating: __MACOSX/effiDetTrainNewLabelV1/test/._39.75002927--104.9928517-135.jpg  \n",
            "  inflating: effiDetTrainNewLabelV1/test/39.74985435--104.9826797-135.jpg  \n",
            "  inflating: __MACOSX/effiDetTrainNewLabelV1/test/._39.74985435--104.9826797-135.jpg  \n",
            "  inflating: effiDetTrainNewLabelV1/test/39.75112911--104.982805-135.jpg  \n",
            "  inflating: __MACOSX/effiDetTrainNewLabelV1/test/._39.75112911--104.982805-135.jpg  \n",
            "  inflating: effiDetTrainNewLabelV1/test/39.75152453--104.99091399999999-315.jpg  \n",
            "  inflating: __MACOSX/effiDetTrainNewLabelV1/test/._39.75152453--104.99091399999999-315.jpg  \n",
            "  inflating: effiDetTrainNewLabelV1/test/39.74972803--104.9932375-315.jpg  \n",
            "  inflating: __MACOSX/effiDetTrainNewLabelV1/test/._39.74972803--104.9932375-315.jpg  \n",
            "  inflating: effiDetTrainNewLabelV1/test/39.75008138--104.98062809999999-135.jpg  \n",
            "  inflating: __MACOSX/effiDetTrainNewLabelV1/test/._39.75008138--104.98062809999999-135.jpg  \n",
            "  inflating: effiDetTrainNewLabelV1/test/39.75238657--104.9846041-315.jpg  \n",
            "  inflating: __MACOSX/effiDetTrainNewLabelV1/test/._39.75238657--104.9846041-315.jpg  \n",
            "  inflating: effiDetTrainNewLabelV1/test/39.74895055--104.9801471-315.jpg  \n",
            "  inflating: __MACOSX/effiDetTrainNewLabelV1/test/._39.74895055--104.9801471-315.jpg  \n",
            "  inflating: effiDetTrainNewLabelV1/test/39.75245371--104.99147749999999-135.jpg  \n",
            "  inflating: __MACOSX/effiDetTrainNewLabelV1/test/._39.75245371--104.99147749999999-135.jpg  \n",
            "  inflating: effiDetTrainNewLabelV1/test/39.75202361--104.9816403-315.jpg  \n",
            "  inflating: __MACOSX/effiDetTrainNewLabelV1/test/._39.75202361--104.9816403-315.jpg  \n",
            "  inflating: effiDetTrainNewLabelV1/test/39.74927711--104.99381699999999-315.jpg  \n",
            "  inflating: __MACOSX/effiDetTrainNewLabelV1/test/._39.74927711--104.99381699999999-315.jpg  \n",
            "  inflating: effiDetTrainNewLabelV1/test/39.75024695--104.9873742-135.jpg  \n",
            "  inflating: __MACOSX/effiDetTrainNewLabelV1/test/._39.75024695--104.9873742-135.jpg  \n",
            "  inflating: effiDetTrainNewLabelV1/test/39.75108959--105.0001919-315.jpg  \n",
            "  inflating: __MACOSX/effiDetTrainNewLabelV1/test/._39.75108959--105.0001919-315.jpg  \n",
            "  inflating: effiDetTrainNewLabelV1/test/39.75119422--104.9983324-315.jpg  \n",
            "  inflating: __MACOSX/effiDetTrainNewLabelV1/test/._39.75119422--104.9983324-315.jpg  \n",
            "  inflating: effiDetTrainNewLabelV1/test/39.74890605--104.9908517-315.jpg  \n",
            "  inflating: __MACOSX/effiDetTrainNewLabelV1/test/._39.74890605--104.9908517-315.jpg  \n",
            "  inflating: effiDetTrainNewLabelV1/test/39.75020201--104.98567709999999-135.jpg  \n",
            "  inflating: __MACOSX/effiDetTrainNewLabelV1/test/._39.75020201--104.98567709999999-135.jpg  \n",
            "  inflating: effiDetTrainNewLabelV1/test/39.75230322--104.99167050000001-315.jpg  \n",
            "  inflating: __MACOSX/effiDetTrainNewLabelV1/test/._39.75230322--104.99167050000001-315.jpg  \n",
            "  inflating: effiDetTrainNewLabelV1/test/39.75050879--104.9939957-315.jpg  \n",
            "  inflating: __MACOSX/effiDetTrainNewLabelV1/test/._39.75050879--104.9939957-315.jpg  \n",
            "  inflating: effiDetTrainNewLabelV1/test/39.75659675--104.98963390000002-315.jpg  \n",
            "  inflating: __MACOSX/effiDetTrainNewLabelV1/test/._39.75659675--104.98963390000002-315.jpg  \n",
            "  inflating: effiDetTrainNewLabelV1/test/39.75078229--104.991887-135.jpg  \n",
            "  inflating: __MACOSX/effiDetTrainNewLabelV1/test/._39.75078229--104.991887-135.jpg  \n",
            "  inflating: effiDetTrainNewLabelV1/test/39.74977984--104.9873924-135.jpg  \n",
            "  inflating: __MACOSX/effiDetTrainNewLabelV1/test/._39.74977984--104.9873924-135.jpg  \n",
            "  inflating: effiDetTrainNewLabelV1/test/39.74999828--104.98150190000001-315.jpg  \n",
            "  inflating: __MACOSX/effiDetTrainNewLabelV1/test/._39.74999828--104.98150190000001-315.jpg  \n",
            "  inflating: effiDetTrainNewLabelV1/test/39.74944861--104.97837150000001-315.jpg  \n",
            "  inflating: __MACOSX/effiDetTrainNewLabelV1/test/._39.74944861--104.97837150000001-315.jpg  \n",
            "  inflating: effiDetTrainNewLabelV1/test/39.74928797--105.00368519999999-315.jpg  \n",
            "  inflating: __MACOSX/effiDetTrainNewLabelV1/test/._39.74928797--105.00368519999999-315.jpg  \n",
            "  inflating: effiDetTrainNewLabelV1/test/39.74913009--104.9787397-135.jpg  \n",
            "  inflating: __MACOSX/effiDetTrainNewLabelV1/test/._39.74913009--104.9787397-135.jpg  \n",
            "  inflating: effiDetTrainNewLabelV1/test/39.75100033--104.9898973-315.jpg  \n",
            "  inflating: __MACOSX/effiDetTrainNewLabelV1/test/._39.75100033--104.9898973-315.jpg  \n",
            "  inflating: effiDetTrainNewLabelV1/test/39.75014724--104.99968829999999-135.jpg  \n",
            "  inflating: __MACOSX/effiDetTrainNewLabelV1/test/._39.75014724--104.99968829999999-135.jpg  \n",
            "  inflating: effiDetTrainNewLabelV1/test/39.74897698--104.9942037-135.jpg  \n",
            "  inflating: __MACOSX/effiDetTrainNewLabelV1/test/._39.74897698--104.9942037-135.jpg  \n",
            "  inflating: effiDetTrainNewLabelV1/test/39.75247189--104.9874045-135.jpg  \n",
            "  inflating: __MACOSX/effiDetTrainNewLabelV1/test/._39.75247189--104.9874045-135.jpg  \n",
            "  inflating: effiDetTrainNewLabelV1/test/39.74945038--104.99534299999999-135.jpg  \n",
            "  inflating: __MACOSX/effiDetTrainNewLabelV1/test/._39.74945038--104.99534299999999-135.jpg  \n",
            "  inflating: effiDetTrainNewLabelV1/test/39.74938586--105.0006463-315.jpg  \n",
            "  inflating: __MACOSX/effiDetTrainNewLabelV1/test/._39.74938586--105.0006463-315.jpg  \n",
            "  inflating: effiDetTrainNewLabelV1/test/39.75189792--104.9869774-315.jpg  \n",
            "  inflating: __MACOSX/effiDetTrainNewLabelV1/test/._39.75189792--104.9869774-315.jpg  \n",
            "  inflating: effiDetTrainNewLabelV1/test/39.75125909--104.99302890000001-135.jpg  \n",
            "  inflating: __MACOSX/effiDetTrainNewLabelV1/test/._39.75125909--104.99302890000001-135.jpg  \n",
            "  inflating: effiDetTrainNewLabelV1/test/39.74968608--105.0002597-135.jpg  \n",
            "  inflating: __MACOSX/effiDetTrainNewLabelV1/test/._39.74968608--105.0002597-135.jpg  \n",
            "  inflating: effiDetTrainNewLabelV1/test/39.75233625--104.98814579999998-315.jpg  \n",
            "  inflating: __MACOSX/effiDetTrainNewLabelV1/test/._39.75233625--104.98814579999998-315.jpg  \n",
            "  inflating: effiDetTrainNewLabelV1/test/39.75071027--104.97815130000001-135.jpg  \n",
            "  inflating: __MACOSX/effiDetTrainNewLabelV1/test/._39.75071027--104.97815130000001-135.jpg  \n",
            "  inflating: effiDetTrainNewLabelV1/test/39.75167414--104.99072029999999-315.jpg  \n",
            "  inflating: __MACOSX/effiDetTrainNewLabelV1/test/._39.75167414--104.99072029999999-315.jpg  \n",
            "  inflating: effiDetTrainNewLabelV1/test/39.75025554--104.99606740000002-315.jpg  \n",
            "  inflating: __MACOSX/effiDetTrainNewLabelV1/test/._39.75025554--104.99606740000002-315.jpg  \n",
            "  inflating: effiDetTrainNewLabelV1/test/39.75070207--104.9902855-135.jpg  \n",
            "  inflating: __MACOSX/effiDetTrainNewLabelV1/test/._39.75070207--104.9902855-135.jpg  \n",
            "  inflating: effiDetTrainNewLabelV1/test/39.75173783--104.9873866-135.jpg  \n",
            "  inflating: __MACOSX/effiDetTrainNewLabelV1/test/._39.75173783--104.9873866-135.jpg  \n",
            "  inflating: effiDetTrainNewLabelV1/test/39.74905012--104.9889239-315.jpg  \n",
            "  inflating: __MACOSX/effiDetTrainNewLabelV1/test/._39.74905012--104.9889239-315.jpg  \n",
            "  inflating: effiDetTrainNewLabelV1/test/39.75217304--104.98144640000001-315.jpg  \n",
            "  inflating: __MACOSX/effiDetTrainNewLabelV1/test/._39.75217304--104.98144640000001-315.jpg  \n",
            "  inflating: effiDetTrainNewLabelV1/test/39.75097903--104.9829983-135.jpg  \n",
            "  inflating: __MACOSX/effiDetTrainNewLabelV1/test/._39.75097903--104.9829983-135.jpg  \n",
            "  inflating: effiDetTrainNewLabelV1/test/39.75505882--104.9880773-135.jpg  \n",
            "  inflating: __MACOSX/effiDetTrainNewLabelV1/test/._39.75505882--104.9880773-135.jpg  \n",
            "  inflating: effiDetTrainNewLabelV1/test/39.75010416--104.99625970000001-315.jpg  \n",
            "  inflating: __MACOSX/effiDetTrainNewLabelV1/test/._39.75010416--104.99625970000001-315.jpg  \n",
            "  inflating: effiDetTrainNewLabelV1/test/39.74962881--104.9847388-315.jpg  \n",
            "  inflating: __MACOSX/effiDetTrainNewLabelV1/test/._39.74962881--104.9847388-315.jpg  \n",
            "  inflating: effiDetTrainNewLabelV1/test/39.75227684--104.9899487-135.jpg  \n",
            "  inflating: __MACOSX/effiDetTrainNewLabelV1/test/._39.75227684--104.9899487-135.jpg  \n",
            "  inflating: effiDetTrainNewLabelV1/test/39.75219931--104.98659170000002-315.jpg  \n",
            "  inflating: __MACOSX/effiDetTrainNewLabelV1/test/._39.75219931--104.98659170000002-315.jpg  \n",
            "  inflating: effiDetTrainNewLabelV1/test/39.74896307--104.9838469-135.jpg  \n",
            "  inflating: __MACOSX/effiDetTrainNewLabelV1/test/._39.74896307--104.9838469-135.jpg  \n",
            "  inflating: effiDetTrainNewLabelV1/test/39.74890124--104.98911820000001-135.jpg  \n",
            "  inflating: __MACOSX/effiDetTrainNewLabelV1/test/._39.74890124--104.98911820000001-135.jpg  \n",
            "  inflating: effiDetTrainNewLabelV1/test/39.75160919--104.99432979999999-135.jpg  \n",
            "  inflating: __MACOSX/effiDetTrainNewLabelV1/test/._39.75160919--104.99432979999999-135.jpg  \n",
            "  inflating: effiDetTrainNewLabelV1/test/39.75163357--104.98363940000002-135.jpg  \n",
            "  inflating: __MACOSX/effiDetTrainNewLabelV1/test/._39.75163357--104.98363940000002-135.jpg  \n",
            "  inflating: effiDetTrainNewLabelV1/test/39.74953471--105.000452-315.jpg  \n",
            "  inflating: __MACOSX/effiDetTrainNewLabelV1/test/._39.74953471--105.000452-315.jpg  \n",
            "  inflating: effiDetTrainNewLabelV1/test/39.75085129--104.99009140000001-315.jpg  \n",
            "  inflating: __MACOSX/effiDetTrainNewLabelV1/test/._39.75085129--104.99009140000001-315.jpg  \n",
            "  inflating: effiDetTrainNewLabelV1/test/39.74994667--104.9877608-135.jpg  \n",
            "  inflating: __MACOSX/effiDetTrainNewLabelV1/test/._39.74994667--104.9877608-135.jpg  \n",
            "  inflating: effiDetTrainNewLabelV1/test/39.74911224--104.98365279999999-135.jpg  \n",
            "  inflating: __MACOSX/effiDetTrainNewLabelV1/test/._39.74911224--104.98365279999999-135.jpg  \n",
            "  inflating: effiDetTrainNewLabelV1/test/39.74964685--104.9881478-135.jpg  \n",
            "  inflating: __MACOSX/effiDetTrainNewLabelV1/test/._39.74964685--104.9881478-135.jpg  \n",
            "  inflating: effiDetTrainNewLabelV1/test/39.74887032--104.985699-315.jpg  \n",
            "  inflating: __MACOSX/effiDetTrainNewLabelV1/test/._39.74887032--104.985699-315.jpg  \n",
            "  inflating: effiDetTrainNewLabelV1/test/39.74985722--104.9813018-135.jpg  \n",
            "  inflating: __MACOSX/effiDetTrainNewLabelV1/test/._39.74985722--104.9813018-135.jpg  \n",
            "  inflating: effiDetTrainNewLabelV1/test/39.75104715--104.9985281-135.jpg  \n",
            "  inflating: __MACOSX/effiDetTrainNewLabelV1/test/._39.75104715--104.9985281-135.jpg  \n",
            "  inflating: effiDetTrainNewLabelV1/test/39.74994222--105.00440729999998-315.jpg  \n",
            "  inflating: __MACOSX/effiDetTrainNewLabelV1/test/._39.74994222--105.00440729999998-315.jpg  \n",
            "  inflating: effiDetTrainNewLabelV1/test/39.74920428--104.9904635-315.jpg  \n",
            "  inflating: __MACOSX/effiDetTrainNewLabelV1/test/._39.74920428--104.9904635-315.jpg  \n",
            "  inflating: effiDetTrainNewLabelV1/test/39.75675048--104.98419390000001-315.jpg  \n",
            "  inflating: __MACOSX/effiDetTrainNewLabelV1/test/._39.75675048--104.98419390000001-315.jpg  \n",
            "  inflating: effiDetTrainNewLabelV1/test/39.74979483--105.0042119-315.jpg  \n",
            "  inflating: __MACOSX/effiDetTrainNewLabelV1/test/._39.74979483--105.0042119-315.jpg  \n",
            "  inflating: effiDetTrainNewLabelV1/test/39.75024927--104.98910579999999-315.jpg  \n",
            "  inflating: __MACOSX/effiDetTrainNewLabelV1/test/._39.75024927--104.98910579999999-315.jpg  \n",
            "  inflating: effiDetTrainNewLabelV1/test/39.74905181--104.9924127-315.jpg  \n",
            "  inflating: __MACOSX/effiDetTrainNewLabelV1/test/._39.74905181--104.9924127-315.jpg  \n",
            "  inflating: effiDetTrainNewLabelV1/test/39.75163955--104.99774860000001-135.jpg  \n",
            "  inflating: __MACOSX/effiDetTrainNewLabelV1/test/._39.75163955--104.99774860000001-135.jpg  \n",
            "  inflating: effiDetTrainNewLabelV1/test/39.75064966--104.985095-315.jpg  \n",
            "  inflating: __MACOSX/effiDetTrainNewLabelV1/test/._39.75064966--104.985095-315.jpg  \n",
            "  inflating: effiDetTrainNewLabelV1/test/39.74902595--104.98724250000001-315.jpg  \n",
            "  inflating: __MACOSX/effiDetTrainNewLabelV1/test/._39.74902595--104.98724250000001-315.jpg  \n",
            "  inflating: effiDetTrainNewLabelV1/test/39.74890342--104.99260729999999-135.jpg  \n",
            "  inflating: __MACOSX/effiDetTrainNewLabelV1/test/._39.74890342--104.99260729999999-135.jpg  \n",
            "  inflating: effiDetTrainNewLabelV1/test/39.74980573--104.9966477-315.jpg  \n",
            "  inflating: __MACOSX/effiDetTrainNewLabelV1/test/._39.74980573--104.9966477-315.jpg  \n",
            "  inflating: effiDetTrainNewLabelV1/test/39.74905503--104.9906575-315.jpg  \n",
            "  inflating: __MACOSX/effiDetTrainNewLabelV1/test/._39.74905503--104.9906575-315.jpg  \n",
            "  inflating: effiDetTrainNewLabelV1/test/39.75051411--104.987389-315.jpg  \n",
            "  inflating: __MACOSX/effiDetTrainNewLabelV1/test/._39.75051411--104.987389-315.jpg  \n",
            "  inflating: effiDetTrainNewLabelV1/test/39.75116755--104.99491640000001-315.jpg  \n",
            "  inflating: __MACOSX/effiDetTrainNewLabelV1/test/._39.75116755--104.99491640000001-315.jpg  \n",
            "  inflating: effiDetTrainNewLabelV1/train/39.74853567--104.99479050000001-315.jpg  \n",
            "  inflating: __MACOSX/effiDetTrainNewLabelV1/train/._39.74853567--104.99479050000001-315.jpg  \n",
            "  inflating: effiDetTrainNewLabelV1/train/39.74447852--105.0000048-315.jpg  \n",
            "  inflating: __MACOSX/effiDetTrainNewLabelV1/train/._39.74447852--105.0000048-315.jpg  \n",
            "  inflating: effiDetTrainNewLabelV1/train/39.74434244--104.98805420000001-135.jpg  \n",
            "  inflating: __MACOSX/effiDetTrainNewLabelV1/train/._39.74434244--104.98805420000001-135.jpg  \n",
            "  inflating: effiDetTrainNewLabelV1/train/39.74751024--104.9978648-315.jpg  \n",
            "  inflating: __MACOSX/effiDetTrainNewLabelV1/train/._39.74751024--104.9978648-315.jpg  \n",
            "  inflating: effiDetTrainNewLabelV1/train/39.74180225--104.9913497-135.jpg  \n",
            "  inflating: __MACOSX/effiDetTrainNewLabelV1/train/._39.74180225--104.9913497-135.jpg  \n",
            "  inflating: effiDetTrainNewLabelV1/train/39.74551276--104.98828359999999-135.jpg  \n",
            "  inflating: __MACOSX/effiDetTrainNewLabelV1/train/._39.74551276--104.98828359999999-135.jpg  \n",
            "  inflating: effiDetTrainNewLabelV1/train/39.74470133--104.99453229999999-315.jpg  \n",
            "  inflating: __MACOSX/effiDetTrainNewLabelV1/train/._39.74470133--104.99453229999999-315.jpg  \n",
            "  inflating: effiDetTrainNewLabelV1/train/39.74515577--104.99395559999999-135.jpg  \n",
            "  inflating: __MACOSX/effiDetTrainNewLabelV1/train/._39.74515577--104.99395559999999-135.jpg  \n",
            "  inflating: effiDetTrainNewLabelV1/train/39.7504078--104.9958757-315.jpg  \n",
            "  inflating: __MACOSX/effiDetTrainNewLabelV1/train/._39.7504078--104.9958757-315.jpg  \n",
            "  inflating: effiDetTrainNewLabelV1/train/39.74637015--104.9941501-135.jpg  \n",
            "  inflating: __MACOSX/effiDetTrainNewLabelV1/train/._39.74637015--104.9941501-135.jpg  \n",
            "  inflating: effiDetTrainNewLabelV1/train/39.74641245--105.00141770000002-135.jpg  \n",
            "  inflating: __MACOSX/effiDetTrainNewLabelV1/train/._39.74641245--105.00141770000002-135.jpg  \n",
            "  inflating: effiDetTrainNewLabelV1/train/39.74061523--104.9911419-135.jpg  \n",
            "  inflating: __MACOSX/effiDetTrainNewLabelV1/train/._39.74061523--104.9911419-135.jpg  \n",
            "  inflating: effiDetTrainNewLabelV1/train/39.74094038--104.98897179999999-315.jpg  \n",
            "  inflating: __MACOSX/effiDetTrainNewLabelV1/train/._39.74094038--104.98897179999999-315.jpg  \n",
            "  inflating: effiDetTrainNewLabelV1/train/39.74710444--104.9949289-135.jpg  \n",
            "  inflating: __MACOSX/effiDetTrainNewLabelV1/train/._39.74710444--104.9949289-135.jpg  \n",
            "  inflating: effiDetTrainNewLabelV1/train/39.74015073--104.9981064-135.jpg  \n",
            "  inflating: __MACOSX/effiDetTrainNewLabelV1/train/._39.74015073--104.9981064-135.jpg  \n",
            "  inflating: effiDetTrainNewLabelV1/train/39.74211507--104.98920770000001-315.jpg  \n",
            "  inflating: __MACOSX/effiDetTrainNewLabelV1/train/._39.74211507--104.98920770000001-315.jpg  \n",
            "  inflating: effiDetTrainNewLabelV1/train/39.74753399--104.9798835-135.jpg  \n",
            "  inflating: __MACOSX/effiDetTrainNewLabelV1/train/._39.74753399--104.9798835-135.jpg  \n",
            "  inflating: effiDetTrainNewLabelV1/train/39.74500261--104.99414650000001-315.jpg  \n",
            "  inflating: __MACOSX/effiDetTrainNewLabelV1/train/._39.74500261--104.99414650000001-315.jpg  \n",
            "  inflating: effiDetTrainNewLabelV1/train/39.74749697--104.97792759999999-315.jpg  \n",
            "  inflating: __MACOSX/effiDetTrainNewLabelV1/train/._39.74749697--104.97792759999999-315.jpg  \n",
            "  inflating: effiDetTrainNewLabelV1/train/39.74798058--105.00456299999999-315.jpg  \n",
            "  inflating: __MACOSX/effiDetTrainNewLabelV1/train/._39.74798058--105.00456299999999-315.jpg  \n",
            "  inflating: effiDetTrainNewLabelV1/train/39.74866477--104.98423500000001-135.jpg  \n",
            "  inflating: __MACOSX/effiDetTrainNewLabelV1/train/._39.74866477--104.98423500000001-135.jpg  \n",
            "  inflating: effiDetTrainNewLabelV1/train/39.7584973--104.9733432-315.jpg  \n",
            "  inflating: __MACOSX/effiDetTrainNewLabelV1/train/._39.7584973--104.9733432-315.jpg  \n",
            "  inflating: effiDetTrainNewLabelV1/train/39.74752468--104.98646670000001-135.jpg  \n",
            "  inflating: __MACOSX/effiDetTrainNewLabelV1/train/._39.74752468--104.98646670000001-135.jpg  \n",
            "  inflating: effiDetTrainNewLabelV1/train/39.74704905--104.99673440000001-315.jpg  \n",
            "  inflating: __MACOSX/effiDetTrainNewLabelV1/train/._39.74704905--104.99673440000001-315.jpg  \n",
            "  inflating: effiDetTrainNewLabelV1/train/39.74537429--104.987407-315.jpg  \n",
            "  inflating: __MACOSX/effiDetTrainNewLabelV1/train/._39.74537429--104.987407-315.jpg  \n",
            "  inflating: effiDetTrainNewLabelV1/train/39.74846886--104.99839850000001-315.jpg  \n",
            "  inflating: __MACOSX/effiDetTrainNewLabelV1/train/._39.74846886--104.99839850000001-315.jpg  \n",
            "  inflating: effiDetTrainNewLabelV1/train/39.74227642--104.999315-135.jpg  \n",
            "  inflating: __MACOSX/effiDetTrainNewLabelV1/train/._39.74227642--104.999315-135.jpg  \n",
            "  inflating: effiDetTrainNewLabelV1/train/39.746192--104.9871632-135.jpg  \n",
            "  inflating: __MACOSX/effiDetTrainNewLabelV1/train/._39.746192--104.9871632-135.jpg  \n",
            "  inflating: effiDetTrainNewLabelV1/train/39.74806654--104.9873986-315.jpg  \n",
            "  inflating: __MACOSX/effiDetTrainNewLabelV1/train/._39.74806654--104.9873986-315.jpg  \n",
            "  inflating: effiDetTrainNewLabelV1/train/39.7470821--104.98976129999998-315.jpg  \n",
            "  inflating: __MACOSX/effiDetTrainNewLabelV1/train/._39.7470821--104.98976129999998-315.jpg  \n",
            "  inflating: effiDetTrainNewLabelV1/train/39.74396376--104.9955047-135.jpg  \n",
            "  inflating: __MACOSX/effiDetTrainNewLabelV1/train/._39.74396376--104.9955047-135.jpg  \n",
            "  inflating: effiDetTrainNewLabelV1/train/39.74030936--104.99152409999999-135.jpg  \n",
            "  inflating: __MACOSX/effiDetTrainNewLabelV1/train/._39.74030936--104.99152409999999-135.jpg  \n",
            "  inflating: effiDetTrainNewLabelV1/train/39.72072084--104.9862446-315.jpg  \n",
            "  inflating: __MACOSX/effiDetTrainNewLabelV1/train/._39.72072084--104.9862446-315.jpg  \n",
            "  inflating: effiDetTrainNewLabelV1/train/39.74665068--104.9955062-135.jpg  \n",
            "  inflating: __MACOSX/effiDetTrainNewLabelV1/train/._39.74665068--104.9955062-135.jpg  \n",
            "  inflating: effiDetTrainNewLabelV1/train/39.74800415--104.99201059999999-315.jpg  \n",
            "  inflating: __MACOSX/effiDetTrainNewLabelV1/train/._39.74800415--104.99201059999999-315.jpg  \n",
            "  inflating: effiDetTrainNewLabelV1/train/39.747528--104.97841499999998-135.jpg  \n",
            "  inflating: __MACOSX/effiDetTrainNewLabelV1/train/._39.747528--104.97841499999998-135.jpg  \n",
            "  inflating: effiDetTrainNewLabelV1/train/39.74828644--104.9829527-135.jpg  \n",
            "  inflating: __MACOSX/effiDetTrainNewLabelV1/train/._39.74828644--104.9829527-135.jpg  \n",
            "  inflating: effiDetTrainNewLabelV1/train/39.74296988--104.991577-135.jpg  \n",
            "  inflating: __MACOSX/effiDetTrainNewLabelV1/train/._39.74296988--104.991577-135.jpg  \n",
            "  inflating: effiDetTrainNewLabelV1/train/39.74754513--104.98110729999999-315.jpg  \n",
            "  inflating: __MACOSX/effiDetTrainNewLabelV1/train/._39.74754513--104.98110729999999-315.jpg  \n",
            "  inflating: effiDetTrainNewLabelV1/train/39.747551--104.9835548-315.jpg  \n",
            "  inflating: __MACOSX/effiDetTrainNewLabelV1/train/._39.747551--104.9835548-315.jpg  \n",
            "  inflating: effiDetTrainNewLabelV1/train/39.74740426--104.9910544-315.jpg  \n",
            "  inflating: __MACOSX/effiDetTrainNewLabelV1/train/._39.74740426--104.9910544-315.jpg  \n",
            "  inflating: effiDetTrainNewLabelV1/train/39.74389477--104.9886363-315.jpg  \n",
            "  inflating: __MACOSX/effiDetTrainNewLabelV1/train/._39.74389477--104.9886363-315.jpg  \n",
            "  inflating: effiDetTrainNewLabelV1/train/39.74784468--104.9835392-315.jpg  \n",
            "  inflating: __MACOSX/effiDetTrainNewLabelV1/train/._39.74784468--104.9835392-315.jpg  \n",
            "  inflating: effiDetTrainNewLabelV1/train/39.74561891--104.9951162-135.jpg  \n",
            "  inflating: __MACOSX/effiDetTrainNewLabelV1/train/._39.74561891--104.9951162-135.jpg  \n",
            "  inflating: effiDetTrainNewLabelV1/train/39.74404357--104.9884419-135.jpg  \n",
            "  inflating: __MACOSX/effiDetTrainNewLabelV1/train/._39.74404357--104.9884419-135.jpg  \n",
            "  inflating: effiDetTrainNewLabelV1/train/39.74661572--105.0009725-315.jpg  \n",
            "  inflating: __MACOSX/effiDetTrainNewLabelV1/train/._39.74661572--105.0009725-315.jpg  \n",
            "  inflating: effiDetTrainNewLabelV1/train/39.74433728--105.0002047-135.jpg  \n",
            "  inflating: __MACOSX/effiDetTrainNewLabelV1/train/._39.74433728--105.0002047-135.jpg  \n",
            "  inflating: effiDetTrainNewLabelV1/train/39.74243977--104.99399050000001-315.jpg  \n",
            "  inflating: __MACOSX/effiDetTrainNewLabelV1/train/._39.74243977--104.99399050000001-315.jpg  \n",
            "  inflating: effiDetTrainNewLabelV1/train/39.74816405--104.9935825-135.jpg  \n",
            "  inflating: __MACOSX/effiDetTrainNewLabelV1/train/._39.74816405--104.9935825-135.jpg  \n",
            "  inflating: effiDetTrainNewLabelV1/train/39.7517467--104.98716979999999-315.jpg  \n",
            "  inflating: __MACOSX/effiDetTrainNewLabelV1/train/._39.7517467--104.98716979999999-315.jpg  \n",
            "  inflating: effiDetTrainNewLabelV1/train/39.74184656--104.9990808-135.jpg  \n",
            "  inflating: __MACOSX/effiDetTrainNewLabelV1/train/._39.74184656--104.9990808-135.jpg  \n",
            "  inflating: effiDetTrainNewLabelV1/train/39.74019419--104.99689509999999-135.jpg  \n",
            "  inflating: __MACOSX/effiDetTrainNewLabelV1/train/._39.74019419--104.99689509999999-135.jpg  \n",
            "  inflating: effiDetTrainNewLabelV1/train/39.74225325--104.9907703-135.jpg  \n",
            "  inflating: __MACOSX/effiDetTrainNewLabelV1/train/._39.74225325--104.9907703-135.jpg  \n",
            "  inflating: effiDetTrainNewLabelV1/train/39.74755789--104.9908639-315.jpg  \n",
            "  inflating: __MACOSX/effiDetTrainNewLabelV1/train/._39.74755789--104.9908639-315.jpg  \n",
            "  inflating: effiDetTrainNewLabelV1/train/39.74202258--104.99975859999999-315.jpg  \n",
            "  inflating: __MACOSX/effiDetTrainNewLabelV1/train/._39.74202258--104.99975859999999-315.jpg  \n",
            "  inflating: effiDetTrainNewLabelV1/train/39.7625915--104.97334199999999-315.jpg  \n",
            "  inflating: __MACOSX/effiDetTrainNewLabelV1/train/._39.7625915--104.97334199999999-315.jpg  \n",
            "  inflating: effiDetTrainNewLabelV1/train/39.74130485--104.9991395-135.jpg  \n",
            "  inflating: __MACOSX/effiDetTrainNewLabelV1/train/._39.74130485--104.9991395-135.jpg  \n",
            "  inflating: effiDetTrainNewLabelV1/train/39.74315057--104.9896078-315.jpg  \n",
            "  inflating: __MACOSX/effiDetTrainNewLabelV1/train/._39.74315057--104.9896078-315.jpg  \n",
            "  inflating: effiDetTrainNewLabelV1/train/39.74679059--104.9918173-135.jpg  \n",
            "  inflating: __MACOSX/effiDetTrainNewLabelV1/train/._39.74679059--104.9918173-135.jpg  \n",
            "  inflating: effiDetTrainNewLabelV1/train/39.74571656--105.0001905-135.jpg  \n",
            "  inflating: __MACOSX/effiDetTrainNewLabelV1/train/._39.74571656--105.0001905-135.jpg  \n",
            "  inflating: effiDetTrainNewLabelV1/train/39.74862098--105.00238049999999-135.jpg  \n",
            "  inflating: __MACOSX/effiDetTrainNewLabelV1/train/._39.74862098--105.00238049999999-135.jpg  \n",
            "  inflating: effiDetTrainNewLabelV1/train/39.74755046--104.9828206-315.jpg  \n",
            "  inflating: __MACOSX/effiDetTrainNewLabelV1/train/._39.74755046--104.9828206-315.jpg  \n",
            "  inflating: effiDetTrainNewLabelV1/train/39.74577049--104.9931936-135.jpg  \n",
            "  inflating: __MACOSX/effiDetTrainNewLabelV1/train/._39.74577049--104.9931936-135.jpg  \n",
            "  inflating: effiDetTrainNewLabelV1/train/39.74166348--104.98978670000001-135.jpg  \n",
            "  inflating: __MACOSX/effiDetTrainNewLabelV1/train/._39.74166348--104.98978670000001-135.jpg  \n",
            "  inflating: effiDetTrainNewLabelV1/train/39.74875539--104.99280230000001-315.jpg  \n",
            "  inflating: __MACOSX/effiDetTrainNewLabelV1/train/._39.74875539--104.99280230000001-315.jpg  \n",
            "  inflating: effiDetTrainNewLabelV1/train/39.74764579--105.00344070000001-315.jpg  \n",
            "  inflating: __MACOSX/effiDetTrainNewLabelV1/train/._39.74764579--105.00344070000001-315.jpg  \n",
            "  inflating: effiDetTrainNewLabelV1/train/39.74270149--104.9901887-135.jpg  \n",
            "  inflating: __MACOSX/effiDetTrainNewLabelV1/train/._39.74270149--104.9901887-135.jpg  \n",
            "  inflating: effiDetTrainNewLabelV1/train/39.7611787--104.9767291-315.jpg  \n",
            "  inflating: __MACOSX/effiDetTrainNewLabelV1/train/._39.7611787--104.9767291-315.jpg  \n",
            "  inflating: effiDetTrainNewLabelV1/train/39.74045429--104.99309199999999-135.jpg  \n",
            "  inflating: __MACOSX/effiDetTrainNewLabelV1/train/._39.74045429--104.99309199999999-135.jpg  \n",
            "  inflating: effiDetTrainNewLabelV1/train/39.74553591--104.99865759999999-135.jpg  \n",
            "  inflating: __MACOSX/effiDetTrainNewLabelV1/train/._39.74553591--104.99865759999999-135.jpg  \n",
            "  inflating: effiDetTrainNewLabelV1/train/39.74831154--104.9933872-315.jpg  \n",
            "  inflating: __MACOSX/effiDetTrainNewLabelV1/train/._39.74831154--104.9933872-315.jpg  \n",
            "  inflating: effiDetTrainNewLabelV1/train/39.74064184--104.99631299999999-135.jpg  \n",
            "  inflating: __MACOSX/effiDetTrainNewLabelV1/train/._39.74064184--104.99631299999999-135.jpg  \n",
            "  inflating: effiDetTrainNewLabelV1/train/39.74572425--104.99149550000001-135.jpg  \n",
            "  inflating: __MACOSX/effiDetTrainNewLabelV1/train/._39.74572425--104.99149550000001-135.jpg  \n",
            "  inflating: effiDetTrainNewLabelV1/train/39.74870489--105.0032389-315.jpg  \n",
            "  inflating: __MACOSX/effiDetTrainNewLabelV1/train/._39.74870489--105.0032389-315.jpg  \n",
            "  inflating: effiDetTrainNewLabelV1/train/39.761973--104.90592020000001-315.jpg  \n",
            "  inflating: __MACOSX/effiDetTrainNewLabelV1/train/._39.761973--104.90592020000001-315.jpg  \n",
            "  inflating: effiDetTrainNewLabelV1/train/39.73955399--104.99767859999999-135.jpg  \n",
            "  inflating: __MACOSX/effiDetTrainNewLabelV1/train/._39.73955399--104.99767859999999-135.jpg  \n",
            "  inflating: effiDetTrainNewLabelV1/train/39.74785996--104.99916499999999-135.jpg  \n",
            "  inflating: __MACOSX/effiDetTrainNewLabelV1/train/._39.74785996--104.99916499999999-135.jpg  \n",
            "  inflating: effiDetTrainNewLabelV1/train/39.74394257--104.9972225-315.jpg  \n",
            "  inflating: __MACOSX/effiDetTrainNewLabelV1/train/._39.74394257--104.9972225-315.jpg  \n",
            "  inflating: effiDetTrainNewLabelV1/train/39.74582685--104.9982639-315.jpg  \n",
            "  inflating: __MACOSX/effiDetTrainNewLabelV1/train/._39.74582685--104.9982639-315.jpg  \n",
            "  inflating: effiDetTrainNewLabelV1/train/39.74858098--104.9825617-135.jpg  \n",
            "  inflating: __MACOSX/effiDetTrainNewLabelV1/train/._39.74858098--104.9825617-135.jpg  \n",
            "  inflating: effiDetTrainNewLabelV1/train/39.74168827--104.98800320000001-315.jpg  \n",
            "  inflating: __MACOSX/effiDetTrainNewLabelV1/train/._39.74168827--104.98800320000001-315.jpg  \n",
            "  inflating: effiDetTrainNewLabelV1/train/39.7449823--104.99069679999998-135.jpg  \n",
            "  inflating: __MACOSX/effiDetTrainNewLabelV1/train/._39.7449823--104.99069679999998-135.jpg  \n",
            "  inflating: effiDetTrainNewLabelV1/train/39.7515945--104.98563159999999-135.jpg  \n",
            "  inflating: __MACOSX/effiDetTrainNewLabelV1/train/._39.7515945--104.98563159999999-135.jpg  \n",
            "  inflating: effiDetTrainNewLabelV1/train/39.74674228--104.9971158-135.jpg  \n",
            "  inflating: __MACOSX/effiDetTrainNewLabelV1/train/._39.74674228--104.9971158-135.jpg  \n",
            "  inflating: effiDetTrainNewLabelV1/train/39.7657294--104.97782360000001-135.jpg  \n",
            "  inflating: __MACOSX/effiDetTrainNewLabelV1/train/._39.7657294--104.97782360000001-135.jpg  \n",
            "  inflating: effiDetTrainNewLabelV1/train/39.74543265--104.9918887-135.jpg  \n",
            "  inflating: __MACOSX/effiDetTrainNewLabelV1/train/._39.74543265--104.9918887-135.jpg  \n",
            "  inflating: effiDetTrainNewLabelV1/train/39.7595851--104.987495-135.jpg  \n",
            "  inflating: __MACOSX/effiDetTrainNewLabelV1/train/._39.7595851--104.987495-135.jpg  \n",
            "  inflating: effiDetTrainNewLabelV1/train/39.74207062--104.99273799999999-135.jpg  \n",
            "  inflating: __MACOSX/effiDetTrainNewLabelV1/train/._39.74207062--104.99273799999999-135.jpg  \n",
            "  inflating: effiDetTrainNewLabelV1/train/.DS_Store  \n",
            "  inflating: __MACOSX/effiDetTrainNewLabelV1/train/._.DS_Store  \n",
            "  inflating: effiDetTrainNewLabelV1/train/39.74558532--104.9968479-315.jpg  \n",
            "  inflating: __MACOSX/effiDetTrainNewLabelV1/train/._39.74558532--104.9968479-315.jpg  \n",
            "  inflating: effiDetTrainNewLabelV1/train/39.74453562--104.99127959999998-315.jpg  \n",
            "  inflating: __MACOSX/effiDetTrainNewLabelV1/train/._39.74453562--104.99127959999998-315.jpg  \n",
            "  inflating: effiDetTrainNewLabelV1/train/39.74244674--104.99915949999999-315.jpg  \n",
            "  inflating: __MACOSX/effiDetTrainNewLabelV1/train/._39.74244674--104.99915949999999-315.jpg  \n",
            "  inflating: effiDetTrainNewLabelV1/train/39.74078137--104.9891578-315.jpg  \n",
            "  inflating: __MACOSX/effiDetTrainNewLabelV1/train/._39.74078137--104.9891578-315.jpg  \n",
            "  inflating: effiDetTrainNewLabelV1/train/39.74485105--104.99433870000001-315.jpg  \n",
            "  inflating: __MACOSX/effiDetTrainNewLabelV1/train/._39.74485105--104.99433870000001-315.jpg  \n",
            "  inflating: effiDetTrainNewLabelV1/train/39.74029669--104.98970940000001-135.jpg  \n",
            "  inflating: __MACOSX/effiDetTrainNewLabelV1/train/._39.74029669--104.98970940000001-135.jpg  \n",
            "  inflating: effiDetTrainNewLabelV1/train/39.74030818--104.99328829999999-315.jpg  \n",
            "  inflating: __MACOSX/effiDetTrainNewLabelV1/train/._39.74030818--104.99328829999999-315.jpg  \n",
            "  inflating: effiDetTrainNewLabelV1/train/39.7439015--104.9957402-135.jpg  \n",
            "  inflating: __MACOSX/effiDetTrainNewLabelV1/train/._39.7439015--104.9957402-135.jpg  \n",
            "  inflating: effiDetTrainNewLabelV1/train/39.74757703--104.9873996-135.jpg  \n",
            "  inflating: __MACOSX/effiDetTrainNewLabelV1/train/._39.74757703--104.9873996-135.jpg  \n",
            "  inflating: effiDetTrainNewLabelV1/train/39.74813923--104.9831482-135.jpg  \n",
            "  inflating: __MACOSX/effiDetTrainNewLabelV1/train/._39.74813923--104.9831482-135.jpg  \n",
            "  inflating: effiDetTrainNewLabelV1/train/39.74596297--104.9877035-135.jpg  \n",
            "  inflating: __MACOSX/effiDetTrainNewLabelV1/train/._39.74596297--104.9877035-135.jpg  \n",
            "  inflating: effiDetTrainNewLabelV1/train/39.7665065--104.97335190000001-315.jpg  \n",
            "  inflating: __MACOSX/effiDetTrainNewLabelV1/train/._39.7665065--104.97335190000001-315.jpg  \n",
            "  inflating: effiDetTrainNewLabelV1/train/39.74755--104.982331-315.jpg  \n",
            "  inflating: __MACOSX/effiDetTrainNewLabelV1/train/._39.74755--104.982331-315.jpg  \n",
            "  inflating: effiDetTrainNewLabelV1/train/39.74446075--104.98963590000001-315.jpg  \n",
            "  inflating: __MACOSX/effiDetTrainNewLabelV1/train/._39.74446075--104.98963590000001-315.jpg  \n",
            "  inflating: effiDetTrainNewLabelV1/train/39.753091--104.98542479999999-315.jpg  \n",
            "  inflating: __MACOSX/effiDetTrainNewLabelV1/train/._39.753091--104.98542479999999-315.jpg  \n",
            "  inflating: effiDetTrainNewLabelV1/train/39.74755002--104.98257579999999-315.jpg  \n",
            "  inflating: __MACOSX/effiDetTrainNewLabelV1/train/._39.74755002--104.98257579999999-315.jpg  \n",
            "  inflating: effiDetTrainNewLabelV1/train/39.7506334--104.99208130000001-315.jpg  \n",
            "  inflating: __MACOSX/effiDetTrainNewLabelV1/train/._39.7506334--104.99208130000001-315.jpg  \n",
            "  inflating: effiDetTrainNewLabelV1/train/39.74851573--104.9844291-315.jpg  \n",
            "  inflating: __MACOSX/effiDetTrainNewLabelV1/train/._39.74851573--104.9844291-315.jpg  \n",
            "  inflating: effiDetTrainNewLabelV1/train/39.74764067--104.9783773-315.jpg  \n",
            "  inflating: __MACOSX/effiDetTrainNewLabelV1/train/._39.74764067--104.9783773-315.jpg  \n",
            "  inflating: effiDetTrainNewLabelV1/train/39.74753189--104.979394-135.jpg  \n",
            "  inflating: __MACOSX/effiDetTrainNewLabelV1/train/._39.74753189--104.979394-135.jpg  \n",
            "  inflating: effiDetTrainNewLabelV1/train/39.74530943--104.99376509999999-315.jpg  \n",
            "  inflating: __MACOSX/effiDetTrainNewLabelV1/train/._39.74530943--104.99376509999999-315.jpg  \n",
            "  inflating: effiDetTrainNewLabelV1/train/39.74561905--104.987407-135.jpg  \n",
            "  inflating: __MACOSX/effiDetTrainNewLabelV1/train/._39.74561905--104.987407-135.jpg  \n",
            "  inflating: effiDetTrainNewLabelV1/train/39.74766026--104.99767140000002-135.jpg  \n",
            "  inflating: __MACOSX/effiDetTrainNewLabelV1/train/._39.74766026--104.99767140000002-135.jpg  \n",
            "  inflating: effiDetTrainNewLabelV1/train/39.7655283--104.9733218-315.jpg  \n",
            "  inflating: __MACOSX/effiDetTrainNewLabelV1/train/._39.7655283--104.9733218-315.jpg  \n",
            "  inflating: effiDetTrainNewLabelV1/train/39.7454325--104.99703909999998-135.jpg  \n",
            "  inflating: __MACOSX/effiDetTrainNewLabelV1/train/._39.7454325--104.99703909999998-135.jpg  \n",
            "  inflating: effiDetTrainNewLabelV1/train/39.7565745--104.9899989-135.jpg  \n",
            "  inflating: __MACOSX/effiDetTrainNewLabelV1/train/._39.7565745--104.9899989-135.jpg  \n",
            "  inflating: effiDetTrainNewLabelV1/train/39.74586769--104.99999809999998-315.jpg  \n",
            "  inflating: __MACOSX/effiDetTrainNewLabelV1/train/._39.74586769--104.99999809999998-315.jpg  \n",
            "  inflating: effiDetTrainNewLabelV1/train/39.747543--104.9808625-315.jpg  \n",
            "  inflating: __MACOSX/effiDetTrainNewLabelV1/train/._39.747543--104.9808625-315.jpg  \n",
            "  inflating: effiDetTrainNewLabelV1/train/39.74141655--104.9988469-315.jpg  \n",
            "  inflating: __MACOSX/effiDetTrainNewLabelV1/train/._39.74141655--104.9988469-315.jpg  \n",
            "  inflating: effiDetTrainNewLabelV1/train/39.74771167--104.99067350000001-135.jpg  \n",
            "  inflating: __MACOSX/effiDetTrainNewLabelV1/train/._39.74771167--104.99067350000001-135.jpg  \n",
            "  inflating: effiDetTrainNewLabelV1/train/39.74363293--104.99420959999999-315.jpg  \n",
            "  inflating: __MACOSX/effiDetTrainNewLabelV1/train/._39.74363293--104.99420959999999-315.jpg  \n",
            "  inflating: effiDetTrainNewLabelV1/train/39.7607831--104.9859462-315.jpg  \n",
            "  inflating: __MACOSX/effiDetTrainNewLabelV1/train/._39.7607831--104.9859462-315.jpg  \n",
            "  inflating: effiDetTrainNewLabelV1/train/39.74558019--104.9899216-315.jpg  \n",
            "  inflating: __MACOSX/effiDetTrainNewLabelV1/train/._39.74558019--104.9899216-315.jpg  \n",
            "  inflating: effiDetTrainNewLabelV1/train/39.74616441--104.9909078-315.jpg  \n",
            "  inflating: __MACOSX/effiDetTrainNewLabelV1/train/._39.74616441--104.9909078-315.jpg  \n",
            "  inflating: effiDetTrainNewLabelV1/train/39.74468424--104.9910852-315.jpg  \n",
            "  inflating: __MACOSX/effiDetTrainNewLabelV1/train/._39.74468424--104.9910852-315.jpg  \n",
            "  inflating: effiDetTrainNewLabelV1/train/39.74217341--104.9874528-135.jpg  \n",
            "  inflating: __MACOSX/effiDetTrainNewLabelV1/train/._39.74217341--104.9874528-135.jpg  \n",
            "  inflating: effiDetTrainNewLabelV1/train/39.74786044--104.9904791-315.jpg  \n",
            "  inflating: __MACOSX/effiDetTrainNewLabelV1/train/._39.74786044--104.9904791-315.jpg  \n",
            "  inflating: effiDetTrainNewLabelV1/train/39.71827329--104.9862382-315.jpg  \n",
            "  inflating: __MACOSX/effiDetTrainNewLabelV1/train/._39.71827329--104.9862382-315.jpg  \n",
            "  inflating: effiDetTrainNewLabelV1/train/39.74359718--104.9890249-135.jpg  \n",
            "  inflating: __MACOSX/effiDetTrainNewLabelV1/train/._39.74359718--104.9890249-135.jpg  \n",
            "  inflating: effiDetTrainNewLabelV1/train/39.761975--104.9105706-315.jpg  \n",
            "  inflating: __MACOSX/effiDetTrainNewLabelV1/train/._39.761975--104.9105706-315.jpg  \n",
            "  inflating: effiDetTrainNewLabelV1/train/39.74739921--104.9873356-315.jpg  \n",
            "  inflating: __MACOSX/effiDetTrainNewLabelV1/train/._39.74739921--104.9873356-315.jpg  \n",
            "  inflating: effiDetTrainNewLabelV1/train/39.74192065--104.9929314-135.jpg  \n",
            "  inflating: __MACOSX/effiDetTrainNewLabelV1/train/._39.74192065--104.9929314-135.jpg  \n",
            "  inflating: effiDetTrainNewLabelV1/train/39.74799197--104.98334369999999-315.jpg  \n",
            "  inflating: __MACOSX/effiDetTrainNewLabelV1/train/._39.74799197--104.98334369999999-315.jpg  \n",
            "  inflating: effiDetTrainNewLabelV1/train/39.7418139--104.98959369999999-315.jpg  \n",
            "  inflating: __MACOSX/effiDetTrainNewLabelV1/train/._39.7418139--104.98959369999999-315.jpg  \n",
            "  inflating: effiDetTrainNewLabelV1/train/39.74456653--104.99646809999999-135.jpg  \n",
            "  inflating: __MACOSX/effiDetTrainNewLabelV1/train/._39.74456653--104.99646809999999-135.jpg  \n",
            "  inflating: effiDetTrainNewLabelV1/train/39.74706071--104.99844540000001-135.jpg  \n",
            "  inflating: __MACOSX/effiDetTrainNewLabelV1/train/._39.74706071--104.99844540000001-135.jpg  \n",
            "  inflating: effiDetTrainNewLabelV1/train/39.7436398--104.99244329999999-135.jpg  \n",
            "  inflating: __MACOSX/effiDetTrainNewLabelV1/train/._39.7436398--104.99244329999999-135.jpg  \n",
            "  inflating: effiDetTrainNewLabelV1/train/39.74123913--104.9885841-315.jpg  \n",
            "  inflating: __MACOSX/effiDetTrainNewLabelV1/train/._39.74123913--104.9885841-315.jpg  \n",
            "  inflating: effiDetTrainNewLabelV1/train/39.74573805--104.9966567-135.jpg  \n",
            "  inflating: __MACOSX/effiDetTrainNewLabelV1/train/._39.74573805--104.9966567-135.jpg  \n",
            "  inflating: effiDetTrainNewLabelV1/train/39.74872657--104.9876298-135.jpg  \n",
            "  inflating: __MACOSX/effiDetTrainNewLabelV1/train/._39.74872657--104.9876298-135.jpg  \n",
            "  inflating: effiDetTrainNewLabelV1/train/39.74756553--104.987156-315.jpg  \n",
            "  inflating: __MACOSX/effiDetTrainNewLabelV1/train/._39.74756553--104.987156-315.jpg  \n",
            "  inflating: effiDetTrainNewLabelV1/train/39.74827--105.00389070000001-315.jpg  \n",
            "  inflating: __MACOSX/effiDetTrainNewLabelV1/train/._39.74827--105.00389070000001-315.jpg  \n",
            "  inflating: effiDetTrainNewLabelV1/train/39.74851092--105.00310640000001-315.jpg  \n",
            "  inflating: __MACOSX/effiDetTrainNewLabelV1/train/._39.74851092--105.00310640000001-315.jpg  \n",
            "  inflating: effiDetTrainNewLabelV1/train/39.7545124--104.9871038-315.jpg  \n",
            "  inflating: __MACOSX/effiDetTrainNewLabelV1/train/._39.7545124--104.9871038-315.jpg  \n",
            "  inflating: effiDetTrainNewLabelV1/train/39.752323--104.98125300000001-315.jpg  \n",
            "  inflating: __MACOSX/effiDetTrainNewLabelV1/train/._39.752323--104.98125300000001-315.jpg  \n",
            "  inflating: effiDetTrainNewLabelV1/train/39.74824621--104.99518529999999-315.jpg  \n",
            "  inflating: __MACOSX/effiDetTrainNewLabelV1/train/._39.74824621--104.99518529999999-315.jpg  \n",
            "  inflating: effiDetTrainNewLabelV1/train/39.74787613--104.98610579999999-315.jpg  \n",
            "  inflating: __MACOSX/effiDetTrainNewLabelV1/train/._39.74787613--104.98610579999999-315.jpg  \n",
            "  inflating: effiDetTrainNewLabelV1/train/39.74770063--104.99239469999999-315.jpg  \n",
            "  inflating: __MACOSX/effiDetTrainNewLabelV1/train/._39.74770063--104.99239469999999-315.jpg  \n",
            "  inflating: effiDetTrainNewLabelV1/train/39.74786129--104.9939672-315.jpg  \n",
            "  inflating: __MACOSX/effiDetTrainNewLabelV1/train/._39.74786129--104.9939672-315.jpg  \n",
            "  inflating: effiDetTrainNewLabelV1/train/39.74423079--104.99343429999999-135.jpg  \n",
            "  inflating: __MACOSX/effiDetTrainNewLabelV1/train/._39.74423079--104.99343429999999-135.jpg  \n",
            "  inflating: effiDetTrainNewLabelV1/train/39.74116992--104.99389790000001-135.jpg  \n",
            "  inflating: __MACOSX/effiDetTrainNewLabelV1/train/._39.74116992--104.99389790000001-135.jpg  \n",
            "  inflating: effiDetTrainNewLabelV1/train/39.7407915--104.99611940000001-135.jpg  \n",
            "  inflating: __MACOSX/effiDetTrainNewLabelV1/train/._39.7407915--104.99611940000001-135.jpg  \n",
            "  inflating: effiDetTrainNewLabelV1/train/39.74416036--104.99002240000002-135.jpg  \n",
            "  inflating: __MACOSX/effiDetTrainNewLabelV1/train/._39.74416036--104.99002240000002-135.jpg  \n",
            "  inflating: effiDetTrainNewLabelV1/train/39.74639645--105.0006047-315.jpg  \n",
            "  inflating: __MACOSX/effiDetTrainNewLabelV1/train/._39.74639645--105.0006047-315.jpg  \n",
            "  inflating: effiDetTrainNewLabelV1/train/39.74255198--104.9903825-315.jpg  \n",
            "  inflating: __MACOSX/effiDetTrainNewLabelV1/train/._39.74255198--104.9903825-315.jpg  \n",
            "  inflating: effiDetTrainNewLabelV1/train/39.74300054--104.98980120000002-135.jpg  \n",
            "  inflating: __MACOSX/effiDetTrainNewLabelV1/train/._39.74300054--104.98980120000002-135.jpg  \n",
            "  inflating: effiDetTrainNewLabelV1/train/39.747526--104.98597720000001-315.jpg  \n",
            "  inflating: __MACOSX/effiDetTrainNewLabelV1/train/._39.747526--104.98597720000001-315.jpg  \n",
            "  inflating: effiDetTrainNewLabelV1/train/39.7609323--104.98575220000001-315.jpg  \n",
            "  inflating: __MACOSX/effiDetTrainNewLabelV1/train/._39.7609323--104.98575220000001-315.jpg  \n",
            "  inflating: effiDetTrainNewLabelV1/train/39.7412299--104.9993725-135.jpg  \n",
            "  inflating: __MACOSX/effiDetTrainNewLabelV1/train/._39.7412299--104.9993725-135.jpg  \n",
            "  inflating: effiDetTrainNewLabelV1/train/39.761996--104.91571-315.jpg  \n",
            "  inflating: __MACOSX/effiDetTrainNewLabelV1/train/._39.761996--104.91571-315.jpg  \n",
            "  inflating: effiDetTrainNewLabelV1/train/39.74318894--104.9981865-135.jpg  \n",
            "  inflating: __MACOSX/effiDetTrainNewLabelV1/train/._39.74318894--104.9981865-135.jpg  \n",
            "  inflating: effiDetTrainNewLabelV1/train/39.7475491--104.98208629999999-315.jpg  \n",
            "  inflating: __MACOSX/effiDetTrainNewLabelV1/train/._39.7475491--104.98208629999999-315.jpg  \n",
            "  inflating: effiDetTrainNewLabelV1/train/39.74843057--105.00342820000002-315.jpg  \n",
            "  inflating: __MACOSX/effiDetTrainNewLabelV1/train/._39.74843057--105.00342820000002-315.jpg  \n",
            "  inflating: effiDetTrainNewLabelV1/train/39.74599725--105.0003213-135.jpg  \n",
            "  inflating: __MACOSX/effiDetTrainNewLabelV1/train/._39.74599725--105.0003213-135.jpg  \n",
            "  inflating: effiDetTrainNewLabelV1/train/39.74752844--104.97865970000001-135.jpg  \n",
            "  inflating: __MACOSX/effiDetTrainNewLabelV1/train/._39.74752844--104.97865970000001-135.jpg  \n",
            "  inflating: effiDetTrainNewLabelV1/train/39.74282029--104.99177069999999-135.jpg  \n",
            "  inflating: __MACOSX/effiDetTrainNewLabelV1/train/._39.74282029--104.99177069999999-135.jpg  \n",
            "  inflating: effiDetTrainNewLabelV1/train/39.74754878--104.9925866-315.jpg  \n",
            "  inflating: __MACOSX/effiDetTrainNewLabelV1/train/._39.74754878--104.9925866-315.jpg  \n",
            "  inflating: effiDetTrainNewLabelV1/train/39.74819037--105.00412209999999-315.jpg  \n",
            "  inflating: __MACOSX/effiDetTrainNewLabelV1/train/._39.74819037--105.00412209999999-315.jpg  \n",
            "  inflating: effiDetTrainNewLabelV1/train/39.74773069--105.00233020000002-135.jpg  \n",
            "  inflating: __MACOSX/effiDetTrainNewLabelV1/train/._39.74773069--105.00233020000002-135.jpg  \n",
            "  inflating: effiDetTrainNewLabelV1/train/39.74200636--104.98763170000001-135.jpg  \n",
            "  inflating: __MACOSX/effiDetTrainNewLabelV1/train/._39.74200636--104.98763170000001-135.jpg  \n",
            "  inflating: effiDetTrainNewLabelV1/train/39.74120178--104.9987295-135.jpg  \n",
            "  inflating: __MACOSX/effiDetTrainNewLabelV1/train/._39.74120178--104.9987295-135.jpg  \n",
            "  inflating: effiDetTrainNewLabelV1/train/39.7553256--104.97555459999998-135.jpg  \n",
            "  inflating: __MACOSX/effiDetTrainNewLabelV1/train/._39.7553256--104.97555459999998-135.jpg  \n",
            "  inflating: effiDetTrainNewLabelV1/train/39.7475472--104.98477849999999-135.jpg  \n",
            "  inflating: __MACOSX/effiDetTrainNewLabelV1/train/._39.7475472--104.98477849999999-135.jpg  \n",
            "  inflating: effiDetTrainNewLabelV1/train/39.74348973--104.9926366-315.jpg  \n",
            "  inflating: __MACOSX/effiDetTrainNewLabelV1/train/._39.74348973--104.9926366-315.jpg  \n",
            "  inflating: effiDetTrainNewLabelV1/train/39.74820381--104.9791782-135.jpg  \n",
            "  inflating: __MACOSX/effiDetTrainNewLabelV1/train/._39.74820381--104.9791782-135.jpg  \n",
            "  inflating: effiDetTrainNewLabelV1/train/39.7492102--104.99742479999999-315.jpg  \n",
            "  inflating: __MACOSX/effiDetTrainNewLabelV1/train/._39.7492102--104.99742479999999-315.jpg  \n",
            "  inflating: effiDetTrainNewLabelV1/train/39.74237021--104.9923509-135.jpg  \n",
            "  inflating: __MACOSX/effiDetTrainNewLabelV1/train/._39.74237021--104.9923509-135.jpg  \n",
            "  inflating: effiDetTrainNewLabelV1/train/39.7613808--104.98517079999999-135.jpg  \n",
            "  inflating: __MACOSX/effiDetTrainNewLabelV1/train/._39.7613808--104.98517079999999-135.jpg  \n",
            "  inflating: effiDetTrainNewLabelV1/train/39.74199138--104.99457199999999-135.jpg  \n",
            "  inflating: __MACOSX/effiDetTrainNewLabelV1/train/._39.74199138--104.99457199999999-135.jpg  \n",
            "  inflating: effiDetTrainNewLabelV1/train/39.74531881--104.9955029-315.jpg  \n",
            "  inflating: __MACOSX/effiDetTrainNewLabelV1/train/._39.74531881--104.9955029-315.jpg  \n",
            "  inflating: effiDetTrainNewLabelV1/train/39.74034296--104.9967007-135.jpg  \n",
            "  inflating: __MACOSX/effiDetTrainNewLabelV1/train/._39.74034296--104.9967007-135.jpg  \n",
            "  inflating: effiDetTrainNewLabelV1/train/39.761994--104.91301770000001-135.jpg  \n",
            "  inflating: __MACOSX/effiDetTrainNewLabelV1/train/._39.761994--104.91301770000001-135.jpg  \n",
            "  inflating: effiDetTrainNewLabelV1/train/39.74521215--104.9886699-135.jpg  \n",
            "  inflating: __MACOSX/effiDetTrainNewLabelV1/train/._39.74521215--104.9886699-135.jpg  \n",
            "  inflating: effiDetTrainNewLabelV1/train/39.74315655--104.99974250000001-135.jpg  \n",
            "  inflating: __MACOSX/effiDetTrainNewLabelV1/train/._39.74315655--104.99974250000001-135.jpg  \n",
            "  inflating: effiDetTrainNewLabelV1/train/39.74438166--104.99324159999999-135.jpg  \n",
            "  inflating: __MACOSX/effiDetTrainNewLabelV1/train/._39.74438166--104.99324159999999-135.jpg  \n",
            "  inflating: effiDetTrainNewLabelV1/train/39.74754557--104.9850232-135.jpg  \n",
            "  inflating: __MACOSX/effiDetTrainNewLabelV1/train/._39.74754557--104.9850232-135.jpg  \n",
            "  inflating: effiDetTrainNewLabelV1/train/39.7489604--104.97891609999998-315.jpg  \n",
            "  inflating: __MACOSX/effiDetTrainNewLabelV1/train/._39.7489604--104.97891609999998-315.jpg  \n",
            "  inflating: effiDetTrainNewLabelV1/train/39.755711--104.97687920000001-315.jpg  \n",
            "  inflating: __MACOSX/effiDetTrainNewLabelV1/train/._39.755711--104.97687920000001-315.jpg  \n",
            "  inflating: effiDetTrainNewLabelV1/train/39.74311813--104.99138219999999-135.jpg  \n",
            "  inflating: __MACOSX/effiDetTrainNewLabelV1/train/._39.74311813--104.99138219999999-135.jpg  \n",
            "  inflating: effiDetTrainNewLabelV1/train/39.7470679--105.00130159999998-135.jpg  \n",
            "  inflating: __MACOSX/effiDetTrainNewLabelV1/train/._39.7470679--105.00130159999998-135.jpg  \n",
            "  inflating: effiDetTrainNewLabelV1/train/39.74603319--104.98934369999999-315.jpg  \n",
            "  inflating: __MACOSX/effiDetTrainNewLabelV1/train/._39.74603319--104.98934369999999-315.jpg  \n",
            "  inflating: effiDetTrainNewLabelV1/train/39.74801293--104.9937751-135.jpg  \n",
            "  inflating: __MACOSX/effiDetTrainNewLabelV1/train/._39.74801293--104.9937751-135.jpg  \n",
            "  inflating: effiDetTrainNewLabelV1/train/39.74811856--104.98839709999999-315.jpg  \n",
            "  inflating: __MACOSX/effiDetTrainNewLabelV1/train/._39.74811856--104.98839709999999-315.jpg  \n",
            "  inflating: effiDetTrainNewLabelV1/train/39.74153849--104.98819669999999-315.jpg  \n",
            "  inflating: __MACOSX/effiDetTrainNewLabelV1/train/._39.74153849--104.98819669999999-315.jpg  \n",
            "  inflating: effiDetTrainNewLabelV1/train/39.74839094--104.9949879-135.jpg  \n",
            "  inflating: __MACOSX/effiDetTrainNewLabelV1/train/._39.74839094--104.9949879-135.jpg  \n",
            "  inflating: effiDetTrainNewLabelV1/train/39.74576857--104.99492250000002-315.jpg  \n",
            "  inflating: __MACOSX/effiDetTrainNewLabelV1/train/._39.74576857--104.99492250000002-315.jpg  \n",
            "  inflating: effiDetTrainNewLabelV1/train/39.74150183--104.99173619999999-135.jpg  \n",
            "  inflating: __MACOSX/effiDetTrainNewLabelV1/train/._39.74150183--104.99173619999999-135.jpg  \n",
            "  inflating: effiDetTrainNewLabelV1/train/39.74441013--104.99665630000001-315.jpg  \n",
            "  inflating: __MACOSX/effiDetTrainNewLabelV1/train/._39.74441013--104.99665630000001-315.jpg  \n",
            "  inflating: effiDetTrainNewLabelV1/train/39.7475381--104.980373-315.jpg  \n",
            "  inflating: __MACOSX/effiDetTrainNewLabelV1/train/._39.7475381--104.980373-315.jpg  \n",
            "  inflating: effiDetTrainNewLabelV1/train/39.74165204--104.991543-315.jpg  \n",
            "  inflating: __MACOSX/effiDetTrainNewLabelV1/train/._39.74165204--104.991543-315.jpg  \n",
            "  inflating: effiDetTrainNewLabelV1/train/39.74135215--104.99192990000002-315.jpg  \n",
            "  inflating: __MACOSX/effiDetTrainNewLabelV1/train/._39.74135215--104.99192990000002-315.jpg  \n",
            "  inflating: effiDetTrainNewLabelV1/train/39.74661249--104.999027-135.jpg  \n",
            "  inflating: __MACOSX/effiDetTrainNewLabelV1/train/._39.74661249--104.999027-135.jpg  \n",
            "  inflating: effiDetTrainNewLabelV1/train/39.7576433--104.9882775-315.jpg  \n",
            "  inflating: __MACOSX/effiDetTrainNewLabelV1/train/._39.7576433--104.9882775-315.jpg  \n",
            "  inflating: effiDetTrainNewLabelV1/train/39.74061978--104.9893416-315.jpg  \n",
            "  inflating: __MACOSX/effiDetTrainNewLabelV1/train/._39.74061978--104.9893416-315.jpg  \n",
            "  inflating: effiDetTrainNewLabelV1/train/39.74528706--104.99208540000001-315.jpg  \n",
            "  inflating: __MACOSX/effiDetTrainNewLabelV1/train/._39.74528706--104.99208540000001-315.jpg  \n",
            "  inflating: effiDetTrainNewLabelV1/train/39.74573101--104.9897288-315.jpg  \n",
            "  inflating: __MACOSX/effiDetTrainNewLabelV1/train/._39.74573101--104.9897288-315.jpg  \n",
            "  inflating: effiDetTrainNewLabelV1/train/39.7520526--104.9937445-135.jpg  \n",
            "  inflating: __MACOSX/effiDetTrainNewLabelV1/train/._39.7520526--104.9937445-135.jpg  \n",
            "  inflating: effiDetTrainNewLabelV1/train/39.74868345--105.0018953-315.jpg  \n",
            "  inflating: __MACOSX/effiDetTrainNewLabelV1/train/._39.74868345--105.0018953-315.jpg  \n",
            "  inflating: effiDetTrainNewLabelV1/train/39.7534506--104.9874006-135.jpg  \n",
            "  inflating: __MACOSX/effiDetTrainNewLabelV1/train/._39.7534506--104.9874006-135.jpg  \n",
            "  inflating: effiDetTrainNewLabelV1/train/39.74329958--104.98941359999999-315.jpg  \n",
            "  inflating: __MACOSX/effiDetTrainNewLabelV1/train/._39.74329958--104.98941359999999-315.jpg  \n",
            "  inflating: effiDetTrainNewLabelV1/train/39.7560927--104.981558-135.jpg  \n",
            "  inflating: __MACOSX/effiDetTrainNewLabelV1/train/._39.7560927--104.981558-135.jpg  \n",
            "  inflating: effiDetTrainNewLabelV1/train/39.74816842--104.99878490000002-315.jpg  \n",
            "  inflating: __MACOSX/effiDetTrainNewLabelV1/train/._39.74816842--104.99878490000002-315.jpg  \n",
            "  inflating: effiDetTrainNewLabelV1/train/39.7529422--104.9838892-135.jpg  \n",
            "  inflating: __MACOSX/effiDetTrainNewLabelV1/train/._39.7529422--104.9838892-135.jpg  \n",
            "  inflating: effiDetTrainNewLabelV1/train/39.74762268--105.0027104-135.jpg  \n",
            "  inflating: __MACOSX/effiDetTrainNewLabelV1/train/._39.74762268--105.0027104-135.jpg  \n",
            "  inflating: effiDetTrainNewLabelV1/train/39.7437114--104.9906034-315.jpg  \n",
            "  inflating: __MACOSX/effiDetTrainNewLabelV1/train/._39.7437114--104.9906034-315.jpg  \n",
            "  inflating: effiDetTrainNewLabelV1/train/39.74830839--104.99162709999999-315.jpg  \n",
            "  inflating: __MACOSX/effiDetTrainNewLabelV1/train/._39.74830839--104.99162709999999-315.jpg  \n",
            "  inflating: effiDetTrainNewLabelV1/train/39.74124138--104.995539-135.jpg  \n",
            "  inflating: __MACOSX/effiDetTrainNewLabelV1/train/._39.74124138--104.995539-135.jpg  \n",
            "  inflating: effiDetTrainNewLabelV1/train/39.7668885--104.9745868-135.jpg  \n",
            "  inflating: __MACOSX/effiDetTrainNewLabelV1/train/._39.7668885--104.9745868-135.jpg  \n",
            "  inflating: effiDetTrainNewLabelV1/train/39.74861715--105.0031575-315.jpg  \n",
            "  inflating: __MACOSX/effiDetTrainNewLabelV1/train/._39.74861715--105.0031575-315.jpg  \n",
            "  inflating: effiDetTrainNewLabelV1/train/39.74855606--104.9873977-135.jpg  \n",
            "  inflating: __MACOSX/effiDetTrainNewLabelV1/train/._39.74855606--104.9873977-135.jpg  \n",
            "  inflating: effiDetTrainNewLabelV1/train/39.74259001--104.9937973-135.jpg  \n",
            "  inflating: __MACOSX/effiDetTrainNewLabelV1/train/._39.74259001--104.9937973-135.jpg  \n",
            "  inflating: effiDetTrainNewLabelV1/train/39.74438606--104.99147340000002-315.jpg  \n",
            "  inflating: __MACOSX/effiDetTrainNewLabelV1/train/._39.74438606--104.99147340000002-315.jpg  \n",
            "  inflating: effiDetTrainNewLabelV1/train/39.74419684--105.0004051-315.jpg  \n",
            "  inflating: __MACOSX/effiDetTrainNewLabelV1/train/._39.74419684--105.0004051-315.jpg  \n",
            "  inflating: effiDetTrainNewLabelV1/train/39.74091458--104.99075459999999-135.jpg  \n",
            "  inflating: __MACOSX/effiDetTrainNewLabelV1/train/._39.74091458--104.99075459999999-135.jpg  \n",
            "  inflating: effiDetTrainNewLabelV1/train/39.74620948--104.99260509999999-135.jpg  \n",
            "  inflating: __MACOSX/effiDetTrainNewLabelV1/train/._39.74620948--104.99260509999999-135.jpg  \n",
            "  inflating: effiDetTrainNewLabelV1/train/39.756399--104.988133-135.jpg  \n",
            "  inflating: __MACOSX/effiDetTrainNewLabelV1/train/._39.756399--104.988133-135.jpg  \n",
            "  inflating: effiDetTrainNewLabelV1/train/39.74830589--104.98989540000001-135.jpg  \n",
            "  inflating: __MACOSX/effiDetTrainNewLabelV1/train/._39.74830589--104.98989540000001-135.jpg  \n",
            "  inflating: effiDetTrainNewLabelV1/train/39.74845442--104.9897009-135.jpg  \n",
            "  inflating: __MACOSX/effiDetTrainNewLabelV1/train/._39.74845442--104.9897009-135.jpg  \n",
            "  inflating: effiDetTrainNewLabelV1/train/39.7522352--104.9844118-315.jpg  \n",
            "  inflating: __MACOSX/effiDetTrainNewLabelV1/train/._39.7522352--104.9844118-315.jpg  \n",
            "  inflating: effiDetTrainNewLabelV1/train/39.74618427--104.9891511-135.jpg  \n",
            "  inflating: __MACOSX/effiDetTrainNewLabelV1/train/._39.74618427--104.9891511-135.jpg  \n",
            "  inflating: effiDetTrainNewLabelV1/train/39.71851804--104.98623719999999-135.jpg  \n",
            "  inflating: __MACOSX/effiDetTrainNewLabelV1/train/._39.71851804--104.98623719999999-135.jpg  \n",
            "  inflating: effiDetTrainNewLabelV1/train/39.7476907--105.0036811-135.jpg  \n",
            "  inflating: __MACOSX/effiDetTrainNewLabelV1/train/._39.7476907--105.0036811-135.jpg  \n",
            "  inflating: effiDetTrainNewLabelV1/train/39.74524508--104.9990513-315.jpg  \n",
            "  inflating: __MACOSX/effiDetTrainNewLabelV1/train/._39.74524508--104.9990513-315.jpg  \n",
            "  inflating: effiDetTrainNewLabelV1/train/39.74755556--104.98428899999999-315.jpg  \n",
            "  inflating: __MACOSX/effiDetTrainNewLabelV1/train/._39.74755556--104.98428899999999-315.jpg  \n",
            "  inflating: effiDetTrainNewLabelV1/train/39.74419284--104.988248-135.jpg  \n",
            "  inflating: __MACOSX/effiDetTrainNewLabelV1/train/._39.74419284--104.988248-135.jpg  \n",
            "  inflating: effiDetTrainNewLabelV1/train/39.74840484--104.9862669-135.jpg  \n",
            "  inflating: __MACOSX/effiDetTrainNewLabelV1/train/._39.74840484--104.9862669-135.jpg  \n",
            "  inflating: effiDetTrainNewLabelV1/train/39.7485469--105.0028643-315.jpg  \n",
            "  inflating: __MACOSX/effiDetTrainNewLabelV1/train/._39.7485469--105.0028643-315.jpg  \n",
            "  inflating: effiDetTrainNewLabelV1/train/39.7483113--104.9873982-135.jpg  \n",
            "  inflating: __MACOSX/effiDetTrainNewLabelV1/train/._39.7483113--104.9873982-135.jpg  \n",
            "  inflating: effiDetTrainNewLabelV1/train/39.74752979--104.9789045-135.jpg  \n",
            "  inflating: __MACOSX/effiDetTrainNewLabelV1/train/._39.74752979--104.9789045-135.jpg  \n",
            "  inflating: effiDetTrainNewLabelV1/train/39.74077197--104.99849520000001-315.jpg  \n",
            "  inflating: __MACOSX/effiDetTrainNewLabelV1/train/._39.74077197--104.99849520000001-315.jpg  \n",
            "  inflating: effiDetTrainNewLabelV1/train/39.74696783--105.00033049999999-315.jpg  \n",
            "  inflating: __MACOSX/effiDetTrainNewLabelV1/train/._39.74696783--105.00033049999999-315.jpg  \n",
            "  inflating: effiDetTrainNewLabelV1/train/39.74146994--104.9935111-315.jpg  \n",
            "  inflating: __MACOSX/effiDetTrainNewLabelV1/train/._39.74146994--104.9935111-315.jpg  \n",
            "  inflating: effiDetTrainNewLabelV1/train/39.74542995--104.9901148-135.jpg  \n",
            "  inflating: __MACOSX/effiDetTrainNewLabelV1/train/._39.74542995--104.9901148-135.jpg  \n",
            "  inflating: effiDetTrainNewLabelV1/train/39.74738662--104.98610649999999-135.jpg  \n",
            "  inflating: __MACOSX/effiDetTrainNewLabelV1/train/._39.74738662--104.98610649999999-135.jpg  \n",
            "  inflating: effiDetTrainNewLabelV1/train/39.74604351--104.9962741-315.jpg  \n",
            "  inflating: __MACOSX/effiDetTrainNewLabelV1/train/._39.74604351--104.9962741-315.jpg  \n",
            "  inflating: effiDetTrainNewLabelV1/train/39.74137957--104.9989064-315.jpg  \n",
            "  inflating: __MACOSX/effiDetTrainNewLabelV1/train/._39.74137957--104.9989064-315.jpg  \n",
            "  inflating: effiDetTrainNewLabelV1/train/39.761996--104.9154653-315.jpg  \n",
            "  inflating: __MACOSX/effiDetTrainNewLabelV1/train/._39.761996--104.9154653-315.jpg  \n",
            "  inflating: effiDetTrainNewLabelV1/train/39.71802853--104.9862389-135.jpg  \n",
            "  inflating: __MACOSX/effiDetTrainNewLabelV1/train/._39.71802853--104.9862389-135.jpg  \n",
            "  inflating: effiDetTrainNewLabelV1/train/39.74693329--105.00109750000001-315.jpg  \n",
            "  inflating: __MACOSX/effiDetTrainNewLabelV1/train/._39.74693329--105.00109750000001-315.jpg  \n",
            "  inflating: effiDetTrainNewLabelV1/train/39.74326981--104.9876294-135.jpg  \n",
            "  inflating: __MACOSX/effiDetTrainNewLabelV1/train/._39.74326981--104.9876294-135.jpg  \n",
            "  inflating: effiDetTrainNewLabelV1/train/39.74710891--105.0001305-315.jpg  \n",
            "  inflating: __MACOSX/effiDetTrainNewLabelV1/train/._39.74710891--105.0001305-315.jpg  \n",
            "  inflating: effiDetTrainNewLabelV1/train/39.74773578--104.98698020000002-315.jpg  \n",
            "  inflating: __MACOSX/effiDetTrainNewLabelV1/train/._39.74773578--104.98698020000002-315.jpg  \n",
            "  inflating: effiDetTrainNewLabelV1/train/39.74714072--104.98773179999999-135.jpg  \n",
            "  inflating: __MACOSX/effiDetTrainNewLabelV1/train/._39.74714072--104.98773179999999-135.jpg  \n",
            "  inflating: effiDetTrainNewLabelV1/train/39.74843364--104.9827572-135.jpg  \n",
            "  inflating: __MACOSX/effiDetTrainNewLabelV1/train/._39.74843364--104.9827572-135.jpg  \n",
            "  inflating: effiDetTrainNewLabelV1/train/39.74725007--104.99993049999999-135.jpg  \n",
            "  inflating: __MACOSX/effiDetTrainNewLabelV1/train/._39.74725007--104.99993049999999-135.jpg  \n",
            "  inflating: effiDetTrainNewLabelV1/train/39.7404924--104.99650690000001-315.jpg  \n",
            "  inflating: __MACOSX/effiDetTrainNewLabelV1/train/._39.7404924--104.99650690000001-315.jpg  \n",
            "  inflating: effiDetTrainNewLabelV1/train/39.74871516--104.98588829999998-135.jpg  \n",
            "  inflating: __MACOSX/effiDetTrainNewLabelV1/train/._39.74871516--104.98588829999998-135.jpg  \n",
            "  inflating: effiDetTrainNewLabelV1/train/39.7687092--104.9733447-315.jpg  \n",
            "  inflating: __MACOSX/effiDetTrainNewLabelV1/train/._39.7687092--104.9733447-315.jpg  \n",
            "  inflating: effiDetTrainNewLabelV1/train/39.74719963--105.00150790000002-315.jpg  \n",
            "  inflating: __MACOSX/effiDetTrainNewLabelV1/train/._39.74719963--105.00150790000002-315.jpg  \n",
            "  inflating: effiDetTrainNewLabelV1/train/39.7619914--104.91913659999999-315.jpg  \n",
            "  inflating: __MACOSX/effiDetTrainNewLabelV1/train/._39.7619914--104.91913659999999-315.jpg  \n",
            "  inflating: effiDetTrainNewLabelV1/train/39.74780894--104.99577509999999-315.jpg  \n",
            "  inflating: __MACOSX/effiDetTrainNewLabelV1/train/._39.74780894--104.99577509999999-315.jpg  \n",
            "  inflating: effiDetTrainNewLabelV1/train/39.7521883--104.9883408-315.jpg  \n",
            "  inflating: __MACOSX/effiDetTrainNewLabelV1/train/._39.7521883--104.9883408-315.jpg  \n",
            "  inflating: effiDetTrainNewLabelV1/train/39.74229905--104.99935459999999-315.jpg  \n",
            "  inflating: __MACOSX/effiDetTrainNewLabelV1/train/._39.74229905--104.99935459999999-315.jpg  \n",
            "  inflating: effiDetTrainNewLabelV1/train/39.74076515--104.99094850000002-135.jpg  \n",
            "  inflating: __MACOSX/effiDetTrainNewLabelV1/train/._39.74076515--104.99094850000002-135.jpg  \n",
            "  inflating: effiDetTrainNewLabelV1/train/39.74770052--104.983737-135.jpg  \n",
            "  inflating: __MACOSX/effiDetTrainNewLabelV1/train/._39.74770052--104.983737-135.jpg  \n",
            "  inflating: effiDetTrainNewLabelV1/train/39.74651237--105.0011943-315.jpg  \n",
            "  inflating: __MACOSX/effiDetTrainNewLabelV1/train/._39.74651237--105.0011943-315.jpg  \n",
            "  inflating: effiDetTrainNewLabelV1/train/39.74759617--105.0029537-315.jpg  \n",
            "  inflating: __MACOSX/effiDetTrainNewLabelV1/train/._39.74759617--105.0029537-315.jpg  \n",
            "  inflating: effiDetTrainNewLabelV1/train/39.74721042--104.99825179999999-315.jpg  \n",
            "  inflating: __MACOSX/effiDetTrainNewLabelV1/train/._39.74721042--104.99825179999999-315.jpg  \n",
            "  inflating: effiDetTrainNewLabelV1/train/39.74688117--104.98814679999998-135.jpg  \n",
            "  inflating: __MACOSX/effiDetTrainNewLabelV1/train/._39.74688117--104.98814679999998-135.jpg  \n",
            "  inflating: effiDetTrainNewLabelV1/train/39.74410422--104.9999686-315.jpg  \n",
            "  inflating: __MACOSX/effiDetTrainNewLabelV1/train/._39.74410422--104.9999686-315.jpg  \n",
            "  inflating: effiDetTrainNewLabelV1/train/39.7407243--104.99448149999999-135.jpg  \n",
            "  inflating: __MACOSX/effiDetTrainNewLabelV1/train/._39.7407243--104.99448149999999-135.jpg  \n",
            "  inflating: effiDetTrainNewLabelV1/train/39.74841052--104.99670459999999-315.jpg  \n",
            "  inflating: __MACOSX/effiDetTrainNewLabelV1/train/._39.74841052--104.99670459999999-315.jpg  \n",
            "  inflating: effiDetTrainNewLabelV1/train/39.74483372--105.0000519-315.jpg  \n",
            "  inflating: __MACOSX/effiDetTrainNewLabelV1/train/._39.74483372--105.0000519-315.jpg  \n",
            "  inflating: effiDetTrainNewLabelV1/train/39.74739728--104.99973519999999-135.jpg  \n",
            "  inflating: __MACOSX/effiDetTrainNewLabelV1/train/._39.74739728--104.99973519999999-135.jpg  \n",
            "  inflating: effiDetTrainNewLabelV1/train/39.74781876--104.9887841-135.jpg  \n",
            "  inflating: __MACOSX/effiDetTrainNewLabelV1/train/._39.74781876--104.9887841-135.jpg  \n",
            "  inflating: effiDetTrainNewLabelV1/train/39.74472057--104.99627790000001-135.jpg  \n",
            "  inflating: __MACOSX/effiDetTrainNewLabelV1/train/._39.74472057--104.99627790000001-135.jpg  \n",
            "  inflating: effiDetTrainNewLabelV1/train/39.7670382--104.97439309999999-135.jpg  \n",
            "  inflating: __MACOSX/effiDetTrainNewLabelV1/train/._39.7670382--104.97439309999999-135.jpg  \n",
            "  inflating: effiDetTrainNewLabelV1/train/39.74334949--104.987398-135.jpg  \n",
            "  inflating: __MACOSX/effiDetTrainNewLabelV1/train/._39.74334949--104.987398-135.jpg  \n",
            "  inflating: effiDetTrainNewLabelV1/train/39.74579765--105.0001797-135.jpg  \n",
            "  inflating: __MACOSX/effiDetTrainNewLabelV1/train/._39.74579765--105.0001797-135.jpg  \n",
            "  inflating: effiDetTrainNewLabelV1/train/39.74285101--104.9899949-135.jpg  \n",
            "  inflating: __MACOSX/effiDetTrainNewLabelV1/train/._39.74285101--104.9899949-135.jpg  \n",
            "  inflating: effiDetTrainNewLabelV1/train/39.74619685--104.9960834-315.jpg  \n",
            "  inflating: __MACOSX/effiDetTrainNewLabelV1/train/._39.74619685--104.9960834-315.jpg  \n",
            "  inflating: effiDetTrainNewLabelV1/train/39.74845936--104.9914345-135.jpg  \n",
            "  inflating: __MACOSX/effiDetTrainNewLabelV1/train/._39.74845936--104.9914345-135.jpg  \n",
            "  inflating: effiDetTrainNewLabelV1/train/39.74737665--104.9893703-135.jpg  \n",
            "  inflating: __MACOSX/effiDetTrainNewLabelV1/train/._39.74737665--104.9893703-135.jpg  \n",
            "  inflating: effiDetTrainNewLabelV1/train/39.74746311--105.00192050000001-315.jpg  \n",
            "  inflating: __MACOSX/effiDetTrainNewLabelV1/train/._39.74746311--105.00192050000001-315.jpg  \n",
            "  inflating: effiDetTrainNewLabelV1/train/39.7510441--104.9828578-315.jpg  \n",
            "  inflating: __MACOSX/effiDetTrainNewLabelV1/train/._39.7510441--104.9828578-315.jpg  \n",
            "  inflating: effiDetTrainNewLabelV1/train/39.74240262--104.9905764-135.jpg  \n",
            "  inflating: __MACOSX/effiDetTrainNewLabelV1/train/._39.74240262--104.9905764-135.jpg  \n",
            "  inflating: effiDetTrainNewLabelV1/train/39.7619768--104.90469640000002-315.jpg  \n",
            "  inflating: __MACOSX/effiDetTrainNewLabelV1/train/._39.7619768--104.90469640000002-315.jpg  \n",
            "  inflating: effiDetTrainNewLabelV1/train/39.74824969--104.98645619999999-315.jpg  \n",
            "  inflating: __MACOSX/effiDetTrainNewLabelV1/train/._39.74824969--104.98645619999999-315.jpg  \n",
            "  inflating: effiDetTrainNewLabelV1/train/39.74214084--104.99437820000001-315.jpg  \n",
            "  inflating: __MACOSX/effiDetTrainNewLabelV1/train/._39.74214084--104.99437820000001-315.jpg  \n",
            "  inflating: effiDetTrainNewLabelV1/train/39.74509999--104.99924850000001-315.jpg  \n",
            "  inflating: __MACOSX/effiDetTrainNewLabelV1/train/._39.74509999--104.99924850000001-315.jpg  \n",
            "  inflating: effiDetTrainNewLabelV1/train/39.74409843--104.9970338-135.jpg  \n",
            "  inflating: __MACOSX/effiDetTrainNewLabelV1/train/._39.74409843--104.9970338-135.jpg  \n",
            "  inflating: effiDetTrainNewLabelV1/train/39.74555728--105.0003763-135.jpg  \n",
            "  inflating: __MACOSX/effiDetTrainNewLabelV1/train/._39.74555728--105.0003763-135.jpg  \n",
            "  inflating: effiDetTrainNewLabelV1/train/39.74842645--105.0030124-135.jpg  \n",
            "  inflating: __MACOSX/effiDetTrainNewLabelV1/train/._39.74842645--105.0030124-135.jpg  \n",
            "  inflating: effiDetTrainNewLabelV1/train/39.74274013--104.993604-135.jpg  \n",
            "  inflating: __MACOSX/effiDetTrainNewLabelV1/train/._39.74274013--104.993604-135.jpg  \n",
            "  inflating: effiDetTrainNewLabelV1/train/39.74139132--104.99534560000001-135.jpg  \n",
            "  inflating: __MACOSX/effiDetTrainNewLabelV1/train/._39.74139132--104.99534560000001-135.jpg  \n",
            "  inflating: effiDetTrainNewLabelV1/train/39.7684185--104.9760713-315.jpg  \n",
            "  inflating: __MACOSX/effiDetTrainNewLabelV1/train/._39.7684185--104.9760713-315.jpg  \n",
            "  inflating: effiDetTrainNewLabelV1/train/39.74754065--104.9806178-315.jpg  \n",
            "  inflating: __MACOSX/effiDetTrainNewLabelV1/train/._39.74754065--104.9806178-315.jpg  \n",
            "  inflating: effiDetTrainNewLabelV1/train/39.74767131--104.9889794-135.jpg  \n",
            "  inflating: __MACOSX/effiDetTrainNewLabelV1/train/._39.74767131--104.9889794-135.jpg  \n",
            "  inflating: effiDetTrainNewLabelV1/train/39.74606927--104.9945362-315.jpg  \n",
            "  inflating: __MACOSX/effiDetTrainNewLabelV1/train/._39.74606927--104.9945362-315.jpg  \n",
            "  inflating: effiDetTrainNewLabelV1/train/39.74845947--104.9931922-315.jpg  \n",
            "  inflating: __MACOSX/effiDetTrainNewLabelV1/train/._39.74845947--104.9931922-315.jpg  \n",
            "  inflating: effiDetTrainNewLabelV1/train/39.753081--104.98717479999999-315.jpg  \n",
            "  inflating: __MACOSX/effiDetTrainNewLabelV1/train/._39.753081--104.98717479999999-315.jpg  \n",
            "  inflating: effiDetTrainNewLabelV1/train/39.71949708--104.9862368-315.jpg  \n",
            "  inflating: __MACOSX/effiDetTrainNewLabelV1/train/._39.71949708--104.9862368-315.jpg  \n",
            "  inflating: effiDetTrainNewLabelV1/train/39.74800883--104.9902845-135.jpg  \n",
            "  inflating: __MACOSX/effiDetTrainNewLabelV1/train/._39.74800883--104.9902845-135.jpg  \n",
            "  inflating: effiDetTrainNewLabelV1/train/39.74476146--104.98924960000001-135.jpg  \n",
            "  inflating: __MACOSX/effiDetTrainNewLabelV1/train/._39.74476146--104.98924960000001-135.jpg  \n",
            "  inflating: effiDetTrainNewLabelV1/train/39.74720064--104.99654220000001-135.jpg  \n",
            "  inflating: __MACOSX/effiDetTrainNewLabelV1/train/._39.74720064--104.99654220000001-135.jpg  \n",
            "  inflating: effiDetTrainNewLabelV1/train/39.74487002--104.9960841-135.jpg  \n",
            "  inflating: __MACOSX/effiDetTrainNewLabelV1/train/._39.74487002--104.9960841-135.jpg  \n",
            "  inflating: effiDetTrainNewLabelV1/train/39.74479124--104.98747309999999-135.jpg  \n",
            "  inflating: __MACOSX/effiDetTrainNewLabelV1/train/._39.74479124--104.98747309999999-135.jpg  \n",
            "  inflating: effiDetTrainNewLabelV1/train/39.7569096--104.97533100000001-135.jpg  \n",
            "  inflating: __MACOSX/effiDetTrainNewLabelV1/train/._39.7569096--104.97533100000001-135.jpg  \n",
            "  inflating: effiDetTrainNewLabelV1/train/39.74652119--104.9939575-315.jpg  \n",
            "  inflating: __MACOSX/effiDetTrainNewLabelV1/train/._39.74652119--104.9939575-315.jpg  \n",
            "  inflating: effiDetTrainNewLabelV1/train/39.74483326--104.99089099999999-135.jpg  \n",
            "  inflating: __MACOSX/effiDetTrainNewLabelV1/train/._39.74483326--104.99089099999999-135.jpg  \n",
            "  inflating: effiDetTrainNewLabelV1/train/39.74120209--104.99212320000001-315.jpg  \n",
            "  inflating: __MACOSX/effiDetTrainNewLabelV1/train/._39.74120209--104.99212320000001-315.jpg  \n",
            "  inflating: effiDetTrainNewLabelV1/train/39.74241666--104.9888222-315.jpg  \n",
            "  inflating: __MACOSX/effiDetTrainNewLabelV1/train/._39.74241666--104.9888222-315.jpg  \n",
            "  inflating: effiDetTrainNewLabelV1/train/39.74589078--104.9964654-135.jpg  \n",
            "  inflating: __MACOSX/effiDetTrainNewLabelV1/train/._39.74589078--104.9964654-135.jpg  \n",
            "  inflating: effiDetTrainNewLabelV1/train/39.74289207--104.9985757-315.jpg  \n",
            "  inflating: __MACOSX/effiDetTrainNewLabelV1/train/._39.74289207--104.9985757-315.jpg  \n",
            "  inflating: effiDetTrainNewLabelV1/train/39.75789--104.98619209999998-315.jpg  \n",
            "  inflating: __MACOSX/effiDetTrainNewLabelV1/train/._39.75789--104.98619209999998-315.jpg  \n",
            "  inflating: effiDetTrainNewLabelV1/train/39.74681319--104.9935646-135.jpg  \n",
            "  inflating: __MACOSX/effiDetTrainNewLabelV1/train/._39.74681319--104.9935646-135.jpg  \n",
            "  inflating: effiDetTrainNewLabelV1/train/39.73975301--104.997821-135.jpg  \n",
            "  inflating: __MACOSX/effiDetTrainNewLabelV1/train/._39.73975301--104.997821-135.jpg  \n",
            "  inflating: effiDetTrainNewLabelV1/train/39.74512953--104.987407-135.jpg  \n",
            "  inflating: __MACOSX/effiDetTrainNewLabelV1/train/._39.74512953--104.987407-135.jpg  \n",
            "  inflating: effiDetTrainNewLabelV1/train/39.74815736--104.9900899-315.jpg  \n",
            "  inflating: __MACOSX/effiDetTrainNewLabelV1/train/._39.74815736--104.9900899-315.jpg  \n",
            "  inflating: effiDetTrainNewLabelV1/train/39.74762098--105.0031972-315.jpg  \n",
            "  inflating: __MACOSX/effiDetTrainNewLabelV1/train/._39.74762098--105.0031972-315.jpg  \n",
            "  inflating: effiDetTrainNewLabelV1/train/39.7458821--104.9895362-315.jpg  \n",
            "  inflating: __MACOSX/effiDetTrainNewLabelV1/train/._39.7458821--104.9895362-315.jpg  \n",
            "  inflating: effiDetTrainNewLabelV1/train/39.74293187--104.99964550000001-135.jpg  \n",
            "  inflating: __MACOSX/effiDetTrainNewLabelV1/train/._39.74293187--104.99964550000001-135.jpg  \n",
            "  inflating: effiDetTrainNewLabelV1/train/39.74826019--104.99689769999999-315.jpg  \n",
            "  inflating: __MACOSX/effiDetTrainNewLabelV1/train/._39.74826019--104.99689769999999-315.jpg  \n",
            "  inflating: effiDetTrainNewLabelV1/train/39.74440246--104.99492-315.jpg  \n",
            "  inflating: __MACOSX/effiDetTrainNewLabelV1/train/._39.74440246--104.99492-315.jpg  \n",
            "  inflating: effiDetTrainNewLabelV1/train/39.74501962--104.99589040000001-135.jpg  \n",
            "  inflating: __MACOSX/effiDetTrainNewLabelV1/train/._39.74501962--104.99589040000001-135.jpg  \n",
            "  inflating: effiDetTrainNewLabelV1/train/39.74755472--104.9837996-135.jpg  \n",
            "  inflating: __MACOSX/effiDetTrainNewLabelV1/train/._39.74755472--104.9837996-135.jpg  \n",
            "  inflating: effiDetTrainNewLabelV1/train/39.74154139--104.9951522-135.jpg  \n",
            "  inflating: __MACOSX/effiDetTrainNewLabelV1/train/._39.74154139--104.9951522-135.jpg  \n",
            "  inflating: effiDetTrainNewLabelV1/train/39.74868071--104.99459340000001-315.jpg  \n",
            "  inflating: __MACOSX/effiDetTrainNewLabelV1/train/._39.74868071--104.99459340000001-315.jpg  \n",
            "  inflating: effiDetTrainNewLabelV1/train/39.74860342--104.9895067-315.jpg  \n",
            "  inflating: __MACOSX/effiDetTrainNewLabelV1/train/._39.74860342--104.9895067-315.jpg  \n",
            "  inflating: effiDetTrainNewLabelV1/train/39.74725065--104.99124499999999-135.jpg  \n",
            "  inflating: __MACOSX/effiDetTrainNewLabelV1/train/._39.74725065--104.99124499999999-135.jpg  \n",
            "  inflating: effiDetTrainNewLabelV1/train/39.74498736--104.99247240000001-135.jpg  \n",
            "  inflating: __MACOSX/effiDetTrainNewLabelV1/train/._39.74498736--104.99247240000001-135.jpg  \n",
            "  inflating: effiDetTrainNewLabelV1/train/39.74425428--104.99684509999999-315.jpg  \n",
            "  inflating: __MACOSX/effiDetTrainNewLabelV1/train/._39.74425428--104.99684509999999-315.jpg  \n",
            "  inflating: effiDetTrainNewLabelV1/train/39.74666712--104.993761-315.jpg  \n",
            "  inflating: __MACOSX/effiDetTrainNewLabelV1/train/._39.74666712--104.993761-315.jpg  \n",
            "  inflating: effiDetTrainNewLabelV1/train/39.7464629--104.9992207-135.jpg  \n",
            "  inflating: __MACOSX/effiDetTrainNewLabelV1/train/._39.7464629--104.9992207-135.jpg  \n",
            "  inflating: effiDetTrainNewLabelV1/train/39.71900756--104.98623629999999-135.jpg  \n",
            "  inflating: __MACOSX/effiDetTrainNewLabelV1/train/._39.71900756--104.98623629999999-135.jpg  \n",
            "  inflating: effiDetTrainNewLabelV1/train/39.74513134--104.9905027-315.jpg  \n",
            "  inflating: __MACOSX/effiDetTrainNewLabelV1/train/._39.74513134--104.9905027-315.jpg  \n",
            "  inflating: effiDetTrainNewLabelV1/train/39.7484915--104.979574-135.jpg  \n",
            "  inflating: __MACOSX/effiDetTrainNewLabelV1/train/._39.7484915--104.979574-135.jpg  \n",
            "  inflating: effiDetTrainNewLabelV1/train/39.74708752--104.9873979-315.jpg  \n",
            "  inflating: __MACOSX/effiDetTrainNewLabelV1/train/._39.74708752--104.9873979-315.jpg  \n",
            "  inflating: effiDetTrainNewLabelV1/train/39.74753084--104.9791493-135.jpg  \n",
            "  inflating: __MACOSX/effiDetTrainNewLabelV1/train/._39.74753084--104.9791493-135.jpg  \n",
            "  inflating: effiDetTrainNewLabelV1/train/39.75705--104.9838067-135.jpg  \n",
            "  inflating: __MACOSX/effiDetTrainNewLabelV1/train/._39.75705--104.9838067-135.jpg  \n",
            "  inflating: effiDetTrainNewLabelV1/train/39.7579099--104.9917505-135.jpg  \n",
            "  inflating: __MACOSX/effiDetTrainNewLabelV1/train/._39.7579099--104.9917505-135.jpg  \n",
            "  inflating: effiDetTrainNewLabelV1/train/39.74184003--104.9878112-315.jpg  \n",
            "  inflating: __MACOSX/effiDetTrainNewLabelV1/train/._39.74184003--104.9878112-315.jpg  \n",
            "  inflating: effiDetTrainNewLabelV1/train/39.74875235--104.9893124-135.jpg  \n",
            "  inflating: __MACOSX/effiDetTrainNewLabelV1/train/._39.74875235--104.9893124-135.jpg  \n",
            "  inflating: effiDetTrainNewLabelV1/train/39.7485838--105.00262240000002-315.jpg  \n",
            "  inflating: __MACOSX/effiDetTrainNewLabelV1/train/._39.7485838--105.00262240000002-315.jpg  \n",
            "  inflating: effiDetTrainNewLabelV1/train/39.74453297--104.9930492-315.jpg  \n",
            "  inflating: __MACOSX/effiDetTrainNewLabelV1/train/._39.74453297--104.9930492-315.jpg  \n",
            "  inflating: effiDetTrainNewLabelV1/train/39.71851804--104.98623719999999-315.jpg  \n",
            "  inflating: __MACOSX/effiDetTrainNewLabelV1/train/._39.71851804--104.98623719999999-315.jpg  \n",
            "  inflating: effiDetTrainNewLabelV1/train/39.74601629--104.99980359999998-315.jpg  \n",
            "  inflating: __MACOSX/effiDetTrainNewLabelV1/train/._39.74601629--104.99980359999998-315.jpg  \n",
            "  inflating: effiDetTrainNewLabelV1/train/39.74782178--104.98739909999999-135.jpg  \n",
            "  inflating: __MACOSX/effiDetTrainNewLabelV1/train/._39.74782178--104.98739909999999-135.jpg  \n",
            "  inflating: effiDetTrainNewLabelV1/train/39.74259001--104.9937973-315.jpg  \n",
            "  inflating: __MACOSX/effiDetTrainNewLabelV1/train/._39.74259001--104.9937973-315.jpg  \n",
            "  inflating: effiDetTrainNewLabelV1/train/39.74620948--104.99260509999999-315.jpg  \n",
            "  inflating: __MACOSX/effiDetTrainNewLabelV1/train/._39.74620948--104.99260509999999-315.jpg  \n",
            "  inflating: effiDetTrainNewLabelV1/train/39.74438606--104.99147340000002-135.jpg  \n",
            "  inflating: __MACOSX/effiDetTrainNewLabelV1/train/._39.74438606--104.99147340000002-135.jpg  \n",
            "  inflating: effiDetTrainNewLabelV1/train/39.74618427--104.9891511-315.jpg  \n",
            "  inflating: __MACOSX/effiDetTrainNewLabelV1/train/._39.74618427--104.9891511-315.jpg  \n",
            "  inflating: effiDetTrainNewLabelV1/train/39.74830589--104.98989540000001-315.jpg  \n",
            "  inflating: __MACOSX/effiDetTrainNewLabelV1/train/._39.74830589--104.98989540000001-315.jpg  \n",
            "  inflating: effiDetTrainNewLabelV1/train/39.74845442--104.9897009-315.jpg  \n",
            "  inflating: __MACOSX/effiDetTrainNewLabelV1/train/._39.74845442--104.9897009-315.jpg  \n",
            "  inflating: effiDetTrainNewLabelV1/train/39.756438--104.99155879999999-315.jpg  \n",
            "  inflating: __MACOSX/effiDetTrainNewLabelV1/train/._39.756438--104.99155879999999-315.jpg  \n",
            "  inflating: effiDetTrainNewLabelV1/train/39.74566369--104.9880909-135.jpg  \n",
            "  inflating: __MACOSX/effiDetTrainNewLabelV1/train/._39.74566369--104.9880909-135.jpg  \n",
            "  inflating: effiDetTrainNewLabelV1/train/39.74840484--104.9862669-315.jpg  \n",
            "  inflating: __MACOSX/effiDetTrainNewLabelV1/train/._39.74840484--104.9862669-315.jpg  \n",
            "  inflating: effiDetTrainNewLabelV1/train/39.74524508--104.9990513-135.jpg  \n",
            "  inflating: __MACOSX/effiDetTrainNewLabelV1/train/._39.74524508--104.9990513-135.jpg  \n",
            "  inflating: effiDetTrainNewLabelV1/train/39.72023134--104.9862415-315.jpg  \n",
            "  inflating: __MACOSX/effiDetTrainNewLabelV1/train/._39.72023134--104.9862415-315.jpg  \n",
            "  inflating: effiDetTrainNewLabelV1/train/39.74419284--104.988248-315.jpg  \n",
            "  inflating: __MACOSX/effiDetTrainNewLabelV1/train/._39.74419284--104.988248-315.jpg  \n",
            "  inflating: effiDetTrainNewLabelV1/train/39.74326981--104.9876294-315.jpg  \n",
            "  inflating: __MACOSX/effiDetTrainNewLabelV1/train/._39.74326981--104.9876294-315.jpg  \n",
            "  inflating: effiDetTrainNewLabelV1/train/39.74693329--105.00109750000001-135.jpg  \n",
            "  inflating: __MACOSX/effiDetTrainNewLabelV1/train/._39.74693329--105.00109750000001-135.jpg  \n",
            "  inflating: effiDetTrainNewLabelV1/train/39.74864452--104.97976499999999-315.jpg  \n",
            "  inflating: __MACOSX/effiDetTrainNewLabelV1/train/._39.74864452--104.97976499999999-315.jpg  \n",
            "  inflating: effiDetTrainNewLabelV1/train/39.761996--104.97742109999999-135.jpg  \n",
            "  inflating: __MACOSX/effiDetTrainNewLabelV1/train/._39.761996--104.97742109999999-135.jpg  \n",
            "  inflating: effiDetTrainNewLabelV1/train/39.74671954--105.00075079999999-135.jpg  \n",
            "  inflating: __MACOSX/effiDetTrainNewLabelV1/train/._39.74671954--105.00075079999999-135.jpg  \n",
            "  inflating: effiDetTrainNewLabelV1/train/39.74077197--104.99849520000001-135.jpg  \n",
            "  inflating: __MACOSX/effiDetTrainNewLabelV1/train/._39.74077197--104.99849520000001-135.jpg  \n",
            "  inflating: effiDetTrainNewLabelV1/train/39.74542995--104.9901148-315.jpg  \n",
            "  inflating: __MACOSX/effiDetTrainNewLabelV1/train/._39.74542995--104.9901148-315.jpg  \n",
            "  inflating: effiDetTrainNewLabelV1/train/39.7437867--104.9974112-315.jpg  \n",
            "  inflating: __MACOSX/effiDetTrainNewLabelV1/train/._39.7437867--104.9974112-315.jpg  \n",
            "  inflating: effiDetTrainNewLabelV1/train/39.74696783--105.00033049999999-135.jpg  \n",
            "  inflating: __MACOSX/effiDetTrainNewLabelV1/train/._39.74696783--105.00033049999999-135.jpg  \n",
            "  inflating: effiDetTrainNewLabelV1/train/39.74146994--104.9935111-135.jpg  \n",
            "  inflating: __MACOSX/effiDetTrainNewLabelV1/train/._39.74146994--104.9935111-135.jpg  \n",
            "  inflating: effiDetTrainNewLabelV1/train/39.74137957--104.9989064-135.jpg  \n",
            "  inflating: __MACOSX/effiDetTrainNewLabelV1/train/._39.74137957--104.9989064-135.jpg  \n",
            "  inflating: effiDetTrainNewLabelV1/train/39.74604351--104.9962741-135.jpg  \n",
            "  inflating: __MACOSX/effiDetTrainNewLabelV1/train/._39.74604351--104.9962741-135.jpg  \n",
            "  inflating: effiDetTrainNewLabelV1/train/39.74649917--104.9922105-315.jpg  \n",
            "  inflating: __MACOSX/effiDetTrainNewLabelV1/train/._39.74649917--104.9922105-315.jpg  \n",
            "  inflating: effiDetTrainNewLabelV1/train/39.74344838--104.9892193-315.jpg  \n",
            "  inflating: __MACOSX/effiDetTrainNewLabelV1/train/._39.74344838--104.9892193-315.jpg  \n",
            "  inflating: effiDetTrainNewLabelV1/train/39.74738662--104.98610649999999-315.jpg  \n",
            "  inflating: __MACOSX/effiDetTrainNewLabelV1/train/._39.74738662--104.98610649999999-315.jpg  \n",
            "  inflating: effiDetTrainNewLabelV1/train/39.74216057--104.9995564-135.jpg  \n",
            "  inflating: __MACOSX/effiDetTrainNewLabelV1/train/._39.74216057--104.9995564-135.jpg  \n",
            "  inflating: effiDetTrainNewLabelV1/train/39.74725007--104.99993049999999-315.jpg  \n",
            "  inflating: __MACOSX/effiDetTrainNewLabelV1/train/._39.74725007--104.99993049999999-315.jpg  \n",
            "  inflating: effiDetTrainNewLabelV1/train/39.74871516--104.98588829999998-315.jpg  \n",
            "  inflating: __MACOSX/effiDetTrainNewLabelV1/train/._39.74871516--104.98588829999998-315.jpg  \n",
            "  inflating: effiDetTrainNewLabelV1/train/39.7687092--104.9733447-135.jpg  \n",
            "  inflating: __MACOSX/effiDetTrainNewLabelV1/train/._39.7687092--104.9733447-135.jpg  \n",
            "  inflating: effiDetTrainNewLabelV1/train/39.7404924--104.99650690000001-135.jpg  \n",
            "  inflating: __MACOSX/effiDetTrainNewLabelV1/train/._39.7404924--104.99650690000001-135.jpg  \n",
            "  inflating: effiDetTrainNewLabelV1/train/39.74719963--105.00150790000002-135.jpg  \n",
            "  inflating: __MACOSX/effiDetTrainNewLabelV1/train/._39.74719963--105.00150790000002-135.jpg  \n",
            "  inflating: effiDetTrainNewLabelV1/train/39.74695289--104.99512109999999-315.jpg  \n",
            "  inflating: __MACOSX/effiDetTrainNewLabelV1/train/._39.74695289--104.99512109999999-315.jpg  \n",
            "  inflating: effiDetTrainNewLabelV1/train/39.74710891--105.0001305-135.jpg  \n",
            "  inflating: __MACOSX/effiDetTrainNewLabelV1/train/._39.74710891--105.0001305-135.jpg  \n",
            "  inflating: effiDetTrainNewLabelV1/train/39.762428--104.9838148-315.jpg  \n",
            "  inflating: __MACOSX/effiDetTrainNewLabelV1/train/._39.762428--104.9838148-315.jpg  \n",
            "  inflating: effiDetTrainNewLabelV1/train/39.74401024--104.99021570000001-315.jpg  \n",
            "  inflating: __MACOSX/effiDetTrainNewLabelV1/train/._39.74401024--104.99021570000001-315.jpg  \n",
            "  inflating: effiDetTrainNewLabelV1/train/39.74836173--104.98461940000001-135.jpg  \n",
            "  inflating: __MACOSX/effiDetTrainNewLabelV1/train/._39.74836173--104.98461940000001-135.jpg  \n",
            "  inflating: effiDetTrainNewLabelV1/train/39.74714072--104.98773179999999-315.jpg  \n",
            "  inflating: __MACOSX/effiDetTrainNewLabelV1/train/._39.74714072--104.98773179999999-315.jpg  \n",
            "  inflating: effiDetTrainNewLabelV1/train/39.74348973--104.9926366-135.jpg  \n",
            "  inflating: __MACOSX/effiDetTrainNewLabelV1/train/._39.74348973--104.9926366-135.jpg  \n",
            "  inflating: effiDetTrainNewLabelV1/train/39.74539049--104.9988545-135.jpg  \n",
            "  inflating: __MACOSX/effiDetTrainNewLabelV1/train/._39.74539049--104.9988545-135.jpg  \n",
            "  inflating: effiDetTrainNewLabelV1/train/39.74163155--104.99896389999999-135.jpg  \n",
            "  inflating: __MACOSX/effiDetTrainNewLabelV1/train/._39.74163155--104.99896389999999-135.jpg  \n",
            "  inflating: effiDetTrainNewLabelV1/train/39.74461097--104.9894426-135.jpg  \n",
            "  inflating: __MACOSX/effiDetTrainNewLabelV1/train/._39.74461097--104.9894426-135.jpg  \n",
            "  inflating: effiDetTrainNewLabelV1/train/39.74094008--105.00013870000001-135.jpg  \n",
            "  inflating: __MACOSX/effiDetTrainNewLabelV1/train/._39.74094008--105.00013870000001-135.jpg  \n",
            "  inflating: effiDetTrainNewLabelV1/train/39.74120178--104.9987295-315.jpg  \n",
            "  inflating: __MACOSX/effiDetTrainNewLabelV1/train/._39.74120178--104.9987295-315.jpg  \n",
            "  inflating: effiDetTrainNewLabelV1/train/39.74692933--104.98995249999999-135.jpg  \n",
            "  inflating: __MACOSX/effiDetTrainNewLabelV1/train/._39.74692933--104.98995249999999-135.jpg  \n",
            "  inflating: effiDetTrainNewLabelV1/train/39.7553256--104.97555459999998-315.jpg  \n",
            "  inflating: __MACOSX/effiDetTrainNewLabelV1/train/._39.7553256--104.97555459999998-315.jpg  \n",
            "  inflating: effiDetTrainNewLabelV1/train/39.74042867--104.99487169999999-315.jpg  \n",
            "  inflating: __MACOSX/effiDetTrainNewLabelV1/train/._39.74042867--104.99487169999999-315.jpg  \n",
            "  inflating: effiDetTrainNewLabelV1/train/39.74597282--104.99806740000001-135.jpg  \n",
            "  inflating: __MACOSX/effiDetTrainNewLabelV1/train/._39.74597282--104.99806740000001-135.jpg  \n",
            "  inflating: effiDetTrainNewLabelV1/train/39.74311813--104.99138219999999-315.jpg  \n",
            "  inflating: __MACOSX/effiDetTrainNewLabelV1/train/._39.74311813--104.99138219999999-315.jpg  \n",
            "  inflating: effiDetTrainNewLabelV1/train/39.74811856--104.98839709999999-135.jpg  \n",
            "  inflating: __MACOSX/effiDetTrainNewLabelV1/train/._39.74811856--104.98839709999999-135.jpg  \n",
            "  inflating: effiDetTrainNewLabelV1/train/39.74801293--104.9937751-315.jpg  \n",
            "  inflating: __MACOSX/effiDetTrainNewLabelV1/train/._39.74801293--104.9937751-315.jpg  \n",
            "  inflating: effiDetTrainNewLabelV1/train/39.74531881--104.9955029-135.jpg  \n",
            "  inflating: __MACOSX/effiDetTrainNewLabelV1/train/._39.74531881--104.9955029-135.jpg  \n",
            "  inflating: effiDetTrainNewLabelV1/train/39.7557546--104.97852309999999-135.jpg  \n",
            "  inflating: __MACOSX/effiDetTrainNewLabelV1/train/._39.7557546--104.97852309999999-135.jpg  \n",
            "  inflating: effiDetTrainNewLabelV1/train/39.74315655--104.99974250000001-315.jpg  \n",
            "  inflating: __MACOSX/effiDetTrainNewLabelV1/train/._39.74315655--104.99974250000001-315.jpg  \n",
            "  inflating: effiDetTrainNewLabelV1/train/39.74438166--104.99324159999999-315.jpg  \n",
            "  inflating: __MACOSX/effiDetTrainNewLabelV1/train/._39.74438166--104.99324159999999-315.jpg  \n",
            "  inflating: effiDetTrainNewLabelV1/train/39.74333929--104.9928297-135.jpg  \n",
            "  inflating: __MACOSX/effiDetTrainNewLabelV1/train/._39.74333929--104.9928297-135.jpg  \n",
            "  inflating: effiDetTrainNewLabelV1/train/39.74661249--104.999027-315.jpg  \n",
            "  inflating: __MACOSX/effiDetTrainNewLabelV1/train/._39.74661249--104.999027-315.jpg  \n",
            "  inflating: effiDetTrainNewLabelV1/train/39.74736021--104.99805819999999-135.jpg  \n",
            "  inflating: __MACOSX/effiDetTrainNewLabelV1/train/._39.74736021--104.99805819999999-135.jpg  \n",
            "  inflating: effiDetTrainNewLabelV1/train/39.7576433--104.9882775-135.jpg  \n",
            "  inflating: __MACOSX/effiDetTrainNewLabelV1/train/._39.7576433--104.9882775-135.jpg  \n",
            "  inflating: effiDetTrainNewLabelV1/train/39.74528706--104.99208540000001-135.jpg  \n",
            "  inflating: __MACOSX/effiDetTrainNewLabelV1/train/._39.74528706--104.99208540000001-135.jpg  \n",
            "  inflating: effiDetTrainNewLabelV1/train/39.74479007--104.9996273-315.jpg  \n",
            "  inflating: __MACOSX/effiDetTrainNewLabelV1/train/._39.74479007--104.9996273-315.jpg  \n",
            "  inflating: effiDetTrainNewLabelV1/train/39.74150183--104.99173619999999-315.jpg  \n",
            "  inflating: __MACOSX/effiDetTrainNewLabelV1/train/._39.74150183--104.99173619999999-315.jpg  \n",
            "  inflating: effiDetTrainNewLabelV1/train/39.74441013--104.99665630000001-135.jpg  \n",
            "  inflating: __MACOSX/effiDetTrainNewLabelV1/train/._39.74441013--104.99665630000001-135.jpg  \n",
            "  inflating: effiDetTrainNewLabelV1/train/39.74830839--104.99162709999999-135.jpg  \n",
            "  inflating: __MACOSX/effiDetTrainNewLabelV1/train/._39.74830839--104.99162709999999-135.jpg  \n",
            "  inflating: effiDetTrainNewLabelV1/train/39.7437114--104.9906034-135.jpg  \n",
            "  inflating: __MACOSX/effiDetTrainNewLabelV1/train/._39.7437114--104.9906034-135.jpg  \n",
            "  inflating: effiDetTrainNewLabelV1/train/39.74785239--104.9922027-315.jpg  \n",
            "  inflating: __MACOSX/effiDetTrainNewLabelV1/train/._39.74785239--104.9922027-315.jpg  \n",
            "  inflating: effiDetTrainNewLabelV1/train/39.74136316--104.9901733-135.jpg  \n",
            "  inflating: __MACOSX/effiDetTrainNewLabelV1/train/._39.74136316--104.9901733-135.jpg  \n",
            "  inflating: effiDetTrainNewLabelV1/train/39.74752379--104.9867115-315.jpg  \n",
            "  inflating: __MACOSX/effiDetTrainNewLabelV1/train/._39.74752379--104.9867115-315.jpg  \n",
            "  inflating: effiDetTrainNewLabelV1/train/39.74861715--105.0031575-135.jpg  \n",
            "  inflating: __MACOSX/effiDetTrainNewLabelV1/train/._39.74861715--105.0031575-135.jpg  \n",
            "  inflating: effiDetTrainNewLabelV1/train/39.74781012--104.9974779-135.jpg  \n",
            "  inflating: __MACOSX/effiDetTrainNewLabelV1/train/._39.74781012--104.9974779-135.jpg  \n",
            "  inflating: effiDetTrainNewLabelV1/train/39.74124138--104.995539-315.jpg  \n",
            "  inflating: __MACOSX/effiDetTrainNewLabelV1/train/._39.74124138--104.995539-315.jpg  \n",
            "  inflating: effiDetTrainNewLabelV1/train/39.7520526--104.9937445-315.jpg  \n",
            "  inflating: __MACOSX/effiDetTrainNewLabelV1/train/._39.7520526--104.9937445-315.jpg  \n",
            "  inflating: effiDetTrainNewLabelV1/train/39.74573101--104.9897288-135.jpg  \n",
            "  inflating: __MACOSX/effiDetTrainNewLabelV1/train/._39.74573101--104.9897288-135.jpg  \n",
            "  inflating: effiDetTrainNewLabelV1/train/39.74616486--104.9996091-135.jpg  \n",
            "  inflating: __MACOSX/effiDetTrainNewLabelV1/train/._39.74616486--104.9996091-135.jpg  \n",
            "  inflating: effiDetTrainNewLabelV1/train/39.74329958--104.98941359999999-135.jpg  \n",
            "  inflating: __MACOSX/effiDetTrainNewLabelV1/train/._39.74329958--104.98941359999999-135.jpg  \n",
            "  inflating: effiDetTrainNewLabelV1/train/39.74868345--105.0018953-135.jpg  \n",
            "  inflating: __MACOSX/effiDetTrainNewLabelV1/train/._39.74868345--105.0018953-135.jpg  \n",
            "  inflating: effiDetTrainNewLabelV1/train/39.74762268--105.0027104-315.jpg  \n",
            "  inflating: __MACOSX/effiDetTrainNewLabelV1/train/._39.74762268--105.0027104-315.jpg  \n",
            "  inflating: effiDetTrainNewLabelV1/train/39.74816842--104.99878490000002-135.jpg  \n",
            "  inflating: __MACOSX/effiDetTrainNewLabelV1/train/._39.74816842--104.99878490000002-135.jpg  \n",
            "  inflating: effiDetTrainNewLabelV1/train/39.74652119--104.9939575-135.jpg  \n",
            "  inflating: __MACOSX/effiDetTrainNewLabelV1/train/._39.74652119--104.9939575-135.jpg  \n",
            "  inflating: effiDetTrainNewLabelV1/train/39.74090269--104.9925105-135.jpg  \n",
            "  inflating: __MACOSX/effiDetTrainNewLabelV1/train/._39.74090269--104.9925105-135.jpg  \n",
            "  inflating: effiDetTrainNewLabelV1/train/39.74120209--104.99212320000001-135.jpg  \n",
            "  inflating: __MACOSX/effiDetTrainNewLabelV1/train/._39.74120209--104.99212320000001-135.jpg  \n",
            "  inflating: effiDetTrainNewLabelV1/train/39.74094148--104.9959259-315.jpg  \n",
            "  inflating: __MACOSX/effiDetTrainNewLabelV1/train/._39.74094148--104.9959259-315.jpg  \n",
            "  inflating: effiDetTrainNewLabelV1/train/39.74876514--104.9980088-135.jpg  \n",
            "  inflating: __MACOSX/effiDetTrainNewLabelV1/train/._39.74876514--104.9980088-135.jpg  \n",
            "  inflating: effiDetTrainNewLabelV1/train/39.74610856--104.98740759999998-315.jpg  \n",
            "  inflating: __MACOSX/effiDetTrainNewLabelV1/train/._39.74610856--104.98740759999998-315.jpg  \n",
            "  inflating: effiDetTrainNewLabelV1/train/39.74241666--104.9888222-135.jpg  \n",
            "  inflating: __MACOSX/effiDetTrainNewLabelV1/train/._39.74241666--104.9888222-135.jpg  \n",
            "  inflating: effiDetTrainNewLabelV1/train/39.753081--104.98717479999999-135.jpg  \n",
            "  inflating: __MACOSX/effiDetTrainNewLabelV1/train/._39.753081--104.98717479999999-135.jpg  \n",
            "  inflating: effiDetTrainNewLabelV1/train/39.71949708--104.9862368-135.jpg  \n",
            "  inflating: __MACOSX/effiDetTrainNewLabelV1/train/._39.71949708--104.9862368-135.jpg  \n",
            "  inflating: effiDetTrainNewLabelV1/train/39.74845947--104.9931922-135.jpg  \n",
            "  inflating: __MACOSX/effiDetTrainNewLabelV1/train/._39.74845947--104.9931922-135.jpg  \n",
            "  inflating: effiDetTrainNewLabelV1/train/39.74476146--104.98924960000001-315.jpg  \n",
            "  inflating: __MACOSX/effiDetTrainNewLabelV1/train/._39.74476146--104.98924960000001-315.jpg  \n",
            "  inflating: effiDetTrainNewLabelV1/train/39.74118472--105.0001462-315.jpg  \n",
            "  inflating: __MACOSX/effiDetTrainNewLabelV1/train/._39.74118472--105.0001462-315.jpg  \n",
            "  inflating: effiDetTrainNewLabelV1/train/39.74479124--104.98747309999999-315.jpg  \n",
            "  inflating: __MACOSX/effiDetTrainNewLabelV1/train/._39.74479124--104.98747309999999-315.jpg  \n",
            "  inflating: effiDetTrainNewLabelV1/train/39.74487002--104.9960841-315.jpg  \n",
            "  inflating: __MACOSX/effiDetTrainNewLabelV1/train/._39.74487002--104.9960841-315.jpg  \n",
            "  inflating: effiDetTrainNewLabelV1/train/39.74735258--104.9963503-315.jpg  \n",
            "  inflating: __MACOSX/effiDetTrainNewLabelV1/train/._39.74735258--104.9963503-315.jpg  \n",
            "  inflating: effiDetTrainNewLabelV1/train/39.74860808--104.99124009999998-315.jpg  \n",
            "  inflating: __MACOSX/effiDetTrainNewLabelV1/train/._39.74860808--104.99124009999998-315.jpg  \n",
            "  inflating: effiDetTrainNewLabelV1/train/39.74826019--104.99689769999999-135.jpg  \n",
            "  inflating: __MACOSX/effiDetTrainNewLabelV1/train/._39.74826019--104.99689769999999-135.jpg  \n",
            "  inflating: effiDetTrainNewLabelV1/train/39.74293187--104.99964550000001-315.jpg  \n",
            "  inflating: __MACOSX/effiDetTrainNewLabelV1/train/._39.74293187--104.99964550000001-315.jpg  \n",
            "  inflating: effiDetTrainNewLabelV1/train/39.74154139--104.9951522-315.jpg  \n",
            "  inflating: __MACOSX/effiDetTrainNewLabelV1/train/._39.74154139--104.9951522-315.jpg  \n",
            "  inflating: effiDetTrainNewLabelV1/train/39.74440246--104.99492-135.jpg  \n",
            "  inflating: __MACOSX/effiDetTrainNewLabelV1/train/._39.74440246--104.99492-135.jpg  \n",
            "  inflating: effiDetTrainNewLabelV1/train/39.74868071--104.99459340000001-135.jpg  \n",
            "  inflating: __MACOSX/effiDetTrainNewLabelV1/train/._39.74868071--104.99459340000001-135.jpg  \n",
            "  inflating: effiDetTrainNewLabelV1/train/39.74589078--104.9964654-315.jpg  \n",
            "  inflating: __MACOSX/effiDetTrainNewLabelV1/train/._39.74589078--104.9964654-315.jpg  \n",
            "  inflating: effiDetTrainNewLabelV1/train/39.74289207--104.9985757-135.jpg  \n",
            "  inflating: __MACOSX/effiDetTrainNewLabelV1/train/._39.74289207--104.9985757-135.jpg  \n",
            "  inflating: effiDetTrainNewLabelV1/train/39.74635331--104.9874057-315.jpg  \n",
            "  inflating: __MACOSX/effiDetTrainNewLabelV1/train/._39.74635331--104.9874057-315.jpg  \n",
            "  inflating: effiDetTrainNewLabelV1/train/39.74557845--104.99169209999998-135.jpg  \n",
            "  inflating: __MACOSX/effiDetTrainNewLabelV1/train/._39.74557845--104.99169209999998-135.jpg  \n",
            "  inflating: effiDetTrainNewLabelV1/train/39.74815736--104.9900899-135.jpg  \n",
            "  inflating: __MACOSX/effiDetTrainNewLabelV1/train/._39.74815736--104.9900899-135.jpg  \n",
            "  inflating: effiDetTrainNewLabelV1/train/39.73975301--104.997821-315.jpg  \n",
            "  inflating: __MACOSX/effiDetTrainNewLabelV1/train/._39.73975301--104.997821-315.jpg  \n",
            "  inflating: effiDetTrainNewLabelV1/train/39.74762098--105.0031972-135.jpg  \n",
            "  inflating: __MACOSX/effiDetTrainNewLabelV1/train/._39.74762098--105.0031972-135.jpg  \n",
            "  inflating: effiDetTrainNewLabelV1/train/39.74142937--105.00015359999999-315.jpg  \n",
            "  inflating: __MACOSX/effiDetTrainNewLabelV1/train/._39.74142937--105.00015359999999-315.jpg  \n",
            "  inflating: effiDetTrainNewLabelV1/train/39.74666712--104.993761-135.jpg  \n",
            "  inflating: __MACOSX/effiDetTrainNewLabelV1/train/._39.74666712--104.993761-135.jpg  \n",
            "  inflating: effiDetTrainNewLabelV1/train/39.71900756--104.98623629999999-315.jpg  \n",
            "  inflating: __MACOSX/effiDetTrainNewLabelV1/train/._39.71900756--104.98623629999999-315.jpg  \n",
            "  inflating: effiDetTrainNewLabelV1/train/39.74860342--104.9895067-135.jpg  \n",
            "  inflating: __MACOSX/effiDetTrainNewLabelV1/train/._39.74860342--104.9895067-135.jpg  \n",
            "  inflating: effiDetTrainNewLabelV1/train/39.7515959--104.9873626-315.jpg  \n",
            "  inflating: __MACOSX/effiDetTrainNewLabelV1/train/._39.7515959--104.9873626-315.jpg  \n",
            "  inflating: effiDetTrainNewLabelV1/train/39.74725065--104.99124499999999-315.jpg  \n",
            "  inflating: __MACOSX/effiDetTrainNewLabelV1/train/._39.74725065--104.99124499999999-315.jpg  \n",
            "  inflating: effiDetTrainNewLabelV1/train/39.7493305--104.98512690000001-135.jpg  \n",
            "  inflating: __MACOSX/effiDetTrainNewLabelV1/train/._39.7493305--104.98512690000001-135.jpg  \n",
            "  inflating: effiDetTrainNewLabelV1/train/39.74498736--104.99247240000001-315.jpg  \n",
            "  inflating: __MACOSX/effiDetTrainNewLabelV1/train/._39.74498736--104.99247240000001-315.jpg  \n",
            "  inflating: effiDetTrainNewLabelV1/train/39.74733137--105.0017142-315.jpg  \n",
            "  inflating: __MACOSX/effiDetTrainNewLabelV1/train/._39.74733137--105.0017142-315.jpg  \n",
            "  inflating: effiDetTrainNewLabelV1/train/39.74425428--104.99684509999999-135.jpg  \n",
            "  inflating: __MACOSX/effiDetTrainNewLabelV1/train/._39.74425428--104.99684509999999-135.jpg  \n",
            "  inflating: effiDetTrainNewLabelV1/train/39.74752398--104.98917490000001-135.jpg  \n",
            "  inflating: __MACOSX/effiDetTrainNewLabelV1/train/._39.74752398--104.98917490000001-135.jpg  \n",
            "  inflating: effiDetTrainNewLabelV1/train/39.75705--104.9838067-315.jpg  \n",
            "  inflating: __MACOSX/effiDetTrainNewLabelV1/train/._39.75705--104.9838067-315.jpg  \n",
            "  inflating: effiDetTrainNewLabelV1/train/39.7579099--104.9917505-315.jpg  \n",
            "  inflating: __MACOSX/effiDetTrainNewLabelV1/train/._39.7579099--104.9917505-315.jpg  \n",
            "  inflating: effiDetTrainNewLabelV1/train/39.74875235--104.9893124-315.jpg  \n",
            "  inflating: __MACOSX/effiDetTrainNewLabelV1/train/._39.74875235--104.9893124-315.jpg  \n",
            "  inflating: effiDetTrainNewLabelV1/train/39.7485838--105.00262240000002-135.jpg  \n",
            "  inflating: __MACOSX/effiDetTrainNewLabelV1/train/._39.7485838--105.00262240000002-135.jpg  \n",
            "  inflating: effiDetTrainNewLabelV1/train/39.7484915--104.979574-315.jpg  \n",
            "  inflating: __MACOSX/effiDetTrainNewLabelV1/train/._39.7484915--104.979574-315.jpg  \n",
            "  inflating: effiDetTrainNewLabelV1/train/39.74338841--104.99982050000001-135.jpg  \n",
            "  inflating: __MACOSX/effiDetTrainNewLabelV1/train/._39.74338841--104.99982050000001-135.jpg  \n",
            "  inflating: effiDetTrainNewLabelV1/train/39.74753084--104.9791493-315.jpg  \n",
            "  inflating: __MACOSX/effiDetTrainNewLabelV1/train/._39.74753084--104.9791493-315.jpg  \n",
            "  inflating: effiDetTrainNewLabelV1/train/39.74303976--104.9932169-135.jpg  \n",
            "  inflating: __MACOSX/effiDetTrainNewLabelV1/train/._39.74303976--104.9932169-135.jpg  \n",
            "  inflating: effiDetTrainNewLabelV1/train/39.74759617--105.0029537-135.jpg  \n",
            "  inflating: __MACOSX/effiDetTrainNewLabelV1/train/._39.74759617--105.0029537-135.jpg  \n",
            "  inflating: effiDetTrainNewLabelV1/train/39.74410422--104.9999686-135.jpg  \n",
            "  inflating: __MACOSX/effiDetTrainNewLabelV1/train/._39.74410422--104.9999686-135.jpg  \n",
            "  inflating: effiDetTrainNewLabelV1/train/39.74459029--105.00002649999999-135.jpg  \n",
            "  inflating: __MACOSX/effiDetTrainNewLabelV1/train/._39.74459029--105.00002649999999-135.jpg  \n",
            "  inflating: effiDetTrainNewLabelV1/train/39.74229905--104.99935459999999-135.jpg  \n",
            "  inflating: __MACOSX/effiDetTrainNewLabelV1/train/._39.74229905--104.99935459999999-135.jpg  \n",
            "  inflating: effiDetTrainNewLabelV1/train/39.74611255--104.9875098-135.jpg  \n",
            "  inflating: __MACOSX/effiDetTrainNewLabelV1/train/._39.74611255--104.9875098-135.jpg  \n",
            "  inflating: effiDetTrainNewLabelV1/train/39.74468443--104.9928569-135.jpg  \n",
            "  inflating: __MACOSX/effiDetTrainNewLabelV1/train/._39.74468443--104.9928569-135.jpg  \n",
            "  inflating: effiDetTrainNewLabelV1/train/39.74651237--105.0011943-135.jpg  \n",
            "  inflating: __MACOSX/effiDetTrainNewLabelV1/train/._39.74651237--105.0011943-135.jpg  \n",
            "  inflating: effiDetTrainNewLabelV1/train/39.74739728--104.99973519999999-315.jpg  \n",
            "  inflating: __MACOSX/effiDetTrainNewLabelV1/train/._39.74739728--104.99973519999999-315.jpg  \n",
            "  inflating: effiDetTrainNewLabelV1/train/39.74434715--104.99999840000002-135.jpg  \n",
            "  inflating: __MACOSX/effiDetTrainNewLabelV1/train/._39.74434715--104.99999840000002-135.jpg  \n",
            "  inflating: effiDetTrainNewLabelV1/train/39.74781876--104.9887841-315.jpg  \n",
            "  inflating: __MACOSX/effiDetTrainNewLabelV1/train/._39.74781876--104.9887841-315.jpg  \n",
            "  inflating: effiDetTrainNewLabelV1/train/39.74362157--104.9998949-135.jpg  \n",
            "  inflating: __MACOSX/effiDetTrainNewLabelV1/train/._39.74362157--104.9998949-135.jpg  \n",
            "  inflating: effiDetTrainNewLabelV1/train/39.74472057--104.99627790000001-315.jpg  \n",
            "  inflating: __MACOSX/effiDetTrainNewLabelV1/train/._39.74472057--104.99627790000001-315.jpg  \n",
            "  inflating: effiDetTrainNewLabelV1/train/39.7670382--104.97439309999999-315.jpg  \n",
            "  inflating: __MACOSX/effiDetTrainNewLabelV1/train/._39.7670382--104.97439309999999-315.jpg  \n",
            "  inflating: effiDetTrainNewLabelV1/train/39.7407243--104.99448149999999-315.jpg  \n",
            "  inflating: __MACOSX/effiDetTrainNewLabelV1/train/._39.7407243--104.99448149999999-315.jpg  \n",
            "  inflating: effiDetTrainNewLabelV1/train/39.74841052--104.99670459999999-135.jpg  \n",
            "  inflating: __MACOSX/effiDetTrainNewLabelV1/train/._39.74841052--104.99670459999999-135.jpg  \n",
            "  inflating: effiDetTrainNewLabelV1/train/39.74483372--105.0000519-135.jpg  \n",
            "  inflating: __MACOSX/effiDetTrainNewLabelV1/train/._39.74483372--105.0000519-135.jpg  \n",
            "  inflating: effiDetTrainNewLabelV1/train/39.74842257--104.98801340000001-135.jpg  \n",
            "  inflating: __MACOSX/effiDetTrainNewLabelV1/train/._39.74842257--104.98801340000001-135.jpg  \n",
            "  inflating: effiDetTrainNewLabelV1/train/39.7510441--104.9828578-135.jpg  \n",
            "  inflating: __MACOSX/effiDetTrainNewLabelV1/train/._39.7510441--104.9828578-135.jpg  \n",
            "  inflating: effiDetTrainNewLabelV1/train/39.74619685--105.00046299999998-315.jpg  \n",
            "  inflating: __MACOSX/effiDetTrainNewLabelV1/train/._39.74619685--105.00046299999998-315.jpg  \n",
            "  inflating: effiDetTrainNewLabelV1/train/39.74240262--104.9905764-315.jpg  \n",
            "  inflating: __MACOSX/effiDetTrainNewLabelV1/train/._39.74240262--104.9905764-315.jpg  \n",
            "  inflating: effiDetTrainNewLabelV1/train/39.74378878--104.9922491-135.jpg  \n",
            "  inflating: __MACOSX/effiDetTrainNewLabelV1/train/._39.74378878--104.9922491-135.jpg  \n",
            "  inflating: effiDetTrainNewLabelV1/train/39.74206157--104.99919779999999-315.jpg  \n",
            "  inflating: __MACOSX/effiDetTrainNewLabelV1/train/._39.74206157--104.99919779999999-315.jpg  \n",
            "  inflating: effiDetTrainNewLabelV1/train/39.74827056--104.9882053-135.jpg  \n",
            "  inflating: __MACOSX/effiDetTrainNewLabelV1/train/._39.74827056--104.9882053-135.jpg  \n",
            "  inflating: effiDetTrainNewLabelV1/train/39.74659804--104.9874023-135.jpg  \n",
            "  inflating: __MACOSX/effiDetTrainNewLabelV1/train/._39.74659804--104.9874023-135.jpg  \n",
            "  inflating: effiDetTrainNewLabelV1/train/39.74824969--104.98645619999999-135.jpg  \n",
            "  inflating: __MACOSX/effiDetTrainNewLabelV1/train/._39.74824969--104.98645619999999-135.jpg  \n",
            "  inflating: effiDetTrainNewLabelV1/train/39.74285101--104.9899949-315.jpg  \n",
            "  inflating: __MACOSX/effiDetTrainNewLabelV1/train/._39.74285101--104.9899949-315.jpg  \n",
            "  inflating: effiDetTrainNewLabelV1/train/39.74334949--104.987398-315.jpg  \n",
            "  inflating: __MACOSX/effiDetTrainNewLabelV1/train/._39.74334949--104.987398-315.jpg  \n",
            "  inflating: effiDetTrainNewLabelV1/train/39.74102032--104.99409159999999-135.jpg  \n",
            "  inflating: __MACOSX/effiDetTrainNewLabelV1/train/._39.74102032--104.99409159999999-135.jpg  \n",
            "  inflating: effiDetTrainNewLabelV1/train/39.74601616--104.9911025-315.jpg  \n",
            "  inflating: __MACOSX/effiDetTrainNewLabelV1/train/._39.74601616--104.9911025-315.jpg  \n",
            "  inflating: effiDetTrainNewLabelV1/train/39.74348368--104.99440359999998-315.jpg  \n",
            "  inflating: __MACOSX/effiDetTrainNewLabelV1/train/._39.74348368--104.99440359999998-315.jpg  \n",
            "  inflating: effiDetTrainNewLabelV1/train/39.74631704--104.9907165-315.jpg  \n",
            "  inflating: __MACOSX/effiDetTrainNewLabelV1/train/._39.74631704--104.9907165-315.jpg  \n",
            "  inflating: effiDetTrainNewLabelV1/train/39.74845936--104.9914345-315.jpg  \n",
            "  inflating: __MACOSX/effiDetTrainNewLabelV1/train/._39.74845936--104.9914345-315.jpg  \n",
            "  inflating: effiDetTrainNewLabelV1/train/39.74274013--104.993604-315.jpg  \n",
            "  inflating: __MACOSX/effiDetTrainNewLabelV1/train/._39.74274013--104.993604-315.jpg  \n",
            "  inflating: effiDetTrainNewLabelV1/train/39.74226566--104.9890148-315.jpg  \n",
            "  inflating: __MACOSX/effiDetTrainNewLabelV1/train/._39.74226566--104.9890148-315.jpg  \n",
            "  inflating: effiDetTrainNewLabelV1/train/39.74643398--104.99749609999999-315.jpg  \n",
            "  inflating: __MACOSX/effiDetTrainNewLabelV1/train/._39.74643398--104.99749609999999-315.jpg  \n",
            "  inflating: effiDetTrainNewLabelV1/train/39.74754065--104.9806178-135.jpg  \n",
            "  inflating: __MACOSX/effiDetTrainNewLabelV1/train/._39.74754065--104.9806178-135.jpg  \n",
            "  inflating: effiDetTrainNewLabelV1/train/39.74775892--105.0041654-135.jpg  \n",
            "  inflating: __MACOSX/effiDetTrainNewLabelV1/train/._39.74775892--105.0041654-135.jpg  \n",
            "  inflating: effiDetTrainNewLabelV1/train/39.7684185--104.9760713-135.jpg  \n",
            "  inflating: __MACOSX/effiDetTrainNewLabelV1/train/._39.7684185--104.9760713-135.jpg  \n",
            "  inflating: effiDetTrainNewLabelV1/train/39.74509999--104.99924850000001-135.jpg  \n",
            "  inflating: __MACOSX/effiDetTrainNewLabelV1/train/._39.74509999--104.99924850000001-135.jpg  \n",
            "  inflating: effiDetTrainNewLabelV1/train/39.74621965--104.99434309999998-315.jpg  \n",
            "  inflating: __MACOSX/effiDetTrainNewLabelV1/train/._39.74621965--104.99434309999998-315.jpg  \n",
            "  inflating: effiDetTrainNewLabelV1/train/39.74749992--104.9781723-135.jpg  \n",
            "  inflating: __MACOSX/effiDetTrainNewLabelV1/train/._39.74749992--104.9781723-135.jpg  \n",
            "  inflating: effiDetTrainNewLabelV1/train/39.74046199--104.9913328-135.jpg  \n",
            "  inflating: __MACOSX/effiDetTrainNewLabelV1/train/._39.74046199--104.9913328-135.jpg  \n",
            "  inflating: effiDetTrainNewLabelV1/train/39.74753294--104.9796388-135.jpg  \n",
            "  inflating: __MACOSX/effiDetTrainNewLabelV1/train/._39.74753294--104.9796388-135.jpg  \n",
            "  inflating: effiDetTrainNewLabelV1/train/39.7500246--104.98739109999998-135.jpg  \n",
            "  inflating: __MACOSX/effiDetTrainNewLabelV1/train/._39.7500246--104.98739109999998-135.jpg  \n",
            "  inflating: effiDetTrainNewLabelV1/train/39.74404357--104.9884419-315.jpg  \n",
            "  inflating: __MACOSX/effiDetTrainNewLabelV1/train/._39.74404357--104.9884419-315.jpg  \n",
            "  inflating: effiDetTrainNewLabelV1/train/39.74661572--105.0009725-135.jpg  \n",
            "  inflating: __MACOSX/effiDetTrainNewLabelV1/train/._39.74661572--105.0009725-135.jpg  \n",
            "  inflating: effiDetTrainNewLabelV1/train/39.74659605--105.0007463-315.jpg  \n",
            "  inflating: __MACOSX/effiDetTrainNewLabelV1/train/._39.74659605--105.0007463-315.jpg  \n",
            "  inflating: effiDetTrainNewLabelV1/train/39.74740426--104.9910544-135.jpg  \n",
            "  inflating: __MACOSX/effiDetTrainNewLabelV1/train/._39.74740426--104.9910544-135.jpg  \n",
            "  inflating: effiDetTrainNewLabelV1/train/39.74592025--104.99300009999999-315.jpg  \n",
            "  inflating: __MACOSX/effiDetTrainNewLabelV1/train/._39.74592025--104.99300009999999-315.jpg  \n",
            "  inflating: effiDetTrainNewLabelV1/train/39.74784468--104.9835392-135.jpg  \n",
            "  inflating: __MACOSX/effiDetTrainNewLabelV1/train/._39.74784468--104.9835392-135.jpg  \n",
            "  inflating: effiDetTrainNewLabelV1/train/39.74374598--104.98883059999999-135.jpg  \n",
            "  inflating: __MACOSX/effiDetTrainNewLabelV1/train/._39.74374598--104.98883059999999-135.jpg  \n",
            "  inflating: effiDetTrainNewLabelV1/train/39.74162001--104.99331770000002-315.jpg  \n",
            "  inflating: __MACOSX/effiDetTrainNewLabelV1/train/._39.74162001--104.99331770000002-315.jpg  \n",
            "  inflating: effiDetTrainNewLabelV1/train/39.74546871--104.99530940000001-135.jpg  \n",
            "  inflating: __MACOSX/effiDetTrainNewLabelV1/train/._39.74546871--104.99530940000001-135.jpg  \n",
            "  inflating: effiDetTrainNewLabelV1/train/39.74513912--104.99743079999999-135.jpg  \n",
            "  inflating: __MACOSX/effiDetTrainNewLabelV1/train/._39.74513912--104.99743079999999-135.jpg  \n",
            "  inflating: effiDetTrainNewLabelV1/train/39.74184656--104.9990808-315.jpg  \n",
            "  inflating: __MACOSX/effiDetTrainNewLabelV1/train/._39.74184656--104.9990808-315.jpg  \n",
            "  inflating: effiDetTrainNewLabelV1/train/39.74225325--104.9907703-315.jpg  \n",
            "  inflating: __MACOSX/effiDetTrainNewLabelV1/train/._39.74225325--104.9907703-315.jpg  \n",
            "  inflating: effiDetTrainNewLabelV1/train/39.74109143--104.99573249999999-315.jpg  \n",
            "  inflating: __MACOSX/effiDetTrainNewLabelV1/train/._39.74109143--104.99573249999999-315.jpg  \n",
            "  inflating: effiDetTrainNewLabelV1/train/39.74755789--104.9908639-135.jpg  \n",
            "  inflating: __MACOSX/effiDetTrainNewLabelV1/train/._39.74755789--104.9908639-135.jpg  \n",
            "  inflating: effiDetTrainNewLabelV1/train/39.74755741--104.9840443-315.jpg  \n",
            "  inflating: __MACOSX/effiDetTrainNewLabelV1/train/._39.74755741--104.9840443-315.jpg  \n",
            "  inflating: effiDetTrainNewLabelV1/train/39.74449204--104.9878605-315.jpg  \n",
            "  inflating: __MACOSX/effiDetTrainNewLabelV1/train/._39.74449204--104.9878605-315.jpg  \n",
            "  inflating: effiDetTrainNewLabelV1/train/39.74433728--105.0002047-315.jpg  \n",
            "  inflating: __MACOSX/effiDetTrainNewLabelV1/train/._39.74433728--105.0002047-315.jpg  \n",
            "  inflating: effiDetTrainNewLabelV1/train/39.74832111--104.99859359999999-315.jpg  \n",
            "  inflating: __MACOSX/effiDetTrainNewLabelV1/train/._39.74832111--104.99859359999999-315.jpg  \n",
            "  inflating: effiDetTrainNewLabelV1/train/39.7583578--104.99233240000001-135.jpg  \n",
            "  inflating: __MACOSX/effiDetTrainNewLabelV1/train/._39.7583578--104.99233240000001-135.jpg  \n",
            "  inflating: effiDetTrainNewLabelV1/train/39.74816405--104.9935825-315.jpg  \n",
            "  inflating: __MACOSX/effiDetTrainNewLabelV1/train/._39.74816405--104.9935825-315.jpg  \n",
            "  inflating: effiDetTrainNewLabelV1/train/39.74879542--105.001427-135.jpg  \n",
            "  inflating: __MACOSX/effiDetTrainNewLabelV1/train/._39.74879542--105.001427-135.jpg  \n",
            "  inflating: effiDetTrainNewLabelV1/train/39.74709704--104.9914355-315.jpg  \n",
            "  inflating: __MACOSX/effiDetTrainNewLabelV1/train/._39.74709704--104.9914355-315.jpg  \n",
            "  inflating: effiDetTrainNewLabelV1/train/39.74577049--104.9931936-315.jpg  \n",
            "  inflating: __MACOSX/effiDetTrainNewLabelV1/train/._39.74577049--104.9931936-315.jpg  \n",
            "  inflating: effiDetTrainNewLabelV1/train/39.74055705--104.9983781-315.jpg  \n",
            "  inflating: __MACOSX/effiDetTrainNewLabelV1/train/._39.74055705--104.9983781-315.jpg  \n",
            "  inflating: effiDetTrainNewLabelV1/train/39.72218932--104.98623229999998-135.jpg  \n",
            "  inflating: __MACOSX/effiDetTrainNewLabelV1/train/._39.72218932--104.98623229999998-135.jpg  \n",
            "  inflating: effiDetTrainNewLabelV1/train/39.74386127--104.9999389-315.jpg  \n",
            "  inflating: __MACOSX/effiDetTrainNewLabelV1/train/._39.74386127--104.9999389-315.jpg  \n",
            "  inflating: effiDetTrainNewLabelV1/train/39.74202258--104.99975859999999-135.jpg  \n",
            "  inflating: __MACOSX/effiDetTrainNewLabelV1/train/._39.74202258--104.99975859999999-135.jpg  \n",
            "  inflating: effiDetTrainNewLabelV1/train/39.7625915--104.97334199999999-135.jpg  \n",
            "  inflating: __MACOSX/effiDetTrainNewLabelV1/train/._39.7625915--104.97334199999999-135.jpg  \n",
            "  inflating: effiDetTrainNewLabelV1/train/39.74862098--105.00238049999999-315.jpg  \n",
            "  inflating: __MACOSX/effiDetTrainNewLabelV1/train/._39.74862098--105.00238049999999-315.jpg  \n",
            "  inflating: effiDetTrainNewLabelV1/train/39.74315057--104.9896078-135.jpg  \n",
            "  inflating: __MACOSX/effiDetTrainNewLabelV1/train/._39.74315057--104.9896078-135.jpg  \n",
            "  inflating: effiDetTrainNewLabelV1/train/39.74679059--104.9918173-315.jpg  \n",
            "  inflating: __MACOSX/effiDetTrainNewLabelV1/train/._39.74679059--104.9918173-315.jpg  \n",
            "  inflating: effiDetTrainNewLabelV1/train/39.74571656--105.0001905-315.jpg  \n",
            "  inflating: __MACOSX/effiDetTrainNewLabelV1/train/._39.74571656--105.0001905-315.jpg  \n",
            "  inflating: effiDetTrainNewLabelV1/train/39.74733227--104.98739979999999-315.jpg  \n",
            "  inflating: __MACOSX/effiDetTrainNewLabelV1/train/._39.74733227--104.98739979999999-315.jpg  \n",
            "  inflating: effiDetTrainNewLabelV1/train/39.74185574--104.9999335-135.jpg  \n",
            "  inflating: __MACOSX/effiDetTrainNewLabelV1/train/._39.74185574--104.9999335-135.jpg  \n",
            "  inflating: effiDetTrainNewLabelV1/train/39.74546309--104.99357450000001-315.jpg  \n",
            "  inflating: __MACOSX/effiDetTrainNewLabelV1/train/._39.74546309--104.99357450000001-315.jpg  \n",
            "  inflating: effiDetTrainNewLabelV1/train/39.74553591--104.99865759999999-315.jpg  \n",
            "  inflating: __MACOSX/effiDetTrainNewLabelV1/train/._39.74553591--104.99865759999999-315.jpg  \n",
            "  inflating: effiDetTrainNewLabelV1/train/39.74532059--105.0001028-135.jpg  \n",
            "  inflating: __MACOSX/effiDetTrainNewLabelV1/train/._39.74532059--105.0001028-135.jpg  \n",
            "  inflating: effiDetTrainNewLabelV1/train/39.761998--104.93088440000001-315.jpg  \n",
            "  inflating: __MACOSX/effiDetTrainNewLabelV1/train/._39.761998--104.93088440000001-315.jpg  \n",
            "  inflating: effiDetTrainNewLabelV1/train/39.7422203--104.99254429999999-135.jpg  \n",
            "  inflating: __MACOSX/effiDetTrainNewLabelV1/train/._39.7422203--104.99254429999999-135.jpg  \n",
            "  inflating: effiDetTrainNewLabelV1/train/39.74166348--104.98978670000001-315.jpg  \n",
            "  inflating: __MACOSX/effiDetTrainNewLabelV1/train/._39.74166348--104.98978670000001-315.jpg  \n",
            "  inflating: effiDetTrainNewLabelV1/train/39.74764579--105.00344070000001-135.jpg  \n",
            "  inflating: __MACOSX/effiDetTrainNewLabelV1/train/._39.74764579--105.00344070000001-135.jpg  \n",
            "  inflating: effiDetTrainNewLabelV1/train/39.74515577--104.99395559999999-315.jpg  \n",
            "  inflating: __MACOSX/effiDetTrainNewLabelV1/train/._39.74515577--104.99395559999999-315.jpg  \n",
            "  inflating: effiDetTrainNewLabelV1/train/39.7504078--104.9958757-135.jpg  \n",
            "  inflating: __MACOSX/effiDetTrainNewLabelV1/train/._39.7504078--104.9958757-135.jpg  \n",
            "  inflating: effiDetTrainNewLabelV1/train/39.747526--104.9857325-315.jpg  \n",
            "  inflating: __MACOSX/effiDetTrainNewLabelV1/train/._39.747526--104.9857325-315.jpg  \n",
            "  inflating: effiDetTrainNewLabelV1/train/39.74845135--104.9794453-315.jpg  \n",
            "  inflating: __MACOSX/effiDetTrainNewLabelV1/train/._39.74845135--104.9794453-315.jpg  \n",
            "  inflating: effiDetTrainNewLabelV1/train/39.74318953--104.9930233-135.jpg  \n",
            "  inflating: __MACOSX/effiDetTrainNewLabelV1/train/._39.74318953--104.9930233-135.jpg  \n",
            "  inflating: effiDetTrainNewLabelV1/train/39.74447852--105.0000048-135.jpg  \n",
            "  inflating: __MACOSX/effiDetTrainNewLabelV1/train/._39.74447852--105.0000048-135.jpg  \n",
            "  inflating: effiDetTrainNewLabelV1/train/39.761992--104.9174233-135.jpg  \n",
            "  inflating: __MACOSX/effiDetTrainNewLabelV1/train/._39.761992--104.9174233-135.jpg  \n",
            "  inflating: effiDetTrainNewLabelV1/train/39.74464164--104.9876668-315.jpg  \n",
            "  inflating: __MACOSX/effiDetTrainNewLabelV1/train/._39.74464164--104.9876668-315.jpg  \n",
            "  inflating: effiDetTrainNewLabelV1/train/39.7475515--104.99954509999999-135.jpg  \n",
            "  inflating: __MACOSX/effiDetTrainNewLabelV1/train/._39.7475515--104.99954509999999-135.jpg  \n",
            "  inflating: effiDetTrainNewLabelV1/train/39.74751024--104.9978648-135.jpg  \n",
            "  inflating: __MACOSX/effiDetTrainNewLabelV1/train/._39.74751024--104.9978648-135.jpg  \n",
            "  inflating: effiDetTrainNewLabelV1/train/39.7209656--104.9862457-135.jpg  \n",
            "  inflating: __MACOSX/effiDetTrainNewLabelV1/train/._39.7209656--104.9862457-135.jpg  \n",
            "  inflating: effiDetTrainNewLabelV1/train/39.74500261--104.99414650000001-135.jpg  \n",
            "  inflating: __MACOSX/effiDetTrainNewLabelV1/train/._39.74500261--104.99414650000001-135.jpg  \n",
            "  inflating: effiDetTrainNewLabelV1/train/39.74753399--104.9798835-315.jpg  \n",
            "  inflating: __MACOSX/effiDetTrainNewLabelV1/train/._39.74753399--104.9798835-315.jpg  \n",
            "  inflating: effiDetTrainNewLabelV1/train/39.7619422--104.90249490000001-315.jpg  \n",
            "  inflating: __MACOSX/effiDetTrainNewLabelV1/train/._39.7619422--104.90249490000001-315.jpg  \n",
            "  inflating: effiDetTrainNewLabelV1/train/39.7584973--104.9733432-135.jpg  \n",
            "  inflating: __MACOSX/effiDetTrainNewLabelV1/train/._39.7584973--104.9733432-135.jpg  \n",
            "  inflating: effiDetTrainNewLabelV1/train/39.74061523--104.9911419-315.jpg  \n",
            "  inflating: __MACOSX/effiDetTrainNewLabelV1/train/._39.74061523--104.9911419-315.jpg  \n",
            "  inflating: effiDetTrainNewLabelV1/train/39.74758269--104.9855108-135.jpg  \n",
            "  inflating: __MACOSX/effiDetTrainNewLabelV1/train/._39.74758269--104.9855108-135.jpg  \n",
            "  inflating: effiDetTrainNewLabelV1/train/39.74094038--104.98897179999999-135.jpg  \n",
            "  inflating: __MACOSX/effiDetTrainNewLabelV1/train/._39.74094038--104.98897179999999-135.jpg  \n",
            "  inflating: effiDetTrainNewLabelV1/train/39.7562427--104.9796347-135.jpg  \n",
            "  inflating: __MACOSX/effiDetTrainNewLabelV1/train/._39.7562427--104.9796347-135.jpg  \n",
            "  inflating: effiDetTrainNewLabelV1/train/39.74710444--104.9949289-315.jpg  \n",
            "  inflating: __MACOSX/effiDetTrainNewLabelV1/train/._39.74710444--104.9949289-315.jpg  \n",
            "  inflating: effiDetTrainNewLabelV1/train/39.74689694--104.9969261-135.jpg  \n",
            "  inflating: __MACOSX/effiDetTrainNewLabelV1/train/._39.74689694--104.9969261-135.jpg  \n",
            "  inflating: effiDetTrainNewLabelV1/train/39.74834993--105.00365929999998-315.jpg  \n",
            "  inflating: __MACOSX/effiDetTrainNewLabelV1/train/._39.74834993--105.00365929999998-315.jpg  \n",
            "  inflating: effiDetTrainNewLabelV1/train/39.74727343--104.9875262-315.jpg  \n",
            "  inflating: __MACOSX/effiDetTrainNewLabelV1/train/._39.74727343--104.9875262-315.jpg  \n",
            "  inflating: effiDetTrainNewLabelV1/train/39.74396376--104.9955047-315.jpg  \n",
            "  inflating: __MACOSX/effiDetTrainNewLabelV1/train/._39.74396376--104.9955047-315.jpg  \n",
            "  inflating: effiDetTrainNewLabelV1/train/39.74704905--104.99673440000001-135.jpg  \n",
            "  inflating: __MACOSX/effiDetTrainNewLabelV1/train/._39.74704905--104.99673440000001-135.jpg  \n",
            "  inflating: effiDetTrainNewLabelV1/train/39.746192--104.9871632-315.jpg  \n",
            "  inflating: __MACOSX/effiDetTrainNewLabelV1/train/._39.746192--104.9871632-315.jpg  \n",
            "  inflating: effiDetTrainNewLabelV1/train/39.74846886--104.99839850000001-135.jpg  \n",
            "  inflating: __MACOSX/effiDetTrainNewLabelV1/train/._39.74846886--104.99839850000001-135.jpg  \n",
            "  inflating: effiDetTrainNewLabelV1/train/39.74227642--104.999315-315.jpg  \n",
            "  inflating: __MACOSX/effiDetTrainNewLabelV1/train/._39.74227642--104.999315-315.jpg  \n",
            "  inflating: effiDetTrainNewLabelV1/train/39.74676187--104.9988331-135.jpg  \n",
            "  inflating: __MACOSX/effiDetTrainNewLabelV1/train/._39.74676187--104.9988331-135.jpg  \n",
            "  inflating: effiDetTrainNewLabelV1/train/39.74754513--104.98110729999999-135.jpg  \n",
            "  inflating: __MACOSX/effiDetTrainNewLabelV1/train/._39.74754513--104.98110729999999-135.jpg  \n",
            "  inflating: effiDetTrainNewLabelV1/train/39.74296988--104.991577-315.jpg  \n",
            "  inflating: __MACOSX/effiDetTrainNewLabelV1/train/._39.74296988--104.991577-315.jpg  \n",
            "  inflating: effiDetTrainNewLabelV1/train/39.74408729--104.99186110000001-315.jpg  \n",
            "  inflating: __MACOSX/effiDetTrainNewLabelV1/train/._39.74408729--104.99186110000001-315.jpg  \n",
            "  inflating: effiDetTrainNewLabelV1/train/39.74665068--104.9955062-315.jpg  \n",
            "  inflating: __MACOSX/effiDetTrainNewLabelV1/train/._39.74665068--104.9955062-315.jpg  \n",
            "  inflating: effiDetTrainNewLabelV1/train/39.74359718--104.9890249-315.jpg  \n",
            "  inflating: __MACOSX/effiDetTrainNewLabelV1/train/._39.74359718--104.9890249-315.jpg  \n",
            "  inflating: effiDetTrainNewLabelV1/train/39.74799197--104.98334369999999-135.jpg  \n",
            "  inflating: __MACOSX/effiDetTrainNewLabelV1/train/._39.74799197--104.98334369999999-135.jpg  \n",
            "  inflating: effiDetTrainNewLabelV1/train/39.74456653--104.99646809999999-315.jpg  \n",
            "  inflating: __MACOSX/effiDetTrainNewLabelV1/train/._39.74456653--104.99646809999999-315.jpg  \n",
            "  inflating: effiDetTrainNewLabelV1/train/39.74304049--104.9983811-135.jpg  \n",
            "  inflating: __MACOSX/effiDetTrainNewLabelV1/train/._39.74304049--104.9983811-135.jpg  \n",
            "  inflating: effiDetTrainNewLabelV1/train/39.74192065--104.9929314-315.jpg  \n",
            "  inflating: __MACOSX/effiDetTrainNewLabelV1/train/._39.74192065--104.9929314-315.jpg  \n",
            "  inflating: effiDetTrainNewLabelV1/train/39.74463394--104.99981570000001-315.jpg  \n",
            "  inflating: __MACOSX/effiDetTrainNewLabelV1/train/._39.74463394--104.99981570000001-315.jpg  \n",
            "  inflating: effiDetTrainNewLabelV1/train/39.7436398--104.99244329999999-315.jpg  \n",
            "  inflating: __MACOSX/effiDetTrainNewLabelV1/train/._39.7436398--104.99244329999999-315.jpg  \n",
            "  inflating: effiDetTrainNewLabelV1/train/39.74169228--104.9949595-135.jpg  \n",
            "  inflating: __MACOSX/effiDetTrainNewLabelV1/train/._39.74169228--104.9949595-135.jpg  \n",
            "  inflating: effiDetTrainNewLabelV1/train/39.74616441--104.9909078-135.jpg  \n",
            "  inflating: __MACOSX/effiDetTrainNewLabelV1/train/._39.74616441--104.9909078-135.jpg  \n",
            "  inflating: effiDetTrainNewLabelV1/train/39.74857457--104.9878216-135.jpg  \n",
            "  inflating: __MACOSX/effiDetTrainNewLabelV1/train/._39.74857457--104.9878216-135.jpg  \n",
            "  inflating: effiDetTrainNewLabelV1/train/39.74363293--104.99420959999999-135.jpg  \n",
            "  inflating: __MACOSX/effiDetTrainNewLabelV1/train/._39.74363293--104.99420959999999-135.jpg  \n",
            "  inflating: effiDetTrainNewLabelV1/train/39.74680178--104.99531359999999-315.jpg  \n",
            "  inflating: __MACOSX/effiDetTrainNewLabelV1/train/._39.74680178--104.99531359999999-315.jpg  \n",
            "  inflating: effiDetTrainNewLabelV1/train/39.7459189--104.9947293-135.jpg  \n",
            "  inflating: __MACOSX/effiDetTrainNewLabelV1/train/._39.7459189--104.9947293-135.jpg  \n",
            "  inflating: effiDetTrainNewLabelV1/train/39.74121363--104.99036709999999-135.jpg  \n",
            "  inflating: __MACOSX/effiDetTrainNewLabelV1/train/._39.74121363--104.99036709999999-135.jpg  \n",
            "  inflating: effiDetTrainNewLabelV1/train/39.74872929--104.982367-315.jpg  \n",
            "  inflating: __MACOSX/effiDetTrainNewLabelV1/train/._39.74872929--104.982367-315.jpg  \n",
            "  inflating: effiDetTrainNewLabelV1/train/39.74787613--104.98610579999999-135.jpg  \n",
            "  inflating: __MACOSX/effiDetTrainNewLabelV1/train/._39.74787613--104.98610579999999-135.jpg  \n",
            "  inflating: effiDetTrainNewLabelV1/train/39.752323--104.98125300000001-135.jpg  \n",
            "  inflating: __MACOSX/effiDetTrainNewLabelV1/train/._39.752323--104.98125300000001-135.jpg  \n",
            "  inflating: effiDetTrainNewLabelV1/train/39.74539717--105.0005615-315.jpg  \n",
            "  inflating: __MACOSX/effiDetTrainNewLabelV1/train/._39.74539717--105.0005615-315.jpg  \n",
            "  inflating: effiDetTrainNewLabelV1/train/39.74252013--104.9921574-135.jpg  \n",
            "  inflating: __MACOSX/effiDetTrainNewLabelV1/train/._39.74252013--104.9921574-135.jpg  \n",
            "  inflating: effiDetTrainNewLabelV1/train/39.74123913--104.9885841-135.jpg  \n",
            "  inflating: __MACOSX/effiDetTrainNewLabelV1/train/._39.74123913--104.9885841-135.jpg  \n",
            "  inflating: effiDetTrainNewLabelV1/train/39.74756553--104.987156-135.jpg  \n",
            "  inflating: __MACOSX/effiDetTrainNewLabelV1/train/._39.74756553--104.987156-135.jpg  \n",
            "  inflating: effiDetTrainNewLabelV1/train/39.74573805--104.9966567-315.jpg  \n",
            "  inflating: __MACOSX/effiDetTrainNewLabelV1/train/._39.74573805--104.9966567-315.jpg  \n",
            "  inflating: effiDetTrainNewLabelV1/train/39.7407915--104.99611940000001-315.jpg  \n",
            "  inflating: __MACOSX/effiDetTrainNewLabelV1/train/._39.7407915--104.99611940000001-315.jpg  \n",
            "  inflating: effiDetTrainNewLabelV1/train/39.74725209--104.992976-135.jpg  \n",
            "  inflating: __MACOSX/effiDetTrainNewLabelV1/train/._39.74725209--104.992976-135.jpg  \n",
            "  inflating: effiDetTrainNewLabelV1/train/39.74255198--104.9903825-135.jpg  \n",
            "  inflating: __MACOSX/effiDetTrainNewLabelV1/train/._39.74255198--104.9903825-135.jpg  \n",
            "  inflating: effiDetTrainNewLabelV1/train/39.74300054--104.98980120000002-315.jpg  \n",
            "  inflating: __MACOSX/effiDetTrainNewLabelV1/train/._39.74300054--104.98980120000002-315.jpg  \n",
            "  inflating: effiDetTrainNewLabelV1/train/39.74658813--104.99730590000001-315.jpg  \n",
            "  inflating: __MACOSX/effiDetTrainNewLabelV1/train/._39.74658813--104.99730590000001-315.jpg  \n",
            "  inflating: effiDetTrainNewLabelV1/train/39.74423079--104.99343429999999-315.jpg  \n",
            "  inflating: __MACOSX/effiDetTrainNewLabelV1/train/._39.74423079--104.99343429999999-315.jpg  \n",
            "  inflating: effiDetTrainNewLabelV1/train/39.74282029--104.99177069999999-315.jpg  \n",
            "  inflating: __MACOSX/effiDetTrainNewLabelV1/train/._39.74282029--104.99177069999999-315.jpg  \n",
            "  inflating: effiDetTrainNewLabelV1/train/39.74229031--104.99418440000001-315.jpg  \n",
            "  inflating: __MACOSX/effiDetTrainNewLabelV1/train/._39.74229031--104.99418440000001-315.jpg  \n",
            "  inflating: effiDetTrainNewLabelV1/train/39.74410381--104.99530779999999-315.jpg  \n",
            "  inflating: __MACOSX/effiDetTrainNewLabelV1/train/._39.74410381--104.99530779999999-315.jpg  \n",
            "  inflating: effiDetTrainNewLabelV1/train/39.74318894--104.9981865-315.jpg  \n",
            "  inflating: __MACOSX/effiDetTrainNewLabelV1/train/._39.74318894--104.9981865-315.jpg  \n",
            "  inflating: effiDetTrainNewLabelV1/train/39.74785996--104.99916499999999-315.jpg  \n",
            "  inflating: __MACOSX/effiDetTrainNewLabelV1/train/._39.74785996--104.99916499999999-315.jpg  \n",
            "  inflating: effiDetTrainNewLabelV1/train/39.74394257--104.9972225-135.jpg  \n",
            "  inflating: __MACOSX/effiDetTrainNewLabelV1/train/._39.74394257--104.9972225-135.jpg  \n",
            "  inflating: effiDetTrainNewLabelV1/train/39.74582685--104.9982639-135.jpg  \n",
            "  inflating: __MACOSX/effiDetTrainNewLabelV1/train/._39.74582685--104.9982639-135.jpg  \n",
            "  inflating: effiDetTrainNewLabelV1/train/39.74858098--104.9825617-315.jpg  \n",
            "  inflating: __MACOSX/effiDetTrainNewLabelV1/train/._39.74858098--104.9825617-315.jpg  \n",
            "  inflating: effiDetTrainNewLabelV1/train/39.7449823--104.99069679999998-315.jpg  \n",
            "  inflating: __MACOSX/effiDetTrainNewLabelV1/train/._39.7449823--104.99069679999998-315.jpg  \n",
            "  inflating: effiDetTrainNewLabelV1/train/39.7609325--104.98401489999999-135.jpg  \n",
            "  inflating: __MACOSX/effiDetTrainNewLabelV1/train/._39.7609325--104.98401489999999-135.jpg  \n",
            "  inflating: effiDetTrainNewLabelV1/train/39.74586381--104.987407-315.jpg  \n",
            "  inflating: __MACOSX/effiDetTrainNewLabelV1/train/._39.74586381--104.987407-315.jpg  \n",
            "  inflating: effiDetTrainNewLabelV1/train/39.74606464--104.9928024-135.jpg  \n",
            "  inflating: __MACOSX/effiDetTrainNewLabelV1/train/._39.74606464--104.9928024-135.jpg  \n",
            "  inflating: effiDetTrainNewLabelV1/train/39.74870489--105.0032389-135.jpg  \n",
            "  inflating: __MACOSX/effiDetTrainNewLabelV1/train/._39.74870489--105.0032389-135.jpg  \n",
            "  inflating: effiDetTrainNewLabelV1/train/39.74028099--104.9950668-135.jpg  \n",
            "  inflating: __MACOSX/effiDetTrainNewLabelV1/train/._39.74028099--104.9950668-135.jpg  \n",
            "  inflating: effiDetTrainNewLabelV1/train/39.74558532--104.9968479-135.jpg  \n",
            "  inflating: __MACOSX/effiDetTrainNewLabelV1/train/._39.74558532--104.9968479-135.jpg  \n",
            "  inflating: effiDetTrainNewLabelV1/train/39.74755855--104.99435179999999-315.jpg  \n",
            "  inflating: __MACOSX/effiDetTrainNewLabelV1/train/._39.74755855--104.99435179999999-315.jpg  \n",
            "  inflating: effiDetTrainNewLabelV1/train/39.74453562--104.99127959999998-135.jpg  \n",
            "  inflating: __MACOSX/effiDetTrainNewLabelV1/train/._39.74453562--104.99127959999998-135.jpg  \n",
            "  inflating: effiDetTrainNewLabelV1/train/39.72292356--104.9862348-135.jpg  \n",
            "  inflating: __MACOSX/effiDetTrainNewLabelV1/train/._39.72292356--104.9862348-135.jpg  \n",
            "  inflating: effiDetTrainNewLabelV1/train/39.7445519--104.9947261-135.jpg  \n",
            "  inflating: __MACOSX/effiDetTrainNewLabelV1/train/._39.7445519--104.9947261-135.jpg  \n",
            "  inflating: effiDetTrainNewLabelV1/train/39.74244674--104.99915949999999-135.jpg  \n",
            "  inflating: __MACOSX/effiDetTrainNewLabelV1/train/._39.74244674--104.99915949999999-135.jpg  \n",
            "  inflating: effiDetTrainNewLabelV1/train/39.7640664--104.9799409-135.jpg  \n",
            "  inflating: __MACOSX/effiDetTrainNewLabelV1/train/._39.7640664--104.9799409-135.jpg  \n",
            "  inflating: effiDetTrainNewLabelV1/train/39.74674228--104.9971158-315.jpg  \n",
            "  inflating: __MACOSX/effiDetTrainNewLabelV1/train/._39.74674228--104.9971158-315.jpg  \n",
            "  inflating: effiDetTrainNewLabelV1/train/39.74285424--104.98823259999999-315.jpg  \n",
            "  inflating: __MACOSX/effiDetTrainNewLabelV1/train/._39.74285424--104.98823259999999-315.jpg  \n",
            "  inflating: effiDetTrainNewLabelV1/train/39.74431056--104.9898291-135.jpg  \n",
            "  inflating: __MACOSX/effiDetTrainNewLabelV1/train/._39.74431056--104.9898291-135.jpg  \n",
            "  inflating: effiDetTrainNewLabelV1/train/39.74543265--104.9918887-315.jpg  \n",
            "  inflating: __MACOSX/effiDetTrainNewLabelV1/train/._39.74543265--104.9918887-315.jpg  \n",
            "  inflating: effiDetTrainNewLabelV1/train/39.7595851--104.987495-315.jpg  \n",
            "  inflating: __MACOSX/effiDetTrainNewLabelV1/train/._39.7595851--104.987495-315.jpg  \n",
            "  inflating: effiDetTrainNewLabelV1/train/39.74207062--104.99273799999999-315.jpg  \n",
            "  inflating: __MACOSX/effiDetTrainNewLabelV1/train/._39.74207062--104.99273799999999-315.jpg  \n",
            "  inflating: effiDetTrainNewLabelV1/train/39.74256489--104.9886274-315.jpg  \n",
            "  inflating: __MACOSX/effiDetTrainNewLabelV1/train/._39.74256489--104.9886274-315.jpg  \n",
            "  inflating: effiDetTrainNewLabelV1/train/39.74034929--104.99824950000001-135.jpg  \n",
            "  inflating: __MACOSX/effiDetTrainNewLabelV1/train/._39.74034929--104.99824950000001-135.jpg  \n",
            "  inflating: effiDetTrainNewLabelV1/train/39.74314462--104.9878385-315.jpg  \n",
            "  inflating: __MACOSX/effiDetTrainNewLabelV1/train/._39.74314462--104.9878385-315.jpg  \n",
            "  inflating: effiDetTrainNewLabelV1/train/39.74561905--104.987407-315.jpg  \n",
            "  inflating: __MACOSX/effiDetTrainNewLabelV1/train/._39.74561905--104.987407-315.jpg  \n",
            "  inflating: effiDetTrainNewLabelV1/train/39.74753189--104.979394-315.jpg  \n",
            "  inflating: __MACOSX/effiDetTrainNewLabelV1/train/._39.74753189--104.979394-315.jpg  \n",
            "  inflating: effiDetTrainNewLabelV1/train/39.74078137--104.9891578-135.jpg  \n",
            "  inflating: __MACOSX/effiDetTrainNewLabelV1/train/._39.74078137--104.9891578-135.jpg  \n",
            "  inflating: effiDetTrainNewLabelV1/train/39.74485105--104.99433870000001-135.jpg  \n",
            "  inflating: __MACOSX/effiDetTrainNewLabelV1/train/._39.74485105--104.99433870000001-135.jpg  \n",
            "  inflating: effiDetTrainNewLabelV1/train/39.72121034--104.9862426-135.jpg  \n",
            "  inflating: __MACOSX/effiDetTrainNewLabelV1/train/._39.72121034--104.9862426-135.jpg  \n",
            "  inflating: effiDetTrainNewLabelV1/train/39.7439015--104.9957402-315.jpg  \n",
            "  inflating: __MACOSX/effiDetTrainNewLabelV1/train/._39.7439015--104.9957402-315.jpg  \n",
            "  inflating: effiDetTrainNewLabelV1/train/39.74757703--104.9873996-315.jpg  \n",
            "  inflating: __MACOSX/effiDetTrainNewLabelV1/train/._39.74757703--104.9873996-315.jpg  \n",
            "  inflating: effiDetTrainNewLabelV1/train/39.74030818--104.99328829999999-135.jpg  \n",
            "  inflating: __MACOSX/effiDetTrainNewLabelV1/train/._39.74030818--104.99328829999999-135.jpg  \n",
            "  inflating: effiDetTrainNewLabelV1/train/39.74755--104.982331-135.jpg  \n",
            "  inflating: __MACOSX/effiDetTrainNewLabelV1/train/._39.74755--104.982331-135.jpg  \n",
            "  inflating: effiDetTrainNewLabelV1/train/39.74755002--104.98257579999999-135.jpg  \n",
            "  inflating: __MACOSX/effiDetTrainNewLabelV1/train/._39.74755002--104.98257579999999-135.jpg  \n",
            "  inflating: effiDetTrainNewLabelV1/train/39.7479669--104.98858919999999-135.jpg  \n",
            "  inflating: __MACOSX/effiDetTrainNewLabelV1/train/._39.7479669--104.98858919999999-135.jpg  \n",
            "  inflating: effiDetTrainNewLabelV1/train/39.74446075--104.98963590000001-135.jpg  \n",
            "  inflating: __MACOSX/effiDetTrainNewLabelV1/train/._39.74446075--104.98963590000001-135.jpg  \n",
            "  inflating: effiDetTrainNewLabelV1/train/39.753091--104.98542479999999-135.jpg  \n",
            "  inflating: __MACOSX/effiDetTrainNewLabelV1/train/._39.753091--104.98542479999999-135.jpg  \n",
            "  inflating: effiDetTrainNewLabelV1/train/_annotation.coco.json  \n",
            "  inflating: effiDetTrainNewLabelV1/train/39.74586769--104.99999809999998-135.jpg  \n",
            "  inflating: __MACOSX/effiDetTrainNewLabelV1/train/._39.74586769--104.99999809999998-135.jpg  \n",
            "  inflating: effiDetTrainNewLabelV1/train/39.7565745--104.9899989-315.jpg  \n",
            "  inflating: __MACOSX/effiDetTrainNewLabelV1/train/._39.7565745--104.9899989-315.jpg  \n",
            "  inflating: effiDetTrainNewLabelV1/train/39.74631366--104.99941470000002-135.jpg  \n",
            "  inflating: __MACOSX/effiDetTrainNewLabelV1/train/._39.74631366--104.99941470000002-135.jpg  \n",
            "  inflating: effiDetTrainNewLabelV1/train/39.74363462--104.9976029-315.jpg  \n",
            "  inflating: __MACOSX/effiDetTrainNewLabelV1/train/._39.74363462--104.9976029-315.jpg  \n",
            "  inflating: effiDetTrainNewLabelV1/train/39.71925232--104.986236-315.jpg  \n",
            "  inflating: __MACOSX/effiDetTrainNewLabelV1/train/._39.71925232--104.986236-315.jpg  \n",
            "  inflating: effiDetTrainNewLabelV1/train/39.74739855--104.9927798-135.jpg  \n",
            "  inflating: __MACOSX/effiDetTrainNewLabelV1/train/._39.74739855--104.9927798-135.jpg  \n",
            "  inflating: effiDetTrainNewLabelV1/train/39.74299934--104.9880355-315.jpg  \n",
            "  inflating: __MACOSX/effiDetTrainNewLabelV1/train/._39.74299934--104.9880355-315.jpg  \n",
            "  inflating: effiDetTrainNewLabelV1/train/39.74141655--104.9988469-135.jpg  \n",
            "  inflating: __MACOSX/effiDetTrainNewLabelV1/train/._39.74141655--104.9988469-135.jpg  \n",
            "  inflating: effiDetTrainNewLabelV1/train/39.74766026--104.99767140000002-315.jpg  \n",
            "  inflating: __MACOSX/effiDetTrainNewLabelV1/train/._39.74766026--104.99767140000002-315.jpg  \n",
            "  inflating: effiDetTrainNewLabelV1/train/39.74765647--104.9959666-135.jpg  \n",
            "  inflating: __MACOSX/effiDetTrainNewLabelV1/train/._39.74765647--104.9959666-135.jpg  \n",
            "  inflating: effiDetTrainNewLabelV1/train/39.7454325--104.99703909999998-315.jpg  \n",
            "  inflating: __MACOSX/effiDetTrainNewLabelV1/train/._39.7454325--104.99703909999998-315.jpg  \n",
            "  inflating: effiDetTrainNewLabelV1/testLabel/39.75050027--104.9852889-315.xml  \n",
            "  inflating: __MACOSX/effiDetTrainNewLabelV1/testLabel/._39.75050027--104.9852889-315.xml  \n",
            "  inflating: effiDetTrainNewLabelV1/testLabel/39.75050879--104.9939957-135.xml  \n",
            "  inflating: __MACOSX/effiDetTrainNewLabelV1/testLabel/._39.75050879--104.9939957-135.xml  \n",
            "  inflating: effiDetTrainNewLabelV1/testLabel/39.75230322--104.99167050000001-135.xml  \n",
            "  inflating: __MACOSX/effiDetTrainNewLabelV1/testLabel/._39.75230322--104.99167050000001-135.xml  \n",
            "  inflating: effiDetTrainNewLabelV1/testLabel/39.75316601--104.9784342-315.xml  \n",
            "  inflating: __MACOSX/effiDetTrainNewLabelV1/testLabel/._39.75316601--104.9784342-315.xml  \n",
            "  inflating: effiDetTrainNewLabelV1/testLabel/39.75108959--105.0001919-135.xml  \n",
            "  inflating: __MACOSX/effiDetTrainNewLabelV1/testLabel/._39.75108959--105.0001919-135.xml  \n",
            "  inflating: effiDetTrainNewLabelV1/testLabel/39.75014724--104.99968829999999-315.xml  \n",
            "  inflating: __MACOSX/effiDetTrainNewLabelV1/testLabel/._39.75014724--104.99968829999999-315.xml  \n",
            "  inflating: effiDetTrainNewLabelV1/testLabel/39.75193941--104.99736170000001-135.xml  \n",
            "  inflating: __MACOSX/effiDetTrainNewLabelV1/testLabel/._39.75193941--104.99736170000001-135.xml  \n",
            "  inflating: effiDetTrainNewLabelV1/testLabel/39.75234714--104.9863966-315.xml  \n",
            "  inflating: __MACOSX/effiDetTrainNewLabelV1/testLabel/._39.75234714--104.9863966-315.xml  \n",
            "  inflating: effiDetTrainNewLabelV1/testLabel/39.75185838--104.98355459999999-135.xml  \n",
            "  inflating: __MACOSX/effiDetTrainNewLabelV1/testLabel/._39.75185838--104.98355459999999-135.xml  \n",
            "  inflating: effiDetTrainNewLabelV1/testLabel/39.74950289--104.99007560000001-315.xml  \n",
            "  inflating: __MACOSX/effiDetTrainNewLabelV1/testLabel/._39.74950289--104.99007560000001-315.xml  \n",
            "  inflating: effiDetTrainNewLabelV1/testLabel/39.74917208--104.98704620000001-315.xml  \n",
            "  inflating: __MACOSX/effiDetTrainNewLabelV1/testLabel/._39.74917208--104.98704620000001-315.xml  \n",
            "  inflating: effiDetTrainNewLabelV1/testLabel/39.75193303--104.98402659999998-315.xml  \n",
            "  inflating: __MACOSX/effiDetTrainNewLabelV1/testLabel/._39.75193303--104.98402659999998-315.xml  \n",
            "  inflating: effiDetTrainNewLabelV1/testLabel/39.74897698--104.9942037-315.xml  \n",
            "  inflating: __MACOSX/effiDetTrainNewLabelV1/testLabel/._39.74897698--104.9942037-315.xml  \n",
            "  inflating: effiDetTrainNewLabelV1/testLabel/39.74902548--104.98550970000001-315.xml  \n",
            "  inflating: __MACOSX/effiDetTrainNewLabelV1/testLabel/._39.74902548--104.98550970000001-315.xml  \n",
            "  inflating: effiDetTrainNewLabelV1/testLabel/39.74919901--104.98872959999998-135.xml  \n",
            "  inflating: __MACOSX/effiDetTrainNewLabelV1/testLabel/._39.74919901--104.98872959999998-135.xml  \n",
            "  inflating: effiDetTrainNewLabelV1/testLabel/39.74894099--105.0012304-135.xml  \n",
            "  inflating: __MACOSX/effiDetTrainNewLabelV1/testLabel/._39.74894099--105.0012304-135.xml  \n",
            "  inflating: effiDetTrainNewLabelV1/testLabel/39.75049371--105.00096869999999-315.xml  \n",
            "  inflating: __MACOSX/effiDetTrainNewLabelV1/testLabel/._39.75049371--105.00096869999999-315.xml  \n",
            "  inflating: effiDetTrainNewLabelV1/testLabel/39.75200831--104.98336110000001-135.xml  \n",
            "  inflating: __MACOSX/effiDetTrainNewLabelV1/testLabel/._39.75200831--104.98336110000001-135.xml  \n",
            "  inflating: effiDetTrainNewLabelV1/testLabel/39.75025541--104.9908683-315.xml  \n",
            "  inflating: __MACOSX/effiDetTrainNewLabelV1/testLabel/._39.75025541--104.9908683-315.xml  \n",
            "  inflating: effiDetTrainNewLabelV1/testLabel/39.74992712--104.9843507-135.xml  \n",
            "  inflating: __MACOSX/effiDetTrainNewLabelV1/testLabel/._39.74992712--104.9843507-135.xml  \n",
            "  inflating: effiDetTrainNewLabelV1/testLabel/39.75086502--104.99530120000001-135.xml  \n",
            "  inflating: __MACOSX/effiDetTrainNewLabelV1/testLabel/._39.75086502--104.99530120000001-135.xml  \n",
            "  inflating: effiDetTrainNewLabelV1/testLabel/39.74885675--104.99612150000002-315.xml  \n",
            "  inflating: __MACOSX/effiDetTrainNewLabelV1/testLabel/._39.74885675--104.99612150000002-315.xml  \n",
            "  inflating: effiDetTrainNewLabelV1/testLabel/39.75152453--104.99091399999999-135.xml  \n",
            "  inflating: __MACOSX/effiDetTrainNewLabelV1/testLabel/._39.75152453--104.99091399999999-135.xml  \n",
            "  inflating: effiDetTrainNewLabelV1/testLabel/39.75668782--104.9790507-135.xml  \n",
            "  inflating: __MACOSX/effiDetTrainNewLabelV1/testLabel/._39.75668782--104.9790507-135.xml  \n",
            "  inflating: effiDetTrainNewLabelV1/testLabel/39.75060079--104.98171-135.xml  \n",
            "  inflating: __MACOSX/effiDetTrainNewLabelV1/testLabel/._39.75060079--104.98171-135.xml  \n",
            "  inflating: effiDetTrainNewLabelV1/testLabel/39.75112911--104.982805-315.xml  \n",
            "  inflating: __MACOSX/effiDetTrainNewLabelV1/testLabel/._39.75112911--104.982805-315.xml  \n",
            "  inflating: effiDetTrainNewLabelV1/testLabel/39.74879542--105.001427-315.xml  \n",
            "  inflating: __MACOSX/effiDetTrainNewLabelV1/testLabel/._39.74879542--105.001427-315.xml  \n",
            "  inflating: effiDetTrainNewLabelV1/testLabel/39.74904557--104.9873963-135.xml  \n",
            "  inflating: __MACOSX/effiDetTrainNewLabelV1/testLabel/._39.74904557--104.9873963-135.xml  \n",
            "  inflating: effiDetTrainNewLabelV1/testLabel/39.75245371--104.99147749999999-315.xml  \n",
            "  inflating: __MACOSX/effiDetTrainNewLabelV1/testLabel/._39.75245371--104.99147749999999-315.xml  \n",
            "  inflating: effiDetTrainNewLabelV1/testLabel/39.74895055--104.9801471-135.xml  \n",
            "  inflating: __MACOSX/effiDetTrainNewLabelV1/testLabel/._39.74895055--104.9801471-135.xml  \n",
            "  inflating: effiDetTrainNewLabelV1/testLabel/39.75238657--104.9846041-135.xml  \n",
            "  inflating: __MACOSX/effiDetTrainNewLabelV1/testLabel/._39.75238657--104.9846041-135.xml  \n",
            "  inflating: effiDetTrainNewLabelV1/testLabel/39.74972803--104.9932375-135.xml  \n",
            "  inflating: __MACOSX/effiDetTrainNewLabelV1/testLabel/._39.74972803--104.9932375-135.xml  \n",
            "  inflating: effiDetTrainNewLabelV1/testLabel/39.74964685--104.9881478-315.xml  \n",
            "  inflating: __MACOSX/effiDetTrainNewLabelV1/testLabel/._39.74964685--104.9881478-315.xml  \n",
            "  inflating: effiDetTrainNewLabelV1/testLabel/39.74911224--104.98365279999999-315.xml  \n",
            "  inflating: __MACOSX/effiDetTrainNewLabelV1/testLabel/._39.74911224--104.98365279999999-315.xml  \n",
            "  inflating: effiDetTrainNewLabelV1/testLabel/39.75099463--104.9864054-315.xml  \n",
            "  inflating: __MACOSX/effiDetTrainNewLabelV1/testLabel/._39.75099463--104.9864054-315.xml  \n",
            "  inflating: effiDetTrainNewLabelV1/testLabel/39.75085129--104.99009140000001-135.xml  \n",
            "  inflating: __MACOSX/effiDetTrainNewLabelV1/testLabel/._39.75085129--104.99009140000001-135.xml  \n",
            "  inflating: effiDetTrainNewLabelV1/testLabel/39.74953471--105.000452-135.xml  \n",
            "  inflating: __MACOSX/effiDetTrainNewLabelV1/testLabel/._39.74953471--105.000452-135.xml  \n",
            "  inflating: effiDetTrainNewLabelV1/testLabel/39.75163357--104.98363940000002-315.xml  \n",
            "  inflating: __MACOSX/effiDetTrainNewLabelV1/testLabel/._39.75163357--104.98363940000002-315.xml  \n",
            "  inflating: effiDetTrainNewLabelV1/testLabel/39.74908927--105.0010357-315.xml  \n",
            "  inflating: __MACOSX/effiDetTrainNewLabelV1/testLabel/._39.74908927--105.0010357-315.xml  \n",
            "  inflating: effiDetTrainNewLabelV1/testLabel/39.74941627--105.00228759999999-315.xml  \n",
            "  inflating: __MACOSX/effiDetTrainNewLabelV1/testLabel/._39.74941627--105.00228759999999-315.xml  \n",
            "  inflating: effiDetTrainNewLabelV1/testLabel/.DS_Store  \n",
            "  inflating: __MACOSX/effiDetTrainNewLabelV1/testLabel/._.DS_Store  \n",
            "  inflating: effiDetTrainNewLabelV1/testLabel/39.74920428--104.9904635-135.xml  \n",
            "  inflating: __MACOSX/effiDetTrainNewLabelV1/testLabel/._39.74920428--104.9904635-135.xml  \n",
            "  inflating: effiDetTrainNewLabelV1/testLabel/39.74994222--105.00440729999998-135.xml  \n",
            "  inflating: __MACOSX/effiDetTrainNewLabelV1/testLabel/._39.74994222--105.00440729999998-135.xml  \n",
            "  inflating: effiDetTrainNewLabelV1/testLabel/39.75104715--104.9985281-315.xml  \n",
            "  inflating: __MACOSX/effiDetTrainNewLabelV1/testLabel/._39.75104715--104.9985281-315.xml  \n",
            "  inflating: effiDetTrainNewLabelV1/testLabel/39.75007707--104.9841572-135.xml  \n",
            "  inflating: __MACOSX/effiDetTrainNewLabelV1/testLabel/._39.75007707--104.9841572-135.xml  \n",
            "  inflating: effiDetTrainNewLabelV1/testLabel/39.74902595--104.98724250000001-135.xml  \n",
            "  inflating: __MACOSX/effiDetTrainNewLabelV1/testLabel/._39.74902595--104.98724250000001-135.xml  \n",
            "  inflating: effiDetTrainNewLabelV1/testLabel/39.75064966--104.985095-135.xml  \n",
            "  inflating: __MACOSX/effiDetTrainNewLabelV1/testLabel/._39.75064966--104.985095-135.xml  \n",
            "  inflating: effiDetTrainNewLabelV1/testLabel/39.75163955--104.99774860000001-315.xml  \n",
            "  inflating: __MACOSX/effiDetTrainNewLabelV1/testLabel/._39.75163955--104.99774860000001-315.xml  \n",
            "  inflating: effiDetTrainNewLabelV1/testLabel/39.75464121--104.99388200000001-315.xml  \n",
            "  inflating: __MACOSX/effiDetTrainNewLabelV1/testLabel/._39.75464121--104.99388200000001-315.xml  \n",
            "  inflating: effiDetTrainNewLabelV1/testLabel/39.75080865--104.99360870000001-135.xml  \n",
            "  inflating: __MACOSX/effiDetTrainNewLabelV1/testLabel/._39.75080865--104.99360870000001-135.xml  \n",
            "  inflating: effiDetTrainNewLabelV1/testLabel/39.75024927--104.98910579999999-135.xml  \n",
            "  inflating: __MACOSX/effiDetTrainNewLabelV1/testLabel/._39.75024927--104.98910579999999-135.xml  \n",
            "  inflating: effiDetTrainNewLabelV1/testLabel/39.74979483--105.0042119-135.xml  \n",
            "  inflating: __MACOSX/effiDetTrainNewLabelV1/testLabel/._39.74979483--105.0042119-135.xml  \n",
            "  inflating: effiDetTrainNewLabelV1/testLabel/39.74947406--105.0038439-315.xml  \n",
            "  inflating: __MACOSX/effiDetTrainNewLabelV1/testLabel/._39.74947406--105.0038439-315.xml  \n",
            "  inflating: effiDetTrainNewLabelV1/testLabel/39.75116755--104.99491640000001-135.xml  \n",
            "  inflating: __MACOSX/effiDetTrainNewLabelV1/testLabel/._39.75116755--104.99491640000001-135.xml  \n",
            "  inflating: effiDetTrainNewLabelV1/testLabel/39.75051411--104.987389-135.xml  \n",
            "  inflating: __MACOSX/effiDetTrainNewLabelV1/testLabel/._39.75051411--104.987389-135.xml  \n",
            "  inflating: effiDetTrainNewLabelV1/testLabel/39.74980573--104.9966477-135.xml  \n",
            "  inflating: __MACOSX/effiDetTrainNewLabelV1/testLabel/._39.74980573--104.9966477-135.xml  \n",
            "  inflating: effiDetTrainNewLabelV1/testLabel/39.74890342--104.99260729999999-315.xml  \n",
            "  inflating: __MACOSX/effiDetTrainNewLabelV1/testLabel/._39.74890342--104.99260729999999-315.xml  \n",
            "  inflating: effiDetTrainNewLabelV1/testLabel/39.74931821--104.98684979999999-315.xml  \n",
            "  inflating: __MACOSX/effiDetTrainNewLabelV1/testLabel/._39.74931821--104.98684979999999-315.xml  \n",
            "  inflating: effiDetTrainNewLabelV1/testLabel/39.74938586--105.0006463-135.xml  \n",
            "  inflating: __MACOSX/effiDetTrainNewLabelV1/testLabel/._39.74938586--105.0006463-135.xml  \n",
            "  inflating: effiDetTrainNewLabelV1/testLabel/39.74887857--104.98743789999999-315.xml  \n",
            "  inflating: __MACOSX/effiDetTrainNewLabelV1/testLabel/._39.74887857--104.98743789999999-315.xml  \n",
            "  inflating: effiDetTrainNewLabelV1/testLabel/39.74945038--104.99534299999999-315.xml  \n",
            "  inflating: __MACOSX/effiDetTrainNewLabelV1/testLabel/._39.74945038--104.99534299999999-315.xml  \n",
            "  inflating: effiDetTrainNewLabelV1/testLabel/39.75025554--104.99606740000002-135.xml  \n",
            "  inflating: __MACOSX/effiDetTrainNewLabelV1/testLabel/._39.75025554--104.99606740000002-135.xml  \n",
            "  inflating: effiDetTrainNewLabelV1/testLabel/39.74950059--104.97969099999999-135.xml  \n",
            "  inflating: __MACOSX/effiDetTrainNewLabelV1/testLabel/._39.74950059--104.97969099999999-135.xml  \n",
            "  inflating: effiDetTrainNewLabelV1/testLabel/39.75054591--104.9869866-135.xml  \n",
            "  inflating: __MACOSX/effiDetTrainNewLabelV1/testLabel/._39.75054591--104.9869866-135.xml  \n",
            "  inflating: effiDetTrainNewLabelV1/testLabel/39.75320592--104.9874068-135.xml  \n",
            "  inflating: __MACOSX/effiDetTrainNewLabelV1/testLabel/._39.75320592--104.9874068-135.xml  \n",
            "  inflating: effiDetTrainNewLabelV1/testLabel/39.75054209--104.9800563-135.xml  \n",
            "  inflating: __MACOSX/effiDetTrainNewLabelV1/testLabel/._39.75054209--104.9800563-135.xml  \n",
            "  inflating: effiDetTrainNewLabelV1/testLabel/39.74977796--104.98454469999999-135.xml  \n",
            "  inflating: __MACOSX/effiDetTrainNewLabelV1/testLabel/._39.74977796--104.98454469999999-135.xml  \n",
            "  inflating: effiDetTrainNewLabelV1/testLabel/39.75253742--104.99658649999999-315.xml  \n",
            "  inflating: __MACOSX/effiDetTrainNewLabelV1/testLabel/._39.75253742--104.99658649999999-315.xml  \n",
            "  inflating: effiDetTrainNewLabelV1/testLabel/39.75065872--104.9938022-315.xml  \n",
            "  inflating: __MACOSX/effiDetTrainNewLabelV1/testLabel/._39.75065872--104.9938022-315.xml  \n",
            "  inflating: effiDetTrainNewLabelV1/testLabel/39.75124836--104.98738449999999-315.xml  \n",
            "  inflating: __MACOSX/effiDetTrainNewLabelV1/testLabel/._39.75124836--104.98738449999999-315.xml  \n",
            "  inflating: effiDetTrainNewLabelV1/testLabel/39.75010416--104.99625970000001-135.xml  \n",
            "  inflating: __MACOSX/effiDetTrainNewLabelV1/testLabel/._39.75010416--104.99625970000001-135.xml  \n",
            "  inflating: effiDetTrainNewLabelV1/testLabel/39.75097903--104.9829983-315.xml  \n",
            "  inflating: __MACOSX/effiDetTrainNewLabelV1/testLabel/._39.75097903--104.9829983-315.xml  \n",
            "  inflating: effiDetTrainNewLabelV1/testLabel/39.75217304--104.98144640000001-135.xml  \n",
            "  inflating: __MACOSX/effiDetTrainNewLabelV1/testLabel/._39.75217304--104.98144640000001-135.xml  \n",
            "  inflating: effiDetTrainNewLabelV1/testLabel/39.75170866--104.98374820000001-315.xml  \n",
            "  inflating: __MACOSX/effiDetTrainNewLabelV1/testLabel/._39.75170866--104.98374820000001-315.xml  \n",
            "  inflating: effiDetTrainNewLabelV1/testLabel/39.75039931--104.9889124-315.xml  \n",
            "  inflating: __MACOSX/effiDetTrainNewLabelV1/testLabel/._39.75039931--104.9889124-315.xml  \n",
            "  inflating: effiDetTrainNewLabelV1/testLabel/39.75189566--104.9852457-135.xml  \n",
            "  inflating: __MACOSX/effiDetTrainNewLabelV1/testLabel/._39.75189566--104.9852457-135.xml  \n",
            "  inflating: effiDetTrainNewLabelV1/testLabel/39.75115277--104.9879481-135.xml  \n",
            "  inflating: __MACOSX/effiDetTrainNewLabelV1/testLabel/._39.75115277--104.9879481-135.xml  \n",
            "  inflating: effiDetTrainNewLabelV1/testLabel/39.74965496--104.9916415-315.xml  \n",
            "  inflating: __MACOSX/effiDetTrainNewLabelV1/testLabel/._39.74965496--104.9916415-315.xml  \n",
            "  inflating: effiDetTrainNewLabelV1/testLabel/39.74920219--104.9922196-315.xml  \n",
            "  inflating: __MACOSX/effiDetTrainNewLabelV1/testLabel/._39.74920219--104.9922196-315.xml  \n",
            "  inflating: effiDetTrainNewLabelV1/testLabel/39.75235255--104.9933577-135.xml  \n",
            "  inflating: __MACOSX/effiDetTrainNewLabelV1/testLabel/._39.75235255--104.9933577-135.xml  \n",
            "  inflating: effiDetTrainNewLabelV1/testLabel/39.74975209--104.9949575-135.xml  \n",
            "  inflating: __MACOSX/effiDetTrainNewLabelV1/testLabel/._39.74975209--104.9949575-135.xml  \n",
            "  inflating: effiDetTrainNewLabelV1/testLabel/39.75038511--105.004993-315.xml  \n",
            "  inflating: __MACOSX/effiDetTrainNewLabelV1/testLabel/._39.75038511--105.004993-315.xml  \n",
            "  inflating: effiDetTrainNewLabelV1/testLabel/39.75055858--104.97834340000001-315.xml  \n",
            "  inflating: __MACOSX/effiDetTrainNewLabelV1/testLabel/._39.75055858--104.97834340000001-315.xml  \n",
            "  inflating: effiDetTrainNewLabelV1/testLabel/39.75010675--104.99106270000001-315.xml  \n",
            "  inflating: __MACOSX/effiDetTrainNewLabelV1/testLabel/._39.75010675--104.99106270000001-315.xml  \n",
            "  inflating: effiDetTrainNewLabelV1/testLabel/39.75215342--104.99186399999999-135.xml  \n",
            "  inflating: __MACOSX/effiDetTrainNewLabelV1/testLabel/._39.75215342--104.99186399999999-135.xml  \n",
            "  inflating: effiDetTrainNewLabelV1/testLabel/39.75123908--104.99999809999998-315.xml  \n",
            "  inflating: __MACOSX/effiDetTrainNewLabelV1/testLabel/._39.75123908--104.99999809999998-315.xml  \n",
            "  inflating: effiDetTrainNewLabelV1/testLabel/39.75149005--104.99794240000001-135.xml  \n",
            "  inflating: __MACOSX/effiDetTrainNewLabelV1/testLabel/._39.75149005--104.99794240000001-135.xml  \n",
            "  inflating: effiDetTrainNewLabelV1/testLabel/39.75140897--104.9928354-315.xml  \n",
            "  inflating: __MACOSX/effiDetTrainNewLabelV1/testLabel/._39.75140897--104.9928354-315.xml  \n",
            "  inflating: effiDetTrainNewLabelV1/testLabel/39.75238974--104.9967817-135.xml  \n",
            "  inflating: __MACOSX/effiDetTrainNewLabelV1/testLabel/._39.75238974--104.9967817-135.xml  \n",
            "  inflating: effiDetTrainNewLabelV1/testLabel/39.74925717--104.98052870000001-135.xml  \n",
            "  inflating: __MACOSX/effiDetTrainNewLabelV1/testLabel/._39.74925717--104.98052870000001-135.xml  \n",
            "  inflating: effiDetTrainNewLabelV1/testLabel/39.75073549--104.9824778-135.xml  \n",
            "  inflating: __MACOSX/effiDetTrainNewLabelV1/testLabel/._39.75073549--104.9824778-135.xml  \n",
            "  inflating: effiDetTrainNewLabelV1/testLabel/39.74891328--104.99781399999999-315.xml  \n",
            "  inflating: __MACOSX/effiDetTrainNewLabelV1/testLabel/._39.74891328--104.99781399999999-315.xml  \n",
            "  inflating: effiDetTrainNewLabelV1/testLabel/39.74960094--104.99515-135.xml  \n",
            "  inflating: __MACOSX/effiDetTrainNewLabelV1/testLabel/._39.74960094--104.99515-135.xml  \n",
            "  inflating: effiDetTrainNewLabelV1/testLabel/39.75067796--104.98338429999998-135.xml  \n",
            "  inflating: __MACOSX/effiDetTrainNewLabelV1/testLabel/._39.75067796--104.98338429999998-135.xml  \n",
            "  inflating: effiDetTrainNewLabelV1/testLabel/39.74987847--104.99304450000001-135.xml  \n",
            "  inflating: __MACOSX/effiDetTrainNewLabelV1/testLabel/._39.74987847--104.99304450000001-135.xml  \n",
            "  inflating: effiDetTrainNewLabelV1/testLabel/39.74995478--104.99645359999998-315.xml  \n",
            "  inflating: __MACOSX/effiDetTrainNewLabelV1/testLabel/._39.74995478--104.99645359999998-315.xml  \n",
            "  inflating: effiDetTrainNewLabelV1/testLabel/39.75022711--104.9839638-315.xml  \n",
            "  inflating: __MACOSX/effiDetTrainNewLabelV1/testLabel/._39.75022711--104.9839638-315.xml  \n",
            "  inflating: effiDetTrainNewLabelV1/testLabel/39.74999342--104.9998787-315.xml  \n",
            "  inflating: __MACOSX/effiDetTrainNewLabelV1/testLabel/._39.74999342--104.9998787-315.xml  \n",
            "  inflating: effiDetTrainNewLabelV1/testLabel/39.75175647--104.99413429999998-135.xml  \n",
            "  inflating: __MACOSX/effiDetTrainNewLabelV1/testLabel/._39.75175647--104.99413429999998-135.xml  \n",
            "  inflating: effiDetTrainNewLabelV1/testLabel/39.75247303--104.9810596-315.xml  \n",
            "  inflating: __MACOSX/effiDetTrainNewLabelV1/testLabel/._39.75247303--104.9810596-315.xml  \n",
            "  inflating: effiDetTrainNewLabelV1/testLabel/39.75044834--104.98190149999999-135.xml  \n",
            "  inflating: __MACOSX/effiDetTrainNewLabelV1/testLabel/._39.75044834--104.98190149999999-135.xml  \n",
            "  inflating: effiDetTrainNewLabelV1/testLabel/39.74887806--104.9821726-315.xml  \n",
            "  inflating: __MACOSX/effiDetTrainNewLabelV1/testLabel/._39.74887806--104.9821726-315.xml  \n",
            "  inflating: effiDetTrainNewLabelV1/testLabel/39.74964338--105.00401969999999-135.xml  \n",
            "  inflating: __MACOSX/effiDetTrainNewLabelV1/testLabel/._39.74964338--105.00401969999999-135.xml  \n",
            "  inflating: effiDetTrainNewLabelV1/testLabel/39.74923756--105.000841-135.xml  \n",
            "  inflating: __MACOSX/effiDetTrainNewLabelV1/testLabel/._39.74923756--105.000841-135.xml  \n",
            "  inflating: effiDetTrainNewLabelV1/testLabel/39.75045516--104.9993077-315.xml  \n",
            "  inflating: __MACOSX/effiDetTrainNewLabelV1/testLabel/._39.75045516--104.9993077-315.xml  \n",
            "  inflating: effiDetTrainNewLabelV1/testLabel/39.75058113--104.98228780000001-315.xml  \n",
            "  inflating: __MACOSX/effiDetTrainNewLabelV1/testLabel/._39.75058113--104.98228780000001-315.xml  \n",
            "  inflating: effiDetTrainNewLabelV1/testLabel/39.75197523--104.99033429999999-315.xml  \n",
            "  inflating: __MACOSX/effiDetTrainNewLabelV1/testLabel/._39.75197523--104.99033429999999-315.xml  \n",
            "  inflating: effiDetTrainNewLabelV1/testLabel/39.75214731--104.99884399999999-315.xml  \n",
            "  inflating: __MACOSX/effiDetTrainNewLabelV1/testLabel/._39.75214731--104.99884399999999-315.xml  \n",
            "  inflating: effiDetTrainNewLabelV1/testLabel/39.74965667--104.99684189999999-135.xml  \n",
            "  inflating: __MACOSX/effiDetTrainNewLabelV1/testLabel/._39.74965667--104.99684189999999-135.xml  \n",
            "  inflating: effiDetTrainNewLabelV1/testLabel/39.75039594--104.98718000000001-315.xml  \n",
            "  inflating: __MACOSX/effiDetTrainNewLabelV1/testLabel/._39.75039594--104.98718000000001-315.xml  \n",
            "  inflating: effiDetTrainNewLabelV1/testLabel/39.74962376--104.9812023-315.xml  \n",
            "  inflating: __MACOSX/effiDetTrainNewLabelV1/testLabel/._39.74962376--104.9812023-315.xml  \n",
            "  inflating: effiDetTrainNewLabelV1/testLabel/39.75129764--104.9895084-315.xml  \n",
            "  inflating: __MACOSX/effiDetTrainNewLabelV1/testLabel/._39.75129764--104.9895084-315.xml  \n",
            "  inflating: effiDetTrainNewLabelV1/testLabel/39.74990386--104.98606529999999-135.xml  \n",
            "  inflating: __MACOSX/effiDetTrainNewLabelV1/testLabel/._39.74990386--104.98606529999999-135.xml  \n",
            "  inflating: effiDetTrainNewLabelV1/testLabel/39.74917611--104.98178429999999-135.xml  \n",
            "  inflating: __MACOSX/effiDetTrainNewLabelV1/testLabel/._39.74917611--104.98178429999999-135.xml  \n",
            "  inflating: effiDetTrainNewLabelV1/testLabel/39.75023775--105.0047976-135.xml  \n",
            "  inflating: __MACOSX/effiDetTrainNewLabelV1/testLabel/._39.75023775--105.0047976-135.xml  \n",
            "  inflating: effiDetTrainNewLabelV1/testLabel/39.74912704--104.99401040000001-135.xml  \n",
            "  inflating: __MACOSX/effiDetTrainNewLabelV1/testLabel/._39.74912704--104.99401040000001-135.xml  \n",
            "  inflating: effiDetTrainNewLabelV1/testLabel/39.74977482--104.9810097-135.xml  \n",
            "  inflating: __MACOSX/effiDetTrainNewLabelV1/testLabel/._39.74977482--104.9810097-135.xml  \n",
            "  inflating: effiDetTrainNewLabelV1/testLabel/39.75034525--105.00116329999999-315.xml  \n",
            "  inflating: __MACOSX/effiDetTrainNewLabelV1/testLabel/._39.75034525--105.00116329999999-315.xml  \n",
            "  inflating: effiDetTrainNewLabelV1/testLabel/39.74965192--104.9898815-315.xml  \n",
            "  inflating: __MACOSX/effiDetTrainNewLabelV1/testLabel/._39.74965192--104.9898815-315.xml  \n",
            "  inflating: effiDetTrainNewLabelV1/testLabel/39.74956346--104.9809105-315.xml  \n",
            "  inflating: __MACOSX/effiDetTrainNewLabelV1/testLabel/._39.74956346--104.9809105-315.xml  \n",
            "  inflating: effiDetTrainNewLabelV1/testLabel/39.75093054--104.9916922-315.xml  \n",
            "  inflating: __MACOSX/effiDetTrainNewLabelV1/testLabel/._39.75093054--104.9916922-315.xml  \n",
            "  inflating: effiDetTrainNewLabelV1/testLabel/39.74995733--104.99125649999999-315.xml  \n",
            "  inflating: __MACOSX/effiDetTrainNewLabelV1/testLabel/._39.74995733--104.99125649999999-315.xml  \n",
            "  inflating: effiDetTrainNewLabelV1/testLabel/39.74965112--104.97949799999999-135.xml  \n",
            "  inflating: __MACOSX/effiDetTrainNewLabelV1/testLabel/._39.74965112--104.97949799999999-135.xml  \n",
            "  inflating: effiDetTrainNewLabelV1/testLabel/39.75005483--104.99457279999999-135.xml  \n",
            "  inflating: __MACOSX/effiDetTrainNewLabelV1/testLabel/._39.75005483--104.99457279999999-135.xml  \n",
            "  inflating: effiDetTrainNewLabelV1/testLabel/39.74955921--104.9830703-135.xml  \n",
            "  inflating: __MACOSX/effiDetTrainNewLabelV1/testLabel/._39.74955921--104.9830703-135.xml  \n",
            "  inflating: effiDetTrainNewLabelV1/testLabel/39.75333508--104.9886013-315.xml  \n",
            "  inflating: __MACOSX/effiDetTrainNewLabelV1/testLabel/._39.75333508--104.9886013-315.xml  \n",
            "  inflating: effiDetTrainNewLabelV1/testLabel/39.75242772--104.989756-315.xml  \n",
            "  inflating: __MACOSX/effiDetTrainNewLabelV1/testLabel/._39.75242772--104.989756-315.xml  \n",
            "  inflating: effiDetTrainNewLabelV1/testLabel/39.74880082--104.9873972-135.xml  \n",
            "  inflating: __MACOSX/effiDetTrainNewLabelV1/testLabel/._39.74880082--104.9873972-135.xml  \n",
            "  inflating: effiDetTrainNewLabelV1/testLabel/39.75220264--104.99355109999999-315.xml  \n",
            "  inflating: __MACOSX/effiDetTrainNewLabelV1/testLabel/._39.75220264--104.99355109999999-315.xml  \n",
            "  inflating: effiDetTrainNewLabelV1/testLabel/39.75026935--104.98738970000001-315.xml  \n",
            "  inflating: __MACOSX/effiDetTrainNewLabelV1/testLabel/._39.75026935--104.98738970000001-315.xml  \n",
            "  inflating: effiDetTrainNewLabelV1/testLabel/39.75088985--104.98266770000001-315.xml  \n",
            "  inflating: __MACOSX/effiDetTrainNewLabelV1/testLabel/._39.75088985--104.98266770000001-315.xml  \n",
            "  inflating: effiDetTrainNewLabelV1/testLabel/39.75071261--104.99549270000001-135.xml  \n",
            "  inflating: __MACOSX/effiDetTrainNewLabelV1/testLabel/._39.75071261--104.99549270000001-135.xml  \n",
            "  inflating: effiDetTrainNewLabelV1/testLabel/39.75068003--105.00538370000001-315.xml  \n",
            "  inflating: __MACOSX/effiDetTrainNewLabelV1/testLabel/._39.75068003--105.00538370000001-315.xml  \n",
            "  inflating: effiDetTrainNewLabelV1/testLabel/39.75101789--104.99511000000001-135.xml  \n",
            "  inflating: __MACOSX/effiDetTrainNewLabelV1/testLabel/._39.75101789--104.99511000000001-135.xml  \n",
            "  inflating: effiDetTrainNewLabelV1/testLabel/39.74906155--104.9976193-135.xml  \n",
            "  inflating: __MACOSX/effiDetTrainNewLabelV1/testLabel/._39.74906155--104.9976193-135.xml  \n",
            "  inflating: effiDetTrainNewLabelV1/testLabel/39.74960256--105.00213590000001-315.xml  \n",
            "  inflating: __MACOSX/effiDetTrainNewLabelV1/testLabel/._39.74960256--105.00213590000001-315.xml  \n",
            "  inflating: effiDetTrainNewLabelV1/testLabel/39.75009922--104.9892992-135.xml  \n",
            "  inflating: __MACOSX/effiDetTrainNewLabelV1/testLabel/._39.75009922--104.9892992-135.xml  \n",
            "  inflating: effiDetTrainNewLabelV1/testLabel/39.74990346--104.99476509999998-135.xml  \n",
            "  inflating: __MACOSX/effiDetTrainNewLabelV1/testLabel/._39.74990346--104.99476509999998-135.xml  \n",
            "  inflating: effiDetTrainNewLabelV1/testLabel/39.75030107--104.99949790000001-315.xml  \n",
            "  inflating: __MACOSX/effiDetTrainNewLabelV1/testLabel/._39.75030107--104.99949790000001-315.xml  \n",
            "  inflating: effiDetTrainNewLabelV1/testLabel/39.75056021--104.9956842-135.xml  \n",
            "  inflating: __MACOSX/effiDetTrainNewLabelV1/testLabel/._39.75056021--104.9956842-135.xml  \n",
            "  inflating: effiDetTrainNewLabelV1/testLabel/39.75037728--104.9837706-315.xml  \n",
            "  inflating: __MACOSX/effiDetTrainNewLabelV1/testLabel/._39.75037728--104.9837706-315.xml  \n",
            "  inflating: effiDetTrainNewLabelV1/testLabel/39.75048208--104.9922736-135.xml  \n",
            "  inflating: __MACOSX/effiDetTrainNewLabelV1/testLabel/._39.75048208--104.9922736-135.xml  \n",
            "  inflating: effiDetTrainNewLabelV1/testLabel/39.74971601--104.98110190000001-315.xml  \n",
            "  inflating: __MACOSX/effiDetTrainNewLabelV1/testLabel/._39.74971601--104.98110190000001-315.xml  \n",
            "  inflating: effiDetTrainNewLabelV1/testLabel/39.74934789--104.9885354-315.xml  \n",
            "  inflating: __MACOSX/effiDetTrainNewLabelV1/testLabel/._39.74934789--104.9885354-315.xml  \n",
            "  inflating: effiDetTrainNewLabelV1/testLabel/39.74957738--104.9934304-135.xml  \n",
            "  inflating: __MACOSX/effiDetTrainNewLabelV1/testLabel/._39.74957738--104.9934304-135.xml  \n",
            "  inflating: effiDetTrainNewLabelV1/testLabel/39.75664902--104.9773584-315.xml  \n",
            "  inflating: __MACOSX/effiDetTrainNewLabelV1/testLabel/._39.75664902--104.9773584-315.xml  \n",
            "  inflating: effiDetTrainNewLabelV1/testLabel/39.75149005--104.99794240000001-315.xml  \n",
            "  inflating: __MACOSX/effiDetTrainNewLabelV1/testLabel/._39.75149005--104.99794240000001-315.xml  \n",
            "  inflating: effiDetTrainNewLabelV1/testLabel/39.75140897--104.9928354-135.xml  \n",
            "  inflating: __MACOSX/effiDetTrainNewLabelV1/testLabel/._39.75140897--104.9928354-135.xml  \n",
            "  inflating: effiDetTrainNewLabelV1/testLabel/39.75238974--104.9967817-315.xml  \n",
            "  inflating: __MACOSX/effiDetTrainNewLabelV1/testLabel/._39.75238974--104.9967817-315.xml  \n",
            "  inflating: effiDetTrainNewLabelV1/testLabel/39.74999342--104.9998787-135.xml  \n",
            "  inflating: __MACOSX/effiDetTrainNewLabelV1/testLabel/._39.74999342--104.9998787-135.xml  \n",
            "  inflating: effiDetTrainNewLabelV1/testLabel/39.75067796--104.98338429999998-315.xml  \n",
            "  inflating: __MACOSX/effiDetTrainNewLabelV1/testLabel/._39.75067796--104.98338429999998-315.xml  \n",
            "  inflating: effiDetTrainNewLabelV1/testLabel/39.75054982--104.98871940000001-315.xml  \n",
            "  inflating: __MACOSX/effiDetTrainNewLabelV1/testLabel/._39.75054982--104.98871940000001-315.xml  \n",
            "  inflating: effiDetTrainNewLabelV1/testLabel/39.74987847--104.99304450000001-315.xml  \n",
            "  inflating: __MACOSX/effiDetTrainNewLabelV1/testLabel/._39.74987847--104.99304450000001-315.xml  \n",
            "  inflating: effiDetTrainNewLabelV1/testLabel/39.75022711--104.9839638-135.xml  \n",
            "  inflating: __MACOSX/effiDetTrainNewLabelV1/testLabel/._39.75022711--104.9839638-135.xml  \n",
            "  inflating: effiDetTrainNewLabelV1/testLabel/39.74995478--104.99645359999998-135.xml  \n",
            "  inflating: __MACOSX/effiDetTrainNewLabelV1/testLabel/._39.74995478--104.99645359999998-135.xml  \n",
            "  inflating: effiDetTrainNewLabelV1/testLabel/39.74942717--104.9936237-315.xml  \n",
            "  inflating: __MACOSX/effiDetTrainNewLabelV1/testLabel/._39.74942717--104.9936237-315.xml  \n",
            "  inflating: effiDetTrainNewLabelV1/testLabel/39.74923756--105.000841-315.xml  \n",
            "  inflating: __MACOSX/effiDetTrainNewLabelV1/testLabel/._39.74923756--105.000841-315.xml  \n",
            "  inflating: effiDetTrainNewLabelV1/testLabel/39.75045516--104.9993077-135.xml  \n",
            "  inflating: __MACOSX/effiDetTrainNewLabelV1/testLabel/._39.75045516--104.9993077-135.xml  \n",
            "  inflating: effiDetTrainNewLabelV1/testLabel/39.75247303--104.9810596-135.xml  \n",
            "  inflating: __MACOSX/effiDetTrainNewLabelV1/testLabel/._39.75247303--104.9810596-135.xml  \n",
            "  inflating: effiDetTrainNewLabelV1/testLabel/39.74887806--104.9821726-135.xml  \n",
            "  inflating: __MACOSX/effiDetTrainNewLabelV1/testLabel/._39.74887806--104.9821726-135.xml  \n",
            "  inflating: effiDetTrainNewLabelV1/testLabel/39.74935302--104.99202679999999-315.xml  \n",
            "  inflating: __MACOSX/effiDetTrainNewLabelV1/testLabel/._39.74935302--104.99202679999999-315.xml  \n",
            "  inflating: effiDetTrainNewLabelV1/testLabel/39.74909335--105.0035368-135.xml  \n",
            "  inflating: __MACOSX/effiDetTrainNewLabelV1/testLabel/._39.74909335--105.0035368-135.xml  \n",
            "  inflating: effiDetTrainNewLabelV1/testLabel/39.75075886--104.987389-315.xml  \n",
            "  inflating: __MACOSX/effiDetTrainNewLabelV1/testLabel/._39.75075886--104.987389-315.xml  \n",
            "  inflating: effiDetTrainNewLabelV1/testLabel/39.74918063--104.98532040000002-135.xml  \n",
            "  inflating: __MACOSX/effiDetTrainNewLabelV1/testLabel/._39.74918063--104.98532040000002-135.xml  \n",
            "  inflating: effiDetTrainNewLabelV1/testLabel/39.74965667--104.99684189999999-315.xml  \n",
            "  inflating: __MACOSX/effiDetTrainNewLabelV1/testLabel/._39.74965667--104.99684189999999-315.xml  \n",
            "  inflating: effiDetTrainNewLabelV1/testLabel/39.74920219--104.9922196-135.xml  \n",
            "  inflating: __MACOSX/effiDetTrainNewLabelV1/testLabel/._39.74920219--104.9922196-135.xml  \n",
            "  inflating: effiDetTrainNewLabelV1/testLabel/39.75235255--104.9933577-315.xml  \n",
            "  inflating: __MACOSX/effiDetTrainNewLabelV1/testLabel/._39.75235255--104.9933577-315.xml  \n",
            "  inflating: effiDetTrainNewLabelV1/testLabel/39.74975209--104.9949575-315.xml  \n",
            "  inflating: __MACOSX/effiDetTrainNewLabelV1/testLabel/._39.74975209--104.9949575-315.xml  \n",
            "  inflating: effiDetTrainNewLabelV1/testLabel/39.75170866--104.98374820000001-135.xml  \n",
            "  inflating: __MACOSX/effiDetTrainNewLabelV1/testLabel/._39.75170866--104.98374820000001-135.xml  \n",
            "  inflating: effiDetTrainNewLabelV1/testLabel/39.75039931--104.9889124-135.xml  \n",
            "  inflating: __MACOSX/effiDetTrainNewLabelV1/testLabel/._39.75039931--104.9889124-135.xml  \n",
            "  inflating: effiDetTrainNewLabelV1/testLabel/39.75134171--104.99813710000001-315.xml  \n",
            "  inflating: __MACOSX/effiDetTrainNewLabelV1/testLabel/._39.75134171--104.99813710000001-315.xml  \n",
            "  inflating: effiDetTrainNewLabelV1/testLabel/39.75115277--104.9879481-315.xml  \n",
            "  inflating: __MACOSX/effiDetTrainNewLabelV1/testLabel/._39.75115277--104.9879481-315.xml  \n",
            "  inflating: effiDetTrainNewLabelV1/testLabel/39.75149311--104.98738300000001-315.xml  \n",
            "  inflating: __MACOSX/effiDetTrainNewLabelV1/testLabel/._39.75149311--104.98738300000001-315.xml  \n",
            "  inflating: effiDetTrainNewLabelV1/testLabel/39.75178945--104.9975551-135.xml  \n",
            "  inflating: __MACOSX/effiDetTrainNewLabelV1/testLabel/._39.75178945--104.9975551-135.xml  \n",
            "  inflating: effiDetTrainNewLabelV1/testLabel/39.74935374--104.9902697-315.xml  \n",
            "  inflating: __MACOSX/effiDetTrainNewLabelV1/testLabel/._39.74935374--104.9902697-315.xml  \n",
            "  inflating: effiDetTrainNewLabelV1/testLabel/39.75608767--104.9745971-135.xml  \n",
            "  inflating: __MACOSX/effiDetTrainNewLabelV1/testLabel/._39.75608767--104.9745971-135.xml  \n",
            "  inflating: effiDetTrainNewLabelV1/testLabel/39.75013935--104.9817019-315.xml  \n",
            "  inflating: __MACOSX/effiDetTrainNewLabelV1/testLabel/._39.75013935--104.9817019-315.xml  \n",
            "  inflating: effiDetTrainNewLabelV1/testLabel/39.74979651--104.9879541-315.xml  \n",
            "  inflating: __MACOSX/effiDetTrainNewLabelV1/testLabel/._39.74979651--104.9879541-315.xml  \n",
            "  inflating: effiDetTrainNewLabelV1/testLabel/39.75055858--104.97834340000001-135.xml  \n",
            "  inflating: __MACOSX/effiDetTrainNewLabelV1/testLabel/._39.75055858--104.97834340000001-135.xml  \n",
            "  inflating: effiDetTrainNewLabelV1/testLabel/39.75283257--104.996196-315.xml  \n",
            "  inflating: __MACOSX/effiDetTrainNewLabelV1/testLabel/._39.75283257--104.996196-315.xml  \n",
            "  inflating: effiDetTrainNewLabelV1/testLabel/39.75038511--105.004993-135.xml  \n",
            "  inflating: __MACOSX/effiDetTrainNewLabelV1/testLabel/._39.75038511--105.004993-135.xml  \n",
            "  inflating: effiDetTrainNewLabelV1/testLabel/39.75189315--104.98873130000001-135.xml  \n",
            "  inflating: __MACOSX/effiDetTrainNewLabelV1/testLabel/._39.75189315--104.98873130000001-135.xml  \n",
            "  inflating: effiDetTrainNewLabelV1/testLabel/39.74980095--104.98968729999999-315.xml  \n",
            "  inflating: __MACOSX/effiDetTrainNewLabelV1/testLabel/._39.74980095--104.98968729999999-315.xml  \n",
            "  inflating: effiDetTrainNewLabelV1/testLabel/39.75010675--104.99106270000001-135.xml  \n",
            "  inflating: __MACOSX/effiDetTrainNewLabelV1/testLabel/._39.75010675--104.99106270000001-135.xml  \n",
            "  inflating: effiDetTrainNewLabelV1/testLabel/39.75430592--104.9871419-135.xml  \n",
            "  inflating: __MACOSX/effiDetTrainNewLabelV1/testLabel/._39.75430592--104.9871419-135.xml  \n",
            "  inflating: effiDetTrainNewLabelV1/testLabel/39.75071261--104.99549270000001-315.xml  \n",
            "  inflating: __MACOSX/effiDetTrainNewLabelV1/testLabel/._39.75071261--104.99549270000001-315.xml  \n",
            "  inflating: effiDetTrainNewLabelV1/testLabel/39.75068003--105.00538370000001-135.xml  \n",
            "  inflating: __MACOSX/effiDetTrainNewLabelV1/testLabel/._39.75068003--105.00538370000001-135.xml  \n",
            "  inflating: effiDetTrainNewLabelV1/testLabel/39.75026935--104.98738970000001-135.xml  \n",
            "  inflating: __MACOSX/effiDetTrainNewLabelV1/testLabel/._39.75026935--104.98738970000001-135.xml  \n",
            "  inflating: effiDetTrainNewLabelV1/testLabel/39.75009922--104.9892992-315.xml  \n",
            "  inflating: __MACOSX/effiDetTrainNewLabelV1/testLabel/._39.75009922--104.9892992-315.xml  \n",
            "  inflating: effiDetTrainNewLabelV1/testLabel/39.74960256--105.00213590000001-135.xml  \n",
            "  inflating: __MACOSX/effiDetTrainNewLabelV1/testLabel/._39.74960256--105.00213590000001-135.xml  \n",
            "  inflating: effiDetTrainNewLabelV1/testLabel/39.74990346--104.99476509999998-315.xml  \n",
            "  inflating: __MACOSX/effiDetTrainNewLabelV1/testLabel/._39.74990346--104.99476509999998-315.xml  \n",
            "  inflating: effiDetTrainNewLabelV1/testLabel/39.75030107--104.99949790000001-135.xml  \n",
            "  inflating: __MACOSX/effiDetTrainNewLabelV1/testLabel/._39.75030107--104.99949790000001-135.xml  \n",
            "  inflating: effiDetTrainNewLabelV1/testLabel/39.75055319--104.99047970000001-135.xml  \n",
            "  inflating: __MACOSX/effiDetTrainNewLabelV1/testLabel/._39.75055319--104.99047970000001-135.xml  \n",
            "  inflating: effiDetTrainNewLabelV1/testLabel/39.74906155--104.9976193-315.xml  \n",
            "  inflating: __MACOSX/effiDetTrainNewLabelV1/testLabel/._39.74906155--104.9976193-315.xml  \n",
            "  inflating: effiDetTrainNewLabelV1/testLabel/39.75037728--104.9837706-135.xml  \n",
            "  inflating: __MACOSX/effiDetTrainNewLabelV1/testLabel/._39.75037728--104.9837706-135.xml  \n",
            "  inflating: effiDetTrainNewLabelV1/testLabel/39.75056021--104.9956842-315.xml  \n",
            "  inflating: __MACOSX/effiDetTrainNewLabelV1/testLabel/._39.75056021--104.9956842-315.xml  \n",
            "  inflating: effiDetTrainNewLabelV1/testLabel/39.74934789--104.9885354-135.xml  \n",
            "  inflating: __MACOSX/effiDetTrainNewLabelV1/testLabel/._39.74934789--104.9885354-135.xml  \n",
            "  inflating: effiDetTrainNewLabelV1/testLabel/39.74971601--104.98110190000001-135.xml  \n",
            "  inflating: __MACOSX/effiDetTrainNewLabelV1/testLabel/._39.74971601--104.98110190000001-135.xml  \n",
            "  inflating: effiDetTrainNewLabelV1/testLabel/39.74957738--104.9934304-315.xml  \n",
            "  inflating: __MACOSX/effiDetTrainNewLabelV1/testLabel/._39.74957738--104.9934304-315.xml  \n",
            "  inflating: effiDetTrainNewLabelV1/testLabel/39.75010351--104.97891969999999-135.xml  \n",
            "  inflating: __MACOSX/effiDetTrainNewLabelV1/testLabel/._39.75010351--104.97891969999999-135.xml  \n",
            "  inflating: effiDetTrainNewLabelV1/testLabel/39.75204633--104.98505279999999-315.xml  \n",
            "  inflating: __MACOSX/effiDetTrainNewLabelV1/testLabel/._39.75204633--104.98505279999999-315.xml  \n",
            "  inflating: effiDetTrainNewLabelV1/testLabel/39.74879753--104.9799561-135.xml  \n",
            "  inflating: __MACOSX/effiDetTrainNewLabelV1/testLabel/._39.74879753--104.9799561-135.xml  \n",
            "  inflating: effiDetTrainNewLabelV1/testLabel/39.74889861--105.0033885-315.xml  \n",
            "  inflating: __MACOSX/effiDetTrainNewLabelV1/testLabel/._39.74889861--105.0033885-315.xml  \n",
            "  inflating: effiDetTrainNewLabelV1/testLabel/39.74990386--104.98606529999999-315.xml  \n",
            "  inflating: __MACOSX/effiDetTrainNewLabelV1/testLabel/._39.74990386--104.98606529999999-315.xml  \n",
            "  inflating: effiDetTrainNewLabelV1/testLabel/39.74962376--104.9812023-135.xml  \n",
            "  inflating: __MACOSX/effiDetTrainNewLabelV1/testLabel/._39.74962376--104.9812023-135.xml  \n",
            "  inflating: effiDetTrainNewLabelV1/testLabel/39.74995218--104.97911200000001-315.xml  \n",
            "  inflating: __MACOSX/effiDetTrainNewLabelV1/testLabel/._39.74995218--104.97911200000001-315.xml  \n",
            "  inflating: effiDetTrainNewLabelV1/testLabel/39.75060659--104.9991155-315.xml  \n",
            "  inflating: __MACOSX/effiDetTrainNewLabelV1/testLabel/._39.75060659--104.9991155-315.xml  \n",
            "  inflating: effiDetTrainNewLabelV1/testLabel/39.75023775--105.0047976-315.xml  \n",
            "  inflating: __MACOSX/effiDetTrainNewLabelV1/testLabel/._39.75023775--105.0047976-315.xml  \n",
            "  inflating: effiDetTrainNewLabelV1/testLabel/39.75009683--104.98756750000001-315.xml  \n",
            "  inflating: __MACOSX/effiDetTrainNewLabelV1/testLabel/._39.75009683--104.98756750000001-315.xml  \n",
            "  inflating: effiDetTrainNewLabelV1/testLabel/39.75035818--104.9941886-135.xml  \n",
            "  inflating: __MACOSX/effiDetTrainNewLabelV1/testLabel/._39.75035818--104.9941886-135.xml  \n",
            "  inflating: effiDetTrainNewLabelV1/testLabel/39.74995733--104.99125649999999-135.xml  \n",
            "  inflating: __MACOSX/effiDetTrainNewLabelV1/testLabel/._39.74995733--104.99125649999999-135.xml  \n",
            "  inflating: effiDetTrainNewLabelV1/testLabel/39.75137562--104.9911082-315.xml  \n",
            "  inflating: __MACOSX/effiDetTrainNewLabelV1/testLabel/._39.75137562--104.9911082-315.xml  \n",
            "  inflating: effiDetTrainNewLabelV1/testLabel/39.74977482--104.9810097-315.xml  \n",
            "  inflating: __MACOSX/effiDetTrainNewLabelV1/testLabel/._39.74977482--104.9810097-315.xml  \n",
            "  inflating: effiDetTrainNewLabelV1/testLabel/39.75034525--105.00116329999999-135.xml  \n",
            "  inflating: __MACOSX/effiDetTrainNewLabelV1/testLabel/._39.75034525--105.00116329999999-135.xml  \n",
            "  inflating: effiDetTrainNewLabelV1/testLabel/39.75119251--104.98305239999999-135.xml  \n",
            "  inflating: __MACOSX/effiDetTrainNewLabelV1/testLabel/._39.75119251--104.98305239999999-135.xml  \n",
            "  inflating: effiDetTrainNewLabelV1/testLabel/39.75070049--104.98852649999999-315.xml  \n",
            "  inflating: __MACOSX/effiDetTrainNewLabelV1/testLabel/._39.75070049--104.98852649999999-315.xml  \n",
            "  inflating: effiDetTrainNewLabelV1/testLabel/39.75005483--104.99457279999999-315.xml  \n",
            "  inflating: __MACOSX/effiDetTrainNewLabelV1/testLabel/._39.75005483--104.99457279999999-315.xml  \n",
            "  inflating: effiDetTrainNewLabelV1/testLabel/39.75069487--104.97986509999998-135.xml  \n",
            "  inflating: __MACOSX/effiDetTrainNewLabelV1/testLabel/._39.75069487--104.97986509999998-135.xml  \n",
            "  inflating: effiDetTrainNewLabelV1/testLabel/39.75004797--105.0015522-315.xml  \n",
            "  inflating: __MACOSX/effiDetTrainNewLabelV1/testLabel/._39.75004797--105.0015522-315.xml  \n",
            "  inflating: effiDetTrainNewLabelV1/testLabel/39.74894099--105.0012304-315.xml  \n",
            "  inflating: __MACOSX/effiDetTrainNewLabelV1/testLabel/._39.74894099--105.0012304-315.xml  \n",
            "  inflating: effiDetTrainNewLabelV1/testLabel/39.74902548--104.98550970000001-135.xml  \n",
            "  inflating: __MACOSX/effiDetTrainNewLabelV1/testLabel/._39.74902548--104.98550970000001-135.xml  \n",
            "  inflating: effiDetTrainNewLabelV1/testLabel/39.75086502--104.99530120000001-315.xml  \n",
            "  inflating: __MACOSX/effiDetTrainNewLabelV1/testLabel/._39.75086502--104.99530120000001-315.xml  \n",
            "  inflating: effiDetTrainNewLabelV1/testLabel/39.75198252--104.9873925-315.xml  \n",
            "  inflating: __MACOSX/effiDetTrainNewLabelV1/testLabel/._39.75198252--104.9873925-315.xml  \n",
            "  inflating: effiDetTrainNewLabelV1/testLabel/39.75002927--104.9928517-135.xml  \n",
            "  inflating: __MACOSX/effiDetTrainNewLabelV1/testLabel/._39.75002927--104.9928517-135.xml  \n",
            "  inflating: effiDetTrainNewLabelV1/testLabel/39.75038843--104.98024679999999-135.xml  \n",
            "  inflating: __MACOSX/effiDetTrainNewLabelV1/testLabel/._39.75038843--104.98024679999999-135.xml  \n",
            "  inflating: effiDetTrainNewLabelV1/testLabel/39.75025541--104.9908683-135.xml  \n",
            "  inflating: __MACOSX/effiDetTrainNewLabelV1/testLabel/._39.75025541--104.9908683-135.xml  \n",
            "  inflating: effiDetTrainNewLabelV1/testLabel/39.74992712--104.9843507-315.xml  \n",
            "  inflating: __MACOSX/effiDetTrainNewLabelV1/testLabel/._39.74992712--104.9843507-315.xml  \n",
            "  inflating: effiDetTrainNewLabelV1/testLabel/39.75100361--104.9873866-135.xml  \n",
            "  inflating: __MACOSX/effiDetTrainNewLabelV1/testLabel/._39.75100361--104.9873866-135.xml  \n",
            "  inflating: effiDetTrainNewLabelV1/testLabel/39.74985435--104.9826797-135.xml  \n",
            "  inflating: __MACOSX/effiDetTrainNewLabelV1/testLabel/._39.74985435--104.9826797-135.xml  \n",
            "  inflating: effiDetTrainNewLabelV1/testLabel/39.75152453--104.99091399999999-315.xml  \n",
            "  inflating: __MACOSX/effiDetTrainNewLabelV1/testLabel/._39.75152453--104.99091399999999-315.xml  \n",
            "  inflating: effiDetTrainNewLabelV1/testLabel/39.75112911--104.982805-135.xml  \n",
            "  inflating: __MACOSX/effiDetTrainNewLabelV1/testLabel/._39.75112911--104.982805-135.xml  \n",
            "  inflating: effiDetTrainNewLabelV1/testLabel/39.74895055--104.9801471-315.xml  \n",
            "  inflating: __MACOSX/effiDetTrainNewLabelV1/testLabel/._39.74895055--104.9801471-315.xml  \n",
            "  inflating: effiDetTrainNewLabelV1/testLabel/39.75238657--104.9846041-315.xml  \n",
            "  inflating: __MACOSX/effiDetTrainNewLabelV1/testLabel/._39.75238657--104.9846041-315.xml  \n",
            "  inflating: effiDetTrainNewLabelV1/testLabel/39.74972803--104.9932375-315.xml  \n",
            "  inflating: __MACOSX/effiDetTrainNewLabelV1/testLabel/._39.74972803--104.9932375-315.xml  \n",
            "  inflating: effiDetTrainNewLabelV1/testLabel/39.75008138--104.98062809999999-135.xml  \n",
            "  inflating: __MACOSX/effiDetTrainNewLabelV1/testLabel/._39.75008138--104.98062809999999-135.xml  \n",
            "  inflating: effiDetTrainNewLabelV1/testLabel/39.75245371--104.99147749999999-135.xml  \n",
            "  inflating: __MACOSX/effiDetTrainNewLabelV1/testLabel/._39.75245371--104.99147749999999-135.xml  \n",
            "  inflating: effiDetTrainNewLabelV1/testLabel/39.75202361--104.9816403-315.xml  \n",
            "  inflating: __MACOSX/effiDetTrainNewLabelV1/testLabel/._39.75202361--104.9816403-315.xml  \n",
            "  inflating: effiDetTrainNewLabelV1/testLabel/39.75108959--105.0001919-315.xml  \n",
            "  inflating: __MACOSX/effiDetTrainNewLabelV1/testLabel/._39.75108959--105.0001919-315.xml  \n",
            "  inflating: effiDetTrainNewLabelV1/testLabel/39.74927711--104.99381699999999-315.xml  \n",
            "  inflating: __MACOSX/effiDetTrainNewLabelV1/testLabel/._39.74927711--104.99381699999999-315.xml  \n",
            "  inflating: effiDetTrainNewLabelV1/testLabel/39.75024695--104.9873742-135.xml  \n",
            "  inflating: __MACOSX/effiDetTrainNewLabelV1/testLabel/._39.75024695--104.9873742-135.xml  \n",
            "  inflating: effiDetTrainNewLabelV1/testLabel/39.75020201--104.98567709999999-135.xml  \n",
            "  inflating: __MACOSX/effiDetTrainNewLabelV1/testLabel/._39.75020201--104.98567709999999-135.xml  \n",
            "  inflating: effiDetTrainNewLabelV1/testLabel/39.75050879--104.9939957-315.xml  \n",
            "  inflating: __MACOSX/effiDetTrainNewLabelV1/testLabel/._39.75050879--104.9939957-315.xml  \n",
            "  inflating: effiDetTrainNewLabelV1/testLabel/39.75230322--104.99167050000001-315.xml  \n",
            "  inflating: __MACOSX/effiDetTrainNewLabelV1/testLabel/._39.75230322--104.99167050000001-315.xml  \n",
            "  inflating: effiDetTrainNewLabelV1/testLabel/39.74890605--104.9908517-315.xml  \n",
            "  inflating: __MACOSX/effiDetTrainNewLabelV1/testLabel/._39.74890605--104.9908517-315.xml  \n",
            "  inflating: effiDetTrainNewLabelV1/testLabel/39.75119422--104.9983324-315.xml  \n",
            "  inflating: __MACOSX/effiDetTrainNewLabelV1/testLabel/._39.75119422--104.9983324-315.xml  \n",
            "  inflating: effiDetTrainNewLabelV1/testLabel/39.74928797--105.00368519999999-315.xml  \n",
            "  inflating: __MACOSX/effiDetTrainNewLabelV1/testLabel/._39.74928797--105.00368519999999-315.xml  \n",
            "  inflating: effiDetTrainNewLabelV1/testLabel/39.74999828--104.98150190000001-315.xml  \n",
            "  inflating: __MACOSX/effiDetTrainNewLabelV1/testLabel/._39.74999828--104.98150190000001-315.xml  \n",
            "  inflating: effiDetTrainNewLabelV1/testLabel/39.74944861--104.97837150000001-315.xml  \n",
            "  inflating: __MACOSX/effiDetTrainNewLabelV1/testLabel/._39.74944861--104.97837150000001-315.xml  \n",
            "  inflating: effiDetTrainNewLabelV1/testLabel/39.75078229--104.991887-135.xml  \n",
            "  inflating: __MACOSX/effiDetTrainNewLabelV1/testLabel/._39.75078229--104.991887-135.xml  \n",
            "  inflating: effiDetTrainNewLabelV1/testLabel/39.74977984--104.9873924-135.xml  \n",
            "  inflating: __MACOSX/effiDetTrainNewLabelV1/testLabel/._39.74977984--104.9873924-135.xml  \n",
            "  inflating: effiDetTrainNewLabelV1/testLabel/39.75659675--104.98963390000002-315.xml  \n",
            "  inflating: __MACOSX/effiDetTrainNewLabelV1/testLabel/._39.75659675--104.98963390000002-315.xml  \n",
            "  inflating: effiDetTrainNewLabelV1/testLabel/39.75014724--104.99968829999999-135.xml  \n",
            "  inflating: __MACOSX/effiDetTrainNewLabelV1/testLabel/._39.75014724--104.99968829999999-135.xml  \n",
            "  inflating: effiDetTrainNewLabelV1/testLabel/39.75100033--104.9898973-315.xml  \n",
            "  inflating: __MACOSX/effiDetTrainNewLabelV1/testLabel/._39.75100033--104.9898973-315.xml  \n",
            "  inflating: effiDetTrainNewLabelV1/testLabel/39.74913009--104.9787397-135.xml  \n",
            "  inflating: __MACOSX/effiDetTrainNewLabelV1/testLabel/._39.74913009--104.9787397-135.xml  \n",
            "  inflating: effiDetTrainNewLabelV1/testLabel/39.74897698--104.9942037-135.xml  \n",
            "  inflating: __MACOSX/effiDetTrainNewLabelV1/testLabel/._39.74897698--104.9942037-135.xml  \n",
            "  inflating: effiDetTrainNewLabelV1/testLabel/39.75247189--104.9874045-135.xml  \n",
            "  inflating: __MACOSX/effiDetTrainNewLabelV1/testLabel/._39.75247189--104.9874045-135.xml  \n",
            "  inflating: effiDetTrainNewLabelV1/testLabel/39.74945038--104.99534299999999-135.xml  \n",
            "  inflating: __MACOSX/effiDetTrainNewLabelV1/testLabel/._39.74945038--104.99534299999999-135.xml  \n",
            "  inflating: effiDetTrainNewLabelV1/testLabel/39.74938586--105.0006463-315.xml  \n",
            "  inflating: __MACOSX/effiDetTrainNewLabelV1/testLabel/._39.74938586--105.0006463-315.xml  \n",
            "  inflating: effiDetTrainNewLabelV1/testLabel/39.75189792--104.9869774-315.xml  \n",
            "  inflating: __MACOSX/effiDetTrainNewLabelV1/testLabel/._39.75189792--104.9869774-315.xml  \n",
            "  inflating: effiDetTrainNewLabelV1/testLabel/39.75025554--104.99606740000002-315.xml  \n",
            "  inflating: __MACOSX/effiDetTrainNewLabelV1/testLabel/._39.75025554--104.99606740000002-315.xml  \n",
            "  inflating: effiDetTrainNewLabelV1/testLabel/39.74968608--105.0002597-135.xml  \n",
            "  inflating: __MACOSX/effiDetTrainNewLabelV1/testLabel/._39.74968608--105.0002597-135.xml  \n",
            "  inflating: effiDetTrainNewLabelV1/testLabel/39.75233625--104.98814579999998-315.xml  \n",
            "  inflating: __MACOSX/effiDetTrainNewLabelV1/testLabel/._39.75233625--104.98814579999998-315.xml  \n",
            "  inflating: effiDetTrainNewLabelV1/testLabel/39.75071027--104.97815130000001-135.xml  \n",
            "  inflating: __MACOSX/effiDetTrainNewLabelV1/testLabel/._39.75071027--104.97815130000001-135.xml  \n",
            "  inflating: effiDetTrainNewLabelV1/testLabel/39.75167414--104.99072029999999-315.xml  \n",
            "  inflating: __MACOSX/effiDetTrainNewLabelV1/testLabel/._39.75167414--104.99072029999999-315.xml  \n",
            "  inflating: effiDetTrainNewLabelV1/testLabel/39.75125909--104.99302890000001-135.xml  \n",
            "  inflating: __MACOSX/effiDetTrainNewLabelV1/testLabel/._39.75125909--104.99302890000001-135.xml  \n",
            "  inflating: effiDetTrainNewLabelV1/testLabel/39.75070207--104.9902855-135.xml  \n",
            "  inflating: __MACOSX/effiDetTrainNewLabelV1/testLabel/._39.75070207--104.9902855-135.xml  \n",
            "  inflating: effiDetTrainNewLabelV1/testLabel/39.75173783--104.9873866-135.xml  \n",
            "  inflating: __MACOSX/effiDetTrainNewLabelV1/testLabel/._39.75173783--104.9873866-135.xml  \n",
            "  inflating: effiDetTrainNewLabelV1/testLabel/39.74905012--104.9889239-315.xml  \n",
            "  inflating: __MACOSX/effiDetTrainNewLabelV1/testLabel/._39.74905012--104.9889239-315.xml  \n",
            "  inflating: effiDetTrainNewLabelV1/testLabel/39.75010416--104.99625970000001-315.xml  \n",
            "  inflating: __MACOSX/effiDetTrainNewLabelV1/testLabel/._39.75010416--104.99625970000001-315.xml  \n",
            "  inflating: effiDetTrainNewLabelV1/testLabel/39.75097903--104.9829983-135.xml  \n",
            "  inflating: __MACOSX/effiDetTrainNewLabelV1/testLabel/._39.75097903--104.9829983-135.xml  \n",
            "  inflating: effiDetTrainNewLabelV1/testLabel/39.75505882--104.9880773-135.xml  \n",
            "  inflating: __MACOSX/effiDetTrainNewLabelV1/testLabel/._39.75505882--104.9880773-135.xml  \n",
            "  inflating: effiDetTrainNewLabelV1/testLabel/39.75217304--104.98144640000001-315.xml  \n",
            "  inflating: __MACOSX/effiDetTrainNewLabelV1/testLabel/._39.75217304--104.98144640000001-315.xml  \n",
            "  inflating: effiDetTrainNewLabelV1/testLabel/39.74890124--104.98911820000001-135.xml  \n",
            "  inflating: __MACOSX/effiDetTrainNewLabelV1/testLabel/._39.74890124--104.98911820000001-135.xml  \n",
            "  inflating: effiDetTrainNewLabelV1/testLabel/39.74896307--104.9838469-135.xml  \n",
            "  inflating: __MACOSX/effiDetTrainNewLabelV1/testLabel/._39.74896307--104.9838469-135.xml  \n",
            "  inflating: effiDetTrainNewLabelV1/testLabel/39.74962881--104.9847388-315.xml  \n",
            "  inflating: __MACOSX/effiDetTrainNewLabelV1/testLabel/._39.74962881--104.9847388-315.xml  \n",
            "  inflating: effiDetTrainNewLabelV1/testLabel/39.75227684--104.9899487-135.xml  \n",
            "  inflating: __MACOSX/effiDetTrainNewLabelV1/testLabel/._39.75227684--104.9899487-135.xml  \n",
            "  inflating: effiDetTrainNewLabelV1/testLabel/39.75219931--104.98659170000002-315.xml  \n",
            "  inflating: __MACOSX/effiDetTrainNewLabelV1/testLabel/._39.75219931--104.98659170000002-315.xml  \n",
            "  inflating: effiDetTrainNewLabelV1/testLabel/39.74964685--104.9881478-135.xml  \n",
            "  inflating: __MACOSX/effiDetTrainNewLabelV1/testLabel/._39.74964685--104.9881478-135.xml  \n",
            "  inflating: effiDetTrainNewLabelV1/testLabel/39.74911224--104.98365279999999-135.xml  \n",
            "  inflating: __MACOSX/effiDetTrainNewLabelV1/testLabel/._39.74911224--104.98365279999999-135.xml  \n",
            "  inflating: effiDetTrainNewLabelV1/testLabel/39.74994667--104.9877608-135.xml  \n",
            "  inflating: __MACOSX/effiDetTrainNewLabelV1/testLabel/._39.74994667--104.9877608-135.xml  \n",
            "  inflating: effiDetTrainNewLabelV1/testLabel/39.74953471--105.000452-315.xml  \n",
            "  inflating: __MACOSX/effiDetTrainNewLabelV1/testLabel/._39.74953471--105.000452-315.xml  \n",
            "  inflating: effiDetTrainNewLabelV1/testLabel/39.75085129--104.99009140000001-315.xml  \n",
            "  inflating: __MACOSX/effiDetTrainNewLabelV1/testLabel/._39.75085129--104.99009140000001-315.xml  \n",
            "  inflating: effiDetTrainNewLabelV1/testLabel/39.75160919--104.99432979999999-135.xml  \n",
            "  inflating: __MACOSX/effiDetTrainNewLabelV1/testLabel/._39.75160919--104.99432979999999-135.xml  \n",
            "  inflating: effiDetTrainNewLabelV1/testLabel/39.75163357--104.98363940000002-135.xml  \n",
            "  inflating: __MACOSX/effiDetTrainNewLabelV1/testLabel/._39.75163357--104.98363940000002-135.xml  \n",
            "  inflating: effiDetTrainNewLabelV1/testLabel/39.74994222--105.00440729999998-315.xml  \n",
            "  inflating: __MACOSX/effiDetTrainNewLabelV1/testLabel/._39.74994222--105.00440729999998-315.xml  \n",
            "  inflating: effiDetTrainNewLabelV1/testLabel/39.75104715--104.9985281-135.xml  \n",
            "  inflating: __MACOSX/effiDetTrainNewLabelV1/testLabel/._39.75104715--104.9985281-135.xml  \n",
            "  inflating: effiDetTrainNewLabelV1/testLabel/39.74920428--104.9904635-315.xml  \n",
            "  inflating: __MACOSX/effiDetTrainNewLabelV1/testLabel/._39.74920428--104.9904635-315.xml  \n",
            "  inflating: effiDetTrainNewLabelV1/testLabel/39.74985722--104.9813018-135.xml  \n",
            "  inflating: __MACOSX/effiDetTrainNewLabelV1/testLabel/._39.74985722--104.9813018-135.xml  \n",
            "  inflating: effiDetTrainNewLabelV1/testLabel/39.74887032--104.985699-315.xml  \n",
            "  inflating: __MACOSX/effiDetTrainNewLabelV1/testLabel/._39.74887032--104.985699-315.xml  \n",
            "  inflating: effiDetTrainNewLabelV1/testLabel/39.75675048--104.98419390000001-315.xml  \n",
            "  inflating: __MACOSX/effiDetTrainNewLabelV1/testLabel/._39.75675048--104.98419390000001-315.xml  \n",
            "  inflating: effiDetTrainNewLabelV1/testLabel/39.74979483--105.0042119-315.xml  \n",
            "  inflating: __MACOSX/effiDetTrainNewLabelV1/testLabel/._39.74979483--105.0042119-315.xml  \n",
            "  inflating: effiDetTrainNewLabelV1/testLabel/39.75024927--104.98910579999999-315.xml  \n",
            "  inflating: __MACOSX/effiDetTrainNewLabelV1/testLabel/._39.75024927--104.98910579999999-315.xml  \n",
            "  inflating: effiDetTrainNewLabelV1/testLabel/39.74902595--104.98724250000001-315.xml  \n",
            "  inflating: __MACOSX/effiDetTrainNewLabelV1/testLabel/._39.74902595--104.98724250000001-315.xml  \n",
            "  inflating: effiDetTrainNewLabelV1/testLabel/39.75064966--104.985095-315.xml  \n",
            "  inflating: __MACOSX/effiDetTrainNewLabelV1/testLabel/._39.75064966--104.985095-315.xml  \n",
            "  inflating: effiDetTrainNewLabelV1/testLabel/39.74905181--104.9924127-315.xml  \n",
            "  inflating: __MACOSX/effiDetTrainNewLabelV1/testLabel/._39.74905181--104.9924127-315.xml  \n",
            "  inflating: effiDetTrainNewLabelV1/testLabel/39.75163955--104.99774860000001-135.xml  \n",
            "  inflating: __MACOSX/effiDetTrainNewLabelV1/testLabel/._39.75163955--104.99774860000001-135.xml  \n",
            "  inflating: effiDetTrainNewLabelV1/testLabel/39.74980573--104.9966477-315.xml  \n",
            "  inflating: __MACOSX/effiDetTrainNewLabelV1/testLabel/._39.74980573--104.9966477-315.xml  \n",
            "  inflating: effiDetTrainNewLabelV1/testLabel/39.74890342--104.99260729999999-135.xml  \n",
            "  inflating: __MACOSX/effiDetTrainNewLabelV1/testLabel/._39.74890342--104.99260729999999-135.xml  \n",
            "  inflating: effiDetTrainNewLabelV1/testLabel/39.75116755--104.99491640000001-315.xml  \n",
            "  inflating: __MACOSX/effiDetTrainNewLabelV1/testLabel/._39.75116755--104.99491640000001-315.xml  \n",
            "  inflating: effiDetTrainNewLabelV1/testLabel/39.74905503--104.9906575-315.xml  \n",
            "  inflating: __MACOSX/effiDetTrainNewLabelV1/testLabel/._39.74905503--104.9906575-315.xml  \n",
            "  inflating: effiDetTrainNewLabelV1/testLabel/39.75051411--104.987389-315.xml  \n",
            "  inflating: __MACOSX/effiDetTrainNewLabelV1/testLabel/._39.75051411--104.987389-315.xml  \n"
          ],
          "name": "stdout"
        }
      ]
    },
    {
      "cell_type": "code",
      "metadata": {
        "id": "91qM1UFfg0qQ",
        "colab_type": "code",
        "colab": {
          "base_uri": "https://localhost:8080/",
          "height": 34
        },
        "outputId": "6092734b-7b7a-4a69-fb4e-b4d81bce9292"
      },
      "source": [
        "%ls"
      ],
      "execution_count": null,
      "outputs": [
        {
          "output_type": "stream",
          "text": [
            "effiDetTrain3.zip  \u001b[0m\u001b[01;34mMonk_Object_Detection\u001b[0m/  \u001b[01;34msample_data\u001b[0m/\n"
          ],
          "name": "stdout"
        }
      ]
    },
    {
      "cell_type": "code",
      "metadata": {
        "id": "5DtDu-7Hlk_O",
        "colab_type": "code",
        "colab": {
          "base_uri": "https://localhost:8080/",
          "height": 119
        },
        "outputId": "3418dbf2-8e67-431d-e3e7-11e40fd59724"
      },
      "source": [
        "#AccessPark is the folder to put TRAIN data (image and annotations)\n",
        "!mkdir AccessPark\n",
        "!mkdir AccessPark/annotations\n",
        "!mkdir AccessPark/Images\n",
        "\n",
        "#copy train/annotaiton to AccessPark/annotations\n",
        "%cp effiDetTrainNewLabelV1/train/_annotation.coco.json AccessPark/annotations/instances_Images.json\n",
        "\n",
        "#copy images form train folder to AccessPark/Images\n",
        "%cp effiDetTrainNewLabelV1/train/*.jpg AccessPark/Images/\n",
        "\n",
        "#make folder for test images and annotations\n",
        "!mkdir Testdir\n",
        "!mkdir Testdir/annotations\n",
        "!mkdir Testdir/Images\n",
        "\n",
        "%cp effiDetTrainNewLabelV1/testLabel/*.xml Testdir/annotations/\n",
        "\n",
        "%cp effiDetTrainNewLabelV1/test/*.jpg Testdir/Images/"
      ],
      "execution_count": null,
      "outputs": [
        {
          "output_type": "stream",
          "text": [
            "mkdir: cannot create directory ‘AccessPark’: File exists\n",
            "mkdir: cannot create directory ‘AccessPark/annotations’: File exists\n",
            "mkdir: cannot create directory ‘AccessPark/Images’: File exists\n",
            "mkdir: cannot create directory ‘Testdir’: File exists\n",
            "mkdir: cannot create directory ‘Testdir/annotations’: File exists\n",
            "mkdir: cannot create directory ‘Testdir/Images’: File exists\n"
          ],
          "name": "stdout"
        }
      ]
    },
    {
      "cell_type": "code",
      "metadata": {
        "id": "vwf9fQ1IlZKh",
        "colab_type": "code",
        "colab": {
          "base_uri": "https://localhost:8080/",
          "height": 34
        },
        "outputId": "d443d6d8-7210-42ed-8ea7-14e7cd090b62"
      },
      "source": [
        "!pwd"
      ],
      "execution_count": null,
      "outputs": [
        {
          "output_type": "stream",
          "text": [
            "/content\n"
          ],
          "name": "stdout"
        }
      ]
    },
    {
      "cell_type": "markdown",
      "metadata": {
        "id": "wBi3RS1_fd4N",
        "colab_type": "text"
      },
      "source": [
        "# Training\n",
        "\n",
        "In this section we set up the efficientDet-d0 model from backbone and train to our custom case"
      ]
    },
    {
      "cell_type": "code",
      "metadata": {
        "id": "Fvfo6x7Vdw6i",
        "colab_type": "code",
        "colab": {}
      },
      "source": [
        "import os\n",
        "import sys\n",
        "sys.path.append(\"Monk_Object_Detection/4_efficientdet/lib/\")\n",
        "\n",
        "from train_detector import Detector\n",
        "\n",
        "gtf = Detector()\n",
        "\n",
        "#directs the model towards file structure\n",
        "root_dir = \"./\";\n",
        "coco_dir = \"AccessPark\";\n",
        "img_dir = \"./\";\n",
        "set_dir = \"Images\";"
      ],
      "execution_count": null,
      "outputs": []
    },
    {
      "cell_type": "code",
      "metadata": {
        "id": "T6epk9-HkBwJ",
        "colab_type": "code",
        "colab": {
          "base_uri": "https://localhost:8080/",
          "height": 85
        },
        "outputId": "f47e9cf6-4d99-4220-ece5-74a5ca9f87a3"
      },
      "source": [
        "#smells like some free compute from Colab, nice\n",
        "gtf.Train_Dataset(root_dir, coco_dir, img_dir, set_dir, batch_size=8, image_size=640, use_gpu=True)"
      ],
      "execution_count": null,
      "outputs": [
        {
          "output_type": "stream",
          "text": [
            "loading annotations into memory...\n",
            "Done (t=0.01s)\n",
            "creating index...\n",
            "index created!\n"
          ],
          "name": "stdout"
        }
      ]
    },
    {
      "cell_type": "code",
      "metadata": {
        "id": "O0-xLOmisU9P",
        "colab_type": "code",
        "colab": {
          "base_uri": "https://localhost:8080/",
          "height": 106
        },
        "outputId": "e24dd360-4da4-4aac-af9e-738a2049f782"
      },
      "source": [
        "gtf.Model();"
      ],
      "execution_count": null,
      "outputs": [
        {
          "output_type": "stream",
          "text": [
            "Downloading: \"https://github.com/lukemelas/EfficientNet-PyTorch/releases/download/1.0/efficientnet-b0-355c32eb.pth\" to /root/.cache/torch/checkpoints/efficientnet-b0-355c32eb.pth\n"
          ],
          "name": "stderr"
        },
        {
          "output_type": "display_data",
          "data": {
            "text/html": [
              "<div style=\"display:flex;flex-direction:row;\"><span></span><progress style='margin:2px 4px;' max='21388428' value='21388428'></progress>100% 20.4M/20.4M [00:01&lt;00:00, 16.9MB/s]</div>"
            ],
            "text/plain": [
              "<tqdm._fake_ipywidgets.HBox object>"
            ]
          },
          "metadata": {
            "tags": []
          }
        },
        {
          "output_type": "stream",
          "text": [
            "\n",
            "Loaded pretrained weights for efficientnet-b0\n"
          ],
          "name": "stdout"
        }
      ]
    },
    {
      "cell_type": "code",
      "metadata": {
        "id": "y3XsPHdxsXsH",
        "colab_type": "code",
        "colab": {}
      },
      "source": [
        "gtf.Set_Hyperparams(lr=0.0001, val_interval=1, es_min_delta=0.0, es_patience=0)"
      ],
      "execution_count": null,
      "outputs": []
    },
    {
      "cell_type": "code",
      "metadata": {
        "id": "d7vtQ28fsc9K",
        "colab_type": "code",
        "colab": {
          "base_uri": "https://localhost:8080/",
          "height": 1000
        },
        "outputId": "3adbea28-a53f-490c-e53f-ef4541f92d33"
      },
      "source": [
        "%%time\n",
        "gtf.Train(num_epochs=100, model_output_dir=\"trained/\");"
      ],
      "execution_count": null,
      "outputs": [
        {
          "output_type": "display_data",
          "data": {
            "text/html": [
              "<div style=\"display:flex;flex-direction:row;\"><span>Epoch: 1/100. Iteration: 84/84. Cls loss: 0.00085. Reg loss: 0.00000. Batch loss: 0.00085 Total loss: 0.29969</span><progress style='margin:2px 4px;description_width:initial;' max='84' value='84'></progress>100% 84/84 [00:35&lt;00:00,  3.21it/s]</div>"
            ],
            "text/plain": [
              "<tqdm._fake_ipywidgets.HBox object>"
            ]
          },
          "metadata": {
            "tags": []
          }
        },
        {
          "output_type": "stream",
          "text": [
            "\n"
          ],
          "name": "stdout"
        },
        {
          "output_type": "stream",
          "text": [
            "Monk_Object_Detection/4_efficientdet/lib/src/model.py:251: TracerWarning: Converting a tensor to a Python index might cause the trace to be incorrect. We can't record the data flow of Python values, so this value will be treated as a constant in the future. This means that the trace might not generalize to other inputs!\n",
            "  if len(inputs) == 2:\n",
            "Monk_Object_Detection/4_efficientdet/lib/src/utils.py:84: TracerWarning: Converting a tensor to a Python integer might cause the trace to be incorrect. We can't record the data flow of Python values, so this value will be treated as a constant in the future. This means that the trace might not generalize to other inputs!\n",
            "  image_shape = np.array(image_shape)\n",
            "Monk_Object_Detection/4_efficientdet/lib/src/utils.py:96: TracerWarning: torch.from_numpy results are registered as constants in the trace. You can safely ignore this warning if you use this function to create tensors out of constant variables that would be the same every time you call this function. In any other case, this might cause the trace to be incorrect.\n",
            "  anchors = torch.from_numpy(all_anchors.astype(np.float32))\n",
            "Monk_Object_Detection/4_efficientdet/lib/src/model.py:282: TracerWarning: Converting a tensor to a Python boolean might cause the trace to be incorrect. We can't record the data flow of Python values, so this value will be treated as a constant in the future. This means that the trace might not generalize to other inputs!\n",
            "  if scores_over_thresh.sum() == 0:\n"
          ],
          "name": "stderr"
        },
        {
          "output_type": "display_data",
          "data": {
            "text/html": [
              "<div style=\"display:flex;flex-direction:row;\"><span>Epoch: 2/100. Iteration: 84/84. Cls loss: 0.00227. Reg loss: 0.00000. Batch loss: 0.00227 Total loss: 0.26409</span><progress style='margin:2px 4px;description_width:initial;' max='84' value='84'></progress>100% 84/84 [00:35&lt;00:00,  3.20it/s]</div>"
            ],
            "text/plain": [
              "<tqdm._fake_ipywidgets.HBox object>"
            ]
          },
          "metadata": {
            "tags": []
          }
        },
        {
          "output_type": "stream",
          "text": [
            "\n"
          ],
          "name": "stdout"
        },
        {
          "output_type": "display_data",
          "data": {
            "text/html": [
              "<div style=\"display:flex;flex-direction:row;\"><span>Epoch: 3/100. Iteration: 84/84. Cls loss: 0.14461. Reg loss: 0.08278. Batch loss: 0.22739 Total loss: 0.25542</span><progress style='margin:2px 4px;description_width:initial;' max='84' value='84'></progress>100% 84/84 [00:36&lt;00:00,  3.16it/s]</div>"
            ],
            "text/plain": [
              "<tqdm._fake_ipywidgets.HBox object>"
            ]
          },
          "metadata": {
            "tags": []
          }
        },
        {
          "output_type": "stream",
          "text": [
            "\n"
          ],
          "name": "stdout"
        },
        {
          "output_type": "display_data",
          "data": {
            "text/html": [
              "<div style=\"display:flex;flex-direction:row;\"><span>Epoch: 4/100. Iteration: 84/84. Cls loss: 0.12142. Reg loss: 0.07467. Batch loss: 0.19608 Total loss: 0.23834</span><progress style='margin:2px 4px;description_width:initial;' max='84' value='84'></progress>100% 84/84 [00:36&lt;00:00,  3.16it/s]</div>"
            ],
            "text/plain": [
              "<tqdm._fake_ipywidgets.HBox object>"
            ]
          },
          "metadata": {
            "tags": []
          }
        },
        {
          "output_type": "stream",
          "text": [
            "\n"
          ],
          "name": "stdout"
        },
        {
          "output_type": "display_data",
          "data": {
            "text/html": [
              "<div style=\"display:flex;flex-direction:row;\"><span>Epoch: 5/100. Iteration: 84/84. Cls loss: 0.00147. Reg loss: 0.00000. Batch loss: 0.00147 Total loss: 0.21988</span><progress style='margin:2px 4px;description_width:initial;' max='84' value='84'></progress>100% 84/84 [00:36&lt;00:00,  3.20it/s]</div>"
            ],
            "text/plain": [
              "<tqdm._fake_ipywidgets.HBox object>"
            ]
          },
          "metadata": {
            "tags": []
          }
        },
        {
          "output_type": "stream",
          "text": [
            "\n"
          ],
          "name": "stdout"
        },
        {
          "output_type": "display_data",
          "data": {
            "text/html": [
              "<div style=\"display:flex;flex-direction:row;\"><span>Epoch: 6/100. Iteration: 84/84. Cls loss: 0.00015. Reg loss: 0.00000. Batch loss: 0.00015 Total loss: 0.19648</span><progress style='margin:2px 4px;description_width:initial;' max='84' value='84'></progress>100% 84/84 [00:36&lt;00:00,  3.25it/s]</div>"
            ],
            "text/plain": [
              "<tqdm._fake_ipywidgets.HBox object>"
            ]
          },
          "metadata": {
            "tags": []
          }
        },
        {
          "output_type": "stream",
          "text": [
            "\n"
          ],
          "name": "stdout"
        },
        {
          "output_type": "display_data",
          "data": {
            "text/html": [
              "<div style=\"display:flex;flex-direction:row;\"><span>Epoch: 7/100. Iteration: 84/84. Cls loss: 0.03893. Reg loss: 0.09029. Batch loss: 0.12922 Total loss: 0.17611</span><progress style='margin:2px 4px;description_width:initial;' max='84' value='84'></progress>100% 84/84 [00:36&lt;00:00,  3.13it/s]</div>"
            ],
            "text/plain": [
              "<tqdm._fake_ipywidgets.HBox object>"
            ]
          },
          "metadata": {
            "tags": []
          }
        },
        {
          "output_type": "stream",
          "text": [
            "\n"
          ],
          "name": "stdout"
        },
        {
          "output_type": "display_data",
          "data": {
            "text/html": [
              "<div style=\"display:flex;flex-direction:row;\"><span>Epoch: 8/100. Iteration: 84/84. Cls loss: 0.10843. Reg loss: 0.06847. Batch loss: 0.17689 Total loss: 0.14727</span><progress style='margin:2px 4px;description_width:initial;' max='84' value='84'></progress>100% 84/84 [00:36&lt;00:00,  3.15it/s]</div>"
            ],
            "text/plain": [
              "<tqdm._fake_ipywidgets.HBox object>"
            ]
          },
          "metadata": {
            "tags": []
          }
        },
        {
          "output_type": "stream",
          "text": [
            "\n"
          ],
          "name": "stdout"
        },
        {
          "output_type": "display_data",
          "data": {
            "text/html": [
              "<div style=\"display:flex;flex-direction:row;\"><span>Epoch: 9/100. Iteration: 84/84. Cls loss: 0.05122. Reg loss: 0.06204. Batch loss: 0.11326 Total loss: 0.14543</span><progress style='margin:2px 4px;description_width:initial;' max='84' value='84'></progress>100% 84/84 [00:36&lt;00:00,  3.13it/s]</div>"
            ],
            "text/plain": [
              "<tqdm._fake_ipywidgets.HBox object>"
            ]
          },
          "metadata": {
            "tags": []
          }
        },
        {
          "output_type": "stream",
          "text": [
            "\n"
          ],
          "name": "stdout"
        },
        {
          "output_type": "display_data",
          "data": {
            "text/html": [
              "<div style=\"display:flex;flex-direction:row;\"><span>Epoch: 10/100. Iteration: 84/84. Cls loss: 0.07286. Reg loss: 0.15552. Batch loss: 0.22838 Total loss: 0.12079</span><progress style='margin:2px 4px;description_width:initial;' max='84' value='84'></progress>100% 84/84 [00:36&lt;00:00,  3.16it/s]</div>"
            ],
            "text/plain": [
              "<tqdm._fake_ipywidgets.HBox object>"
            ]
          },
          "metadata": {
            "tags": []
          }
        },
        {
          "output_type": "stream",
          "text": [
            "\n"
          ],
          "name": "stdout"
        },
        {
          "output_type": "display_data",
          "data": {
            "text/html": [
              "<div style=\"display:flex;flex-direction:row;\"><span>Epoch: 11/100. Iteration: 84/84. Cls loss: 0.05326. Reg loss: 0.12101. Batch loss: 0.17427 Total loss: 0.10852</span><progress style='margin:2px 4px;description_width:initial;' max='84' value='84'></progress>100% 84/84 [00:36&lt;00:00,  3.14it/s]</div>"
            ],
            "text/plain": [
              "<tqdm._fake_ipywidgets.HBox object>"
            ]
          },
          "metadata": {
            "tags": []
          }
        },
        {
          "output_type": "stream",
          "text": [
            "\n"
          ],
          "name": "stdout"
        },
        {
          "output_type": "display_data",
          "data": {
            "text/html": [
              "<div style=\"display:flex;flex-direction:row;\"><span>Epoch: 12/100. Iteration: 84/84. Cls loss: 0.00138. Reg loss: 0.00000. Batch loss: 0.00138 Total loss: 0.10955</span><progress style='margin:2px 4px;description_width:initial;' max='84' value='84'></progress>100% 84/84 [00:36&lt;00:00,  3.17it/s]</div>"
            ],
            "text/plain": [
              "<tqdm._fake_ipywidgets.HBox object>"
            ]
          },
          "metadata": {
            "tags": []
          }
        },
        {
          "output_type": "stream",
          "text": [
            "\n"
          ],
          "name": "stdout"
        },
        {
          "output_type": "display_data",
          "data": {
            "text/html": [
              "<div style=\"display:flex;flex-direction:row;\"><span>Epoch: 13/100. Iteration: 84/84. Cls loss: 0.00218. Reg loss: 0.00000. Batch loss: 0.00218 Total loss: 0.09331</span><progress style='margin:2px 4px;description_width:initial;' max='84' value='84'></progress>100% 84/84 [00:36&lt;00:00,  3.16it/s]</div>"
            ],
            "text/plain": [
              "<tqdm._fake_ipywidgets.HBox object>"
            ]
          },
          "metadata": {
            "tags": []
          }
        },
        {
          "output_type": "stream",
          "text": [
            "\n"
          ],
          "name": "stdout"
        },
        {
          "output_type": "display_data",
          "data": {
            "text/html": [
              "<div style=\"display:flex;flex-direction:row;\"><span>Epoch: 14/100. Iteration: 84/84. Cls loss: 0.00007. Reg loss: 0.00000. Batch loss: 0.00007 Total loss: 0.08807</span><progress style='margin:2px 4px;description_width:initial;' max='84' value='84'></progress>100% 84/84 [00:36&lt;00:00,  3.16it/s]</div>"
            ],
            "text/plain": [
              "<tqdm._fake_ipywidgets.HBox object>"
            ]
          },
          "metadata": {
            "tags": []
          }
        },
        {
          "output_type": "stream",
          "text": [
            "\n"
          ],
          "name": "stdout"
        },
        {
          "output_type": "display_data",
          "data": {
            "text/html": [
              "<div style=\"display:flex;flex-direction:row;\"><span>Epoch: 15/100. Iteration: 84/84. Cls loss: 0.00008. Reg loss: 0.00000. Batch loss: 0.00008 Total loss: 0.08423</span><progress style='margin:2px 4px;description_width:initial;' max='84' value='84'></progress>100% 84/84 [00:36&lt;00:00,  3.21it/s]</div>"
            ],
            "text/plain": [
              "<tqdm._fake_ipywidgets.HBox object>"
            ]
          },
          "metadata": {
            "tags": []
          }
        },
        {
          "output_type": "stream",
          "text": [
            "\n"
          ],
          "name": "stdout"
        },
        {
          "output_type": "display_data",
          "data": {
            "text/html": [
              "<div style=\"display:flex;flex-direction:row;\"><span>Epoch: 16/100. Iteration: 84/84. Cls loss: 0.08203. Reg loss: 0.15846. Batch loss: 0.24050 Total loss: 0.07737</span><progress style='margin:2px 4px;description_width:initial;' max='84' value='84'></progress>100% 84/84 [00:36&lt;00:00,  3.16it/s]</div>"
            ],
            "text/plain": [
              "<tqdm._fake_ipywidgets.HBox object>"
            ]
          },
          "metadata": {
            "tags": []
          }
        },
        {
          "output_type": "stream",
          "text": [
            "\n"
          ],
          "name": "stdout"
        },
        {
          "output_type": "display_data",
          "data": {
            "text/html": [
              "<div style=\"display:flex;flex-direction:row;\"><span>Epoch: 17/100. Iteration: 84/84. Cls loss: 0.01422. Reg loss: 0.05616. Batch loss: 0.07038 Total loss: 0.07252</span><progress style='margin:2px 4px;description_width:initial;' max='84' value='84'></progress>100% 84/84 [00:36&lt;00:00,  3.15it/s]</div>"
            ],
            "text/plain": [
              "<tqdm._fake_ipywidgets.HBox object>"
            ]
          },
          "metadata": {
            "tags": []
          }
        },
        {
          "output_type": "stream",
          "text": [
            "\n"
          ],
          "name": "stdout"
        },
        {
          "output_type": "display_data",
          "data": {
            "text/html": [
              "<div style=\"display:flex;flex-direction:row;\"><span>Epoch: 18/100. Iteration: 84/84. Cls loss: 0.06030. Reg loss: 0.07081. Batch loss: 0.13111 Total loss: 0.06539</span><progress style='margin:2px 4px;description_width:initial;' max='84' value='84'></progress>100% 84/84 [00:36&lt;00:00,  3.15it/s]</div>"
            ],
            "text/plain": [
              "<tqdm._fake_ipywidgets.HBox object>"
            ]
          },
          "metadata": {
            "tags": []
          }
        },
        {
          "output_type": "stream",
          "text": [
            "\n"
          ],
          "name": "stdout"
        },
        {
          "output_type": "display_data",
          "data": {
            "text/html": [
              "<div style=\"display:flex;flex-direction:row;\"><span>Epoch: 19/100. Iteration: 84/84. Cls loss: 0.03161. Reg loss: 0.05058. Batch loss: 0.08219 Total loss: 0.06765</span><progress style='margin:2px 4px;description_width:initial;' max='84' value='84'></progress>100% 84/84 [00:36&lt;00:00,  3.16it/s]</div>"
            ],
            "text/plain": [
              "<tqdm._fake_ipywidgets.HBox object>"
            ]
          },
          "metadata": {
            "tags": []
          }
        },
        {
          "output_type": "stream",
          "text": [
            "\n"
          ],
          "name": "stdout"
        },
        {
          "output_type": "display_data",
          "data": {
            "text/html": [
              "<div style=\"display:flex;flex-direction:row;\"><span>Epoch: 20/100. Iteration: 84/84. Cls loss: 0.02519. Reg loss: 0.04973. Batch loss: 0.07492 Total loss: 0.06526</span><progress style='margin:2px 4px;description_width:initial;' max='84' value='84'></progress>100% 84/84 [00:36&lt;00:00,  3.14it/s]</div>"
            ],
            "text/plain": [
              "<tqdm._fake_ipywidgets.HBox object>"
            ]
          },
          "metadata": {
            "tags": []
          }
        },
        {
          "output_type": "stream",
          "text": [
            "\n"
          ],
          "name": "stdout"
        },
        {
          "output_type": "display_data",
          "data": {
            "text/html": [
              "<div style=\"display:flex;flex-direction:row;\"><span>Epoch: 21/100. Iteration: 84/84. Cls loss: 0.00724. Reg loss: 0.01815. Batch loss: 0.02539 Total loss: 0.05649</span><progress style='margin:2px 4px;description_width:initial;' max='84' value='84'></progress>100% 84/84 [00:36&lt;00:00,  3.16it/s]</div>"
            ],
            "text/plain": [
              "<tqdm._fake_ipywidgets.HBox object>"
            ]
          },
          "metadata": {
            "tags": []
          }
        },
        {
          "output_type": "stream",
          "text": [
            "\n"
          ],
          "name": "stdout"
        },
        {
          "output_type": "display_data",
          "data": {
            "text/html": [
              "<div style=\"display:flex;flex-direction:row;\"><span>Epoch: 22/100. Iteration: 84/84. Cls loss: 0.12168. Reg loss: 0.13344. Batch loss: 0.25512 Total loss: 0.05978</span><progress style='margin:2px 4px;description_width:initial;' max='84' value='84'></progress>100% 84/84 [00:36&lt;00:00,  3.19it/s]</div>"
            ],
            "text/plain": [
              "<tqdm._fake_ipywidgets.HBox object>"
            ]
          },
          "metadata": {
            "tags": []
          }
        },
        {
          "output_type": "stream",
          "text": [
            "\n"
          ],
          "name": "stdout"
        },
        {
          "output_type": "display_data",
          "data": {
            "text/html": [
              "<div style=\"display:flex;flex-direction:row;\"><span>Epoch: 23/100. Iteration: 84/84. Cls loss: 0.01478. Reg loss: 0.02447. Batch loss: 0.03926 Total loss: 0.05408</span><progress style='margin:2px 4px;description_width:initial;' max='84' value='84'></progress>100% 84/84 [00:36&lt;00:00,  3.18it/s]</div>"
            ],
            "text/plain": [
              "<tqdm._fake_ipywidgets.HBox object>"
            ]
          },
          "metadata": {
            "tags": []
          }
        },
        {
          "output_type": "stream",
          "text": [
            "\n"
          ],
          "name": "stdout"
        },
        {
          "output_type": "display_data",
          "data": {
            "text/html": [
              "<div style=\"display:flex;flex-direction:row;\"><span>Epoch: 24/100. Iteration: 84/84. Cls loss: 0.01762. Reg loss: 0.06668. Batch loss: 0.08430 Total loss: 0.05360</span><progress style='margin:2px 4px;description_width:initial;' max='84' value='84'></progress>100% 84/84 [00:36&lt;00:00,  3.21it/s]</div>"
            ],
            "text/plain": [
              "<tqdm._fake_ipywidgets.HBox object>"
            ]
          },
          "metadata": {
            "tags": []
          }
        },
        {
          "output_type": "stream",
          "text": [
            "\n"
          ],
          "name": "stdout"
        },
        {
          "output_type": "display_data",
          "data": {
            "text/html": [
              "<div style=\"display:flex;flex-direction:row;\"><span>Epoch: 25/100. Iteration: 84/84. Cls loss: 0.05663. Reg loss: 0.10822. Batch loss: 0.16485 Total loss: 0.04806</span><progress style='margin:2px 4px;description_width:initial;' max='84' value='84'></progress>100% 84/84 [00:36&lt;00:00,  3.14it/s]</div>"
            ],
            "text/plain": [
              "<tqdm._fake_ipywidgets.HBox object>"
            ]
          },
          "metadata": {
            "tags": []
          }
        },
        {
          "output_type": "stream",
          "text": [
            "\n"
          ],
          "name": "stdout"
        },
        {
          "output_type": "display_data",
          "data": {
            "text/html": [
              "<div style=\"display:flex;flex-direction:row;\"><span>Epoch: 26/100. Iteration: 84/84. Cls loss: 0.02031. Reg loss: 0.06409. Batch loss: 0.08440 Total loss: 0.05093</span><progress style='margin:2px 4px;description_width:initial;' max='84' value='84'></progress>100% 84/84 [00:36&lt;00:00,  3.15it/s]</div>"
            ],
            "text/plain": [
              "<tqdm._fake_ipywidgets.HBox object>"
            ]
          },
          "metadata": {
            "tags": []
          }
        },
        {
          "output_type": "stream",
          "text": [
            "\n"
          ],
          "name": "stdout"
        },
        {
          "output_type": "display_data",
          "data": {
            "text/html": [
              "<div style=\"display:flex;flex-direction:row;\"><span>Epoch: 27/100. Iteration: 84/84. Cls loss: 0.04743. Reg loss: 0.04384. Batch loss: 0.09127 Total loss: 0.04928</span><progress style='margin:2px 4px;description_width:initial;' max='84' value='84'></progress>100% 84/84 [00:36&lt;00:00,  3.13it/s]</div>"
            ],
            "text/plain": [
              "<tqdm._fake_ipywidgets.HBox object>"
            ]
          },
          "metadata": {
            "tags": []
          }
        },
        {
          "output_type": "stream",
          "text": [
            "\n"
          ],
          "name": "stdout"
        },
        {
          "output_type": "display_data",
          "data": {
            "text/html": [
              "<div style=\"display:flex;flex-direction:row;\"><span>Epoch: 28/100. Iteration: 84/84. Cls loss: 0.01542. Reg loss: 0.07987. Batch loss: 0.09528 Total loss: 0.04308</span><progress style='margin:2px 4px;description_width:initial;' max='84' value='84'></progress>100% 84/84 [00:36&lt;00:00,  3.13it/s]</div>"
            ],
            "text/plain": [
              "<tqdm._fake_ipywidgets.HBox object>"
            ]
          },
          "metadata": {
            "tags": []
          }
        },
        {
          "output_type": "stream",
          "text": [
            "\n"
          ],
          "name": "stdout"
        },
        {
          "output_type": "display_data",
          "data": {
            "text/html": [
              "<div style=\"display:flex;flex-direction:row;\"><span>Epoch: 29/100. Iteration: 84/84. Cls loss: 0.00868. Reg loss: 0.00000. Batch loss: 0.00868 Total loss: 0.04052</span><progress style='margin:2px 4px;description_width:initial;' max='84' value='84'></progress>100% 84/84 [00:36&lt;00:00,  3.18it/s]</div>"
            ],
            "text/plain": [
              "<tqdm._fake_ipywidgets.HBox object>"
            ]
          },
          "metadata": {
            "tags": []
          }
        },
        {
          "output_type": "stream",
          "text": [
            "\n"
          ],
          "name": "stdout"
        },
        {
          "output_type": "display_data",
          "data": {
            "text/html": [
              "<div style=\"display:flex;flex-direction:row;\"><span>Epoch: 30/100. Iteration: 84/84. Cls loss: 0.02733. Reg loss: 0.09362. Batch loss: 0.12095 Total loss: 0.03927</span><progress style='margin:2px 4px;description_width:initial;' max='84' value='84'></progress>100% 84/84 [00:36&lt;00:00,  3.21it/s]</div>"
            ],
            "text/plain": [
              "<tqdm._fake_ipywidgets.HBox object>"
            ]
          },
          "metadata": {
            "tags": []
          }
        },
        {
          "output_type": "stream",
          "text": [
            "\n"
          ],
          "name": "stdout"
        },
        {
          "output_type": "display_data",
          "data": {
            "text/html": [
              "<div style=\"display:flex;flex-direction:row;\"><span>Epoch: 31/100. Iteration: 84/84. Cls loss: 0.01885. Reg loss: 0.06843. Batch loss: 0.08728 Total loss: 0.04320</span><progress style='margin:2px 4px;description_width:initial;' max='84' value='84'></progress>100% 84/84 [00:36&lt;00:00,  3.16it/s]</div>"
            ],
            "text/plain": [
              "<tqdm._fake_ipywidgets.HBox object>"
            ]
          },
          "metadata": {
            "tags": []
          }
        },
        {
          "output_type": "stream",
          "text": [
            "\n"
          ],
          "name": "stdout"
        },
        {
          "output_type": "display_data",
          "data": {
            "text/html": [
              "<div style=\"display:flex;flex-direction:row;\"><span>Epoch: 32/100. Iteration: 84/84. Cls loss: 0.01079. Reg loss: 0.09858. Batch loss: 0.10937 Total loss: 0.04032</span><progress style='margin:2px 4px;description_width:initial;' max='84' value='84'></progress>100% 84/84 [00:36&lt;00:00,  3.15it/s]</div>"
            ],
            "text/plain": [
              "<tqdm._fake_ipywidgets.HBox object>"
            ]
          },
          "metadata": {
            "tags": []
          }
        },
        {
          "output_type": "stream",
          "text": [
            "\n"
          ],
          "name": "stdout"
        },
        {
          "output_type": "display_data",
          "data": {
            "text/html": [
              "<div style=\"display:flex;flex-direction:row;\"><span>Epoch: 33/100. Iteration: 84/84. Cls loss: 0.00616. Reg loss: 0.03567. Batch loss: 0.04183 Total loss: 0.03832</span><progress style='margin:2px 4px;description_width:initial;' max='84' value='84'></progress>100% 84/84 [00:36&lt;00:00,  3.16it/s]</div>"
            ],
            "text/plain": [
              "<tqdm._fake_ipywidgets.HBox object>"
            ]
          },
          "metadata": {
            "tags": []
          }
        },
        {
          "output_type": "stream",
          "text": [
            "\n"
          ],
          "name": "stdout"
        },
        {
          "output_type": "display_data",
          "data": {
            "text/html": [
              "<div style=\"display:flex;flex-direction:row;\"><span>Epoch: 34/100. Iteration: 84/84. Cls loss: 0.00000. Reg loss: 0.00000. Batch loss: 0.00000 Total loss: 0.03715</span><progress style='margin:2px 4px;description_width:initial;' max='84' value='84'></progress>100% 84/84 [00:36&lt;00:00,  3.15it/s]</div>"
            ],
            "text/plain": [
              "<tqdm._fake_ipywidgets.HBox object>"
            ]
          },
          "metadata": {
            "tags": []
          }
        },
        {
          "output_type": "stream",
          "text": [
            "\n"
          ],
          "name": "stdout"
        },
        {
          "output_type": "display_data",
          "data": {
            "text/html": [
              "<div style=\"display:flex;flex-direction:row;\"><span>Epoch: 35/100. Iteration: 84/84. Cls loss: 0.00000. Reg loss: 0.00000. Batch loss: 0.00000 Total loss: 0.03491</span><progress style='margin:2px 4px;description_width:initial;' max='84' value='84'></progress>100% 84/84 [00:36&lt;00:00,  3.20it/s]</div>"
            ],
            "text/plain": [
              "<tqdm._fake_ipywidgets.HBox object>"
            ]
          },
          "metadata": {
            "tags": []
          }
        },
        {
          "output_type": "stream",
          "text": [
            "\n"
          ],
          "name": "stdout"
        },
        {
          "output_type": "display_data",
          "data": {
            "text/html": [
              "<div style=\"display:flex;flex-direction:row;\"><span>Epoch: 36/100. Iteration: 84/84. Cls loss: 0.03301. Reg loss: 0.03837. Batch loss: 0.07138 Total loss: 0.03490</span><progress style='margin:2px 4px;description_width:initial;' max='84' value='84'></progress>100% 84/84 [00:36&lt;00:00,  3.17it/s]</div>"
            ],
            "text/plain": [
              "<tqdm._fake_ipywidgets.HBox object>"
            ]
          },
          "metadata": {
            "tags": []
          }
        },
        {
          "output_type": "stream",
          "text": [
            "\n"
          ],
          "name": "stdout"
        },
        {
          "output_type": "display_data",
          "data": {
            "text/html": [
              "<div style=\"display:flex;flex-direction:row;\"><span>Epoch: 37/100. Iteration: 84/84. Cls loss: 0.00107. Reg loss: 0.00000. Batch loss: 0.00107 Total loss: 0.03353</span><progress style='margin:2px 4px;description_width:initial;' max='84' value='84'></progress>100% 84/84 [00:36&lt;00:00,  3.16it/s]</div>"
            ],
            "text/plain": [
              "<tqdm._fake_ipywidgets.HBox object>"
            ]
          },
          "metadata": {
            "tags": []
          }
        },
        {
          "output_type": "stream",
          "text": [
            "\n"
          ],
          "name": "stdout"
        },
        {
          "output_type": "display_data",
          "data": {
            "text/html": [
              "<div style=\"display:flex;flex-direction:row;\"><span>Epoch: 38/100. Iteration: 84/84. Cls loss: 0.00685. Reg loss: 0.03495. Batch loss: 0.04180 Total loss: 0.03285</span><progress style='margin:2px 4px;description_width:initial;' max='84' value='84'></progress>100% 84/84 [00:36&lt;00:00,  3.14it/s]</div>"
            ],
            "text/plain": [
              "<tqdm._fake_ipywidgets.HBox object>"
            ]
          },
          "metadata": {
            "tags": []
          }
        },
        {
          "output_type": "stream",
          "text": [
            "\n"
          ],
          "name": "stdout"
        },
        {
          "output_type": "display_data",
          "data": {
            "text/html": [
              "<div style=\"display:flex;flex-direction:row;\"><span>Epoch: 39/100. Iteration: 84/84. Cls loss: 0.00658. Reg loss: 0.10117. Batch loss: 0.10775 Total loss: 0.03201</span><progress style='margin:2px 4px;description_width:initial;' max='84' value='84'></progress>100% 84/84 [00:36&lt;00:00,  3.20it/s]</div>"
            ],
            "text/plain": [
              "<tqdm._fake_ipywidgets.HBox object>"
            ]
          },
          "metadata": {
            "tags": []
          }
        },
        {
          "output_type": "stream",
          "text": [
            "\n"
          ],
          "name": "stdout"
        },
        {
          "output_type": "display_data",
          "data": {
            "text/html": [
              "<div style=\"display:flex;flex-direction:row;\"><span>Epoch: 40/100. Iteration: 84/84. Cls loss: 0.03395. Reg loss: 0.11074. Batch loss: 0.14469 Total loss: 0.03160</span><progress style='margin:2px 4px;description_width:initial;' max='84' value='84'></progress>100% 84/84 [00:36&lt;00:00,  3.16it/s]</div>"
            ],
            "text/plain": [
              "<tqdm._fake_ipywidgets.HBox object>"
            ]
          },
          "metadata": {
            "tags": []
          }
        },
        {
          "output_type": "stream",
          "text": [
            "\n"
          ],
          "name": "stdout"
        },
        {
          "output_type": "display_data",
          "data": {
            "text/html": [
              "<div style=\"display:flex;flex-direction:row;\"><span>Epoch: 41/100. Iteration: 84/84. Cls loss: 0.00000. Reg loss: 0.00000. Batch loss: 0.00000 Total loss: 0.02780</span><progress style='margin:2px 4px;description_width:initial;' max='84' value='84'></progress>100% 84/84 [00:36&lt;00:00,  3.26it/s]</div>"
            ],
            "text/plain": [
              "<tqdm._fake_ipywidgets.HBox object>"
            ]
          },
          "metadata": {
            "tags": []
          }
        },
        {
          "output_type": "stream",
          "text": [
            "\n"
          ],
          "name": "stdout"
        },
        {
          "output_type": "display_data",
          "data": {
            "text/html": [
              "<div style=\"display:flex;flex-direction:row;\"><span>Epoch: 42/100. Iteration: 84/84. Cls loss: 0.00000. Reg loss: 0.00000. Batch loss: 0.00000 Total loss: 0.02682</span><progress style='margin:2px 4px;description_width:initial;' max='84' value='84'></progress>100% 84/84 [00:36&lt;00:00,  3.14it/s]</div>"
            ],
            "text/plain": [
              "<tqdm._fake_ipywidgets.HBox object>"
            ]
          },
          "metadata": {
            "tags": []
          }
        },
        {
          "output_type": "stream",
          "text": [
            "\n"
          ],
          "name": "stdout"
        },
        {
          "output_type": "display_data",
          "data": {
            "text/html": [
              "<div style=\"display:flex;flex-direction:row;\"><span>Epoch: 43/100. Iteration: 84/84. Cls loss: 0.00001. Reg loss: 0.00000. Batch loss: 0.00001 Total loss: 0.02802</span><progress style='margin:2px 4px;description_width:initial;' max='84' value='84'></progress>100% 84/84 [00:36&lt;00:00,  3.23it/s]</div>"
            ],
            "text/plain": [
              "<tqdm._fake_ipywidgets.HBox object>"
            ]
          },
          "metadata": {
            "tags": []
          }
        },
        {
          "output_type": "stream",
          "text": [
            "\n"
          ],
          "name": "stdout"
        },
        {
          "output_type": "display_data",
          "data": {
            "text/html": [
              "<div style=\"display:flex;flex-direction:row;\"><span>Epoch: 44/100. Iteration: 84/84. Cls loss: 0.01636. Reg loss: 0.04050. Batch loss: 0.05686 Total loss: 0.02770</span><progress style='margin:2px 4px;description_width:initial;' max='84' value='84'></progress>100% 84/84 [00:36&lt;00:00,  3.19it/s]</div>"
            ],
            "text/plain": [
              "<tqdm._fake_ipywidgets.HBox object>"
            ]
          },
          "metadata": {
            "tags": []
          }
        },
        {
          "output_type": "stream",
          "text": [
            "\n"
          ],
          "name": "stdout"
        },
        {
          "output_type": "display_data",
          "data": {
            "text/html": [
              "<div style=\"display:flex;flex-direction:row;\"><span>Epoch: 45/100. Iteration: 84/84. Cls loss: 0.00356. Reg loss: 0.06559. Batch loss: 0.06915 Total loss: 0.02876</span><progress style='margin:2px 4px;description_width:initial;' max='84' value='84'></progress>100% 84/84 [00:36&lt;00:00,  3.16it/s]</div>"
            ],
            "text/plain": [
              "<tqdm._fake_ipywidgets.HBox object>"
            ]
          },
          "metadata": {
            "tags": []
          }
        },
        {
          "output_type": "stream",
          "text": [
            "\n"
          ],
          "name": "stdout"
        },
        {
          "output_type": "display_data",
          "data": {
            "text/html": [
              "<div style=\"display:flex;flex-direction:row;\"><span>Epoch: 46/100. Iteration: 84/84. Cls loss: 0.00101. Reg loss: 0.03293. Batch loss: 0.03395 Total loss: 0.02591</span><progress style='margin:2px 4px;description_width:initial;' max='84' value='84'></progress>100% 84/84 [00:36&lt;00:00,  3.24it/s]</div>"
            ],
            "text/plain": [
              "<tqdm._fake_ipywidgets.HBox object>"
            ]
          },
          "metadata": {
            "tags": []
          }
        },
        {
          "output_type": "stream",
          "text": [
            "\n"
          ],
          "name": "stdout"
        },
        {
          "output_type": "display_data",
          "data": {
            "text/html": [
              "<div style=\"display:flex;flex-direction:row;\"><span>Epoch: 47/100. Iteration: 84/84. Cls loss: 0.00000. Reg loss: 0.00000. Batch loss: 0.00000 Total loss: 0.02655</span><progress style='margin:2px 4px;description_width:initial;' max='84' value='84'></progress>100% 84/84 [00:36&lt;00:00,  3.26it/s]</div>"
            ],
            "text/plain": [
              "<tqdm._fake_ipywidgets.HBox object>"
            ]
          },
          "metadata": {
            "tags": []
          }
        },
        {
          "output_type": "stream",
          "text": [
            "\n"
          ],
          "name": "stdout"
        },
        {
          "output_type": "display_data",
          "data": {
            "text/html": [
              "<div style=\"display:flex;flex-direction:row;\"><span>Epoch: 48/100. Iteration: 84/84. Cls loss: 0.00439. Reg loss: 0.02360. Batch loss: 0.02799 Total loss: 0.02577</span><progress style='margin:2px 4px;description_width:initial;' max='84' value='84'></progress>100% 84/84 [00:36&lt;00:00,  3.11it/s]</div>"
            ],
            "text/plain": [
              "<tqdm._fake_ipywidgets.HBox object>"
            ]
          },
          "metadata": {
            "tags": []
          }
        },
        {
          "output_type": "stream",
          "text": [
            "\n"
          ],
          "name": "stdout"
        },
        {
          "output_type": "display_data",
          "data": {
            "text/html": [
              "<div style=\"display:flex;flex-direction:row;\"><span>Epoch: 49/100. Iteration: 84/84. Cls loss: 0.02134. Reg loss: 0.07891. Batch loss: 0.10025 Total loss: 0.02548</span><progress style='margin:2px 4px;description_width:initial;' max='84' value='84'></progress>100% 84/84 [00:36&lt;00:00,  3.11it/s]</div>"
            ],
            "text/plain": [
              "<tqdm._fake_ipywidgets.HBox object>"
            ]
          },
          "metadata": {
            "tags": []
          }
        },
        {
          "output_type": "stream",
          "text": [
            "\n"
          ],
          "name": "stdout"
        },
        {
          "output_type": "display_data",
          "data": {
            "text/html": [
              "<div style=\"display:flex;flex-direction:row;\"><span>Epoch: 50/100. Iteration: 84/84. Cls loss: 0.00000. Reg loss: 0.00000. Batch loss: 0.00000 Total loss: 0.02381</span><progress style='margin:2px 4px;description_width:initial;' max='84' value='84'></progress>100% 84/84 [00:36&lt;00:00,  3.16it/s]</div>"
            ],
            "text/plain": [
              "<tqdm._fake_ipywidgets.HBox object>"
            ]
          },
          "metadata": {
            "tags": []
          }
        },
        {
          "output_type": "stream",
          "text": [
            "\n"
          ],
          "name": "stdout"
        },
        {
          "output_type": "display_data",
          "data": {
            "text/html": [
              "<div style=\"display:flex;flex-direction:row;\"><span>Epoch: 51/100. Iteration: 84/84. Cls loss: 0.00000. Reg loss: 0.00000. Batch loss: 0.00000 Total loss: 0.02432</span><progress style='margin:2px 4px;description_width:initial;' max='84' value='84'></progress>100% 84/84 [00:36&lt;00:00,  3.16it/s]</div>"
            ],
            "text/plain": [
              "<tqdm._fake_ipywidgets.HBox object>"
            ]
          },
          "metadata": {
            "tags": []
          }
        },
        {
          "output_type": "stream",
          "text": [
            "\n"
          ],
          "name": "stdout"
        },
        {
          "output_type": "display_data",
          "data": {
            "text/html": [
              "<div style=\"display:flex;flex-direction:row;\"><span>Epoch: 52/100. Iteration: 84/84. Cls loss: 0.00140. Reg loss: 0.01086. Batch loss: 0.01226 Total loss: 0.02320</span><progress style='margin:2px 4px;description_width:initial;' max='84' value='84'></progress>100% 84/84 [00:36&lt;00:00,  3.08it/s]</div>"
            ],
            "text/plain": [
              "<tqdm._fake_ipywidgets.HBox object>"
            ]
          },
          "metadata": {
            "tags": []
          }
        },
        {
          "output_type": "stream",
          "text": [
            "\n"
          ],
          "name": "stdout"
        },
        {
          "output_type": "display_data",
          "data": {
            "text/html": [
              "<div style=\"display:flex;flex-direction:row;\"><span>Epoch: 53/100. Iteration: 84/84. Cls loss: 0.00000. Reg loss: 0.00000. Batch loss: 0.00000 Total loss: 0.02456</span><progress style='margin:2px 4px;description_width:initial;' max='84' value='84'></progress>100% 84/84 [00:36&lt;00:00,  3.22it/s]</div>"
            ],
            "text/plain": [
              "<tqdm._fake_ipywidgets.HBox object>"
            ]
          },
          "metadata": {
            "tags": []
          }
        },
        {
          "output_type": "stream",
          "text": [
            "\n"
          ],
          "name": "stdout"
        },
        {
          "output_type": "display_data",
          "data": {
            "text/html": [
              "<div style=\"display:flex;flex-direction:row;\"><span>Epoch: 54/100. Iteration: 84/84. Cls loss: 0.00030. Reg loss: 0.02394. Batch loss: 0.02424 Total loss: 0.02349</span><progress style='margin:2px 4px;description_width:initial;' max='84' value='84'></progress>100% 84/84 [00:36&lt;00:00,  3.17it/s]</div>"
            ],
            "text/plain": [
              "<tqdm._fake_ipywidgets.HBox object>"
            ]
          },
          "metadata": {
            "tags": []
          }
        },
        {
          "output_type": "stream",
          "text": [
            "\n"
          ],
          "name": "stdout"
        },
        {
          "output_type": "display_data",
          "data": {
            "text/html": [
              "<div style=\"display:flex;flex-direction:row;\"><span>Epoch: 55/100. Iteration: 84/84. Cls loss: 0.00036. Reg loss: 0.01869. Batch loss: 0.01905 Total loss: 0.02425</span><progress style='margin:2px 4px;description_width:initial;' max='84' value='84'></progress>100% 84/84 [00:36&lt;00:00,  3.14it/s]</div>"
            ],
            "text/plain": [
              "<tqdm._fake_ipywidgets.HBox object>"
            ]
          },
          "metadata": {
            "tags": []
          }
        },
        {
          "output_type": "stream",
          "text": [
            "\n"
          ],
          "name": "stdout"
        },
        {
          "output_type": "display_data",
          "data": {
            "text/html": [
              "<div style=\"display:flex;flex-direction:row;\"><span>Epoch: 56/100. Iteration: 84/84. Cls loss: 0.00036. Reg loss: 0.00806. Batch loss: 0.00843 Total loss: 0.02223</span><progress style='margin:2px 4px;description_width:initial;' max='84' value='84'></progress>100% 84/84 [00:36&lt;00:00,  3.21it/s]</div>"
            ],
            "text/plain": [
              "<tqdm._fake_ipywidgets.HBox object>"
            ]
          },
          "metadata": {
            "tags": []
          }
        },
        {
          "output_type": "stream",
          "text": [
            "\n"
          ],
          "name": "stdout"
        },
        {
          "output_type": "display_data",
          "data": {
            "text/html": [
              "<div style=\"display:flex;flex-direction:row;\"><span>Epoch: 57/100. Iteration: 84/84. Cls loss: 0.00000. Reg loss: 0.00000. Batch loss: 0.00000 Total loss: 0.02223</span><progress style='margin:2px 4px;description_width:initial;' max='84' value='84'></progress>100% 84/84 [00:36&lt;00:00,  3.19it/s]</div>"
            ],
            "text/plain": [
              "<tqdm._fake_ipywidgets.HBox object>"
            ]
          },
          "metadata": {
            "tags": []
          }
        },
        {
          "output_type": "stream",
          "text": [
            "\n"
          ],
          "name": "stdout"
        },
        {
          "output_type": "display_data",
          "data": {
            "text/html": [
              "<div style=\"display:flex;flex-direction:row;\"><span>Epoch: 58/100. Iteration: 84/84. Cls loss: 0.00134. Reg loss: 0.00757. Batch loss: 0.00891 Total loss: 0.02155</span><progress style='margin:2px 4px;description_width:initial;' max='84' value='84'></progress>100% 84/84 [00:36&lt;00:00,  3.17it/s]</div>"
            ],
            "text/plain": [
              "<tqdm._fake_ipywidgets.HBox object>"
            ]
          },
          "metadata": {
            "tags": []
          }
        },
        {
          "output_type": "stream",
          "text": [
            "\n"
          ],
          "name": "stdout"
        },
        {
          "output_type": "display_data",
          "data": {
            "text/html": [
              "<div style=\"display:flex;flex-direction:row;\"><span>Epoch: 59/100. Iteration: 84/84. Cls loss: 0.00440. Reg loss: 0.03970. Batch loss: 0.04411 Total loss: 0.02169</span><progress style='margin:2px 4px;description_width:initial;' max='84' value='84'></progress>100% 84/84 [00:36&lt;00:00,  3.19it/s]</div>"
            ],
            "text/plain": [
              "<tqdm._fake_ipywidgets.HBox object>"
            ]
          },
          "metadata": {
            "tags": []
          }
        },
        {
          "output_type": "stream",
          "text": [
            "\n"
          ],
          "name": "stdout"
        },
        {
          "output_type": "display_data",
          "data": {
            "text/html": [
              "<div style=\"display:flex;flex-direction:row;\"><span>Epoch: 60/100. Iteration: 84/84. Cls loss: 0.00529. Reg loss: 0.02303. Batch loss: 0.02832 Total loss: 0.02210</span><progress style='margin:2px 4px;description_width:initial;' max='84' value='84'></progress>100% 84/84 [00:36&lt;00:00,  3.18it/s]</div>"
            ],
            "text/plain": [
              "<tqdm._fake_ipywidgets.HBox object>"
            ]
          },
          "metadata": {
            "tags": []
          }
        },
        {
          "output_type": "stream",
          "text": [
            "\n"
          ],
          "name": "stdout"
        },
        {
          "output_type": "display_data",
          "data": {
            "text/html": [
              "<div style=\"display:flex;flex-direction:row;\"><span>Epoch: 61/100. Iteration: 84/84. Cls loss: 0.00016. Reg loss: 0.01398. Batch loss: 0.01414 Total loss: 0.02478</span><progress style='margin:2px 4px;description_width:initial;' max='84' value='84'></progress>100% 84/84 [00:36&lt;00:00,  3.14it/s]</div>"
            ],
            "text/plain": [
              "<tqdm._fake_ipywidgets.HBox object>"
            ]
          },
          "metadata": {
            "tags": []
          }
        },
        {
          "output_type": "stream",
          "text": [
            "\n"
          ],
          "name": "stdout"
        },
        {
          "output_type": "display_data",
          "data": {
            "text/html": [
              "<div style=\"display:flex;flex-direction:row;\"><span>Epoch: 62/100. Iteration: 84/84. Cls loss: 0.00082. Reg loss: 0.02093. Batch loss: 0.02175 Total loss: 0.02224</span><progress style='margin:2px 4px;description_width:initial;' max='84' value='84'></progress>100% 84/84 [00:36&lt;00:00,  3.15it/s]</div>"
            ],
            "text/plain": [
              "<tqdm._fake_ipywidgets.HBox object>"
            ]
          },
          "metadata": {
            "tags": []
          }
        },
        {
          "output_type": "stream",
          "text": [
            "\n",
            "Epoch    62: reducing learning rate of group 0 to 1.0000e-05.\n"
          ],
          "name": "stdout"
        },
        {
          "output_type": "display_data",
          "data": {
            "text/html": [
              "<div style=\"display:flex;flex-direction:row;\"><span>Epoch: 63/100. Iteration: 84/84. Cls loss: 0.00000. Reg loss: 0.00000. Batch loss: 0.00000 Total loss: 0.01916</span><progress style='margin:2px 4px;description_width:initial;' max='84' value='84'></progress>100% 84/84 [00:36&lt;00:00,  3.21it/s]</div>"
            ],
            "text/plain": [
              "<tqdm._fake_ipywidgets.HBox object>"
            ]
          },
          "metadata": {
            "tags": []
          }
        },
        {
          "output_type": "stream",
          "text": [
            "\n"
          ],
          "name": "stdout"
        },
        {
          "output_type": "display_data",
          "data": {
            "text/html": [
              "<div style=\"display:flex;flex-direction:row;\"><span>Epoch: 64/100. Iteration: 84/84. Cls loss: 0.00000. Reg loss: 0.00000. Batch loss: 0.00000 Total loss: 0.01624</span><progress style='margin:2px 4px;description_width:initial;' max='84' value='84'></progress>100% 84/84 [00:36&lt;00:00,  3.16it/s]</div>"
            ],
            "text/plain": [
              "<tqdm._fake_ipywidgets.HBox object>"
            ]
          },
          "metadata": {
            "tags": []
          }
        },
        {
          "output_type": "stream",
          "text": [
            "\n"
          ],
          "name": "stdout"
        },
        {
          "output_type": "display_data",
          "data": {
            "text/html": [
              "<div style=\"display:flex;flex-direction:row;\"><span>Epoch: 65/100. Iteration: 84/84. Cls loss: 0.00000. Reg loss: 0.00000. Batch loss: 0.00000 Total loss: 0.01279</span><progress style='margin:2px 4px;description_width:initial;' max='84' value='84'></progress>100% 84/84 [00:36&lt;00:00,  3.19it/s]</div>"
            ],
            "text/plain": [
              "<tqdm._fake_ipywidgets.HBox object>"
            ]
          },
          "metadata": {
            "tags": []
          }
        },
        {
          "output_type": "stream",
          "text": [
            "\n"
          ],
          "name": "stdout"
        },
        {
          "output_type": "display_data",
          "data": {
            "text/html": [
              "<div style=\"display:flex;flex-direction:row;\"><span>Epoch: 66/100. Iteration: 84/84. Cls loss: 0.00010. Reg loss: 0.02314. Batch loss: 0.02324 Total loss: 0.01380</span><progress style='margin:2px 4px;description_width:initial;' max='84' value='84'></progress>100% 84/84 [00:36&lt;00:00,  3.12it/s]</div>"
            ],
            "text/plain": [
              "<tqdm._fake_ipywidgets.HBox object>"
            ]
          },
          "metadata": {
            "tags": []
          }
        },
        {
          "output_type": "stream",
          "text": [
            "\n"
          ],
          "name": "stdout"
        },
        {
          "output_type": "display_data",
          "data": {
            "text/html": [
              "<div style=\"display:flex;flex-direction:row;\"><span>Epoch: 67/100. Iteration: 84/84. Cls loss: 0.00000. Reg loss: 0.00000. Batch loss: 0.00000 Total loss: 0.01185</span><progress style='margin:2px 4px;description_width:initial;' max='84' value='84'></progress>100% 84/84 [00:36&lt;00:00,  3.17it/s]</div>"
            ],
            "text/plain": [
              "<tqdm._fake_ipywidgets.HBox object>"
            ]
          },
          "metadata": {
            "tags": []
          }
        },
        {
          "output_type": "stream",
          "text": [
            "\n"
          ],
          "name": "stdout"
        },
        {
          "output_type": "display_data",
          "data": {
            "text/html": [
              "<div style=\"display:flex;flex-direction:row;\"><span>Epoch: 68/100. Iteration: 84/84. Cls loss: 0.00284. Reg loss: 0.02691. Batch loss: 0.02975 Total loss: 0.01185</span><progress style='margin:2px 4px;description_width:initial;' max='84' value='84'></progress>100% 84/84 [00:36&lt;00:00,  3.14it/s]</div>"
            ],
            "text/plain": [
              "<tqdm._fake_ipywidgets.HBox object>"
            ]
          },
          "metadata": {
            "tags": []
          }
        },
        {
          "output_type": "stream",
          "text": [
            "\n"
          ],
          "name": "stdout"
        },
        {
          "output_type": "display_data",
          "data": {
            "text/html": [
              "<div style=\"display:flex;flex-direction:row;\"><span>Epoch: 69/100. Iteration: 84/84. Cls loss: 0.00000. Reg loss: 0.00000. Batch loss: 0.00000 Total loss: 0.01009</span><progress style='margin:2px 4px;description_width:initial;' max='84' value='84'></progress>100% 84/84 [00:36&lt;00:00,  3.12it/s]</div>"
            ],
            "text/plain": [
              "<tqdm._fake_ipywidgets.HBox object>"
            ]
          },
          "metadata": {
            "tags": []
          }
        },
        {
          "output_type": "stream",
          "text": [
            "\n"
          ],
          "name": "stdout"
        },
        {
          "output_type": "display_data",
          "data": {
            "text/html": [
              "<div style=\"display:flex;flex-direction:row;\"><span>Epoch: 70/100. Iteration: 84/84. Cls loss: 0.00040. Reg loss: 0.00977. Batch loss: 0.01017 Total loss: 0.01158</span><progress style='margin:2px 4px;description_width:initial;' max='84' value='84'></progress>100% 84/84 [00:36&lt;00:00,  3.23it/s]</div>"
            ],
            "text/plain": [
              "<tqdm._fake_ipywidgets.HBox object>"
            ]
          },
          "metadata": {
            "tags": []
          }
        },
        {
          "output_type": "stream",
          "text": [
            "\n"
          ],
          "name": "stdout"
        },
        {
          "output_type": "display_data",
          "data": {
            "text/html": [
              "<div style=\"display:flex;flex-direction:row;\"><span>Epoch: 71/100. Iteration: 84/84. Cls loss: 0.00000. Reg loss: 0.00000. Batch loss: 0.00000 Total loss: 0.00956</span><progress style='margin:2px 4px;description_width:initial;' max='84' value='84'></progress>100% 84/84 [00:36&lt;00:00,  3.19it/s]</div>"
            ],
            "text/plain": [
              "<tqdm._fake_ipywidgets.HBox object>"
            ]
          },
          "metadata": {
            "tags": []
          }
        },
        {
          "output_type": "stream",
          "text": [
            "\n"
          ],
          "name": "stdout"
        },
        {
          "output_type": "display_data",
          "data": {
            "text/html": [
              "<div style=\"display:flex;flex-direction:row;\"><span>Epoch: 72/100. Iteration: 84/84. Cls loss: 0.00000. Reg loss: 0.00000. Batch loss: 0.00000 Total loss: 0.00997</span><progress style='margin:2px 4px;description_width:initial;' max='84' value='84'></progress>100% 84/84 [00:36&lt;00:00,  3.15it/s]</div>"
            ],
            "text/plain": [
              "<tqdm._fake_ipywidgets.HBox object>"
            ]
          },
          "metadata": {
            "tags": []
          }
        },
        {
          "output_type": "stream",
          "text": [
            "\n"
          ],
          "name": "stdout"
        },
        {
          "output_type": "display_data",
          "data": {
            "text/html": [
              "<div style=\"display:flex;flex-direction:row;\"><span>Epoch: 73/100. Iteration: 84/84. Cls loss: 0.00052. Reg loss: 0.00531. Batch loss: 0.00583 Total loss: 0.01009</span><progress style='margin:2px 4px;description_width:initial;' max='84' value='84'></progress>100% 84/84 [00:36&lt;00:00,  3.16it/s]</div>"
            ],
            "text/plain": [
              "<tqdm._fake_ipywidgets.HBox object>"
            ]
          },
          "metadata": {
            "tags": []
          }
        },
        {
          "output_type": "stream",
          "text": [
            "\n"
          ],
          "name": "stdout"
        },
        {
          "output_type": "display_data",
          "data": {
            "text/html": [
              "<div style=\"display:flex;flex-direction:row;\"><span>Epoch: 74/100. Iteration: 84/84. Cls loss: 0.00060. Reg loss: 0.01507. Batch loss: 0.01567 Total loss: 0.00934</span><progress style='margin:2px 4px;description_width:initial;' max='84' value='84'></progress>100% 84/84 [00:36&lt;00:00,  3.14it/s]</div>"
            ],
            "text/plain": [
              "<tqdm._fake_ipywidgets.HBox object>"
            ]
          },
          "metadata": {
            "tags": []
          }
        },
        {
          "output_type": "stream",
          "text": [
            "\n"
          ],
          "name": "stdout"
        },
        {
          "output_type": "display_data",
          "data": {
            "text/html": [
              "<div style=\"display:flex;flex-direction:row;\"><span>Epoch: 75/100. Iteration: 84/84. Cls loss: 0.00000. Reg loss: 0.00000. Batch loss: 0.00000 Total loss: 0.00944</span><progress style='margin:2px 4px;description_width:initial;' max='84' value='84'></progress>100% 84/84 [00:36&lt;00:00,  3.17it/s]</div>"
            ],
            "text/plain": [
              "<tqdm._fake_ipywidgets.HBox object>"
            ]
          },
          "metadata": {
            "tags": []
          }
        },
        {
          "output_type": "stream",
          "text": [
            "\n"
          ],
          "name": "stdout"
        },
        {
          "output_type": "display_data",
          "data": {
            "text/html": [
              "<div style=\"display:flex;flex-direction:row;\"><span>Epoch: 76/100. Iteration: 84/84. Cls loss: 0.00023. Reg loss: 0.01181. Batch loss: 0.01204 Total loss: 0.00798</span><progress style='margin:2px 4px;description_width:initial;' max='84' value='84'></progress>100% 84/84 [00:36&lt;00:00,  3.19it/s]</div>"
            ],
            "text/plain": [
              "<tqdm._fake_ipywidgets.HBox object>"
            ]
          },
          "metadata": {
            "tags": []
          }
        },
        {
          "output_type": "stream",
          "text": [
            "\n"
          ],
          "name": "stdout"
        },
        {
          "output_type": "display_data",
          "data": {
            "text/html": [
              "<div style=\"display:flex;flex-direction:row;\"><span>Epoch: 77/100. Iteration: 84/84. Cls loss: 0.00000. Reg loss: 0.00000. Batch loss: 0.00000 Total loss: 0.00797</span><progress style='margin:2px 4px;description_width:initial;' max='84' value='84'></progress>100% 84/84 [00:36&lt;00:00,  3.18it/s]</div>"
            ],
            "text/plain": [
              "<tqdm._fake_ipywidgets.HBox object>"
            ]
          },
          "metadata": {
            "tags": []
          }
        },
        {
          "output_type": "stream",
          "text": [
            "\n"
          ],
          "name": "stdout"
        },
        {
          "output_type": "display_data",
          "data": {
            "text/html": [
              "<div style=\"display:flex;flex-direction:row;\"><span>Epoch: 78/100. Iteration: 84/84. Cls loss: 0.00036. Reg loss: 0.01114. Batch loss: 0.01150 Total loss: 0.00910</span><progress style='margin:2px 4px;description_width:initial;' max='84' value='84'></progress>100% 84/84 [00:36&lt;00:00,  3.16it/s]</div>"
            ],
            "text/plain": [
              "<tqdm._fake_ipywidgets.HBox object>"
            ]
          },
          "metadata": {
            "tags": []
          }
        },
        {
          "output_type": "stream",
          "text": [
            "\n"
          ],
          "name": "stdout"
        },
        {
          "output_type": "display_data",
          "data": {
            "text/html": [
              "<div style=\"display:flex;flex-direction:row;\"><span>Epoch: 79/100. Iteration: 84/84. Cls loss: 0.00028. Reg loss: 0.01357. Batch loss: 0.01385 Total loss: 0.00840</span><progress style='margin:2px 4px;description_width:initial;' max='84' value='84'></progress>100% 84/84 [00:36&lt;00:00,  3.16it/s]</div>"
            ],
            "text/plain": [
              "<tqdm._fake_ipywidgets.HBox object>"
            ]
          },
          "metadata": {
            "tags": []
          }
        },
        {
          "output_type": "stream",
          "text": [
            "\n"
          ],
          "name": "stdout"
        },
        {
          "output_type": "display_data",
          "data": {
            "text/html": [
              "<div style=\"display:flex;flex-direction:row;\"><span>Epoch: 80/100. Iteration: 84/84. Cls loss: 0.00000. Reg loss: 0.00000. Batch loss: 0.00000 Total loss: 0.00893</span><progress style='margin:2px 4px;description_width:initial;' max='84' value='84'></progress>100% 84/84 [00:36&lt;00:00,  3.23it/s]</div>"
            ],
            "text/plain": [
              "<tqdm._fake_ipywidgets.HBox object>"
            ]
          },
          "metadata": {
            "tags": []
          }
        },
        {
          "output_type": "stream",
          "text": [
            "\n"
          ],
          "name": "stdout"
        },
        {
          "output_type": "display_data",
          "data": {
            "text/html": [
              "<div style=\"display:flex;flex-direction:row;\"><span>Epoch: 81/100. Iteration: 84/84. Cls loss: 0.00005. Reg loss: 0.00814. Batch loss: 0.00819 Total loss: 0.00755</span><progress style='margin:2px 4px;description_width:initial;' max='84' value='84'></progress>100% 84/84 [00:36&lt;00:00,  3.16it/s]</div>"
            ],
            "text/plain": [
              "<tqdm._fake_ipywidgets.HBox object>"
            ]
          },
          "metadata": {
            "tags": []
          }
        },
        {
          "output_type": "stream",
          "text": [
            "\n"
          ],
          "name": "stdout"
        },
        {
          "output_type": "display_data",
          "data": {
            "text/html": [
              "<div style=\"display:flex;flex-direction:row;\"><span>Epoch: 82/100. Iteration: 84/84. Cls loss: 0.00012. Reg loss: 0.00745. Batch loss: 0.00758 Total loss: 0.00741</span><progress style='margin:2px 4px;description_width:initial;' max='84' value='84'></progress>100% 84/84 [00:36&lt;00:00,  3.17it/s]</div>"
            ],
            "text/plain": [
              "<tqdm._fake_ipywidgets.HBox object>"
            ]
          },
          "metadata": {
            "tags": []
          }
        },
        {
          "output_type": "stream",
          "text": [
            "\n"
          ],
          "name": "stdout"
        },
        {
          "output_type": "display_data",
          "data": {
            "text/html": [
              "<div style=\"display:flex;flex-direction:row;\"><span>Epoch: 83/100. Iteration: 84/84. Cls loss: 0.00033. Reg loss: 0.01809. Batch loss: 0.01842 Total loss: 0.00785</span><progress style='margin:2px 4px;description_width:initial;' max='84' value='84'></progress>100% 84/84 [00:36&lt;00:00,  3.20it/s]</div>"
            ],
            "text/plain": [
              "<tqdm._fake_ipywidgets.HBox object>"
            ]
          },
          "metadata": {
            "tags": []
          }
        },
        {
          "output_type": "stream",
          "text": [
            "\n"
          ],
          "name": "stdout"
        },
        {
          "output_type": "display_data",
          "data": {
            "text/html": [
              "<div style=\"display:flex;flex-direction:row;\"><span>Epoch: 84/100. Iteration: 84/84. Cls loss: 0.00004. Reg loss: 0.00444. Batch loss: 0.00447 Total loss: 0.00777</span><progress style='margin:2px 4px;description_width:initial;' max='84' value='84'></progress>100% 84/84 [00:36&lt;00:00,  3.14it/s]</div>"
            ],
            "text/plain": [
              "<tqdm._fake_ipywidgets.HBox object>"
            ]
          },
          "metadata": {
            "tags": []
          }
        },
        {
          "output_type": "stream",
          "text": [
            "\n"
          ],
          "name": "stdout"
        },
        {
          "output_type": "display_data",
          "data": {
            "text/html": [
              "<div style=\"display:flex;flex-direction:row;\"><span>Epoch: 85/100. Iteration: 84/84. Cls loss: 0.00058. Reg loss: 0.01889. Batch loss: 0.01947 Total loss: 0.00707</span><progress style='margin:2px 4px;description_width:initial;' max='84' value='84'></progress>100% 84/84 [00:36&lt;00:00,  3.12it/s]</div>"
            ],
            "text/plain": [
              "<tqdm._fake_ipywidgets.HBox object>"
            ]
          },
          "metadata": {
            "tags": []
          }
        },
        {
          "output_type": "stream",
          "text": [
            "\n"
          ],
          "name": "stdout"
        },
        {
          "output_type": "display_data",
          "data": {
            "text/html": [
              "<div style=\"display:flex;flex-direction:row;\"><span>Epoch: 86/100. Iteration: 84/84. Cls loss: 0.00000. Reg loss: 0.00000. Batch loss: 0.00000 Total loss: 0.00740</span><progress style='margin:2px 4px;description_width:initial;' max='84' value='84'></progress>100% 84/84 [00:36&lt;00:00,  3.12it/s]</div>"
            ],
            "text/plain": [
              "<tqdm._fake_ipywidgets.HBox object>"
            ]
          },
          "metadata": {
            "tags": []
          }
        },
        {
          "output_type": "stream",
          "text": [
            "\n"
          ],
          "name": "stdout"
        },
        {
          "output_type": "display_data",
          "data": {
            "text/html": [
              "<div style=\"display:flex;flex-direction:row;\"><span>Epoch: 87/100. Iteration: 84/84. Cls loss: 0.00000. Reg loss: 0.00000. Batch loss: 0.00000 Total loss: 0.00734</span><progress style='margin:2px 4px;description_width:initial;' max='84' value='84'></progress>100% 84/84 [00:36&lt;00:00,  3.14it/s]</div>"
            ],
            "text/plain": [
              "<tqdm._fake_ipywidgets.HBox object>"
            ]
          },
          "metadata": {
            "tags": []
          }
        },
        {
          "output_type": "stream",
          "text": [
            "\n"
          ],
          "name": "stdout"
        },
        {
          "output_type": "display_data",
          "data": {
            "text/html": [
              "<div style=\"display:flex;flex-direction:row;\"><span>Epoch: 88/100. Iteration: 84/84. Cls loss: 0.00026. Reg loss: 0.00282. Batch loss: 0.00307 Total loss: 0.00682</span><progress style='margin:2px 4px;description_width:initial;' max='84' value='84'></progress>100% 84/84 [00:36&lt;00:00,  3.21it/s]</div>"
            ],
            "text/plain": [
              "<tqdm._fake_ipywidgets.HBox object>"
            ]
          },
          "metadata": {
            "tags": []
          }
        },
        {
          "output_type": "stream",
          "text": [
            "\n"
          ],
          "name": "stdout"
        },
        {
          "output_type": "display_data",
          "data": {
            "text/html": [
              "<div style=\"display:flex;flex-direction:row;\"><span>Epoch: 89/100. Iteration: 84/84. Cls loss: 0.00006. Reg loss: 0.02556. Batch loss: 0.02562 Total loss: 0.00713</span><progress style='margin:2px 4px;description_width:initial;' max='84' value='84'></progress>100% 84/84 [00:36&lt;00:00,  3.13it/s]</div>"
            ],
            "text/plain": [
              "<tqdm._fake_ipywidgets.HBox object>"
            ]
          },
          "metadata": {
            "tags": []
          }
        },
        {
          "output_type": "stream",
          "text": [
            "\n"
          ],
          "name": "stdout"
        },
        {
          "output_type": "display_data",
          "data": {
            "text/html": [
              "<div style=\"display:flex;flex-direction:row;\"><span>Epoch: 90/100. Iteration: 84/84. Cls loss: 0.00008. Reg loss: 0.00400. Batch loss: 0.00408 Total loss: 0.00683</span><progress style='margin:2px 4px;description_width:initial;' max='84' value='84'></progress>100% 84/84 [00:36&lt;00:00,  3.15it/s]</div>"
            ],
            "text/plain": [
              "<tqdm._fake_ipywidgets.HBox object>"
            ]
          },
          "metadata": {
            "tags": []
          }
        },
        {
          "output_type": "stream",
          "text": [
            "\n"
          ],
          "name": "stdout"
        },
        {
          "output_type": "display_data",
          "data": {
            "text/html": [
              "<div style=\"display:flex;flex-direction:row;\"><span>Epoch: 91/100. Iteration: 84/84. Cls loss: 0.00053. Reg loss: 0.00670. Batch loss: 0.00723 Total loss: 0.00664</span><progress style='margin:2px 4px;description_width:initial;' max='84' value='84'></progress>100% 84/84 [00:36&lt;00:00,  3.15it/s]</div>"
            ],
            "text/plain": [
              "<tqdm._fake_ipywidgets.HBox object>"
            ]
          },
          "metadata": {
            "tags": []
          }
        },
        {
          "output_type": "stream",
          "text": [
            "\n"
          ],
          "name": "stdout"
        },
        {
          "output_type": "display_data",
          "data": {
            "text/html": [
              "<div style=\"display:flex;flex-direction:row;\"><span>Epoch: 92/100. Iteration: 84/84. Cls loss: 0.00004. Reg loss: 0.00409. Batch loss: 0.00414 Total loss: 0.00732</span><progress style='margin:2px 4px;description_width:initial;' max='84' value='84'></progress>100% 84/84 [00:36&lt;00:00,  3.17it/s]</div>"
            ],
            "text/plain": [
              "<tqdm._fake_ipywidgets.HBox object>"
            ]
          },
          "metadata": {
            "tags": []
          }
        },
        {
          "output_type": "stream",
          "text": [
            "\n"
          ],
          "name": "stdout"
        },
        {
          "output_type": "display_data",
          "data": {
            "text/html": [
              "<div style=\"display:flex;flex-direction:row;\"><span>Epoch: 93/100. Iteration: 84/84. Cls loss: 0.00060. Reg loss: 0.01228. Batch loss: 0.01288 Total loss: 0.00647</span><progress style='margin:2px 4px;description_width:initial;' max='84' value='84'></progress>100% 84/84 [00:36&lt;00:00,  3.16it/s]</div>"
            ],
            "text/plain": [
              "<tqdm._fake_ipywidgets.HBox object>"
            ]
          },
          "metadata": {
            "tags": []
          }
        },
        {
          "output_type": "stream",
          "text": [
            "\n"
          ],
          "name": "stdout"
        },
        {
          "output_type": "display_data",
          "data": {
            "text/html": [
              "<div style=\"display:flex;flex-direction:row;\"><span>Epoch: 94/100. Iteration: 84/84. Cls loss: 0.00000. Reg loss: 0.00000. Batch loss: 0.00000 Total loss: 0.00666</span><progress style='margin:2px 4px;description_width:initial;' max='84' value='84'></progress>100% 84/84 [00:36&lt;00:00,  3.19it/s]</div>"
            ],
            "text/plain": [
              "<tqdm._fake_ipywidgets.HBox object>"
            ]
          },
          "metadata": {
            "tags": []
          }
        },
        {
          "output_type": "stream",
          "text": [
            "\n"
          ],
          "name": "stdout"
        },
        {
          "output_type": "display_data",
          "data": {
            "text/html": [
              "<div style=\"display:flex;flex-direction:row;\"><span>Epoch: 95/100. Iteration: 84/84. Cls loss: 0.00024. Reg loss: 0.00246. Batch loss: 0.00270 Total loss: 0.00653</span><progress style='margin:2px 4px;description_width:initial;' max='84' value='84'></progress>100% 84/84 [00:36&lt;00:00,  3.17it/s]</div>"
            ],
            "text/plain": [
              "<tqdm._fake_ipywidgets.HBox object>"
            ]
          },
          "metadata": {
            "tags": []
          }
        },
        {
          "output_type": "stream",
          "text": [
            "\n"
          ],
          "name": "stdout"
        },
        {
          "output_type": "display_data",
          "data": {
            "text/html": [
              "<div style=\"display:flex;flex-direction:row;\"><span>Epoch: 96/100. Iteration: 84/84. Cls loss: 0.00000. Reg loss: 0.00000. Batch loss: 0.00000 Total loss: 0.00630</span><progress style='margin:2px 4px;description_width:initial;' max='84' value='84'></progress>100% 84/84 [00:36&lt;00:00,  3.17it/s]</div>"
            ],
            "text/plain": [
              "<tqdm._fake_ipywidgets.HBox object>"
            ]
          },
          "metadata": {
            "tags": []
          }
        },
        {
          "output_type": "stream",
          "text": [
            "\n"
          ],
          "name": "stdout"
        },
        {
          "output_type": "display_data",
          "data": {
            "text/html": [
              "<div style=\"display:flex;flex-direction:row;\"><span>Epoch: 97/100. Iteration: 84/84. Cls loss: 0.00002. Reg loss: 0.01037. Batch loss: 0.01039 Total loss: 0.00726</span><progress style='margin:2px 4px;description_width:initial;' max='84' value='84'></progress>100% 84/84 [00:36&lt;00:00,  3.10it/s]</div>"
            ],
            "text/plain": [
              "<tqdm._fake_ipywidgets.HBox object>"
            ]
          },
          "metadata": {
            "tags": []
          }
        },
        {
          "output_type": "stream",
          "text": [
            "\n"
          ],
          "name": "stdout"
        },
        {
          "output_type": "display_data",
          "data": {
            "text/html": [
              "<div style=\"display:flex;flex-direction:row;\"><span>Epoch: 98/100. Iteration: 84/84. Cls loss: 0.00000. Reg loss: 0.00000. Batch loss: 0.00000 Total loss: 0.00613</span><progress style='margin:2px 4px;description_width:initial;' max='84' value='84'></progress>100% 84/84 [00:36&lt;00:00,  3.22it/s]</div>"
            ],
            "text/plain": [
              "<tqdm._fake_ipywidgets.HBox object>"
            ]
          },
          "metadata": {
            "tags": []
          }
        },
        {
          "output_type": "stream",
          "text": [
            "\n"
          ],
          "name": "stdout"
        },
        {
          "output_type": "display_data",
          "data": {
            "text/html": [
              "<div style=\"display:flex;flex-direction:row;\"><span>Epoch: 99/100. Iteration: 84/84. Cls loss: 0.00065. Reg loss: 0.00277. Batch loss: 0.00342 Total loss: 0.00680</span><progress style='margin:2px 4px;description_width:initial;' max='84' value='84'></progress>100% 84/84 [00:36&lt;00:00,  3.09it/s]</div>"
            ],
            "text/plain": [
              "<tqdm._fake_ipywidgets.HBox object>"
            ]
          },
          "metadata": {
            "tags": []
          }
        },
        {
          "output_type": "stream",
          "text": [
            "\n"
          ],
          "name": "stdout"
        },
        {
          "output_type": "display_data",
          "data": {
            "text/html": [
              "<div style=\"display:flex;flex-direction:row;\"><span>Epoch: 100/100. Iteration: 84/84. Cls loss: 0.00108. Reg loss: 0.00687. Batch loss: 0.00795 Total loss: 0.00679</span><progress style='margin:2px 4px;description_width:initial;' max='84' value='84'></progress>100% 84/84 [00:36&lt;00:00,  3.11it/s]</div>"
            ],
            "text/plain": [
              "<tqdm._fake_ipywidgets.HBox object>"
            ]
          },
          "metadata": {
            "tags": []
          }
        },
        {
          "output_type": "stream",
          "text": [
            "\n",
            "CPU times: user 49min 42s, sys: 4min 48s, total: 54min 30s\n",
            "Wall time: 1h 1min 40s\n"
          ],
          "name": "stdout"
        }
      ]
    },
    {
      "cell_type": "markdown",
      "metadata": {
        "id": "1cj9gst-hRDg",
        "colab_type": "text"
      },
      "source": [
        "# Inference"
      ]
    },
    {
      "cell_type": "code",
      "metadata": {
        "id": "ZC263x69sfai",
        "colab_type": "code",
        "colab": {}
      },
      "source": [
        "import os\n",
        "import sys\n",
        "sys.path.append(\"Monk_Object_Detection/4_efficientdet/lib/\");"
      ],
      "execution_count": null,
      "outputs": []
    },
    {
      "cell_type": "code",
      "metadata": {
        "id": "IsxWRWL8tcgP",
        "colab_type": "code",
        "colab": {}
      },
      "source": [
        "from infer_detector import Infer"
      ],
      "execution_count": null,
      "outputs": []
    },
    {
      "cell_type": "code",
      "metadata": {
        "id": "VEuuSjWYte5-",
        "colab_type": "code",
        "colab": {}
      },
      "source": [
        "gtf = Infer();"
      ],
      "execution_count": null,
      "outputs": []
    },
    {
      "cell_type": "code",
      "metadata": {
        "id": "YWbOZk-rthzW",
        "colab_type": "code",
        "colab": {}
      },
      "source": [
        "#our trained model weights are in here in onxx format\n",
        "gtf.Model(model_dir=\"trained/\")"
      ],
      "execution_count": null,
      "outputs": []
    },
    {
      "cell_type": "code",
      "metadata": {
        "id": "qMLy8LIcuRQS",
        "colab_type": "code",
        "colab": {
          "base_uri": "https://localhost:8080/",
          "height": 34
        },
        "outputId": "dd59b9a3-9f4e-4b85-a2fc-e4d4fd12e95f"
      },
      "source": [
        "class_list=['pole','sign-h','fh']\n",
        "class_list"
      ],
      "execution_count": null,
      "outputs": [
        {
          "output_type": "execute_result",
          "data": {
            "text/plain": [
              "['pole', 'sign-h', 'fh']"
            ]
          },
          "metadata": {
            "tags": []
          },
          "execution_count": 18
        }
      ]
    },
    {
      "cell_type": "code",
      "metadata": {
        "id": "Oc87-3NPummz",
        "colab_type": "code",
        "colab": {}
      },
      "source": [
        "# %%time\n",
        "# # test with single image, how to do prediction, there is a Predict function in the monk_detect_object infor_detector.py file\n",
        "# img_path = \"/content/Testdir/Images/39.75193303--104.98402659999998-135.jpg\";\n",
        "# duration, scores, labels, boxes = gtf.Predict(img_path, class_list, vis_threshold=0.1);\n",
        "# print(boxes)\n",
        "# print(scores)"
      ],
      "execution_count": null,
      "outputs": []
    },
    {
      "cell_type": "code",
      "metadata": {
        "id": "iw__Ua5zmVL5",
        "colab_type": "code",
        "colab": {
          "base_uri": "https://localhost:8080/",
          "height": 34
        },
        "outputId": "d58bd8c4-9821-4379-c47c-23b069e299eb"
      },
      "source": [
        "#Get the predicted bounding boxes\n",
        "#Also cut off the boxes if score lower than threshold. currently threshold=0.1\n",
        "import os\n",
        "import argparse\n",
        "import torch\n",
        "import torch.nn as nn\n",
        "from torch.utils.data import DataLoader\n",
        "from torchvision import transforms\n",
        "from src.dataset import CocoDataset, Resizer, Normalizer, Augmenter, collater\n",
        "from src.model import EfficientDet\n",
        "from tensorboardX import SummaryWriter\n",
        "import shutil\n",
        "import numpy as np\n",
        "from tqdm.autonotebook import tqdm\n",
        "from src.config import colors\n",
        "import cv2\n",
        "import tensorflow as tf\n",
        "\n",
        "verbose=1\n",
        "system_dict = {};\n",
        "system_dict[\"verbose\"] = verbose;\n",
        "system_dict[\"local\"] = {};\n",
        "system_dict[\"local\"][\"common_size\"] = 512;\n",
        "system_dict[\"local\"][\"mean\"] = np.array([[[0.485, 0.456, 0.406]]])\n",
        "system_dict[\"local\"][\"std\"] = np.array([[[0.229, 0.224, 0.225]]])\n",
        "\n",
        "model_dir=\"trained/\"\n",
        "system_dict[\"local\"][\"model\"] = torch.load(model_dir + \"/signatrix_efficientdet_coco.pth\").module\n",
        "if torch.cuda.is_available():\n",
        "  system_dict[\"local\"][\"model\"] = system_dict[\"local\"][\"model\"].cuda();\n",
        "\n",
        "test_images=os.listdir(\"/content/Testdir/Images/\")\n",
        "img_path=[]\n",
        "for i in test_images:\n",
        "  img_path.append('/content/Testdir/Images/'+i)\n",
        "\n",
        "test_images=[]\n",
        "for single_path in img_path:\n",
        "  image_filename = os.path.basename(single_path)\n",
        "  img = cv2.imread(single_path)\n",
        "  img = cv2.cvtColor(img, cv2.COLOR_BGR2RGB);\n",
        "  #img.shape (640,640,3)\n",
        "  image = img.astype(np.float32) / 255.\n",
        "  image = (image.astype(np.float32) - system_dict[\"local\"][\"mean\"]) / system_dict[\"local\"][\"std\"]\n",
        "\n",
        "  height, width, _ = image.shape\n",
        "  if height > width:\n",
        "    scale = system_dict[\"local\"][\"common_size\"] / height\n",
        "    resized_height = system_dict[\"local\"][\"common_size\"]\n",
        "    resized_width = int(width * scale)\n",
        "  else:\n",
        "    scale = system_dict[\"local\"][\"common_size\"] / width\n",
        "    resized_height = int(height * scale)\n",
        "    resized_width = system_dict[\"local\"][\"common_size\"]\n",
        "\n",
        "\n",
        "  image = cv2.resize(image, (resized_width, resized_height))\n",
        "  #image.shape (512,512,3)\n",
        "\n",
        "  new_image = np.zeros((system_dict[\"local\"][\"common_size\"], system_dict[\"local\"][\"common_size\"], 3))\n",
        "  new_image[0:resized_height, 0:resized_width] = image\n",
        "\n",
        "  img = torch.from_numpy(new_image)\n",
        "\n",
        "  with torch.no_grad():\n",
        "    scores, labels, boxes = system_dict[\"local\"][\"model\"](img.cuda().permute(2, 0, 1).float().unsqueeze(dim=0))\n",
        "    boxes /= scale;\n",
        "  #if boxes.shape[0] > 0:\n",
        "\n",
        "  single_test_img =[]\n",
        "  single_test_img.append(image_filename)\n",
        "  single_test_img.append(labels.cpu().numpy())\n",
        "  single_test_img.append(boxes.cpu().numpy())\n",
        "  single_test_img.append(scores.cpu().numpy())\n",
        "  #print(single_test_img)\n",
        "  # IMPORTANT! cut off the boxes if the score is lower than certain threshhold\n",
        "  vis_threshold=0.01\n",
        "  indices = np.where(single_test_img[3] >= vis_threshold)\n",
        "  filtered_labels = single_test_img[1][indices]\n",
        "  filtered_boxes = single_test_img[2][indices]\n",
        "  filtered_scores = single_test_img[3][indices]\n",
        "  filtered_single_test_img = []\n",
        "  filtered_single_test_img.append(image_filename)\n",
        "  filtered_single_test_img.append(filtered_labels.tolist())\n",
        "  filtered_single_test_img.append(filtered_boxes.tolist())\n",
        "  filtered_single_test_img.append(filtered_scores.tolist())\n",
        "  test_images.append(filtered_single_test_img)\n",
        "  #test_images.append(single_test_img)\n",
        "test_images[1]\n",
        "#len(test_images)"
      ],
      "execution_count": null,
      "outputs": [
        {
          "output_type": "execute_result",
          "data": {
            "text/plain": [
              "['39.75202361--104.9816403-315.jpg', [], [], []]"
            ]
          },
          "metadata": {
            "tags": []
          },
          "execution_count": 71
        }
      ]
    },
    {
      "cell_type": "code",
      "metadata": {
        "id": "cO7vEWJrQm9s",
        "colab_type": "code",
        "colab": {
          "base_uri": "https://localhost:8080/",
          "height": 34
        },
        "outputId": "9d58d2ed-4585-4bcd-c8a0-a4d9adf17c8c"
      },
      "source": [
        "#Predicted test images (pred_test_images): filename, labels and boxes when score>= threshold\n",
        "pred_test_images=test_images\n",
        "print('number of images that have predicted bounding boxes:', len(pred_test_images))"
      ],
      "execution_count": null,
      "outputs": [
        {
          "output_type": "stream",
          "text": [
            "number of images that have predicted bounding boxes: 300\n"
          ],
          "name": "stdout"
        }
      ]
    },
    {
      "cell_type": "markdown",
      "metadata": {
        "id": "MLwmWHSNpnY6",
        "colab_type": "text"
      },
      "source": [
        "below cell would generate all the bounding boxes for batch images. Not running now. may need it later for image inspection"
      ]
    },
    {
      "cell_type": "code",
      "metadata": {
        "id": "G0fjxJrVf9MN",
        "colab_type": "code",
        "colab": {
          "base_uri": "https://localhost:8080/",
          "height": 1000
        },
        "outputId": "d779f0ac-e2b7-4583-fa55-d005e66c28b5"
      },
      "source": [
        "#get inference images in the inference folder (picture format)\n",
        "!mkdir Inference\n",
        "gtf.predict_batch_of_images('./Testdir/./Images', class_list, vis_threshold = 0.01, output_folder='Inference')"
      ],
      "execution_count": null,
      "outputs": [
        {
          "output_type": "stream",
          "text": [
            "mkdir: cannot create directory ‘Inference’: File exists\n",
            "Done. (0.056s)\n",
            "Done. (0.048s)\n",
            "NO Object Detected\n",
            "Done. (0.047s)\n",
            "NO Object Detected\n",
            "Done. (0.052s)\n",
            "NO Object Detected\n",
            "Done. (0.049s)\n",
            "NO Object Detected\n",
            "Done. (0.048s)\n",
            "NO Object Detected\n",
            "Done. (0.059s)\n",
            "NO Object Detected\n",
            "Done. (0.049s)\n",
            "NO Object Detected\n",
            "Done. (0.056s)\n",
            "NO Object Detected\n",
            "Done. (0.053s)\n",
            "NO Object Detected\n",
            "Done. (0.049s)\n",
            "NO Object Detected\n",
            "Done. (0.050s)\n",
            "NO Object Detected\n",
            "Done. (0.053s)\n",
            "NO Object Detected\n",
            "Done. (0.049s)\n",
            "NO Object Detected\n",
            "Done. (0.056s)\n",
            "NO Object Detected\n",
            "Done. (0.051s)\n",
            "NO Object Detected\n",
            "Done. (0.048s)\n",
            "NO Object Detected\n",
            "Done. (0.051s)\n",
            "NO Object Detected\n",
            "Done. (0.055s)\n",
            "NO Object Detected\n",
            "Done. (0.056s)\n",
            "NO Object Detected\n",
            "Done. (0.050s)\n",
            "NO Object Detected\n",
            "Done. (0.055s)\n",
            "NO Object Detected\n",
            "Done. (0.046s)\n",
            "NO Object Detected\n",
            "Done. (0.052s)\n",
            "Done. (0.052s)\n",
            "NO Object Detected\n",
            "Done. (0.049s)\n",
            "NO Object Detected\n",
            "Done. (0.050s)\n",
            "NO Object Detected\n",
            "Done. (0.054s)\n",
            "NO Object Detected\n",
            "Done. (0.046s)\n",
            "NO Object Detected\n",
            "Done. (0.047s)\n",
            "NO Object Detected\n",
            "Done. (0.050s)\n",
            "NO Object Detected\n",
            "Done. (0.048s)\n",
            "NO Object Detected\n",
            "Done. (0.056s)\n",
            "NO Object Detected\n",
            "Done. (0.053s)\n",
            "NO Object Detected\n",
            "Done. (0.055s)\n",
            "NO Object Detected\n",
            "Done. (0.048s)\n",
            "NO Object Detected\n",
            "Done. (0.052s)\n",
            "NO Object Detected\n",
            "Done. (0.050s)\n",
            "NO Object Detected\n",
            "Done. (0.048s)\n",
            "NO Object Detected\n",
            "Done. (0.051s)\n",
            "NO Object Detected\n",
            "Done. (0.047s)\n",
            "NO Object Detected\n",
            "Done. (0.049s)\n",
            "NO Object Detected\n",
            "Done. (0.053s)\n",
            "NO Object Detected\n",
            "Done. (0.051s)\n",
            "Done. (0.048s)\n",
            "NO Object Detected\n",
            "Done. (0.058s)\n",
            "NO Object Detected\n",
            "Done. (0.058s)\n",
            "NO Object Detected\n",
            "Done. (0.049s)\n",
            "NO Object Detected\n",
            "Done. (0.052s)\n",
            "NO Object Detected\n",
            "Done. (0.049s)\n",
            "NO Object Detected\n",
            "Done. (0.048s)\n",
            "NO Object Detected\n",
            "Done. (0.050s)\n",
            "NO Object Detected\n",
            "Done. (0.052s)\n",
            "NO Object Detected\n",
            "Done. (0.050s)\n",
            "NO Object Detected\n",
            "Done. (0.053s)\n",
            "Done. (0.053s)\n",
            "NO Object Detected\n",
            "Done. (0.049s)\n",
            "NO Object Detected\n",
            "Done. (0.053s)\n",
            "NO Object Detected\n",
            "Done. (0.049s)\n",
            "NO Object Detected\n",
            "Done. (0.057s)\n",
            "NO Object Detected\n",
            "Done. (0.053s)\n",
            "NO Object Detected\n",
            "Done. (0.050s)\n",
            "NO Object Detected\n",
            "Done. (0.050s)\n",
            "NO Object Detected\n",
            "Done. (0.053s)\n",
            "NO Object Detected\n",
            "Done. (0.050s)\n",
            "NO Object Detected\n",
            "Done. (0.050s)\n",
            "NO Object Detected\n",
            "Done. (0.066s)\n",
            "Done. (0.049s)\n",
            "NO Object Detected\n",
            "Done. (0.048s)\n",
            "NO Object Detected\n",
            "Done. (0.054s)\n",
            "NO Object Detected\n",
            "Done. (0.056s)\n",
            "NO Object Detected\n",
            "Done. (0.056s)\n",
            "NO Object Detected\n",
            "Done. (0.059s)\n",
            "NO Object Detected\n",
            "Done. (0.048s)\n",
            "NO Object Detected\n",
            "Done. (0.055s)\n",
            "NO Object Detected\n",
            "Done. (0.052s)\n",
            "NO Object Detected\n",
            "Done. (0.053s)\n",
            "Done. (0.049s)\n",
            "NO Object Detected\n",
            "Done. (0.050s)\n",
            "Done. (0.050s)\n",
            "NO Object Detected\n",
            "Done. (0.048s)\n",
            "NO Object Detected\n",
            "Done. (0.049s)\n",
            "NO Object Detected\n",
            "Done. (0.057s)\n",
            "NO Object Detected\n",
            "Done. (0.055s)\n",
            "NO Object Detected\n",
            "Done. (0.054s)\n",
            "NO Object Detected\n",
            "Done. (0.049s)\n",
            "NO Object Detected\n",
            "Done. (0.058s)\n",
            "NO Object Detected\n",
            "Done. (0.052s)\n",
            "Done. (0.049s)\n",
            "NO Object Detected\n",
            "Done. (0.052s)\n",
            "NO Object Detected\n",
            "Done. (0.048s)\n",
            "NO Object Detected\n",
            "Done. (0.047s)\n",
            "NO Object Detected\n",
            "Done. (0.047s)\n",
            "NO Object Detected\n",
            "Done. (0.051s)\n",
            "NO Object Detected\n",
            "Done. (0.048s)\n",
            "NO Object Detected\n",
            "Done. (0.049s)\n",
            "NO Object Detected\n",
            "Done. (0.052s)\n",
            "NO Object Detected\n",
            "Done. (0.055s)\n",
            "NO Object Detected\n",
            "Done. (0.049s)\n",
            "NO Object Detected\n",
            "Done. (0.051s)\n",
            "NO Object Detected\n",
            "Done. (0.049s)\n",
            "NO Object Detected\n",
            "Done. (0.050s)\n",
            "NO Object Detected\n",
            "Done. (0.050s)\n",
            "NO Object Detected\n",
            "Done. (0.050s)\n",
            "NO Object Detected\n",
            "Done. (0.053s)\n",
            "NO Object Detected\n",
            "Done. (0.056s)\n",
            "NO Object Detected\n",
            "Done. (0.051s)\n",
            "NO Object Detected\n",
            "Done. (0.058s)\n",
            "NO Object Detected\n",
            "Done. (0.062s)\n",
            "NO Object Detected\n",
            "Done. (0.051s)\n",
            "NO Object Detected\n",
            "Done. (0.050s)\n",
            "NO Object Detected\n",
            "Done. (0.054s)\n",
            "NO Object Detected\n",
            "Done. (0.049s)\n",
            "NO Object Detected\n",
            "Done. (0.051s)\n",
            "NO Object Detected\n",
            "Done. (0.054s)\n",
            "NO Object Detected\n",
            "Done. (0.049s)\n",
            "NO Object Detected\n",
            "Done. (0.047s)\n",
            "NO Object Detected\n",
            "Done. (0.051s)\n",
            "NO Object Detected\n",
            "Done. (0.049s)\n",
            "NO Object Detected\n",
            "Done. (0.050s)\n",
            "NO Object Detected\n",
            "Done. (0.062s)\n",
            "NO Object Detected\n",
            "Done. (0.055s)\n",
            "NO Object Detected\n",
            "Done. (0.048s)\n",
            "NO Object Detected\n",
            "Done. (0.052s)\n",
            "NO Object Detected\n",
            "Done. (0.049s)\n",
            "NO Object Detected\n",
            "Done. (0.050s)\n",
            "Done. (0.051s)\n",
            "NO Object Detected\n",
            "Done. (0.047s)\n",
            "NO Object Detected\n",
            "Done. (0.048s)\n",
            "NO Object Detected\n",
            "Done. (0.052s)\n",
            "NO Object Detected\n",
            "Done. (0.048s)\n",
            "NO Object Detected\n",
            "Done. (0.049s)\n",
            "NO Object Detected\n",
            "Done. (0.052s)\n",
            "NO Object Detected\n",
            "Done. (0.057s)\n",
            "NO Object Detected\n",
            "Done. (0.053s)\n",
            "NO Object Detected\n",
            "Done. (0.053s)\n",
            "NO Object Detected\n",
            "Done. (0.048s)\n",
            "NO Object Detected\n",
            "Done. (0.049s)\n",
            "NO Object Detected\n",
            "Done. (0.051s)\n",
            "NO Object Detected\n",
            "Done. (0.050s)\n",
            "NO Object Detected\n",
            "Done. (0.049s)\n",
            "NO Object Detected\n",
            "Done. (0.052s)\n",
            "NO Object Detected\n",
            "Done. (0.048s)\n",
            "NO Object Detected\n",
            "Done. (0.049s)\n",
            "NO Object Detected\n",
            "Done. (0.053s)\n",
            "NO Object Detected\n",
            "Done. (0.050s)\n",
            "NO Object Detected\n",
            "Done. (0.056s)\n",
            "NO Object Detected\n",
            "Done. (0.053s)\n",
            "NO Object Detected\n",
            "Done. (0.049s)\n",
            "NO Object Detected\n",
            "Done. (0.048s)\n",
            "NO Object Detected\n",
            "Done. (0.052s)\n",
            "NO Object Detected\n",
            "Done. (0.050s)\n",
            "NO Object Detected\n",
            "Done. (0.050s)\n",
            "NO Object Detected\n",
            "Done. (0.053s)\n",
            "NO Object Detected\n",
            "Done. (0.049s)\n",
            "NO Object Detected\n",
            "Done. (0.051s)\n",
            "NO Object Detected\n",
            "Done. (0.059s)\n",
            "NO Object Detected\n",
            "Done. (0.049s)\n",
            "NO Object Detected\n",
            "Done. (0.049s)\n",
            "Done. (0.060s)\n",
            "NO Object Detected\n",
            "Done. (0.050s)\n",
            "NO Object Detected\n",
            "Done. (0.050s)\n",
            "NO Object Detected\n",
            "Done. (0.052s)\n",
            "NO Object Detected\n",
            "Done. (0.049s)\n",
            "NO Object Detected\n",
            "Done. (0.049s)\n",
            "NO Object Detected\n",
            "Done. (0.055s)\n",
            "NO Object Detected\n",
            "Done. (0.047s)\n",
            "NO Object Detected\n",
            "Done. (0.047s)\n",
            "NO Object Detected\n",
            "Done. (0.052s)\n",
            "Done. (0.049s)\n",
            "Done. (0.047s)\n",
            "NO Object Detected\n",
            "Done. (0.058s)\n",
            "NO Object Detected\n",
            "Done. (0.047s)\n",
            "NO Object Detected\n",
            "Done. (0.046s)\n",
            "NO Object Detected\n",
            "Done. (0.054s)\n",
            "NO Object Detected\n",
            "Done. (0.047s)\n",
            "NO Object Detected\n",
            "Done. (0.049s)\n",
            "NO Object Detected\n",
            "Done. (0.051s)\n",
            "NO Object Detected\n",
            "Done. (0.047s)\n",
            "NO Object Detected\n",
            "Done. (0.049s)\n",
            "NO Object Detected\n",
            "Done. (0.049s)\n",
            "NO Object Detected\n",
            "Done. (0.047s)\n",
            "NO Object Detected\n",
            "Done. (0.048s)\n",
            "NO Object Detected\n",
            "Done. (0.051s)\n",
            "NO Object Detected\n",
            "Done. (0.051s)\n",
            "NO Object Detected\n",
            "Done. (0.057s)\n",
            "NO Object Detected\n",
            "Done. (0.051s)\n",
            "NO Object Detected\n",
            "Done. (0.048s)\n",
            "NO Object Detected\n",
            "Done. (0.048s)\n",
            "NO Object Detected\n",
            "Done. (0.051s)\n",
            "NO Object Detected\n",
            "Done. (0.047s)\n",
            "NO Object Detected\n",
            "Done. (0.049s)\n",
            "NO Object Detected\n",
            "Done. (0.059s)\n",
            "NO Object Detected\n",
            "Done. (0.047s)\n",
            "NO Object Detected\n",
            "Done. (0.049s)\n",
            "NO Object Detected\n",
            "Done. (0.052s)\n",
            "NO Object Detected\n",
            "Done. (0.048s)\n",
            "NO Object Detected\n",
            "Done. (0.048s)\n",
            "NO Object Detected\n",
            "Done. (0.067s)\n",
            "NO Object Detected\n",
            "Done. (0.047s)\n",
            "NO Object Detected\n",
            "Done. (0.048s)\n",
            "NO Object Detected\n",
            "Done. (0.052s)\n",
            "Done. (0.049s)\n",
            "NO Object Detected\n",
            "Done. (0.051s)\n",
            "NO Object Detected\n",
            "Done. (0.055s)\n",
            "NO Object Detected\n",
            "Done. (0.049s)\n",
            "NO Object Detected\n",
            "Done. (0.051s)\n",
            "Done. (0.053s)\n",
            "NO Object Detected\n",
            "Done. (0.049s)\n",
            "NO Object Detected\n",
            "Done. (0.049s)\n",
            "NO Object Detected\n",
            "Done. (0.052s)\n",
            "NO Object Detected\n",
            "Done. (0.057s)\n",
            "NO Object Detected\n",
            "Done. (0.050s)\n",
            "NO Object Detected\n",
            "Done. (0.053s)\n",
            "NO Object Detected\n",
            "Done. (0.064s)\n",
            "NO Object Detected\n",
            "Done. (0.049s)\n",
            "NO Object Detected\n",
            "Done. (0.058s)\n",
            "NO Object Detected\n",
            "Done. (0.048s)\n",
            "NO Object Detected\n",
            "Done. (0.047s)\n",
            "NO Object Detected\n",
            "Done. (0.052s)\n",
            "NO Object Detected\n",
            "Done. (0.047s)\n",
            "NO Object Detected\n",
            "Done. (0.047s)\n",
            "NO Object Detected\n",
            "Done. (0.051s)\n",
            "NO Object Detected\n",
            "Done. (0.049s)\n",
            "NO Object Detected\n",
            "Done. (0.052s)\n",
            "NO Object Detected\n",
            "Done. (0.053s)\n",
            "NO Object Detected\n",
            "Done. (0.050s)\n",
            "Done. (0.048s)\n",
            "NO Object Detected\n",
            "Done. (0.047s)\n",
            "NO Object Detected\n",
            "Done. (0.050s)\n",
            "NO Object Detected\n",
            "Done. (0.049s)\n",
            "NO Object Detected\n",
            "Done. (0.050s)\n",
            "NO Object Detected\n",
            "Done. (0.047s)\n",
            "NO Object Detected\n",
            "Done. (0.049s)\n",
            "NO Object Detected\n",
            "Done. (0.055s)\n",
            "NO Object Detected\n",
            "Done. (0.048s)\n",
            "NO Object Detected\n",
            "Done. (0.048s)\n",
            "NO Object Detected\n",
            "Done. (0.053s)\n",
            "NO Object Detected\n",
            "Done. (0.048s)\n",
            "NO Object Detected\n",
            "Done. (0.051s)\n",
            "NO Object Detected\n",
            "Done. (0.052s)\n",
            "NO Object Detected\n",
            "Done. (0.046s)\n",
            "NO Object Detected\n",
            "Done. (0.049s)\n",
            "NO Object Detected\n",
            "Done. (0.052s)\n",
            "NO Object Detected\n",
            "Done. (0.049s)\n",
            "NO Object Detected\n",
            "Done. (0.049s)\n",
            "NO Object Detected\n",
            "Done. (0.052s)\n",
            "NO Object Detected\n",
            "Done. (0.047s)\n",
            "NO Object Detected\n",
            "Done. (0.049s)\n",
            "NO Object Detected\n",
            "Done. (0.050s)\n",
            "NO Object Detected\n",
            "Done. (0.055s)\n",
            "NO Object Detected\n",
            "Done. (0.048s)\n",
            "NO Object Detected\n",
            "Done. (0.058s)\n",
            "NO Object Detected\n",
            "Done. (0.054s)\n",
            "NO Object Detected\n",
            "Done. (0.048s)\n",
            "NO Object Detected\n",
            "Done. (0.051s)\n",
            "NO Object Detected\n",
            "Done. (0.047s)\n",
            "NO Object Detected\n",
            "Done. (0.047s)\n",
            "NO Object Detected\n",
            "Done. (0.049s)\n",
            "NO Object Detected\n",
            "Done. (0.046s)\n",
            "NO Object Detected\n",
            "Done. (0.048s)\n",
            "NO Object Detected\n",
            "Done. (0.049s)\n",
            "NO Object Detected\n",
            "Done. (0.046s)\n",
            "NO Object Detected\n",
            "Done. (0.063s)\n",
            "NO Object Detected\n",
            "Done. (0.049s)\n",
            "NO Object Detected\n",
            "Done. (0.049s)\n",
            "NO Object Detected\n",
            "Done. (0.050s)\n",
            "NO Object Detected\n",
            "Done. (0.050s)\n",
            "NO Object Detected\n",
            "Done. (0.047s)\n",
            "NO Object Detected\n",
            "Done. (0.048s)\n",
            "NO Object Detected\n",
            "Done. (0.055s)\n",
            "NO Object Detected\n",
            "Done. (0.047s)\n",
            "NO Object Detected\n",
            "Done. (0.047s)\n",
            "NO Object Detected\n",
            "Done. (0.052s)\n",
            "NO Object Detected\n",
            "Done. (0.048s)\n",
            "NO Object Detected\n",
            "Done. (0.049s)\n",
            "NO Object Detected\n",
            "Done. (0.057s)\n",
            "NO Object Detected\n",
            "Done. (0.047s)\n",
            "NO Object Detected\n",
            "Done. (0.047s)\n",
            "NO Object Detected\n",
            "Done. (0.050s)\n",
            "NO Object Detected\n",
            "Done. (0.049s)\n",
            "NO Object Detected\n",
            "Done. (0.052s)\n",
            "NO Object Detected\n",
            "Done. (0.053s)\n",
            "NO Object Detected\n",
            "Done. (0.049s)\n",
            "NO Object Detected\n",
            "Done. (0.050s)\n",
            "NO Object Detected\n",
            "Done. (0.052s)\n",
            "NO Object Detected\n",
            "Done. (0.051s)\n",
            "Done. (0.052s)\n",
            "Done. (0.049s)\n",
            "NO Object Detected\n",
            "Done. (0.059s)\n",
            "NO Object Detected\n",
            "Done. (0.051s)\n",
            "NO Object Detected\n",
            "Done. (0.055s)\n",
            "NO Object Detected\n",
            "Done. (0.047s)\n",
            "NO Object Detected\n",
            "Done. (0.047s)\n",
            "NO Object Detected\n",
            "Done. (0.049s)\n",
            "NO Object Detected\n",
            "Done. (0.049s)\n",
            "NO Object Detected\n",
            "Done. (0.047s)\n",
            "NO Object Detected\n",
            "Done. (0.050s)\n",
            "NO Object Detected\n",
            "Done. (0.048s)\n",
            "NO Object Detected\n",
            "Done. (0.049s)\n",
            "NO Object Detected\n",
            "Objects detected  for 300 images\n"
          ],
          "name": "stdout"
        }
      ]
    },
    {
      "cell_type": "markdown",
      "metadata": {
        "id": "qAKeGFLAvxhy",
        "colab_type": "text"
      },
      "source": [
        "# New mAP code\n"
      ]
    },
    {
      "cell_type": "code",
      "metadata": {
        "id": "da7pgTECvw1q",
        "colab_type": "code",
        "colab": {}
      },
      "source": [
        "#Here this function process individual xml is easier\n",
        "import xml.etree.ElementTree as ET\n",
        "\n",
        "def read_content(xml_file: str):\n",
        "  tree = ET.parse(xml_file)\n",
        "  root = tree.getroot()\n",
        "  list_with_all_boxes = []\n",
        "  list_with_all_labels = []\n",
        "  for boxes in root.iter('object'):\n",
        "      filename = root.find('filename').text\n",
        "      label = boxes.find('name').text\n",
        "      ymin, xmin, ymax, xmax = None, None, None, None\n",
        "      for box in boxes.findall(\"bndbox\"):\n",
        "          ymin = int(box.find(\"ymin\").text)\n",
        "          xmin = int(box.find(\"xmin\").text)\n",
        "          ymax = int(box.find(\"ymax\").text)\n",
        "          xmax = int(box.find(\"xmax\").text)\n",
        "      list_with_single_boxes = [xmin, ymin, xmax, ymax]\n",
        "      list_with_all_labels.append(label)\n",
        "      list_with_all_boxes.append(list_with_single_boxes)\n",
        "  return filename, list_with_all_labels,list_with_all_boxes"
      ],
      "execution_count": null,
      "outputs": []
    },
    {
      "cell_type": "code",
      "metadata": {
        "id": "NxPsCKjdv-Ry",
        "colab_type": "code",
        "colab": {
          "base_uri": "https://localhost:8080/",
          "height": 85
        },
        "outputId": "072c9a07-9c40-4024-d84d-d49cf82ce1ff"
      },
      "source": [
        "#Get the test image labels from xml to list of list format. List name: gt_test_images\n",
        "gt_test_images = []\n",
        "from glob import glob\n",
        "%cd /content/Testdir/annotations\n",
        "for file_path in glob('/content/Testdir/annotations/*.xml'):\n",
        "  single_image =[]\n",
        "  image_filename = os.path.basename(file_path)  \n",
        "  filename,labels,boxes = read_content(image_filename)\n",
        "  single_image.append(filename)\n",
        "  single_image.append(labels)\n",
        "  single_image.append(boxes)\n",
        "  gt_test_images.append(single_image)\n",
        "print(gt_test_images[1])\n",
        "#len(gt_test_images)\n",
        "\n",
        "#go back to original folder\n",
        "%cd ..\n",
        "%cd ..\n"
      ],
      "execution_count": null,
      "outputs": [
        {
          "output_type": "stream",
          "text": [
            "/content/Testdir/annotations\n",
            "['39.75099463--104.9864054-315.jpg', ['pole'], [[202, 34, 235, 469]]]\n",
            "/content/Testdir\n",
            "/content\n"
          ],
          "name": "stdout"
        }
      ]
    },
    {
      "cell_type": "code",
      "metadata": {
        "id": "5R4t4WjjwMF4",
        "colab_type": "code",
        "colab": {
          "base_uri": "https://localhost:8080/",
          "height": 51
        },
        "outputId": "9444fc8b-68d3-4dd4-a29b-8905e4338dc0"
      },
      "source": [
        "#example\n",
        "print('predict image exmaple: ',pred_test_images[1])\n",
        "print('ground truth image example: ', gt_test_images[1])"
      ],
      "execution_count": null,
      "outputs": [
        {
          "output_type": "stream",
          "text": [
            "predict image exmaple:  ['39.75202361--104.9816403-315.jpg', [], [], []]\n",
            "ground truth image example:  ['39.75099463--104.9864054-315.jpg', ['pole'], [[202, 34, 235, 469]]]\n"
          ],
          "name": "stdout"
        }
      ]
    },
    {
      "cell_type": "code",
      "metadata": {
        "id": "r14G0zYv5Y3B",
        "colab_type": "code",
        "colab": {
          "base_uri": "https://localhost:8080/",
          "height": 34
        },
        "outputId": "33603e93-2099-453f-9063-c671b282ebfb"
      },
      "source": [
        "cnt=0\n",
        "for i in pred_test_images:\n",
        "  if i[1]==[]:\n",
        "    cnt+=1\n",
        "print('in predition, number of images that does not have prediciton is: ', cnt)"
      ],
      "execution_count": null,
      "outputs": [
        {
          "output_type": "stream",
          "text": [
            "in predition, number of images that does not have prediciton is:  282\n"
          ],
          "name": "stdout"
        }
      ]
    },
    {
      "cell_type": "code",
      "metadata": {
        "id": "kg6EJzqCwX_s",
        "colab_type": "code",
        "colab": {
          "base_uri": "https://localhost:8080/",
          "height": 34
        },
        "outputId": "417d9a85-e34a-45c3-f64f-fe068368f363"
      },
      "source": [
        "#convert ground truth image list labels from labm, sign-h, fh to 0,1,2\n",
        "for i in range(len(gt_test_images)):\n",
        "  for index,label in enumerate(gt_test_images[i][1]):\n",
        "    if label == 'pole':\n",
        "      gt_test_images[i][1][index] = 0\n",
        "    if label == 'sign-h':\n",
        "      gt_test_images[i][1][index] = 1\n",
        "    if label == 'fh':\n",
        "      gt_test_images[i][1][index] = 2\n",
        "#example\n",
        "gt_test_images[2]\n",
        "pred_test_images[1]"
      ],
      "execution_count": null,
      "outputs": [
        {
          "output_type": "execute_result",
          "data": {
            "text/plain": [
              "['39.75202361--104.9816403-315.jpg', [], [], []]"
            ]
          },
          "metadata": {
            "tags": []
          },
          "execution_count": 80
        }
      ]
    },
    {
      "cell_type": "code",
      "metadata": {
        "id": "qQxetQY2B-DZ",
        "colab_type": "code",
        "colab": {
          "base_uri": "https://localhost:8080/",
          "height": 68
        },
        "outputId": "03ed734c-fbc3-459f-bfc1-594e49425e9a"
      },
      "source": [
        "#test how many pole in the gt images\n",
        "cnt_pole=0\n",
        "cnt_signh=0\n",
        "cnt_fh=0\n",
        "for i in gt_test_images:\n",
        "  if i[1] != []:\n",
        "    for j in i[1]:\n",
        "      if j==0:\n",
        "        cnt_pole +=1\n",
        "      if j==1:\n",
        "        cnt_signh+=1\n",
        "      if j==2:\n",
        "        cnt_fh+=1\n",
        "print('in the gt, number of bbox for pole is: ', cnt_pole)\n",
        "print('in the gt, number of bbox for signh is: ', cnt_signh)\n",
        "print('in the gt, number of bbox for fh is: ', cnt_fh)"
      ],
      "execution_count": null,
      "outputs": [
        {
          "output_type": "stream",
          "text": [
            "in the gt, number of bbox for pole is:  328\n",
            "in the gt, number of bbox for signh is:  16\n",
            "in the gt, number of bbox for fh is:  52\n"
          ],
          "name": "stdout"
        }
      ]
    },
    {
      "cell_type": "code",
      "metadata": {
        "id": "xrRE1CoJEIJ4",
        "colab_type": "code",
        "colab": {
          "base_uri": "https://localhost:8080/",
          "height": 68
        },
        "outputId": "5fe68de3-6c3c-467e-f4a8-7898cd2b9b61"
      },
      "source": [
        "#test how many pole, fh, signh in the predict images\n",
        "cnt_pole=0\n",
        "cnt_signh=0\n",
        "cnt_fh=0\n",
        "for i in pred_test_images:\n",
        "  if i[1] != []:\n",
        "    for j in i[1]:\n",
        "      if j==0:\n",
        "        cnt_pole +=1\n",
        "      if j==1:\n",
        "        cnt_signh+=1\n",
        "      if j==2:\n",
        "        cnt_fh+=1\n",
        "print('in the pred, number of bbox for pole is: ', cnt_pole)\n",
        "print('in the pred, number of bbox for signh is: ', cnt_signh)\n",
        "print('in the pred, number of bbox for fh is: ', cnt_fh)"
      ],
      "execution_count": null,
      "outputs": [
        {
          "output_type": "stream",
          "text": [
            "in the pred, number of bbox for pole is:  7\n",
            "in the pred, number of bbox for signh is:  0\n",
            "in the pred, number of bbox for fh is:  11\n"
          ],
          "name": "stdout"
        }
      ]
    },
    {
      "cell_type": "code",
      "metadata": {
        "id": "CiiRzaCixH8C",
        "colab_type": "code",
        "colab": {
          "base_uri": "https://localhost:8080/",
          "height": 34
        },
        "outputId": "342632f0-afde-4649-88fc-cfd4f7cf73ae"
      },
      "source": [
        "#need to sort gt and pred list, so that they have the same sequence\n",
        "gt_test_images_sort = sorted(gt_test_images)\n",
        "pred_test_images_sort = sorted(pred_test_images)\n",
        "gt_test_images_sort[3]"
      ],
      "execution_count": null,
      "outputs": [
        {
          "output_type": "execute_result",
          "data": {
            "text/plain": [
              "['39.74885675--104.99612150000002-315.jpg', [0], [[489, 187, 544, 494]]]"
            ]
          },
          "metadata": {
            "tags": []
          },
          "execution_count": 30
        }
      ]
    },
    {
      "cell_type": "code",
      "metadata": {
        "id": "Z2Mx8fGC2Qe6",
        "colab_type": "code",
        "colab": {}
      },
      "source": [
        "#calculate iou for one gt_box and one pred_box\n",
        "def calc_iou( gt_bbox, pred_bbox):\n",
        "    x_topleft_gt, y_topleft_gt, x_bottomright_gt, y_bottomright_gt= gt_bbox\n",
        "    x_topleft_p, y_topleft_p, x_bottomright_p, y_bottomright_p= pred_bbox\n",
        "    \n",
        "    if (x_topleft_gt > x_bottomright_gt) or (y_topleft_gt> y_bottomright_gt):\n",
        "        raise AssertionError(\"Ground Truth Bounding Box is not correct\")\n",
        "    if (x_topleft_p > x_bottomright_p) or (y_topleft_p> y_bottomright_p):\n",
        "        raise AssertionError(\"Predicted Bounding Box is not correct\",x_topleft_p, x_bottomright_p,y_topleft_p,y_bottomright_gt)        \n",
        "         \n",
        "    #if the GT bbox and predcited BBox do not overlap then iou=0\n",
        "    if(x_bottomright_gt< x_topleft_p): # If bottom right of x-coordinate  GT  bbox is less than or above the top left of x coordinate of  the predicted BBox      \n",
        "        return 0.0\n",
        "    if(y_bottomright_gt< y_topleft_p):  # If bottom right of y-coordinate  GT  bbox is less than or above the top left of y coordinate of  the predicted BBox       \n",
        "        return 0.0\n",
        "    if(x_topleft_gt> x_bottomright_p): # If bottom right of x-coordinate  GT  bbox is greater than or below the bottom right  of x coordinate of  the predcited BBox       \n",
        "        return 0.0\n",
        "    if(y_topleft_gt> y_bottomright_p): # If bottom right of y-coordinate  GT  bbox is greater than or below the bottom right  of y coordinate of  the predcited BBox       \n",
        "        return 0.0\n",
        "        \n",
        "    GT_bbox_area = (x_bottomright_gt -  x_topleft_gt + 1) * (  y_bottomright_gt -y_topleft_gt + 1)\n",
        "    Pred_bbox_area =(x_bottomright_p - x_topleft_p + 1 ) * ( y_bottomright_p -y_topleft_p + 1)\n",
        "    \n",
        "    x_top_left =np.max([x_topleft_gt, x_topleft_p])\n",
        "    y_top_left = np.max([y_topleft_gt, y_topleft_p])\n",
        "    x_bottom_right = np.min([x_bottomright_gt, x_bottomright_p])\n",
        "    y_bottom_right = np.min([y_bottomright_gt, y_bottomright_p])\n",
        "    \n",
        "    intersection_area = (x_bottom_right- x_top_left + 1) * (y_bottom_right-y_top_left  + 1)   \n",
        "    union_area = (GT_bbox_area + Pred_bbox_area - intersection_area)  \n",
        "    return intersection_area/union_area"
      ],
      "execution_count": null,
      "outputs": []
    },
    {
      "cell_type": "code",
      "metadata": {
        "id": "O7U8-KZczE-b",
        "colab_type": "code",
        "colab": {}
      },
      "source": [
        "def calc_mAP(img_results):\n",
        "  precisions=[]\n",
        "  recalls=[]\n",
        "  img_results_dict_tolist = []\n",
        "  for i in img_results.keys():\n",
        "    img_results_dict_tolist.append(img_results[i])\n",
        "  true_positive=0\n",
        "  false_positive=0\n",
        "  false_negative=0\n",
        "  for j in img_results_dict_tolist:\n",
        "    true_positive += j['true_positive']\n",
        "    false_positive += j['false_positive']\n",
        "    false_negative += j['false_negative']\n",
        "    try:\n",
        "      prec = true_positive/(true_positive+ false_positive)\n",
        "    except ZeroDivisionError:\n",
        "      prec=0.0\n",
        "    try:\n",
        "      rec = true_positive/(true_positive + false_negative)\n",
        "    except ZeroDivisionError:\n",
        "      rec=0.0\n",
        "    #print('prec', prec, 'rec',rec)\n",
        "    precisions.append(prec)\n",
        "    recalls.append(rec)\n",
        "  precisions = np.array(precisions)\n",
        "  recalls = np.array(recalls)\n",
        "  prec_at_rec = []\n",
        "  for recall_level in np.linspace(0.0, 1.0, 11):\n",
        "    #recall_level is 0, 0.1, 0.2, 0.3, ...1.0\n",
        "    try:\n",
        "      args= np.argwhere(recalls>recall_level).flatten()\n",
        "      prec= max(precisions[args])\n",
        "      #print(recalls,\"Recall\")\n",
        "      #print(      recall_level,\"Recall Level\")\n",
        "      #print(       args, \"Args\")\n",
        "      #print(       prec, \"precision\")\n",
        "    except ValueError:\n",
        "      prec=0.0\n",
        "    prec_at_rec.append(prec)\n",
        "  avg_prec = np.mean(prec_at_rec)\n",
        "  return avg_prec"
      ],
      "execution_count": null,
      "outputs": []
    },
    {
      "cell_type": "markdown",
      "metadata": {
        "id": "nDpZj_pfy8Rc",
        "colab_type": "text"
      },
      "source": [
        "## pole class"
      ]
    },
    {
      "cell_type": "code",
      "metadata": {
        "id": "tO22Cic7_lqS",
        "colab_type": "code",
        "colab": {
          "base_uri": "https://localhost:8080/",
          "height": 51
        },
        "outputId": "54372538-0a5b-4d98-b9e5-ccddce111848"
      },
      "source": [
        "def filter_gt_cls(image_list, cls):\n",
        "  #this cls is the class we want to keep\n",
        "  scores=[]\n",
        "  bboxes = []\n",
        "  for i in range(len(image_list[1])):\n",
        "    if image_list[1][i] == cls:\n",
        "      score=image_list[1][i]\n",
        "      bbox = image_list[2][i]\n",
        "      scores.append(score)\n",
        "      bboxes.append(bbox)\n",
        "    else:\n",
        "      bbox1 = []\n",
        "      bboxes = bboxes\n",
        "      scores = scores\n",
        "  return [image_list[0],scores, bboxes]\n",
        "print(gt_test_images_sort[1])\n",
        "filter_gt_cls(gt_test_images_sort[1],0)"
      ],
      "execution_count": null,
      "outputs": [
        {
          "output_type": "stream",
          "text": [
            "['39.74879753--104.9799561-135.jpg', [0], [[444, 41, 500, 490]]]\n"
          ],
          "name": "stdout"
        },
        {
          "output_type": "execute_result",
          "data": {
            "text/plain": [
              "['39.74879753--104.9799561-135.jpg', [0], [[444, 41, 500, 490]]]"
            ]
          },
          "metadata": {
            "tags": []
          },
          "execution_count": 33
        }
      ]
    },
    {
      "cell_type": "code",
      "metadata": {
        "id": "MwLhlGyx3fAa",
        "colab_type": "code",
        "colab": {
          "base_uri": "https://localhost:8080/",
          "height": 71
        },
        "outputId": "c39ca00c-e340-473d-cf46-64ba0b742bed"
      },
      "source": [
        "print(gt_test_images_sort[0])\n",
        "print(pred_test_images_sort[0])\n",
        "#gt_img_i = gt_test_images_sort[0]\n",
        "#gt_filtered_cls = filter_gt_cls(gt_img_i, 0)\n",
        "#gt_filtered_cls"
      ],
      "execution_count": null,
      "outputs": [
        {
          "output_type": "stream",
          "text": [
            "['39.74879542--105.001427-315.jpg', [2, 0], [[294, 468, 320, 534], [470, 264, 520, 533]]]\n",
            "['39.74879542--105.001427-315.jpg', [2], [[293.7353210449219, 466.7683410644531, 321.0724182128906, 519.8178100585938]], [0.9822213053703308]]\n"
          ],
          "name": "stdout"
        }
      ]
    },
    {
      "cell_type": "code",
      "metadata": {
        "id": "GyyYUhN44Sbz",
        "colab_type": "code",
        "colab": {}
      },
      "source": [
        "#remove empty labels in the gt and corresponding"
      ],
      "execution_count": null,
      "outputs": []
    },
    {
      "cell_type": "code",
      "metadata": {
        "id": "YCT1Y6VQYaxA",
        "colab_type": "code",
        "colab": {}
      },
      "source": [
        "def pr_img_preprocess(img_id,cls):\n",
        "  \n",
        "  gt_img_i = gt_test_images_sort[img_id]\n",
        "  pr_img_i = pred_test_images_sort[img_id]\n",
        "\n",
        "  gt_filtered_cls = filter_gt_cls(gt_img_i, cls) #filter gt image to only 1 class each time\n",
        "  #pr_img_i = filter_gt_cls(pr_img_i,cls)  #i added this line to filter pred image\n",
        "\n",
        "  pr_bboxes = []\n",
        "  pr_labels = []\n",
        "  pr_ious = []\n",
        "  pr_gis =[]\n",
        "  for m in range(len(gt_filtered_cls[1])): #for each gt labels\n",
        "      \n",
        "    temp_iou_list =[]\n",
        "    temp_ind_list =[]\n",
        "    if pr_img_i[1]==[]:      \n",
        "      pr_bbox_iou_max=[]\n",
        "      pr_max_label = []\n",
        "      #print('pred is empty')\n",
        "    else:  \n",
        "      for n in range(len(pr_img_i[1])):\n",
        "        iou = calc_iou(gt_filtered_cls[2][m], pr_img_i[2][n])\n",
        "        temp_iou_list.append(iou)\n",
        "        temp_ind_list.append(m)\n",
        "        #we want to use the max iou bbox and position (pr_max_i)\n",
        "      k = temp_iou_list.index(max(temp_iou_list))\n",
        "      gi = temp_ind_list[k]\n",
        "      pr_iou_max = max(temp_iou_list)\n",
        "      pr_bbox_iou_max = pr_img_i[2][k]\n",
        "      pr_max_label = pr_img_i[1][k]\n",
        "\n",
        "      pr_bboxes.append(pr_bbox_iou_max)\n",
        "      pr_labels.append(pr_max_label) \n",
        "      pr_ious.append(pr_iou_max)\n",
        "      pr_gis.append(gi)\n",
        "\n",
        "  #print(pr_ious)\n",
        "  #print(pr_labels)\n",
        "  #print(pr_bboxes)\n",
        "  #print(pr_gis)\n",
        "  #when # of pred box is more than # of gt box\n",
        "  if len(pr_img_i[1])>= len(gt_filtered_cls[1]):\n",
        "    pr_empty_cls = [gt_filtered_cls[0],pr_labels,pr_bboxes,pr_ious,pr_gis]\n",
        "    #print('pr length >= filtred gt length')\n",
        "\n",
        "  elif len(pr_img_i[1]) < len(gt_filtered_cls[1]):\n",
        "    #print('pred_length < filtered gr length')\n",
        "    pr_filtered_cls = [gt_filtered_cls[0],pr_labels,pr_bboxes,pr_ious, pr_gis]\n",
        "    y=len(gt_filtered_cls[1])\n",
        "    #make an empty list with number of gt labels\n",
        "    # list are image_name, labels, bboxes, ious, gis\n",
        "    pr_empty_cls=[gt_filtered_cls[0],[],[],[]]\n",
        "    pr_empty_cls[1] = [[] for _ in range(y)]\n",
        "    pr_empty_cls[2] = [[] for _ in range(y)]\n",
        "    pr_empty_cls[3] = [[] for _ in range(y)]\n",
        "    #pr_empty_cls[4] = [[] for _ in range(y)]\n",
        "      \n",
        "    x = len(pr_img_i[1])\n",
        "    z = np.array(pr_ious).argsort()[-x:][::-1] #z is the list of position that will have number. \n",
        "    #total number of position = len(gt_filter_cls[1]), currently all [] list\n",
        "    for pos in z: #e.g. position=[1,0]\n",
        "      pr_empty_cls[1][pos]= pr_filtered_cls[1][pos]\n",
        "      pr_empty_cls[2][pos]= pr_filtered_cls[2][pos]\n",
        "      pr_empty_cls[3][pos] = pr_filtered_cls[3][pos]\n",
        "      #pr_empty_cls[4][pos] = pr_filtered_cls[4][pos]\n",
        "    \n",
        "  return pr_empty_cls\n"
      ],
      "execution_count": null,
      "outputs": []
    },
    {
      "cell_type": "code",
      "metadata": {
        "id": "WVAOnGMkwL7f",
        "colab_type": "code",
        "colab": {
          "base_uri": "https://localhost:8080/",
          "height": 34
        },
        "outputId": "2d6af60a-7dbb-446f-be15-0a783fe0c116"
      },
      "source": [
        "pr_img_preprocess(2,0)"
      ],
      "execution_count": null,
      "outputs": [
        {
          "output_type": "execute_result",
          "data": {
            "text/plain": [
              "['39.74880082--104.9873972-135.jpg', [[]], [[]], [[]]]"
            ]
          },
          "metadata": {
            "tags": []
          },
          "execution_count": 51
        }
      ]
    },
    {
      "cell_type": "code",
      "metadata": {
        "id": "mhppLMENvPZl",
        "colab_type": "code",
        "colab": {
          "base_uri": "https://localhost:8080/",
          "height": 153
        },
        "outputId": "1fdc54c1-2abf-4f90-a970-b750960f9a03"
      },
      "source": [
        "pr_img_preprocess(0,0)"
      ],
      "execution_count": null,
      "outputs": [
        {
          "output_type": "execute_result",
          "data": {
            "text/plain": [
              "['39.74879542--105.001427-315.jpg',\n",
              " [2],\n",
              " [[293.7353210449219,\n",
              "   466.7683410644531,\n",
              "   321.0724182128906,\n",
              "   519.8178100585938]],\n",
              " [0.0],\n",
              " [0]]"
            ]
          },
          "metadata": {
            "tags": []
          },
          "execution_count": 52
        }
      ]
    },
    {
      "cell_type": "code",
      "metadata": {
        "id": "5tAV_aS9whf0",
        "colab_type": "code",
        "colab": {
          "base_uri": "https://localhost:8080/",
          "height": 34
        },
        "outputId": "8b47e7d1-bb90-42c7-ec65-7561e0708be7"
      },
      "source": [
        "\n",
        "af_pr_img_preproc = []\n",
        "for i in range(len(pred_test_images_sort)):\n",
        "  #print(pred_test_images_sort[i][0])\n",
        "  af_pr_img_preproc.append((pr_img_preprocess(i,0)))\n",
        "len(af_pr_img_preproc)#"
      ],
      "execution_count": null,
      "outputs": [
        {
          "output_type": "execute_result",
          "data": {
            "text/plain": [
              "300"
            ]
          },
          "metadata": {
            "tags": []
          },
          "execution_count": 53
        }
      ]
    },
    {
      "cell_type": "code",
      "metadata": {
        "id": "kj8_7SXize8f",
        "colab_type": "code",
        "colab": {
          "base_uri": "https://localhost:8080/",
          "height": 1000
        },
        "outputId": "62063354-bfd5-4f5e-e50c-e3ae8a938123"
      },
      "source": [
        "#write a function to calcualte precisiona and recall\n",
        "\n",
        "# af_pr_img_preproc is a list of list [img_name,[pr_label],[pr_bbox],[pr_iou]],[img_name,[pr_label],[pr_bbox],[pr_iou]]\n",
        "# gt_test_images_sort is a list of list. [img_name, [label],[bbox]],[img_name, [label],[bbox]]\n",
        "\n",
        "  # pr_single_img is one image info for predcition\n",
        "  # gt_single_img is one image in gt\n",
        "images_dict={}\n",
        "for i in range(len(af_pr_img_preproc)):\n",
        "  pr_single_img = af_pr_img_preproc[i]\n",
        "  gt_single_img = gt_test_images_sort[i]\n",
        "  #print(pr_single_img)\n",
        "  #print(gt_single_img)\n",
        "  fp=0\n",
        "  tp=0\n",
        "  fn=0\n",
        "  cls=0 \n",
        "  num_pr_labels = len(pr_single_img[1])\n",
        "  for i in range(num_pr_labels):\n",
        "    if pr_single_img[1][i] == []:\n",
        "      fn+=1\n",
        "    elif pr_single_img[1][i] != cls:\n",
        "      fn+=1\n",
        "    elif pr_single_img[1][i] == gt_single_img[1][i]:\n",
        "      if pr_single_img[3][i]>0.5:\n",
        "        tp+=1\n",
        "      else:\n",
        "        fp +=1\n",
        "  images_dict[pr_single_img[0]]={'true_positive': tp, 'false_positive': fp, 'false_negative': fn}\n",
        "for i in images_dict:\n",
        "  print(i, images_dict[i])\n"
      ],
      "execution_count": null,
      "outputs": [
        {
          "output_type": "stream",
          "text": [
            "39.74879542--105.001427-315.jpg {'true_positive': 0, 'false_positive': 0, 'false_negative': 1}\n",
            "39.74879753--104.9799561-135.jpg {'true_positive': 0, 'false_positive': 0, 'false_negative': 1}\n",
            "39.74880082--104.9873972-135.jpg {'true_positive': 0, 'false_positive': 0, 'false_negative': 1}\n",
            "39.74885675--104.99612150000002-315.jpg {'true_positive': 0, 'false_positive': 0, 'false_negative': 1}\n",
            "39.74887032--104.985699-315.jpg {'true_positive': 0, 'false_positive': 0, 'false_negative': 1}\n",
            "39.74887806--104.9821726-135.jpg {'true_positive': 0, 'false_positive': 0, 'false_negative': 2}\n",
            "39.74887806--104.9821726-315.jpg {'true_positive': 0, 'false_positive': 0, 'false_negative': 2}\n",
            "39.74887857--104.98743789999999-315.jpg {'true_positive': 0, 'false_positive': 0, 'false_negative': 2}\n",
            "39.74889861--105.0033885-315.jpg {'true_positive': 0, 'false_positive': 0, 'false_negative': 2}\n",
            "39.74890124--104.98911820000001-135.jpg {'true_positive': 0, 'false_positive': 0, 'false_negative': 1}\n",
            "39.74890342--104.99260729999999-135.jpg {'true_positive': 0, 'false_positive': 0, 'false_negative': 1}\n",
            "39.74890342--104.99260729999999-315.jpg {'true_positive': 0, 'false_positive': 0, 'false_negative': 1}\n",
            "39.74890605--104.9908517-315.jpg {'true_positive': 0, 'false_positive': 0, 'false_negative': 1}\n",
            "39.74891328--104.99781399999999-315.jpg {'true_positive': 0, 'false_positive': 0, 'false_negative': 1}\n",
            "39.74894099--105.0012304-135.jpg {'true_positive': 0, 'false_positive': 0, 'false_negative': 1}\n",
            "39.74894099--105.0012304-315.jpg {'true_positive': 0, 'false_positive': 0, 'false_negative': 1}\n",
            "39.74895055--104.9801471-135.jpg {'true_positive': 0, 'false_positive': 0, 'false_negative': 1}\n",
            "39.74895055--104.9801471-315.jpg {'true_positive': 0, 'false_positive': 0, 'false_negative': 1}\n",
            "39.74896307--104.9838469-135.jpg {'true_positive': 0, 'false_positive': 0, 'false_negative': 1}\n",
            "39.74897698--104.9942037-135.jpg {'true_positive': 0, 'false_positive': 0, 'false_negative': 1}\n",
            "39.74897698--104.9942037-315.jpg {'true_positive': 0, 'false_positive': 0, 'false_negative': 1}\n",
            "39.74902548--104.98550970000001-135.jpg {'true_positive': 0, 'false_positive': 0, 'false_negative': 1}\n",
            "39.74902548--104.98550970000001-315.jpg {'true_positive': 0, 'false_positive': 0, 'false_negative': 1}\n",
            "39.74902595--104.98724250000001-135.jpg {'true_positive': 0, 'false_positive': 0, 'false_negative': 1}\n",
            "39.74902595--104.98724250000001-315.jpg {'true_positive': 0, 'false_positive': 0, 'false_negative': 1}\n",
            "39.74904557--104.9873963-135.jpg {'true_positive': 0, 'false_positive': 0, 'false_negative': 2}\n",
            "39.74905012--104.9889239-315.jpg {'true_positive': 0, 'false_positive': 0, 'false_negative': 1}\n",
            "39.74905181--104.9924127-315.jpg {'true_positive': 0, 'false_positive': 0, 'false_negative': 2}\n",
            "39.74905503--104.9906575-315.jpg {'true_positive': 0, 'false_positive': 0, 'false_negative': 1}\n",
            "39.74906155--104.9976193-135.jpg {'true_positive': 0, 'false_positive': 0, 'false_negative': 2}\n",
            "39.74906155--104.9976193-315.jpg {'true_positive': 0, 'false_positive': 0, 'false_negative': 0}\n",
            "39.74908927--105.0010357-315.jpg {'true_positive': 0, 'false_positive': 0, 'false_negative': 1}\n",
            "39.74909335--105.0035368-135.jpg {'true_positive': 0, 'false_positive': 0, 'false_negative': 2}\n",
            "39.74911224--104.98365279999999-135.jpg {'true_positive': 0, 'false_positive': 0, 'false_negative': 1}\n",
            "39.74911224--104.98365279999999-315.jpg {'true_positive': 0, 'false_positive': 0, 'false_negative': 1}\n",
            "39.74912704--104.99401040000001-135.jpg {'true_positive': 0, 'false_positive': 0, 'false_negative': 1}\n",
            "39.74913009--104.9787397-135.jpg {'true_positive': 0, 'false_positive': 0, 'false_negative': 1}\n",
            "39.74917208--104.98704620000001-315.jpg {'true_positive': 0, 'false_positive': 0, 'false_negative': 1}\n",
            "39.74917611--104.98178429999999-135.jpg {'true_positive': 0, 'false_positive': 0, 'false_negative': 1}\n",
            "39.74918063--104.98532040000002-135.jpg {'true_positive': 0, 'false_positive': 0, 'false_negative': 1}\n",
            "39.74919901--104.98872959999998-135.jpg {'true_positive': 0, 'false_positive': 0, 'false_negative': 1}\n",
            "39.74920219--104.9922196-135.jpg {'true_positive': 0, 'false_positive': 0, 'false_negative': 2}\n",
            "39.74920219--104.9922196-315.jpg {'true_positive': 0, 'false_positive': 0, 'false_negative': 2}\n",
            "39.74920428--104.9904635-135.jpg {'true_positive': 0, 'false_positive': 0, 'false_negative': 1}\n",
            "39.74920428--104.9904635-315.jpg {'true_positive': 0, 'false_positive': 0, 'false_negative': 1}\n",
            "39.74923756--105.000841-135.jpg {'true_positive': 0, 'false_positive': 0, 'false_negative': 1}\n",
            "39.74923756--105.000841-315.jpg {'true_positive': 0, 'false_positive': 0, 'false_negative': 1}\n",
            "39.74925717--104.98052870000001-135.jpg {'true_positive': 0, 'false_positive': 0, 'false_negative': 2}\n",
            "39.74927711--104.99381699999999-315.jpg {'true_positive': 0, 'false_positive': 0, 'false_negative': 1}\n",
            "39.74928797--105.00368519999999-315.jpg {'true_positive': 0, 'false_positive': 0, 'false_negative': 1}\n",
            "39.74931821--104.98684979999999-315.jpg {'true_positive': 0, 'false_positive': 0, 'false_negative': 1}\n",
            "39.74934789--104.9885354-135.jpg {'true_positive': 0, 'false_positive': 0, 'false_negative': 1}\n",
            "39.74934789--104.9885354-315.jpg {'true_positive': 0, 'false_positive': 0, 'false_negative': 1}\n",
            "39.74935302--104.99202679999999-315.jpg {'true_positive': 0, 'false_positive': 0, 'false_negative': 1}\n",
            "39.74935374--104.9902697-315.jpg {'true_positive': 1, 'false_positive': 0, 'false_negative': 1}\n",
            "39.74938586--105.0006463-135.jpg {'true_positive': 0, 'false_positive': 0, 'false_negative': 2}\n",
            "39.74938586--105.0006463-315.jpg {'true_positive': 0, 'false_positive': 0, 'false_negative': 1}\n",
            "39.74941627--105.00228759999999-315.jpg {'true_positive': 0, 'false_positive': 0, 'false_negative': 1}\n",
            "39.74942717--104.9936237-315.jpg {'true_positive': 0, 'false_positive': 0, 'false_negative': 1}\n",
            "39.74944861--104.97837150000001-315.jpg {'true_positive': 0, 'false_positive': 0, 'false_negative': 1}\n",
            "39.74945038--104.99534299999999-135.jpg {'true_positive': 0, 'false_positive': 0, 'false_negative': 2}\n",
            "39.74945038--104.99534299999999-315.jpg {'true_positive': 0, 'false_positive': 0, 'false_negative': 2}\n",
            "39.74947406--105.0038439-315.jpg {'true_positive': 0, 'false_positive': 0, 'false_negative': 2}\n",
            "39.74950059--104.97969099999999-135.jpg {'true_positive': 0, 'false_positive': 0, 'false_negative': 0}\n",
            "39.74950289--104.99007560000001-315.jpg {'true_positive': 0, 'false_positive': 0, 'false_negative': 3}\n",
            "39.74953471--105.000452-135.jpg {'true_positive': 0, 'false_positive': 0, 'false_negative': 1}\n",
            "39.74953471--105.000452-315.jpg {'true_positive': 0, 'false_positive': 0, 'false_negative': 1}\n",
            "39.74955921--104.9830703-135.jpg {'true_positive': 0, 'false_positive': 0, 'false_negative': 1}\n",
            "39.74956346--104.9809105-315.jpg {'true_positive': 0, 'false_positive': 0, 'false_negative': 2}\n",
            "39.74957738--104.9934304-135.jpg {'true_positive': 0, 'false_positive': 0, 'false_negative': 1}\n",
            "39.74957738--104.9934304-315.jpg {'true_positive': 0, 'false_positive': 0, 'false_negative': 1}\n",
            "39.74960094--104.99515-135.jpg {'true_positive': 0, 'false_positive': 0, 'false_negative': 1}\n",
            "39.74960256--105.00213590000001-135.jpg {'true_positive': 0, 'false_positive': 0, 'false_negative': 0}\n",
            "39.74960256--105.00213590000001-315.jpg {'true_positive': 0, 'false_positive': 0, 'false_negative': 1}\n",
            "39.74962376--104.9812023-135.jpg {'true_positive': 0, 'false_positive': 0, 'false_negative': 1}\n",
            "39.74962376--104.9812023-315.jpg {'true_positive': 0, 'false_positive': 0, 'false_negative': 1}\n",
            "39.74962881--104.9847388-315.jpg {'true_positive': 0, 'false_positive': 0, 'false_negative': 1}\n",
            "39.74964338--105.00401969999999-135.jpg {'true_positive': 0, 'false_positive': 0, 'false_negative': 1}\n",
            "39.74964685--104.9881478-135.jpg {'true_positive': 0, 'false_positive': 0, 'false_negative': 1}\n",
            "39.74964685--104.9881478-315.jpg {'true_positive': 0, 'false_positive': 0, 'false_negative': 2}\n",
            "39.74965112--104.97949799999999-135.jpg {'true_positive': 0, 'false_positive': 0, 'false_negative': 1}\n",
            "39.74965192--104.9898815-315.jpg {'true_positive': 0, 'false_positive': 0, 'false_negative': 1}\n",
            "39.74965496--104.9916415-315.jpg {'true_positive': 0, 'false_positive': 0, 'false_negative': 1}\n",
            "39.74965667--104.99684189999999-135.jpg {'true_positive': 0, 'false_positive': 0, 'false_negative': 1}\n",
            "39.74965667--104.99684189999999-315.jpg {'true_positive': 0, 'false_positive': 0, 'false_negative': 1}\n",
            "39.74968608--105.0002597-135.jpg {'true_positive': 0, 'false_positive': 0, 'false_negative': 1}\n",
            "39.74971601--104.98110190000001-135.jpg {'true_positive': 0, 'false_positive': 0, 'false_negative': 2}\n",
            "39.74971601--104.98110190000001-315.jpg {'true_positive': 0, 'false_positive': 0, 'false_negative': 1}\n",
            "39.74972803--104.9932375-135.jpg {'true_positive': 0, 'false_positive': 0, 'false_negative': 1}\n",
            "39.74972803--104.9932375-315.jpg {'true_positive': 0, 'false_positive': 0, 'false_negative': 2}\n",
            "39.74975209--104.9949575-135.jpg {'true_positive': 0, 'false_positive': 0, 'false_negative': 1}\n",
            "39.74975209--104.9949575-315.jpg {'true_positive': 0, 'false_positive': 0, 'false_negative': 1}\n",
            "39.74977482--104.9810097-135.jpg {'true_positive': 0, 'false_positive': 0, 'false_negative': 1}\n",
            "39.74977482--104.9810097-315.jpg {'true_positive': 0, 'false_positive': 0, 'false_negative': 1}\n",
            "39.74977796--104.98454469999999-135.jpg {'true_positive': 0, 'false_positive': 0, 'false_negative': 2}\n",
            "39.74977984--104.9873924-135.jpg {'true_positive': 0, 'false_positive': 0, 'false_negative': 1}\n",
            "39.74979483--105.0042119-135.jpg {'true_positive': 0, 'false_positive': 0, 'false_negative': 2}\n",
            "39.74979483--105.0042119-315.jpg {'true_positive': 0, 'false_positive': 0, 'false_negative': 1}\n",
            "39.74979651--104.9879541-315.jpg {'true_positive': 0, 'false_positive': 0, 'false_negative': 1}\n",
            "39.74980095--104.98968729999999-315.jpg {'true_positive': 0, 'false_positive': 0, 'false_negative': 1}\n",
            "39.74980573--104.9966477-135.jpg {'true_positive': 0, 'false_positive': 0, 'false_negative': 1}\n",
            "39.74980573--104.9966477-315.jpg {'true_positive': 0, 'false_positive': 0, 'false_negative': 1}\n",
            "39.74985435--104.9826797-135.jpg {'true_positive': 0, 'false_positive': 0, 'false_negative': 1}\n",
            "39.74985722--104.9813018-135.jpg {'true_positive': 0, 'false_positive': 0, 'false_negative': 2}\n",
            "39.74987847--104.99304450000001-135.jpg {'true_positive': 0, 'false_positive': 0, 'false_negative': 1}\n",
            "39.74987847--104.99304450000001-315.jpg {'true_positive': 0, 'false_positive': 0, 'false_negative': 1}\n",
            "39.74990346--104.99476509999998-135.jpg {'true_positive': 0, 'false_positive': 0, 'false_negative': 1}\n",
            "39.74990346--104.99476509999998-315.jpg {'true_positive': 0, 'false_positive': 0, 'false_negative': 1}\n",
            "39.74990386--104.98606529999999-135.jpg {'true_positive': 0, 'false_positive': 0, 'false_negative': 0}\n",
            "39.74990386--104.98606529999999-315.jpg {'true_positive': 0, 'false_positive': 0, 'false_negative': 1}\n",
            "39.74992712--104.9843507-135.jpg {'true_positive': 0, 'false_positive': 0, 'false_negative': 1}\n",
            "39.74992712--104.9843507-315.jpg {'true_positive': 0, 'false_positive': 0, 'false_negative': 1}\n",
            "39.74994222--105.00440729999998-135.jpg {'true_positive': 0, 'false_positive': 0, 'false_negative': 1}\n",
            "39.74994222--105.00440729999998-315.jpg {'true_positive': 0, 'false_positive': 0, 'false_negative': 1}\n",
            "39.74994667--104.9877608-135.jpg {'true_positive': 0, 'false_positive': 0, 'false_negative': 2}\n",
            "39.74995218--104.97911200000001-315.jpg {'true_positive': 0, 'false_positive': 0, 'false_negative': 2}\n",
            "39.74995478--104.99645359999998-135.jpg {'true_positive': 0, 'false_positive': 0, 'false_negative': 3}\n",
            "39.74995478--104.99645359999998-315.jpg {'true_positive': 0, 'false_positive': 0, 'false_negative': 1}\n",
            "39.74995733--104.99125649999999-135.jpg {'true_positive': 0, 'false_positive': 0, 'false_negative': 1}\n",
            "39.74995733--104.99125649999999-315.jpg {'true_positive': 0, 'false_positive': 0, 'false_negative': 2}\n",
            "39.74999342--104.9998787-135.jpg {'true_positive': 0, 'false_positive': 0, 'false_negative': 1}\n",
            "39.74999342--104.9998787-315.jpg {'true_positive': 0, 'false_positive': 0, 'false_negative': 1}\n",
            "39.74999828--104.98150190000001-315.jpg {'true_positive': 0, 'false_positive': 0, 'false_negative': 1}\n",
            "39.75002927--104.9928517-135.jpg {'true_positive': 0, 'false_positive': 0, 'false_negative': 1}\n",
            "39.75004797--105.0015522-315.jpg {'true_positive': 0, 'false_positive': 0, 'false_negative': 1}\n",
            "39.75005483--104.99457279999999-135.jpg {'true_positive': 0, 'false_positive': 0, 'false_negative': 1}\n",
            "39.75005483--104.99457279999999-315.jpg {'true_positive': 0, 'false_positive': 0, 'false_negative': 1}\n",
            "39.75007707--104.9841572-135.jpg {'true_positive': 0, 'false_positive': 0, 'false_negative': 2}\n",
            "39.75008138--104.98062809999999-135.jpg {'true_positive': 0, 'false_positive': 0, 'false_negative': 1}\n",
            "39.75009683--104.98756750000001-315.jpg {'true_positive': 0, 'false_positive': 0, 'false_negative': 1}\n",
            "39.75009922--104.9892992-135.jpg {'true_positive': 0, 'false_positive': 0, 'false_negative': 1}\n",
            "39.75009922--104.9892992-315.jpg {'true_positive': 0, 'false_positive': 0, 'false_negative': 2}\n",
            "39.75010351--104.97891969999999-135.jpg {'true_positive': 0, 'false_positive': 0, 'false_negative': 1}\n",
            "39.75010416--104.99625970000001-135.jpg {'true_positive': 0, 'false_positive': 0, 'false_negative': 1}\n",
            "39.75010416--104.99625970000001-315.jpg {'true_positive': 0, 'false_positive': 0, 'false_negative': 1}\n",
            "39.75010675--104.99106270000001-135.jpg {'true_positive': 0, 'false_positive': 0, 'false_negative': 2}\n",
            "39.75010675--104.99106270000001-315.jpg {'true_positive': 0, 'false_positive': 0, 'false_negative': 1}\n",
            "39.75013935--104.9817019-315.jpg {'true_positive': 0, 'false_positive': 0, 'false_negative': 1}\n",
            "39.75014724--104.99968829999999-135.jpg {'true_positive': 0, 'false_positive': 0, 'false_negative': 1}\n",
            "39.75014724--104.99968829999999-315.jpg {'true_positive': 0, 'false_positive': 0, 'false_negative': 1}\n",
            "39.75020201--104.98567709999999-135.jpg {'true_positive': 0, 'false_positive': 0, 'false_negative': 1}\n",
            "39.75022711--104.9839638-135.jpg {'true_positive': 0, 'false_positive': 0, 'false_negative': 1}\n",
            "39.75022711--104.9839638-315.jpg {'true_positive': 0, 'false_positive': 0, 'false_negative': 1}\n",
            "39.75023775--105.0047976-135.jpg {'true_positive': 0, 'false_positive': 0, 'false_negative': 1}\n",
            "39.75023775--105.0047976-315.jpg {'true_positive': 0, 'false_positive': 0, 'false_negative': 1}\n",
            "39.75024695--104.9873742-135.jpg {'true_positive': 0, 'false_positive': 0, 'false_negative': 1}\n",
            "39.75024927--104.98910579999999-135.jpg {'true_positive': 0, 'false_positive': 0, 'false_negative': 1}\n",
            "39.75024927--104.98910579999999-315.jpg {'true_positive': 0, 'false_positive': 0, 'false_negative': 2}\n",
            "39.75025541--104.9908683-135.jpg {'true_positive': 0, 'false_positive': 0, 'false_negative': 1}\n",
            "39.75025541--104.9908683-315.jpg {'true_positive': 0, 'false_positive': 0, 'false_negative': 1}\n",
            "39.75025554--104.99606740000002-135.jpg {'true_positive': 0, 'false_positive': 0, 'false_negative': 1}\n",
            "39.75025554--104.99606740000002-315.jpg {'true_positive': 0, 'false_positive': 0, 'false_negative': 2}\n",
            "39.75026935--104.98738970000001-135.jpg {'true_positive': 0, 'false_positive': 0, 'false_negative': 1}\n",
            "39.75026935--104.98738970000001-315.jpg {'true_positive': 0, 'false_positive': 0, 'false_negative': 1}\n",
            "39.75030107--104.99949790000001-135.jpg {'true_positive': 0, 'false_positive': 0, 'false_negative': 1}\n",
            "39.75030107--104.99949790000001-315.jpg {'true_positive': 0, 'false_positive': 0, 'false_negative': 1}\n",
            "39.75034525--105.00116329999999-135.jpg {'true_positive': 0, 'false_positive': 0, 'false_negative': 1}\n",
            "39.75034525--105.00116329999999-315.jpg {'true_positive': 0, 'false_positive': 0, 'false_negative': 1}\n",
            "39.75035818--104.9941886-135.jpg {'true_positive': 1, 'false_positive': 0, 'false_negative': 1}\n",
            "39.75037728--104.9837706-135.jpg {'true_positive': 0, 'false_positive': 0, 'false_negative': 1}\n",
            "39.75037728--104.9837706-315.jpg {'true_positive': 0, 'false_positive': 0, 'false_negative': 1}\n",
            "39.75038511--105.004993-135.jpg {'true_positive': 0, 'false_positive': 0, 'false_negative': 1}\n",
            "39.75038511--105.004993-315.jpg {'true_positive': 0, 'false_positive': 0, 'false_negative': 1}\n",
            "39.75038843--104.98024679999999-135.jpg {'true_positive': 0, 'false_positive': 0, 'false_negative': 1}\n",
            "39.75039594--104.98718000000001-315.jpg {'true_positive': 0, 'false_positive': 0, 'false_negative': 1}\n",
            "39.75039931--104.9889124-135.jpg {'true_positive': 0, 'false_positive': 0, 'false_negative': 0}\n",
            "39.75039931--104.9889124-315.jpg {'true_positive': 0, 'false_positive': 0, 'false_negative': 1}\n",
            "39.75044834--104.98190149999999-135.jpg {'true_positive': 0, 'false_positive': 0, 'false_negative': 0}\n",
            "39.75045516--104.9993077-135.jpg {'true_positive': 0, 'false_positive': 0, 'false_negative': 0}\n",
            "39.75045516--104.9993077-315.jpg {'true_positive': 0, 'false_positive': 0, 'false_negative': 1}\n",
            "39.75048208--104.9922736-135.jpg {'true_positive': 0, 'false_positive': 0, 'false_negative': 1}\n",
            "39.75049371--105.00096869999999-315.jpg {'true_positive': 0, 'false_positive': 0, 'false_negative': 2}\n",
            "39.75050027--104.9852889-315.jpg {'true_positive': 0, 'false_positive': 0, 'false_negative': 1}\n",
            "39.75050879--104.9939957-135.jpg {'true_positive': 0, 'false_positive': 0, 'false_negative': 1}\n",
            "39.75050879--104.9939957-315.jpg {'true_positive': 0, 'false_positive': 0, 'false_negative': 1}\n",
            "39.75051411--104.987389-135.jpg {'true_positive': 0, 'false_positive': 0, 'false_negative': 1}\n",
            "39.75051411--104.987389-315.jpg {'true_positive': 0, 'false_positive': 0, 'false_negative': 1}\n",
            "39.75054209--104.9800563-135.jpg {'true_positive': 0, 'false_positive': 0, 'false_negative': 2}\n",
            "39.75054591--104.9869866-135.jpg {'true_positive': 0, 'false_positive': 0, 'false_negative': 0}\n",
            "39.75054982--104.98871940000001-315.jpg {'true_positive': 0, 'false_positive': 0, 'false_negative': 1}\n",
            "39.75055319--104.99047970000001-135.jpg {'true_positive': 0, 'false_positive': 0, 'false_negative': 0}\n",
            "39.75055858--104.97834340000001-135.jpg {'true_positive': 0, 'false_positive': 0, 'false_negative': 1}\n",
            "39.75055858--104.97834340000001-315.jpg {'true_positive': 0, 'false_positive': 0, 'false_negative': 0}\n",
            "39.75056021--104.9956842-135.jpg {'true_positive': 0, 'false_positive': 0, 'false_negative': 1}\n",
            "39.75056021--104.9956842-315.jpg {'true_positive': 0, 'false_positive': 0, 'false_negative': 0}\n",
            "39.75058113--104.98228780000001-315.jpg {'true_positive': 0, 'false_positive': 0, 'false_negative': 1}\n",
            "39.75060079--104.98171-135.jpg {'true_positive': 0, 'false_positive': 0, 'false_negative': 1}\n",
            "39.75060659--104.9991155-315.jpg {'true_positive': 0, 'false_positive': 0, 'false_negative': 1}\n",
            "39.75064966--104.985095-135.jpg {'true_positive': 0, 'false_positive': 0, 'false_negative': 1}\n",
            "39.75064966--104.985095-315.jpg {'true_positive': 0, 'false_positive': 0, 'false_negative': 0}\n",
            "39.75065872--104.9938022-315.jpg {'true_positive': 0, 'false_positive': 0, 'false_negative': 2}\n",
            "39.75067796--104.98338429999998-135.jpg {'true_positive': 0, 'false_positive': 0, 'false_negative': 1}\n",
            "39.75067796--104.98338429999998-315.jpg {'true_positive': 0, 'false_positive': 0, 'false_negative': 1}\n",
            "39.75068003--105.00538370000001-135.jpg {'true_positive': 0, 'false_positive': 0, 'false_negative': 1}\n",
            "39.75068003--105.00538370000001-315.jpg {'true_positive': 0, 'false_positive': 0, 'false_negative': 2}\n",
            "39.75069487--104.97986509999998-135.jpg {'true_positive': 0, 'false_positive': 0, 'false_negative': 0}\n",
            "39.75070049--104.98852649999999-315.jpg {'true_positive': 0, 'false_positive': 0, 'false_negative': 1}\n",
            "39.75070207--104.9902855-135.jpg {'true_positive': 0, 'false_positive': 0, 'false_negative': 1}\n",
            "39.75071027--104.97815130000001-135.jpg {'true_positive': 0, 'false_positive': 0, 'false_negative': 1}\n",
            "39.75071261--104.99549270000001-135.jpg {'true_positive': 0, 'false_positive': 0, 'false_negative': 1}\n",
            "39.75071261--104.99549270000001-315.jpg {'true_positive': 0, 'false_positive': 0, 'false_negative': 1}\n",
            "39.75073549--104.9824778-135.jpg {'true_positive': 0, 'false_positive': 0, 'false_negative': 1}\n",
            "39.75075886--104.987389-315.jpg {'true_positive': 0, 'false_positive': 0, 'false_negative': 2}\n",
            "39.75078229--104.991887-135.jpg {'true_positive': 0, 'false_positive': 0, 'false_negative': 1}\n",
            "39.75080865--104.99360870000001-135.jpg {'true_positive': 0, 'false_positive': 0, 'false_negative': 1}\n",
            "39.75085129--104.99009140000001-135.jpg {'true_positive': 0, 'false_positive': 0, 'false_negative': 1}\n",
            "39.75085129--104.99009140000001-315.jpg {'true_positive': 0, 'false_positive': 0, 'false_negative': 1}\n",
            "39.75086502--104.99530120000001-135.jpg {'true_positive': 0, 'false_positive': 0, 'false_negative': 1}\n",
            "39.75086502--104.99530120000001-315.jpg {'true_positive': 0, 'false_positive': 0, 'false_negative': 1}\n",
            "39.75088985--104.98266770000001-315.jpg {'true_positive': 0, 'false_positive': 0, 'false_negative': 1}\n",
            "39.75093054--104.9916922-315.jpg {'true_positive': 0, 'false_positive': 0, 'false_negative': 1}\n",
            "39.75097903--104.9829983-135.jpg {'true_positive': 0, 'false_positive': 0, 'false_negative': 2}\n",
            "39.75097903--104.9829983-315.jpg {'true_positive': 0, 'false_positive': 0, 'false_negative': 1}\n",
            "39.75099463--104.9864054-315.jpg {'true_positive': 0, 'false_positive': 0, 'false_negative': 1}\n",
            "39.75100033--104.9898973-315.jpg {'true_positive': 0, 'false_positive': 0, 'false_negative': 1}\n",
            "39.75100361--104.9873866-135.jpg {'true_positive': 0, 'false_positive': 0, 'false_negative': 1}\n",
            "39.75101789--104.99511000000001-135.jpg {'true_positive': 0, 'false_positive': 0, 'false_negative': 1}\n",
            "39.75104715--104.9985281-135.jpg {'true_positive': 0, 'false_positive': 0, 'false_negative': 1}\n",
            "39.75104715--104.9985281-315.jpg {'true_positive': 0, 'false_positive': 0, 'false_negative': 1}\n",
            "39.75108959--105.0001919-135.jpg {'true_positive': 0, 'false_positive': 0, 'false_negative': 1}\n",
            "39.75108959--105.0001919-315.jpg {'true_positive': 0, 'false_positive': 0, 'false_negative': 1}\n",
            "39.75112911--104.982805-135.jpg {'true_positive': 0, 'false_positive': 0, 'false_negative': 2}\n",
            "39.75112911--104.982805-315.jpg {'true_positive': 0, 'false_positive': 0, 'false_negative': 1}\n",
            "39.75115277--104.9879481-135.jpg {'true_positive': 0, 'false_positive': 0, 'false_negative': 0}\n",
            "39.75115277--104.9879481-315.jpg {'true_positive': 0, 'false_positive': 0, 'false_negative': 1}\n",
            "39.75116755--104.99491640000001-135.jpg {'true_positive': 0, 'false_positive': 0, 'false_negative': 1}\n",
            "39.75116755--104.99491640000001-315.jpg {'true_positive': 0, 'false_positive': 0, 'false_negative': 0}\n",
            "39.75119251--104.98305239999999-135.jpg {'true_positive': 0, 'false_positive': 0, 'false_negative': 1}\n",
            "39.75119422--104.9983324-315.jpg {'true_positive': 0, 'false_positive': 0, 'false_negative': 1}\n",
            "39.75123908--104.99999809999998-315.jpg {'true_positive': 0, 'false_positive': 0, 'false_negative': 1}\n",
            "39.75124836--104.98738449999999-315.jpg {'true_positive': 0, 'false_positive': 0, 'false_negative': 2}\n",
            "39.75125909--104.99302890000001-135.jpg {'true_positive': 0, 'false_positive': 0, 'false_negative': 1}\n",
            "39.75129764--104.9895084-315.jpg {'true_positive': 0, 'false_positive': 0, 'false_negative': 1}\n",
            "39.75134171--104.99813710000001-315.jpg {'true_positive': 0, 'false_positive': 0, 'false_negative': 1}\n",
            "39.75137562--104.9911082-315.jpg {'true_positive': 0, 'false_positive': 0, 'false_negative': 1}\n",
            "39.75140897--104.9928354-135.jpg {'true_positive': 0, 'false_positive': 0, 'false_negative': 1}\n",
            "39.75140897--104.9928354-315.jpg {'true_positive': 0, 'false_positive': 0, 'false_negative': 0}\n",
            "39.75149005--104.99794240000001-135.jpg {'true_positive': 0, 'false_positive': 0, 'false_negative': 1}\n",
            "39.75149005--104.99794240000001-315.jpg {'true_positive': 0, 'false_positive': 0, 'false_negative': 1}\n",
            "39.75149311--104.98738300000001-315.jpg {'true_positive': 0, 'false_positive': 0, 'false_negative': 1}\n",
            "39.75152453--104.99091399999999-135.jpg {'true_positive': 0, 'false_positive': 0, 'false_negative': 1}\n",
            "39.75152453--104.99091399999999-315.jpg {'true_positive': 0, 'false_positive': 0, 'false_negative': 1}\n",
            "39.75160919--104.99432979999999-135.jpg {'true_positive': 0, 'false_positive': 0, 'false_negative': 2}\n",
            "39.75163357--104.98363940000002-135.jpg {'true_positive': 0, 'false_positive': 0, 'false_negative': 1}\n",
            "39.75163357--104.98363940000002-315.jpg {'true_positive': 0, 'false_positive': 0, 'false_negative': 1}\n",
            "39.75163955--104.99774860000001-135.jpg {'true_positive': 0, 'false_positive': 0, 'false_negative': 2}\n",
            "39.75163955--104.99774860000001-315.jpg {'true_positive': 0, 'false_positive': 0, 'false_negative': 1}\n",
            "39.75167414--104.99072029999999-315.jpg {'true_positive': 0, 'false_positive': 0, 'false_negative': 1}\n",
            "39.75170866--104.98374820000001-135.jpg {'true_positive': 0, 'false_positive': 0, 'false_negative': 1}\n",
            "39.75170866--104.98374820000001-315.jpg {'true_positive': 0, 'false_positive': 0, 'false_negative': 2}\n",
            "39.75173783--104.9873866-135.jpg {'true_positive': 0, 'false_positive': 0, 'false_negative': 1}\n",
            "39.75175647--104.99413429999998-135.jpg {'true_positive': 0, 'false_positive': 0, 'false_negative': 1}\n",
            "39.75178945--104.9975551-135.jpg {'true_positive': 0, 'false_positive': 0, 'false_negative': 1}\n",
            "39.75185838--104.98355459999999-135.jpg {'true_positive': 0, 'false_positive': 0, 'false_negative': 1}\n",
            "39.75189315--104.98873130000001-135.jpg {'true_positive': 0, 'false_positive': 0, 'false_negative': 0}\n",
            "39.75189566--104.9852457-135.jpg {'true_positive': 0, 'false_positive': 0, 'false_negative': 1}\n",
            "39.75189792--104.9869774-315.jpg {'true_positive': 0, 'false_positive': 0, 'false_negative': 1}\n",
            "39.75193303--104.98402659999998-315.jpg {'true_positive': 0, 'false_positive': 0, 'false_negative': 1}\n",
            "39.75193941--104.99736170000001-135.jpg {'true_positive': 0, 'false_positive': 0, 'false_negative': 1}\n",
            "39.75197523--104.99033429999999-315.jpg {'true_positive': 0, 'false_positive': 0, 'false_negative': 1}\n",
            "39.75198252--104.9873925-315.jpg {'true_positive': 0, 'false_positive': 0, 'false_negative': 1}\n",
            "39.75200831--104.98336110000001-135.jpg {'true_positive': 0, 'false_positive': 0, 'false_negative': 1}\n",
            "39.75202361--104.9816403-315.jpg {'true_positive': 0, 'false_positive': 0, 'false_negative': 1}\n",
            "39.75204633--104.98505279999999-315.jpg {'true_positive': 0, 'false_positive': 0, 'false_negative': 1}\n",
            "39.75214731--104.99884399999999-315.jpg {'true_positive': 0, 'false_positive': 0, 'false_negative': 1}\n",
            "39.75215342--104.99186399999999-135.jpg {'true_positive': 0, 'false_positive': 0, 'false_negative': 1}\n",
            "39.75217304--104.98144640000001-135.jpg {'true_positive': 0, 'false_positive': 0, 'false_negative': 1}\n",
            "39.75217304--104.98144640000001-315.jpg {'true_positive': 0, 'false_positive': 0, 'false_negative': 2}\n",
            "39.75219931--104.98659170000002-315.jpg {'true_positive': 0, 'false_positive': 0, 'false_negative': 1}\n",
            "39.75220264--104.99355109999999-315.jpg {'true_positive': 0, 'false_positive': 0, 'false_negative': 1}\n",
            "39.75227684--104.9899487-135.jpg {'true_positive': 0, 'false_positive': 0, 'false_negative': 0}\n",
            "39.75230322--104.99167050000001-135.jpg {'true_positive': 0, 'false_positive': 0, 'false_negative': 2}\n",
            "39.75230322--104.99167050000001-315.jpg {'true_positive': 0, 'false_positive': 0, 'false_negative': 1}\n",
            "39.75233625--104.98814579999998-315.jpg {'true_positive': 0, 'false_positive': 0, 'false_negative': 0}\n",
            "39.75234714--104.9863966-315.jpg {'true_positive': 0, 'false_positive': 0, 'false_negative': 1}\n",
            "39.75235255--104.9933577-135.jpg {'true_positive': 0, 'false_positive': 0, 'false_negative': 1}\n",
            "39.75235255--104.9933577-315.jpg {'true_positive': 0, 'false_positive': 0, 'false_negative': 1}\n",
            "39.75238657--104.9846041-135.jpg {'true_positive': 0, 'false_positive': 0, 'false_negative': 1}\n",
            "39.75238657--104.9846041-315.jpg {'true_positive': 0, 'false_positive': 0, 'false_negative': 1}\n",
            "39.75238974--104.9967817-135.jpg {'true_positive': 0, 'false_positive': 0, 'false_negative': 1}\n",
            "39.75238974--104.9967817-315.jpg {'true_positive': 0, 'false_positive': 0, 'false_negative': 1}\n",
            "39.75242772--104.989756-315.jpg {'true_positive': 0, 'false_positive': 0, 'false_negative': 1}\n",
            "39.75245371--104.99147749999999-135.jpg {'true_positive': 0, 'false_positive': 0, 'false_negative': 1}\n",
            "39.75245371--104.99147749999999-315.jpg {'true_positive': 0, 'false_positive': 0, 'false_negative': 1}\n",
            "39.75247189--104.9874045-135.jpg {'true_positive': 0, 'false_positive': 0, 'false_negative': 1}\n",
            "39.75247303--104.9810596-135.jpg {'true_positive': 0, 'false_positive': 0, 'false_negative': 1}\n",
            "39.75247303--104.9810596-315.jpg {'true_positive': 1, 'false_positive': 0, 'false_negative': 0}\n",
            "39.75253742--104.99658649999999-315.jpg {'true_positive': 0, 'false_positive': 0, 'false_negative': 1}\n",
            "39.75283257--104.996196-315.jpg {'true_positive': 0, 'false_positive': 0, 'false_negative': 1}\n",
            "39.75316601--104.9784342-315.jpg {'true_positive': 0, 'false_positive': 0, 'false_negative': 0}\n",
            "39.75320592--104.9874068-135.jpg {'true_positive': 0, 'false_positive': 0, 'false_negative': 1}\n",
            "39.75333508--104.9886013-315.jpg {'true_positive': 0, 'false_positive': 0, 'false_negative': 1}\n",
            "39.75430592--104.9871419-135.jpg {'true_positive': 0, 'false_positive': 0, 'false_negative': 1}\n",
            "39.75464121--104.99388200000001-315.jpg {'true_positive': 0, 'false_positive': 0, 'false_negative': 1}\n",
            "39.75505882--104.9880773-135.jpg {'true_positive': 0, 'false_positive': 0, 'false_negative': 2}\n",
            "39.75608767--104.9745971-135.jpg {'true_positive': 0, 'false_positive': 0, 'false_negative': 0}\n",
            "39.75659675--104.98963390000002-315.jpg {'true_positive': 0, 'false_positive': 0, 'false_negative': 1}\n",
            "39.75664902--104.9773584-315.jpg {'true_positive': 0, 'false_positive': 0, 'false_negative': 1}\n",
            "39.75668782--104.9790507-135.jpg {'true_positive': 0, 'false_positive': 0, 'false_negative': 0}\n",
            "39.75675048--104.98419390000001-315.jpg {'true_positive': 0, 'false_positive': 0, 'false_negative': 1}\n"
          ],
          "name": "stdout"
        }
      ]
    },
    {
      "cell_type": "code",
      "metadata": {
        "id": "rNuRWlCt8adQ",
        "colab_type": "code",
        "colab": {
          "base_uri": "https://localhost:8080/",
          "height": 34
        },
        "outputId": "e27ebf5a-6489-43ab-a98f-3a1251a04f71"
      },
      "source": [
        "#call previous calc_mAP function\n",
        "calc_mAP(images_dict)"
      ],
      "execution_count": null,
      "outputs": [
        {
          "output_type": "execute_result",
          "data": {
            "text/plain": [
              "0.09090909090909091"
            ]
          },
          "metadata": {
            "tags": []
          },
          "execution_count": 40
        }
      ]
    },
    {
      "cell_type": "code",
      "metadata": {
        "id": "Vu7BACd91atR",
        "colab_type": "code",
        "colab": {
          "base_uri": "https://localhost:8080/",
          "height": 34
        },
        "outputId": "663eb654-23fe-40a9-dec1-04df1eeab5ad"
      },
      "source": [
        "#check confusion matrix\n",
        "tp=0\n",
        "fp=0\n",
        "fn=0\n",
        "cnt_nodect=0\n",
        "# for i in images_dict:\n",
        "#   print(i)\n",
        "for i in images_dict:\n",
        "  tp += int(images_dict[i]['true_positive'])\n",
        "  fp += int(images_dict[i]['false_positive'])\n",
        "  fn += int(images_dict[i]['false_negative'])\n",
        "  if images_dict[i]['true_positive']+images_dict[i]['false_positive']+images_dict[i]['false_negative'] == 0:\n",
        "    cnt_nodect =cnt_nodect +1\n",
        "print(' tp= ', tp, ' fp= ',fp, ' fn= ', fn, ' no dection = ',cnt_nodect)\n"
      ],
      "execution_count": null,
      "outputs": [
        {
          "output_type": "stream",
          "text": [
            " tp=  3  fp=  0  fn=  325  no dection =  22\n"
          ],
          "name": "stdout"
        }
      ]
    },
    {
      "cell_type": "markdown",
      "metadata": {
        "id": "1iJoJCbIuEqC",
        "colab_type": "text"
      },
      "source": [
        "## for fh class"
      ]
    },
    {
      "cell_type": "code",
      "metadata": {
        "id": "Bla16XNy5uLO",
        "colab_type": "code",
        "colab": {
          "base_uri": "https://localhost:8080/",
          "height": 51
        },
        "outputId": "66229737-b01d-41e2-bc79-523baa7db994"
      },
      "source": [
        "# gt img that has fh\n",
        "filtered_gt_img_fh=[]\n",
        "for img in gt_test_images_sort: \n",
        "  filtered_gt_img_fh.append(filter_gt_cls(img,2))\n",
        "\n",
        "#gt non empty img name list\n",
        "gt_fh_img_nm=[]\n",
        "for a in filtered_gt_img_fh:\n",
        "  if a[1] != []:\n",
        "    gt_fh_img_nm.append(a[0])\n",
        "print(len(gt_fh_img_nm))\n",
        "\n",
        "\n",
        "# pr img that has fh\n",
        "filtered_pr_img_fh=[]\n",
        "for img in pred_test_images_sort: \n",
        "  filtered_pr_img_fh.append(filter_gt_cls(img,2))\n",
        "#pr non empty img name list\n",
        "pr_fh_img_nm=[]\n",
        "for b in filtered_pr_img_fh:\n",
        "  if b[1] != []:\n",
        "    pr_fh_img_nm.append(b[0])\n",
        "print(len(pr_fh_img_nm))\n",
        "\n",
        "new_nm_list = list(set(gt_fh_img_nm+pr_fh_img_nm))\n",
        "\n",
        "gt_fh=[]\n",
        "for img in gt_test_images_sort:\n",
        "  for nm in new_nm_list:\n",
        "    if img[0] == nm:\n",
        "      gt_fh.append(img)\n",
        "\n",
        "pr_fh=[]\n",
        "for img in pred_test_images_sort:\n",
        "  for nm in new_nm_list:\n",
        "    if img[0] == nm:\n",
        "      pr_fh.append(img)"
      ],
      "execution_count": null,
      "outputs": [
        {
          "output_type": "stream",
          "text": [
            "52\n",
            "11\n"
          ],
          "name": "stdout"
        }
      ]
    },
    {
      "cell_type": "code",
      "metadata": {
        "id": "uqrVsv7y-Ti8",
        "colab_type": "code",
        "colab": {}
      },
      "source": [
        "def pr_img_preprocess_fh(img_id,cls):\n",
        "  \n",
        "  gt_img_i = gt_fh[img_id]\n",
        "  pr_img_i = pr_fh[img_id]\n",
        "\n",
        "  #gt_filtered_cls = filter_gt_cls(gt_img_i, cls) #filter gt image to only 1 class each time\n",
        "  #pr_img_i = filter_gt_cls(pr_img_i,cls)  #i added this line to filter pred image\n",
        "\n",
        "  pr_bboxes = []\n",
        "  pr_labels = []\n",
        "  pr_ious = []\n",
        "  pr_gis =[]\n",
        "  for m in range(len(gt_img_i[1])): #for each gt labels\n",
        "      \n",
        "    temp_iou_list =[]\n",
        "    temp_ind_list =[]\n",
        "    if pr_img_i[1]==[]:      \n",
        "      pr_bbox_iou_max=[]\n",
        "      pr_max_label = []\n",
        "      #print('pred is empty')\n",
        "    else:  \n",
        "      for n in range(len(pr_img_i[1])):\n",
        "        iou = calc_iou(gt_img_i[2][m], pr_img_i[2][n])\n",
        "        temp_iou_list.append(iou)\n",
        "        temp_ind_list.append(m)\n",
        "        #we want to use the max iou bbox and position (pr_max_i)\n",
        "      k = temp_iou_list.index(max(temp_iou_list))\n",
        "      gi = temp_ind_list[k]\n",
        "      pr_iou_max = max(temp_iou_list)\n",
        "      pr_bbox_iou_max = pr_img_i[2][k]\n",
        "      pr_max_label = pr_img_i[1][k]\n",
        "\n",
        "      pr_bboxes.append(pr_bbox_iou_max)\n",
        "      pr_labels.append(pr_max_label) \n",
        "      pr_ious.append(pr_iou_max)\n",
        "      pr_gis.append(gi)\n",
        "\n",
        "  #print(pr_ious)\n",
        "  #print(pr_labels)\n",
        "  #print(pr_bboxes)\n",
        "  #print(pr_gis)\n",
        "  #when # of pred box is more than # of gt box\n",
        "  if len(pr_img_i[1])>= len(gt_img_i[1]):\n",
        "    pr_empty_cls = [gt_img_i[0],pr_labels,pr_bboxes,pr_ious,pr_gis]\n",
        "    #print('pr length >= filtred gt length')\n",
        "\n",
        "  elif len(pr_img_i[1]) < len(gt_img_i[1]):\n",
        "    #print('pred_length < filtered gr length')\n",
        "    gt_img_i_new = [gt_img_i[0],pr_labels,pr_bboxes,pr_ious, pr_gis]\n",
        "    y=len(gt_img_i_new[1])\n",
        "    #make an empty list with number of gt labels\n",
        "    # list are image_name, labels, bboxes, ious, gis\n",
        "    pr_empty_cls=[gt_img_i[0],[],[],[]]\n",
        "    pr_empty_cls[1] = [[] for _ in range(y)]\n",
        "    pr_empty_cls[2] = [[] for _ in range(y)]\n",
        "    pr_empty_cls[3] = [[] for _ in range(y)]\n",
        "    #pr_empty_cls[4] = [[] for _ in range(y)]\n",
        "      \n",
        "    x = len(pr_img_i[1])\n",
        "    z = np.array(pr_ious).argsort()[-x:][::-1] #z is the list of position that will have number. \n",
        "    #total number of position = len(gt_img_i_new[1]), currently all [] list\n",
        "    for pos in z: #e.g. position=[1,0]\n",
        "      pr_empty_cls[1][pos]= gt_img_i_new[1][pos]\n",
        "      pr_empty_cls[2][pos]= gt_img_i_new[2][pos]\n",
        "      pr_empty_cls[3][pos] = gt_img_i_new[3][pos]\n",
        "      #pr_empty_cls[4][pos] = gt_img_i_new[4][pos]\n",
        "    \n",
        "  return pr_empty_cls\n"
      ],
      "execution_count": null,
      "outputs": []
    },
    {
      "cell_type": "code",
      "metadata": {
        "id": "dL2C2-HQuDhS",
        "colab_type": "code",
        "colab": {
          "base_uri": "https://localhost:8080/",
          "height": 34
        },
        "outputId": "da2a11ac-cd79-495e-a099-574fe290216e"
      },
      "source": [
        "#class 2 is for fh\n",
        "#global pred_test_images_sort\n",
        "#global pr_test_images_sort\n",
        "af_pr_img_preproc_fh = []\n",
        "for i in range(len(pr_fh)):\n",
        "  #print(pred_test_images_sort[i][0])\n",
        "  af_pr_img_preproc_fh.append((pr_img_preprocess_fh(i,2)))\n",
        "len(af_pr_img_preproc_fh)"
      ],
      "execution_count": null,
      "outputs": [
        {
          "output_type": "execute_result",
          "data": {
            "text/plain": [
              "54"
            ]
          },
          "metadata": {
            "tags": []
          },
          "execution_count": 44
        }
      ]
    },
    {
      "cell_type": "code",
      "metadata": {
        "id": "ZymAn8wIuYXx",
        "colab_type": "code",
        "colab": {
          "base_uri": "https://localhost:8080/",
          "height": 54
        },
        "outputId": "a6b5ba43-684a-4194-f7a4-f2cb8d30749a"
      },
      "source": [
        "cls=2\n",
        "images_dict1={}\n",
        "for i in range(len(af_pr_img_preproc_fh)):\n",
        "  pr_single_img = af_pr_img_preproc_fh[i]\n",
        "  gt_single_img = gt_fh[i]\n",
        "  #print(pr_single_img)\n",
        "  #print(gt_single_img)\n",
        "  fp=0\n",
        "  tp=0\n",
        "  fn=0\n",
        "  cls=0 \n",
        "  num_pr_labels = len(pr_single_img[1])\n",
        "  for i in range(num_pr_labels):\n",
        "    if pr_single_img[1][i] == []:\n",
        "      fn+=1\n",
        "    elif pr_single_img[1][i] != cls:\n",
        "      fn+=1\n",
        "    elif pr_single_img[1][i] == gt_single_img[1][i]:\n",
        "      if pr_single_img[3][i]>0.5:\n",
        "        tp+=1\n",
        "      else:\n",
        "        fp +=1\n",
        "  images_dict1[pr_single_img[0]]={'true_positive': tp, 'false_positive': fp, 'false_negative': fn}\n",
        "print(images_dict1)"
      ],
      "execution_count": null,
      "outputs": [
        {
          "output_type": "stream",
          "text": [
            "{'39.74879542--105.001427-315.jpg': {'true_positive': 0, 'false_positive': 0, 'false_negative': 2}, '39.74887806--104.9821726-135.jpg': {'true_positive': 0, 'false_positive': 0, 'false_negative': 0}, '39.74902595--104.98724250000001-135.jpg': {'true_positive': 0, 'false_positive': 0, 'false_negative': 2}, '39.74906155--104.9976193-315.jpg': {'true_positive': 0, 'false_positive': 0, 'false_negative': 0}, '39.74920219--104.9922196-315.jpg': {'true_positive': 0, 'false_positive': 0, 'false_negative': 0}, '39.74920428--104.9904635-135.jpg': {'true_positive': 0, 'false_positive': 0, 'false_negative': 3}, '39.74945038--104.99534299999999-135.jpg': {'true_positive': 0, 'false_positive': 0, 'false_negative': 0}, '39.74950059--104.97969099999999-135.jpg': {'true_positive': 0, 'false_positive': 0, 'false_negative': 0}, '39.74953471--105.000452-315.jpg': {'true_positive': 0, 'false_positive': 0, 'false_negative': 2}, '39.74955921--104.9830703-135.jpg': {'true_positive': 0, 'false_positive': 0, 'false_negative': 0}, '39.74957738--104.9934304-135.jpg': {'true_positive': 0, 'false_positive': 0, 'false_negative': 0}, '39.74960094--104.99515-135.jpg': {'true_positive': 0, 'false_positive': 0, 'false_negative': 0}, '39.74960256--105.00213590000001-135.jpg': {'true_positive': 0, 'false_positive': 0, 'false_negative': 0}, '39.74960256--105.00213590000001-315.jpg': {'true_positive': 0, 'false_positive': 0, 'false_negative': 0}, '39.74962376--104.9812023-135.jpg': {'true_positive': 0, 'false_positive': 0, 'false_negative': 0}, '39.74964685--104.9881478-135.jpg': {'true_positive': 0, 'false_positive': 0, 'false_negative': 2}, '39.74968608--105.0002597-135.jpg': {'true_positive': 0, 'false_positive': 0, 'false_negative': 0}, '39.74971601--104.98110190000001-135.jpg': {'true_positive': 0, 'false_positive': 0, 'false_negative': 0}, '39.74972803--104.9932375-315.jpg': {'true_positive': 0, 'false_positive': 0, 'false_negative': 0}, '39.74977482--104.9810097-135.jpg': {'true_positive': 0, 'false_positive': 0, 'false_negative': 0}, '39.74990386--104.98606529999999-135.jpg': {'true_positive': 0, 'false_positive': 0, 'false_negative': 0}, '39.75005483--104.99457279999999-135.jpg': {'true_positive': 0, 'false_positive': 0, 'false_negative': 1}, '39.75007707--104.9841572-135.jpg': {'true_positive': 0, 'false_positive': 0, 'false_negative': 0}, '39.75009683--104.98756750000001-315.jpg': {'true_positive': 0, 'false_positive': 0, 'false_negative': 0}, '39.75010416--104.99625970000001-135.jpg': {'true_positive': 1, 'false_positive': 0, 'false_negative': 2}, '39.75010416--104.99625970000001-315.jpg': {'true_positive': 0, 'false_positive': 0, 'false_negative': 0}, '39.75010675--104.99106270000001-135.jpg': {'true_positive': 0, 'false_positive': 0, 'false_negative': 3}, '39.75010675--104.99106270000001-315.jpg': {'true_positive': 0, 'false_positive': 0, 'false_negative': 0}, '39.75035818--104.9941886-135.jpg': {'true_positive': 1, 'false_positive': 0, 'false_negative': 2}, '39.75039931--104.9889124-135.jpg': {'true_positive': 0, 'false_positive': 0, 'false_negative': 0}, '39.75044834--104.98190149999999-135.jpg': {'true_positive': 0, 'false_positive': 0, 'false_negative': 0}, '39.75045516--104.9993077-135.jpg': {'true_positive': 0, 'false_positive': 0, 'false_negative': 1}, '39.75045516--104.9993077-315.jpg': {'true_positive': 0, 'false_positive': 0, 'false_negative': 2}, '39.75050879--104.9939957-135.jpg': {'true_positive': 0, 'false_positive': 0, 'false_negative': 0}, '39.75054591--104.9869866-135.jpg': {'true_positive': 0, 'false_positive': 0, 'false_negative': 0}, '39.75055319--104.99047970000001-135.jpg': {'true_positive': 0, 'false_positive': 0, 'false_negative': 0}, '39.75064966--104.985095-315.jpg': {'true_positive': 0, 'false_positive': 0, 'false_negative': 0}, '39.75069487--104.97986509999998-135.jpg': {'true_positive': 0, 'false_positive': 0, 'false_negative': 0}, '39.75085129--104.99009140000001-315.jpg': {'true_positive': 0, 'false_positive': 0, 'false_negative': 1}, '39.75108959--105.0001919-315.jpg': {'true_positive': 0, 'false_positive': 0, 'false_negative': 0}, '39.75115277--104.9879481-135.jpg': {'true_positive': 0, 'false_positive': 0, 'false_negative': 0}, '39.75116755--104.99491640000001-315.jpg': {'true_positive': 0, 'false_positive': 0, 'false_negative': 1}, '39.75140897--104.9928354-315.jpg': {'true_positive': 0, 'false_positive': 0, 'false_negative': 0}, '39.75149005--104.99794240000001-315.jpg': {'true_positive': 0, 'false_positive': 0, 'false_negative': 0}, '39.75152453--104.99091399999999-315.jpg': {'true_positive': 0, 'false_positive': 0, 'false_negative': 0}, '39.75185838--104.98355459999999-135.jpg': {'true_positive': 0, 'false_positive': 0, 'false_negative': 0}, '39.75189315--104.98873130000001-135.jpg': {'true_positive': 0, 'false_positive': 0, 'false_negative': 0}, '39.75238657--104.9846041-315.jpg': {'true_positive': 0, 'false_positive': 0, 'false_negative': 0}, '39.75238974--104.9967817-135.jpg': {'true_positive': 0, 'false_positive': 0, 'false_negative': 0}, '39.75238974--104.9967817-315.jpg': {'true_positive': 0, 'false_positive': 0, 'false_negative': 0}, '39.75245371--104.99147749999999-135.jpg': {'true_positive': 0, 'false_positive': 0, 'false_negative': 0}, '39.75333508--104.9886013-315.jpg': {'true_positive': 0, 'false_positive': 0, 'false_negative': 0}, '39.75505882--104.9880773-135.jpg': {'true_positive': 0, 'false_positive': 0, 'false_negative': 0}, '39.75608767--104.9745971-135.jpg': {'true_positive': 0, 'false_positive': 0, 'false_negative': 0}}\n"
          ],
          "name": "stdout"
        }
      ]
    },
    {
      "cell_type": "code",
      "metadata": {
        "id": "cgdvlkBFutCx",
        "colab_type": "code",
        "colab": {
          "base_uri": "https://localhost:8080/",
          "height": 34
        },
        "outputId": "8f38b2ed-5d11-44c5-9a4b-489323cc148a"
      },
      "source": [
        "calc_mAP(images_dict1)"
      ],
      "execution_count": null,
      "outputs": [
        {
          "output_type": "execute_result",
          "data": {
            "text/plain": [
              "0.09090909090909091"
            ]
          },
          "metadata": {
            "tags": []
          },
          "execution_count": 46
        }
      ]
    },
    {
      "cell_type": "markdown",
      "metadata": {
        "id": "A8UZoHtcvpgq",
        "colab_type": "text"
      },
      "source": [
        "## lamp and fh class"
      ]
    },
    {
      "cell_type": "code",
      "metadata": {
        "id": "Kziu1De_vfm-",
        "colab_type": "code",
        "colab": {
          "base_uri": "https://localhost:8080/",
          "height": 85
        },
        "outputId": "70549282-f661-4138-ab05-654c8908115c"
      },
      "source": [
        "#build a function to remove sign h class\n",
        "def rm_cls(image_list, cls):\n",
        "  scores=[]\n",
        "  bboxes = []\n",
        "  for i in range(len(image_list[1])):\n",
        "    if image_list[1][i] != cls:\n",
        "      score=image_list[1][i]\n",
        "      bbox = image_list[2][i]\n",
        "      scores.append(score)\n",
        "      bboxes.append(bbox)\n",
        "    else:\n",
        "      bbox1 = []\n",
        "      bboxes = bboxes\n",
        "      scores = scores\n",
        "  return [image_list[0],scores, bboxes]\n",
        "print(gt_test_images_sort[2])\n",
        "rm_cls(gt_test_images_sort[2],1)"
      ],
      "execution_count": null,
      "outputs": [
        {
          "output_type": "stream",
          "text": [
            "['39.74880082--104.9873972-135.jpg', [0, 0, 0], [[281, 3, 314, 526], [542, 273, 571, 389], [252, 257, 267, 393]]]\n"
          ],
          "name": "stdout"
        },
        {
          "output_type": "execute_result",
          "data": {
            "text/plain": [
              "['39.74880082--104.9873972-135.jpg',\n",
              " [0, 0, 0],\n",
              " [[281, 3, 314, 526], [542, 273, 571, 389], [252, 257, 267, 393]]]"
            ]
          },
          "metadata": {
            "tags": []
          },
          "execution_count": 16
        }
      ]
    },
    {
      "cell_type": "code",
      "metadata": {
        "id": "kxtaI0bGwRLD",
        "colab_type": "code",
        "colab": {}
      },
      "source": [
        "#new function to make list for 2 classes (no sign-h class)\n",
        "def pr_img_preprocess_2cls(img_id,cls):\n",
        "  #here cls is the removed class\n",
        "  gt_img_i = gt_test_images_sort[img_id]\n",
        "  pr_img_i_temp = pred_test_images_sort[img_id]\n",
        "\n",
        "  gt_filtered_cls = rm_cls(gt_img_i, cls) #filter gt image to only 1 class each time\n",
        "  pr_img_i = rm_cls(pr_img_i_temp,cls)  #i added this line to filter pred image\n",
        "                     \n",
        "  pr_bboxes = []\n",
        "  pr_labels = []\n",
        "  pr_ious = []\n",
        "  pr_gis =[]\n",
        "  for m in range(len(gt_filtered_cls[1])): #for each gt labels\n",
        "      \n",
        "    temp_iou_list =[]\n",
        "    temp_ind_list =[]\n",
        "    if pr_img_i[1]==[]:      \n",
        "      pr_bbox_iou_max=[]\n",
        "      pr_max_label = []\n",
        "      #print('pred is empty')\n",
        "    else:  \n",
        "      for n in range(len(pr_img_i[1])):\n",
        "        iou = calc_iou(gt_filtered_cls[2][m], pr_img_i[2][n])\n",
        "        temp_iou_list.append(iou)\n",
        "        temp_ind_list.append(m)\n",
        "        #we want to use the max iou bbox and position (pr_max_i)\n",
        "      k = temp_iou_list.index(max(temp_iou_list))\n",
        "      gi = temp_ind_list[k]\n",
        "      pr_iou_max = max(temp_iou_list)\n",
        "      pr_bbox_iou_max = pr_img_i[2][k]\n",
        "      pr_max_label = pr_img_i[1][k]\n",
        "\n",
        "      pr_bboxes.append(pr_bbox_iou_max)\n",
        "      pr_labels.append(pr_max_label) \n",
        "      pr_ious.append(pr_iou_max)\n",
        "      pr_gis.append(gi)\n",
        "\n",
        "  #print(pr_ious)\n",
        "  #print(pr_labels)\n",
        "  #print(pr_bboxes)\n",
        "  #print(pr_gis)\n",
        "  #when # of pred box is more than # of gt box\n",
        "  if len(pr_img_i[1])>= len(gt_filtered_cls[1]):\n",
        "    pr_empty_cls = [gt_filtered_cls[0],pr_labels,pr_bboxes,pr_ious,pr_gis]\n",
        "    #print('pr length >= filtred gt length')\n",
        "\n",
        "  elif len(pr_img_i[1]) < len(gt_filtered_cls[1]):\n",
        "    #print('pred_length < filtered gr length')\n",
        "    pr_filtered_cls = [gt_filtered_cls[0],pr_labels,pr_bboxes,pr_ious, pr_gis]\n",
        "    y=len(gt_filtered_cls[1])\n",
        "    #make an empty list with number of gt labels\n",
        "    # list are image_name, labels, bboxes, ious, gis\n",
        "    pr_empty_cls=[gt_filtered_cls[0],[],[],[]]\n",
        "    pr_empty_cls[1] = [[] for _ in range(y)]\n",
        "    pr_empty_cls[2] = [[] for _ in range(y)]\n",
        "    pr_empty_cls[3] = [[] for _ in range(y)]\n",
        "    #pr_empty_cls[4] = [[] for _ in range(y)]\n",
        "      \n",
        "    x = len(pr_img_i[1])\n",
        "    z = np.array(pr_ious).argsort()[-x:][::-1] #z is the list of position that will have number. \n",
        "    #total number of position = len(gt_filter_cls[1]), currently all [] list\n",
        "    for pos in z: #e.g. position=[1,0]\n",
        "      pr_empty_cls[1][pos]= pr_filtered_cls[1][pos]\n",
        "      pr_empty_cls[2][pos]= pr_filtered_cls[2][pos]\n",
        "      pr_empty_cls[3][pos] = pr_filtered_cls[3][pos]\n",
        "      #pr_empty_cls[4][pos] = pr_filtered_cls[4][pos]\n",
        "    \n",
        "  return pr_empty_cls"
      ],
      "execution_count": null,
      "outputs": []
    },
    {
      "cell_type": "code",
      "metadata": {
        "id": "xYblWCx-zYJd",
        "colab_type": "code",
        "colab": {
          "base_uri": "https://localhost:8080/",
          "height": 68
        },
        "outputId": "f67be425-9297-436e-c68b-4df93986b021"
      },
      "source": [
        "gt_test_images_sort[0]"
      ],
      "execution_count": null,
      "outputs": [
        {
          "output_type": "execute_result",
          "data": {
            "text/plain": [
              "['39.74879542--105.001427-315.jpg',\n",
              " [2, 0],\n",
              " [[294, 468, 320, 534], [466, 260, 532, 529]]]"
            ]
          },
          "metadata": {
            "tags": []
          },
          "execution_count": 20
        }
      ]
    },
    {
      "cell_type": "code",
      "metadata": {
        "id": "ICBdEgAPvcZk",
        "colab_type": "code",
        "colab": {
          "base_uri": "https://localhost:8080/",
          "height": 85
        },
        "outputId": "9d6d7774-c5fe-4371-c977-c34300139459"
      },
      "source": [
        "pr_img_preprocess_2cls(0,1)"
      ],
      "execution_count": null,
      "outputs": [
        {
          "output_type": "execute_result",
          "data": {
            "text/plain": [
              "['39.74879542--105.001427-315.jpg',\n",
              " [2, []],\n",
              " [[292.8432312011719, 471.0654296875, 322.7102966308594, 518.70751953125], []],\n",
              " [0.6576210584350242, []]]"
            ]
          },
          "metadata": {
            "tags": []
          },
          "execution_count": 21
        }
      ]
    },
    {
      "cell_type": "code",
      "metadata": {
        "id": "psZ6GuGCxruF",
        "colab_type": "code",
        "colab": {
          "base_uri": "https://localhost:8080/",
          "height": 34
        },
        "outputId": "89bae362-0365-48a4-bed8-069e0fc7f601"
      },
      "source": [
        "#global pred_test_images_sort\n",
        "#global pr_test_images_sort\n",
        "af_pr_img_preproc_2cls = []\n",
        "for i in range(len(pred_test_images_sort)):\n",
        "  #print(pred_test_images_sort[i][0])\n",
        "  af_pr_img_preproc_2cls.append((pr_img_preprocess_2cls(i,1)))\n",
        "len(af_pr_img_preproc_2cls)"
      ],
      "execution_count": null,
      "outputs": [
        {
          "output_type": "execute_result",
          "data": {
            "text/plain": [
              "351"
            ]
          },
          "metadata": {
            "tags": []
          },
          "execution_count": 22
        }
      ]
    },
    {
      "cell_type": "code",
      "metadata": {
        "id": "DIFlG3OUyN4j",
        "colab_type": "code",
        "colab": {}
      },
      "source": [
        "#af_pr_img_preproc_2cls"
      ],
      "execution_count": null,
      "outputs": []
    },
    {
      "cell_type": "code",
      "metadata": {
        "id": "OGxW07-Ux2Vy",
        "colab_type": "code",
        "colab": {
          "base_uri": "https://localhost:8080/",
          "height": 54
        },
        "outputId": "d3e36b0d-7b75-4e80-f7c2-99ad43025b01"
      },
      "source": [
        "images_dict2={}\n",
        "for i in range(len(af_pr_img_preproc_2cls)):\n",
        "  pr_single_img = af_pr_img_preproc_2cls[i]\n",
        "  gt_single_img = gt_test_images_sort[i]\n",
        "  #print(pr_single_img)\n",
        "  #print(gt_single_img)\n",
        "  fp=0\n",
        "  tp=0\n",
        "  fn=0\n",
        "  cls=0 \n",
        "  num_pr_labels = len(pr_single_img[1])\n",
        "  for i in range(num_pr_labels):\n",
        "    if pr_single_img[1][i] == []:\n",
        "      fn+=1\n",
        "    elif pr_single_img[1][i] != cls:\n",
        "      fn+=1\n",
        "    elif pr_single_img[1][i] == gt_single_img[1][i]:\n",
        "      if pr_single_img[3][i]>0.5:\n",
        "        tp+=1\n",
        "      else:\n",
        "        fp +=1\n",
        "  images_dict2[pr_single_img[0]]={'true_positive': tp, 'false_positive': fp, 'false_negative': fn}\n",
        "print(images_dict2)"
      ],
      "execution_count": null,
      "outputs": [
        {
          "output_type": "stream",
          "text": [
            "{'39.74879542--105.001427-315.jpg': {'true_positive': 0, 'false_positive': 0, 'false_negative': 2}, '39.74879753--104.9799561-135.jpg': {'true_positive': 0, 'false_positive': 0, 'false_negative': 1}, '39.74880082--104.9873972-135.jpg': {'true_positive': 1, 'false_positive': 2, 'false_negative': 0}, '39.74880082--104.9873972-315.jpg': {'true_positive': 0, 'false_positive': 0, 'false_negative': 2}, '39.74885675--104.99612150000002-315.jpg': {'true_positive': 0, 'false_positive': 0, 'false_negative': 1}, '39.74887032--104.985699-315.jpg': {'true_positive': 0, 'false_positive': 0, 'false_negative': 1}, '39.74887806--104.9821726-135.jpg': {'true_positive': 0, 'false_positive': 0, 'false_negative': 3}, '39.74887806--104.9821726-315.jpg': {'true_positive': 0, 'false_positive': 0, 'false_negative': 2}, '39.74887857--104.98743789999999-135.jpg': {'true_positive': 0, 'false_positive': 0, 'false_negative': 1}, '39.74887857--104.98743789999999-315.jpg': {'true_positive': 1, 'false_positive': 0, 'false_negative': 1}, '39.74889861--105.0033885-135.jpg': {'true_positive': 0, 'false_positive': 1, 'false_negative': 2}, '39.74889861--105.0033885-315.jpg': {'true_positive': 1, 'false_positive': 0, 'false_negative': 1}, '39.74890124--104.98911820000001-135.jpg': {'true_positive': 1, 'false_positive': 0, 'false_negative': 0}, '39.74890342--104.99260729999999-135.jpg': {'true_positive': 0, 'false_positive': 0, 'false_negative': 1}, '39.74890342--104.99260729999999-315.jpg': {'true_positive': 1, 'false_positive': 0, 'false_negative': 0}, '39.74890605--104.9908517-315.jpg': {'true_positive': 0, 'false_positive': 0, 'false_negative': 1}, '39.74891328--104.99781399999999-315.jpg': {'true_positive': 0, 'false_positive': 0, 'false_negative': 1}, '39.74894099--105.0012304-135.jpg': {'true_positive': 0, 'false_positive': 1, 'false_negative': 0}, '39.74894099--105.0012304-315.jpg': {'true_positive': 0, 'false_positive': 1, 'false_negative': 0}, '39.74895055--104.9801471-135.jpg': {'true_positive': 1, 'false_positive': 0, 'false_negative': 0}, '39.74895055--104.9801471-315.jpg': {'true_positive': 1, 'false_positive': 0, 'false_negative': 2}, '39.74896307--104.9838469-135.jpg': {'true_positive': 0, 'false_positive': 0, 'false_negative': 1}, '39.74897698--104.9942037-135.jpg': {'true_positive': 1, 'false_positive': 0, 'false_negative': 0}, '39.74897698--104.9942037-315.jpg': {'true_positive': 0, 'false_positive': 0, 'false_negative': 1}, '39.74902548--104.98550970000001-135.jpg': {'true_positive': 0, 'false_positive': 0, 'false_negative': 1}, '39.74902548--104.98550970000001-315.jpg': {'true_positive': 0, 'false_positive': 0, 'false_negative': 1}, '39.74902595--104.98724250000001-135.jpg': {'true_positive': 0, 'false_positive': 0, 'false_negative': 2}, '39.74902595--104.98724250000001-315.jpg': {'true_positive': 2, 'false_positive': 0, 'false_negative': 1}, '39.74904557--104.9873963-135.jpg': {'true_positive': 1, 'false_positive': 0, 'false_negative': 2}, '39.74904557--104.9873963-315.jpg': {'true_positive': 0, 'false_positive': 2, 'false_negative': 0}, '39.74905012--104.9889239-315.jpg': {'true_positive': 0, 'false_positive': 0, 'false_negative': 1}, '39.74905181--104.9924127-315.jpg': {'true_positive': 1, 'false_positive': 0, 'false_negative': 1}, '39.74905503--104.9906575-315.jpg': {'true_positive': 0, 'false_positive': 0, 'false_negative': 1}, '39.74906155--104.9976193-135.jpg': {'true_positive': 0, 'false_positive': 0, 'false_negative': 2}, '39.74906155--104.9976193-315.jpg': {'true_positive': 0, 'false_positive': 0, 'false_negative': 1}, '39.74908927--105.0010357-315.jpg': {'true_positive': 0, 'false_positive': 0, 'false_negative': 1}, '39.74909335--105.0035368-135.jpg': {'true_positive': 1, 'false_positive': 0, 'false_negative': 1}, '39.74911224--104.98365279999999-135.jpg': {'true_positive': 0, 'false_positive': 0, 'false_negative': 1}, '39.74911224--104.98365279999999-315.jpg': {'true_positive': 0, 'false_positive': 0, 'false_negative': 1}, '39.74912704--104.99401040000001-135.jpg': {'true_positive': 0, 'false_positive': 0, 'false_negative': 1}, '39.74913009--104.9787397-135.jpg': {'true_positive': 0, 'false_positive': 0, 'false_negative': 1}, '39.74917208--104.98704620000001-315.jpg': {'true_positive': 0, 'false_positive': 1, 'false_negative': 0}, '39.74917611--104.98178429999999-135.jpg': {'true_positive': 1, 'false_positive': 0, 'false_negative': 0}, '39.74918063--104.98532040000002-135.jpg': {'true_positive': 0, 'false_positive': 1, 'false_negative': 0}, '39.74919901--104.98872959999998-135.jpg': {'true_positive': 0, 'false_positive': 0, 'false_negative': 1}, '39.74920219--104.9922196-135.jpg': {'true_positive': 0, 'false_positive': 0, 'false_negative': 2}, '39.74920219--104.9922196-315.jpg': {'true_positive': 1, 'false_positive': 0, 'false_negative': 2}, '39.74920428--104.9904635-135.jpg': {'true_positive': 0, 'false_positive': 0, 'false_negative': 2}, '39.74920428--104.9904635-315.jpg': {'true_positive': 1, 'false_positive': 0, 'false_negative': 0}, '39.74923756--105.000841-135.jpg': {'true_positive': 0, 'false_positive': 0, 'false_negative': 1}, '39.74923756--105.000841-315.jpg': {'true_positive': 0, 'false_positive': 0, 'false_negative': 1}, '39.74925717--104.98052870000001-135.jpg': {'true_positive': 0, 'false_positive': 1, 'false_negative': 1}, '39.74927711--104.99381699999999-315.jpg': {'true_positive': 0, 'false_positive': 0, 'false_negative': 1}, '39.74928797--105.00368519999999-135.jpg': {'true_positive': 0, 'false_positive': 0, 'false_negative': 1}, '39.74928797--105.00368519999999-315.jpg': {'true_positive': 0, 'false_positive': 1, 'false_negative': 2}, '39.74931821--104.98684979999999-315.jpg': {'true_positive': 1, 'false_positive': 0, 'false_negative': 0}, '39.74934789--104.9885354-135.jpg': {'true_positive': 1, 'false_positive': 0, 'false_negative': 0}, '39.74934789--104.9885354-315.jpg': {'true_positive': 0, 'false_positive': 0, 'false_negative': 1}, '39.74935302--104.99202679999999-315.jpg': {'true_positive': 1, 'false_positive': 0, 'false_negative': 2}, '39.74935374--104.9902697-315.jpg': {'true_positive': 2, 'false_positive': 0, 'false_negative': 0}, '39.74938586--105.0006463-135.jpg': {'true_positive': 0, 'false_positive': 2, 'false_negative': 0}, '39.74938586--105.0006463-315.jpg': {'true_positive': 0, 'false_positive': 0, 'false_negative': 1}, '39.74941031--104.9807196-315.jpg': {'true_positive': 2, 'false_positive': 1, 'false_negative': 0}, '39.74941627--105.00228759999999-315.jpg': {'true_positive': 1, 'false_positive': 0, 'false_negative': 0}, '39.74942717--104.9936237-315.jpg': {'true_positive': 0, 'false_positive': 0, 'false_negative': 1}, '39.74944861--104.97837150000001-315.jpg': {'true_positive': 0, 'false_positive': 0, 'false_negative': 1}, '39.74945038--104.99534299999999-135.jpg': {'true_positive': 1, 'false_positive': 0, 'false_negative': 2}, '39.74945038--104.99534299999999-315.jpg': {'true_positive': 0, 'false_positive': 1, 'false_negative': 2}, '39.74947406--105.0038439-135.jpg': {'true_positive': 0, 'false_positive': 0, 'false_negative': 1}, '39.74947406--105.0038439-315.jpg': {'true_positive': 0, 'false_positive': 0, 'false_negative': 2}, '39.74950059--104.97969099999999-135.jpg': {'true_positive': 0, 'false_positive': 0, 'false_negative': 1}, '39.74950289--104.99007560000001-315.jpg': {'true_positive': 0, 'false_positive': 0, 'false_negative': 3}, '39.74953471--105.000452-135.jpg': {'true_positive': 0, 'false_positive': 0, 'false_negative': 2}, '39.74953471--105.000452-315.jpg': {'true_positive': 0, 'false_positive': 1, 'false_negative': 1}, '39.74955921--104.9830703-135.jpg': {'true_positive': 0, 'false_positive': 0, 'false_negative': 2}, '39.74956346--104.9809105-315.jpg': {'true_positive': 2, 'false_positive': 1, 'false_negative': 1}, '39.74957738--104.9934304-135.jpg': {'true_positive': 0, 'false_positive': 0, 'false_negative': 2}, '39.74957738--104.9934304-315.jpg': {'true_positive': 1, 'false_positive': 0, 'false_negative': 0}, '39.74960094--104.99515-135.jpg': {'true_positive': 0, 'false_positive': 0, 'false_negative': 2}, '39.74960256--105.00213590000001-135.jpg': {'true_positive': 0, 'false_positive': 0, 'false_negative': 1}, '39.74960256--105.00213590000001-315.jpg': {'true_positive': 0, 'false_positive': 0, 'false_negative': 1}, '39.74962376--104.9812023-135.jpg': {'true_positive': 1, 'false_positive': 0, 'false_negative': 2}, '39.74962376--104.9812023-315.jpg': {'true_positive': 0, 'false_positive': 0, 'false_negative': 1}, '39.74962881--104.9847388-315.jpg': {'true_positive': 0, 'false_positive': 1, 'false_negative': 0}, '39.74964338--105.00401969999999-135.jpg': {'true_positive': 0, 'false_positive': 0, 'false_negative': 1}, '39.74964338--105.00401969999999-315.jpg': {'true_positive': 0, 'false_positive': 0, 'false_negative': 2}, '39.74964685--104.9881478-135.jpg': {'true_positive': 0, 'false_positive': 0, 'false_negative': 2}, '39.74964685--104.9881478-315.jpg': {'true_positive': 1, 'false_positive': 1, 'false_negative': 0}, '39.74965112--104.97949799999999-135.jpg': {'true_positive': 1, 'false_positive': 0, 'false_negative': 0}, '39.74965192--104.9898815-315.jpg': {'true_positive': 0, 'false_positive': 0, 'false_negative': 1}, '39.74965496--104.9916415-135.jpg': {'true_positive': 0, 'false_positive': 1, 'false_negative': 0}, '39.74965496--104.9916415-315.jpg': {'true_positive': 0, 'false_positive': 0, 'false_negative': 2}, '39.74965667--104.99684189999999-135.jpg': {'true_positive': 0, 'false_positive': 0, 'false_negative': 1}, '39.74965667--104.99684189999999-315.jpg': {'true_positive': 0, 'false_positive': 0, 'false_negative': 1}, '39.74968608--105.0002597-135.jpg': {'true_positive': 0, 'false_positive': 0, 'false_negative': 2}, '39.74968608--105.0002597-315.jpg': {'true_positive': 0, 'false_positive': 0, 'false_negative': 1}, '39.74971601--104.98110190000001-135.jpg': {'true_positive': 1, 'false_positive': 1, 'false_negative': 1}, '39.74971601--104.98110190000001-315.jpg': {'true_positive': 1, 'false_positive': 0, 'false_negative': 0}, '39.74972803--104.9932375-135.jpg': {'true_positive': 0, 'false_positive': 1, 'false_negative': 1}, '39.74972803--104.9932375-315.jpg': {'true_positive': 1, 'false_positive': 0, 'false_negative': 2}, '39.74975209--104.9949575-135.jpg': {'true_positive': 0, 'false_positive': 0, 'false_negative': 1}, '39.74975209--104.9949575-315.jpg': {'true_positive': 0, 'false_positive': 0, 'false_negative': 2}, '39.74977482--104.9810097-135.jpg': {'true_positive': 0, 'false_positive': 1, 'false_negative': 1}, '39.74977482--104.9810097-315.jpg': {'true_positive': 1, 'false_positive': 0, 'false_negative': 0}, '39.74977796--104.98454469999999-135.jpg': {'true_positive': 1, 'false_positive': 0, 'false_negative': 1}, '39.74977984--104.9873924-135.jpg': {'true_positive': 0, 'false_positive': 0, 'false_negative': 1}, '39.74977984--104.9873924-315.jpg': {'true_positive': 0, 'false_positive': 1, 'false_negative': 0}, '39.74979483--105.0042119-135.jpg': {'true_positive': 1, 'false_positive': 1, 'false_negative': 1}, '39.74979483--105.0042119-315.jpg': {'true_positive': 1, 'false_positive': 0, 'false_negative': 0}, '39.74979651--104.9879541-315.jpg': {'true_positive': 0, 'false_positive': 0, 'false_negative': 1}, '39.74980095--104.98968729999999-315.jpg': {'true_positive': 0, 'false_positive': 1, 'false_negative': 0}, '39.74980573--104.9966477-135.jpg': {'true_positive': 1, 'false_positive': 0, 'false_negative': 0}, '39.74980573--104.9966477-315.jpg': {'true_positive': 0, 'false_positive': 0, 'false_negative': 1}, '39.74985435--104.9826797-135.jpg': {'true_positive': 0, 'false_positive': 0, 'false_negative': 1}, '39.74985722--104.9813018-135.jpg': {'true_positive': 2, 'false_positive': 0, 'false_negative': 0}, '39.74985722--104.9813018-315.jpg': {'true_positive': 1, 'false_positive': 0, 'false_negative': 0}, '39.74987847--104.99304450000001-135.jpg': {'true_positive': 0, 'false_positive': 0, 'false_negative': 1}, '39.74987847--104.99304450000001-315.jpg': {'true_positive': 0, 'false_positive': 1, 'false_negative': 0}, '39.74990346--104.99476509999998-135.jpg': {'true_positive': 0, 'false_positive': 0, 'false_negative': 1}, '39.74990346--104.99476509999998-315.jpg': {'true_positive': 0, 'false_positive': 0, 'false_negative': 1}, '39.74990386--104.98606529999999-135.jpg': {'true_positive': 0, 'false_positive': 0, 'false_negative': 1}, '39.74990386--104.98606529999999-315.jpg': {'true_positive': 0, 'false_positive': 0, 'false_negative': 1}, '39.74992712--104.9843507-135.jpg': {'true_positive': 1, 'false_positive': 0, 'false_negative': 0}, '39.74992712--104.9843507-315.jpg': {'true_positive': 0, 'false_positive': 1, 'false_negative': 0}, '39.74994222--105.00440729999998-135.jpg': {'true_positive': 0, 'false_positive': 1, 'false_negative': 0}, '39.74994222--105.00440729999998-315.jpg': {'true_positive': 0, 'false_positive': 0, 'false_negative': 1}, '39.74994667--104.9877608-135.jpg': {'true_positive': 1, 'false_positive': 0, 'false_negative': 1}, '39.74995218--104.97911200000001-135.jpg': {'true_positive': 0, 'false_positive': 1, 'false_negative': 0}, '39.74995218--104.97911200000001-315.jpg': {'true_positive': 0, 'false_positive': 2, 'false_negative': 0}, '39.74995478--104.99645359999998-135.jpg': {'true_positive': 1, 'false_positive': 0, 'false_negative': 2}, '39.74995478--104.99645359999998-315.jpg': {'true_positive': 0, 'false_positive': 0, 'false_negative': 1}, '39.74995733--104.99125649999999-135.jpg': {'true_positive': 0, 'false_positive': 0, 'false_negative': 1}, '39.74995733--104.99125649999999-315.jpg': {'true_positive': 1, 'false_positive': 1, 'false_negative': 0}, '39.74999342--104.9998787-135.jpg': {'true_positive': 0, 'false_positive': 0, 'false_negative': 1}, '39.74999342--104.9998787-315.jpg': {'true_positive': 0, 'false_positive': 0, 'false_negative': 1}, '39.74999828--104.98150190000001-135.jpg': {'true_positive': 1, 'false_positive': 0, 'false_negative': 0}, '39.74999828--104.98150190000001-315.jpg': {'true_positive': 0, 'false_positive': 0, 'false_negative': 1}, '39.75002927--104.9928517-135.jpg': {'true_positive': 0, 'false_positive': 0, 'false_negative': 1}, '39.75004797--105.0015522-315.jpg': {'true_positive': 0, 'false_positive': 0, 'false_negative': 1}, '39.75005483--104.99457279999999-135.jpg': {'true_positive': 0, 'false_positive': 0, 'false_negative': 1}, '39.75005483--104.99457279999999-315.jpg': {'true_positive': 0, 'false_positive': 0, 'false_negative': 1}, '39.75007707--104.9841572-135.jpg': {'true_positive': 0, 'false_positive': 0, 'false_negative': 3}, '39.75008138--104.98062809999999-135.jpg': {'true_positive': 0, 'false_positive': 0, 'false_negative': 1}, '39.75009683--104.98756750000001-135.jpg': {'true_positive': 1, 'false_positive': 0, 'false_negative': 0}, '39.75009683--104.98756750000001-315.jpg': {'true_positive': 0, 'false_positive': 0, 'false_negative': 1}, '39.75009922--104.9892992-135.jpg': {'true_positive': 0, 'false_positive': 0, 'false_negative': 1}, '39.75009922--104.9892992-315.jpg': {'true_positive': 0, 'false_positive': 0, 'false_negative': 2}, '39.75010351--104.97891969999999-135.jpg': {'true_positive': 0, 'false_positive': 0, 'false_negative': 1}, '39.75010416--104.99625970000001-135.jpg': {'true_positive': 1, 'false_positive': 0, 'false_negative': 2}, '39.75010416--104.99625970000001-315.jpg': {'true_positive': 0, 'false_positive': 0, 'false_negative': 3}, '39.75010675--104.99106270000001-135.jpg': {'true_positive': 0, 'false_positive': 1, 'false_negative': 2}, '39.75010675--104.99106270000001-315.jpg': {'true_positive': 1, 'false_positive': 0, 'false_negative': 0}, '39.75013935--104.9817019-135.jpg': {'true_positive': 1, 'false_positive': 0, 'false_negative': 0}, '39.75013935--104.9817019-315.jpg': {'true_positive': 1, 'false_positive': 0, 'false_negative': 0}, '39.75014724--104.99968829999999-135.jpg': {'true_positive': 0, 'false_positive': 0, 'false_negative': 1}, '39.75014724--104.99968829999999-315.jpg': {'true_positive': 0, 'false_positive': 0, 'false_negative': 1}, '39.75018021--104.992659-135.jpg': {'true_positive': 0, 'false_positive': 0, 'false_negative': 1}, '39.75018021--104.992659-315.jpg': {'true_positive': 0, 'false_positive': 0, 'false_negative': 1}, '39.75020201--104.98567709999999-135.jpg': {'true_positive': 0, 'false_positive': 0, 'false_negative': 1}, '39.75022711--104.9839638-135.jpg': {'true_positive': 0, 'false_positive': 0, 'false_negative': 1}, '39.75022711--104.9839638-315.jpg': {'true_positive': 0, 'false_positive': 0, 'false_negative': 1}, '39.75023775--105.0047976-135.jpg': {'true_positive': 0, 'false_positive': 1, 'false_negative': 1}, '39.75023775--105.0047976-315.jpg': {'true_positive': 1, 'false_positive': 0, 'false_negative': 0}, '39.75024695--104.9873742-135.jpg': {'true_positive': 0, 'false_positive': 0, 'false_negative': 1}, '39.75024695--104.9873742-315.jpg': {'true_positive': 1, 'false_positive': 0, 'false_negative': 0}, '39.75024927--104.98910579999999-135.jpg': {'true_positive': 0, 'false_positive': 1, 'false_negative': 0}, '39.75024927--104.98910579999999-315.jpg': {'true_positive': 1, 'false_positive': 0, 'false_negative': 1}, '39.75025541--104.9908683-135.jpg': {'true_positive': 0, 'false_positive': 0, 'false_negative': 1}, '39.75025541--104.9908683-315.jpg': {'true_positive': 1, 'false_positive': 0, 'false_negative': 0}, '39.75025554--104.99606740000002-135.jpg': {'true_positive': 1, 'false_positive': 0, 'false_negative': 0}, '39.75025554--104.99606740000002-315.jpg': {'true_positive': 0, 'false_positive': 0, 'false_negative': 2}, '39.75026935--104.98738970000001-135.jpg': {'true_positive': 0, 'false_positive': 0, 'false_negative': 1}, '39.75026935--104.98738970000001-315.jpg': {'true_positive': 1, 'false_positive': 0, 'false_negative': 0}, '39.75028029--104.981902-135.jpg': {'true_positive': 0, 'false_positive': 1, 'false_negative': 0}, '39.75028029--104.981902-315.jpg': {'true_positive': 0, 'false_positive': 0, 'false_negative': 1}, '39.75029775--104.98209440000001-135.jpg': {'true_positive': 1, 'false_positive': 0, 'false_negative': 0}, '39.75030107--104.99949790000001-135.jpg': {'true_positive': 0, 'false_positive': 0, 'false_negative': 1}, '39.75030107--104.99949790000001-315.jpg': {'true_positive': 0, 'false_positive': 0, 'false_negative': 1}, '39.75034525--105.00116329999999-135.jpg': {'true_positive': 0, 'false_positive': 0, 'false_negative': 1}, '39.75034525--105.00116329999999-315.jpg': {'true_positive': 1, 'false_positive': 0, 'false_negative': 0}, '39.75035818--104.9941886-135.jpg': {'true_positive': 0, 'false_positive': 1, 'false_negative': 2}, '39.75035818--104.9941886-315.jpg': {'true_positive': 0, 'false_positive': 0, 'false_negative': 1}, '39.75037728--104.9837706-135.jpg': {'true_positive': 0, 'false_positive': 0, 'false_negative': 1}, '39.75037728--104.9837706-315.jpg': {'true_positive': 0, 'false_positive': 0, 'false_negative': 1}, '39.75038511--105.004993-135.jpg': {'true_positive': 1, 'false_positive': 0, 'false_negative': 0}, '39.75038511--105.004993-315.jpg': {'true_positive': 0, 'false_positive': 1, 'false_negative': 0}, '39.75038843--104.98024679999999-135.jpg': {'true_positive': 0, 'false_positive': 0, 'false_negative': 1}, '39.75039594--104.98718000000001-315.jpg': {'true_positive': 1, 'false_positive': 0, 'false_negative': 0}, '39.75039931--104.9889124-135.jpg': {'true_positive': 0, 'false_positive': 0, 'false_negative': 1}, '39.75039931--104.9889124-315.jpg': {'true_positive': 1, 'false_positive': 0, 'false_negative': 0}, '39.75044834--104.98190149999999-135.jpg': {'true_positive': 0, 'false_positive': 0, 'false_negative': 0}, '39.75045516--104.9993077-135.jpg': {'true_positive': 0, 'false_positive': 0, 'false_negative': 1}, '39.75045516--104.9993077-315.jpg': {'true_positive': 1, 'false_positive': 0, 'false_negative': 2}, '39.75048208--104.9922736-135.jpg': {'true_positive': 0, 'false_positive': 0, 'false_negative': 1}, '39.75049371--105.00096869999999-315.jpg': {'true_positive': 0, 'false_positive': 0, 'false_negative': 2}, '39.75050027--104.9852889-315.jpg': {'true_positive': 0, 'false_positive': 0, 'false_negative': 1}, '39.75050879--104.9939957-135.jpg': {'true_positive': 0, 'false_positive': 0, 'false_negative': 2}, '39.75050879--104.9939957-315.jpg': {'true_positive': 0, 'false_positive': 0, 'false_negative': 0}, '39.75051411--104.987389-135.jpg': {'true_positive': 1, 'false_positive': 0, 'false_negative': 0}, '39.75051411--104.987389-315.jpg': {'true_positive': 1, 'false_positive': 0, 'false_negative': 1}, '39.75054209--104.9800563-135.jpg': {'true_positive': 0, 'false_positive': 1, 'false_negative': 2}, '39.75054591--104.9869866-135.jpg': {'true_positive': 0, 'false_positive': 0, 'false_negative': 1}, '39.75054982--104.98871940000001-315.jpg': {'true_positive': 1, 'false_positive': 0, 'false_negative': 0}, '39.75055319--104.99047970000001-135.jpg': {'true_positive': 0, 'false_positive': 0, 'false_negative': 1}, '39.75055858--104.97834340000001-135.jpg': {'true_positive': 0, 'false_positive': 0, 'false_negative': 2}, '39.75055858--104.97834340000001-315.jpg': {'true_positive': 0, 'false_positive': 0, 'false_negative': 0}, '39.75056021--104.9956842-135.jpg': {'true_positive': 1, 'false_positive': 0, 'false_negative': 0}, '39.75056021--104.9956842-315.jpg': {'true_positive': 0, 'false_positive': 0, 'false_negative': 0}, '39.75058113--104.98228780000001-135.jpg': {'true_positive': 1, 'false_positive': 0, 'false_negative': 0}, '39.75058113--104.98228780000001-315.jpg': {'true_positive': 1, 'false_positive': 0, 'false_negative': 0}, '39.75060079--104.98171-135.jpg': {'true_positive': 0, 'false_positive': 0, 'false_negative': 1}, '39.75060659--104.9991155-315.jpg': {'true_positive': 1, 'false_positive': 0, 'false_negative': 0}, '39.75064966--104.985095-135.jpg': {'true_positive': 1, 'false_positive': 0, 'false_negative': 0}, '39.75064966--104.985095-315.jpg': {'true_positive': 0, 'false_positive': 0, 'false_negative': 1}, '39.75065872--104.9938022-315.jpg': {'true_positive': 0, 'false_positive': 0, 'false_negative': 2}, '39.75067796--104.98338429999998-135.jpg': {'true_positive': 0, 'false_positive': 0, 'false_negative': 1}, '39.75067796--104.98338429999998-315.jpg': {'true_positive': 0, 'false_positive': 1, 'false_negative': 0}, '39.75068003--105.00538370000001-135.jpg': {'true_positive': 0, 'false_positive': 0, 'false_negative': 2}, '39.75068003--105.00538370000001-315.jpg': {'true_positive': 2, 'false_positive': 0, 'false_negative': 0}, '39.75069487--104.97986509999998-135.jpg': {'true_positive': 0, 'false_positive': 0, 'false_negative': 1}, '39.75070049--104.98852649999999-315.jpg': {'true_positive': 1, 'false_positive': 1, 'false_negative': 1}, '39.75070207--104.9902855-135.jpg': {'true_positive': 0, 'false_positive': 0, 'false_negative': 1}, '39.75071027--104.97815130000001-135.jpg': {'true_positive': 0, 'false_positive': 1, 'false_negative': 0}, '39.75071261--104.99549270000001-135.jpg': {'true_positive': 1, 'false_positive': 0, 'false_negative': 0}, '39.75071261--104.99549270000001-315.jpg': {'true_positive': 0, 'false_positive': 0, 'false_negative': 1}, '39.75073549--104.9824778-135.jpg': {'true_positive': 1, 'false_positive': 0, 'false_negative': 0}, '39.75073549--104.9824778-315.jpg': {'true_positive': 1, 'false_positive': 0, 'false_negative': 0}, '39.75075301--104.99891940000002-315.jpg': {'true_positive': 0, 'false_positive': 0, 'false_negative': 3}, '39.75075372--104.9815189-135.jpg': {'true_positive': 0, 'false_positive': 0, 'false_negative': 1}, '39.75075886--104.987389-315.jpg': {'true_positive': 1, 'false_positive': 0, 'false_negative': 0}, '39.75078229--104.991887-135.jpg': {'true_positive': 1, 'false_positive': 0, 'false_negative': 0}, '39.75079159--105.00058020000002-315.jpg': {'true_positive': 0, 'false_positive': 0, 'false_negative': 1}, '39.75080865--104.99360870000001-135.jpg': {'true_positive': 0, 'false_positive': 1, 'false_negative': 0}, '39.75085116--104.98833370000001-315.jpg': {'true_positive': 0, 'false_positive': 0, 'false_negative': 1}, '39.75085129--104.99009140000001-135.jpg': {'true_positive': 1, 'false_positive': 0, 'false_negative': 0}, '39.75085129--104.99009140000001-315.jpg': {'true_positive': 0, 'false_positive': 0, 'false_negative': 1}, '39.75086502--104.99530120000001-135.jpg': {'true_positive': 0, 'false_positive': 0, 'false_negative': 1}, '39.75086502--104.99530120000001-315.jpg': {'true_positive': 1, 'false_positive': 0, 'false_negative': 0}, '39.75088985--104.98266770000001-315.jpg': {'true_positive': 1, 'false_positive': 0, 'false_negative': 0}, '39.75090008--104.9987237-315.jpg': {'true_positive': 0, 'false_positive': 0, 'false_negative': 1}, '39.75093054--104.9916922-315.jpg': {'true_positive': 0, 'false_positive': 0, 'false_negative': 1}, '39.75094052--105.000386-315.jpg': {'true_positive': 0, 'false_positive': 0, 'false_negative': 1}, '39.75097509--105.0057743-135.jpg': {'true_positive': 0, 'false_positive': 0, 'false_negative': 2}, '39.75097903--104.9829983-135.jpg': {'true_positive': 1, 'false_positive': 0, 'false_negative': 0}, '39.75097903--104.9829983-315.jpg': {'true_positive': 0, 'false_positive': 0, 'false_negative': 1}, '39.75099463--104.9864054-315.jpg': {'true_positive': 0, 'false_positive': 0, 'false_negative': 1}, '39.75100033--104.9898973-315.jpg': {'true_positive': 1, 'false_positive': 0, 'false_negative': 0}, '39.75100184--104.98814080000001-315.jpg': {'true_positive': 1, 'false_positive': 0, 'false_negative': 1}, '39.75100361--104.9873866-135.jpg': {'true_positive': 1, 'false_positive': 0, 'false_negative': 0}, '39.75101789--104.99511000000001-135.jpg': {'true_positive': 0, 'false_positive': 0, 'false_negative': 1}, '39.75104715--104.9985281-135.jpg': {'true_positive': 0, 'false_positive': 0, 'false_negative': 0}, '39.75104715--104.9985281-315.jpg': {'true_positive': 0, 'false_positive': 0, 'false_negative': 1}, '39.75108959--105.0001919-135.jpg': {'true_positive': 0, 'false_positive': 0, 'false_negative': 0}, '39.75108959--105.0001919-315.jpg': {'true_positive': 1, 'false_positive': 0, 'false_negative': 2}, '39.75112262--105.0059696-135.jpg': {'true_positive': 0, 'false_positive': 0, 'false_negative': 2}, '39.75112262--105.0059696-315.jpg': {'true_positive': 0, 'false_positive': 0, 'false_negative': 2}, '39.75112911--104.982805-135.jpg': {'true_positive': 0, 'false_positive': 1, 'false_negative': 0}, '39.75112911--104.982805-315.jpg': {'true_positive': 1, 'false_positive': 0, 'false_negative': 0}, '39.75115277--104.9879481-135.jpg': {'true_positive': 0, 'false_positive': 0, 'false_negative': 1}, '39.75115277--104.9879481-315.jpg': {'true_positive': 1, 'false_positive': 0, 'false_negative': 2}, '39.75116755--104.99491640000001-135.jpg': {'true_positive': 1, 'false_positive': 0, 'false_negative': 0}, '39.75116755--104.99491640000001-315.jpg': {'true_positive': 0, 'false_positive': 0, 'false_negative': 1}, '39.75119251--104.98305239999999-135.jpg': {'true_positive': 0, 'false_positive': 1, 'false_negative': 0}, '39.75119422--104.9983324-315.jpg': {'true_positive': 0, 'false_positive': 0, 'false_negative': 1}, '39.75122726--104.99130290000001-315.jpg': {'true_positive': 0, 'false_positive': 0, 'false_negative': 1}, '39.75123908--104.99999809999998-315.jpg': {'true_positive': 1, 'false_positive': 0, 'false_negative': 0}, '39.75124836--104.98738449999999-315.jpg': {'true_positive': 1, 'false_positive': 1, 'false_negative': 0}, '39.75125909--104.99302890000001-135.jpg': {'true_positive': 1, 'false_positive': 0, 'false_negative': 0}, '39.75129388--104.98601799999999-135.jpg': {'true_positive': 0, 'false_positive': 1, 'false_negative': 0}, '39.75129764--104.9895084-135.jpg': {'true_positive': 0, 'false_positive': 0, 'false_negative': 3}, '39.75129764--104.9895084-315.jpg': {'true_positive': 0, 'false_positive': 0, 'false_negative': 1}, '39.75134171--104.99813710000001-315.jpg': {'true_positive': 0, 'false_positive': 0, 'false_negative': 1}, '39.75137562--104.9911082-315.jpg': {'true_positive': 0, 'false_positive': 0, 'false_negative': 1}, '39.75138995--104.9998053-135.jpg': {'true_positive': 0, 'false_positive': 1, 'false_negative': 0}, '39.75140897--104.9928354-135.jpg': {'true_positive': 1, 'false_positive': 0, 'false_negative': 0}, '39.75140897--104.9928354-315.jpg': {'true_positive': 0, 'false_positive': 0, 'false_negative': 0}, '39.75149005--104.99794240000001-135.jpg': {'true_positive': 0, 'false_positive': 1, 'false_negative': 0}, '39.75149005--104.99794240000001-315.jpg': {'true_positive': 1, 'false_positive': 0, 'false_negative': 1}, '39.75149311--104.98738300000001-315.jpg': {'true_positive': 1, 'false_positive': 0, 'false_negative': 0}, '39.75152453--104.99091399999999-135.jpg': {'true_positive': 1, 'false_positive': 0, 'false_negative': 0}, '39.75152453--104.99091399999999-315.jpg': {'true_positive': 0, 'false_positive': 0, 'false_negative': 2}, '39.75160919--104.99432979999999-135.jpg': {'true_positive': 1, 'false_positive': 0, 'false_negative': 1}, '39.75163357--104.98363940000002-135.jpg': {'true_positive': 1, 'false_positive': 0, 'false_negative': 0}, '39.75163357--104.98363940000002-315.jpg': {'true_positive': 1, 'false_positive': 1, 'false_negative': 0}, '39.75163955--104.99774860000001-135.jpg': {'true_positive': 0, 'false_positive': 0, 'false_negative': 2}, '39.75163955--104.99774860000001-315.jpg': {'true_positive': 1, 'false_positive': 0, 'false_negative': 0}, '39.75167414--104.99072029999999-315.jpg': {'true_positive': 1, 'false_positive': 0, 'false_negative': 0}, '39.75170866--104.98374820000001-135.jpg': {'true_positive': 0, 'false_positive': 1, 'false_negative': 0}, '39.75170866--104.98374820000001-315.jpg': {'true_positive': 2, 'false_positive': 0, 'false_negative': 0}, '39.75173783--104.9873866-135.jpg': {'true_positive': 1, 'false_positive': 0, 'false_negative': 0}, '39.75173783--104.9873866-315.jpg': {'true_positive': 0, 'false_positive': 0, 'false_negative': 1}, '39.75174498--104.9854386-135.jpg': {'true_positive': 0, 'false_positive': 0, 'false_negative': 1}, '39.75175647--104.99413429999998-135.jpg': {'true_positive': 0, 'false_positive': 0, 'false_negative': 1}, '39.75178216--104.98383390000002-135.jpg': {'true_positive': 2, 'false_positive': 0, 'false_negative': 0}, '39.75178945--104.9975551-135.jpg': {'true_positive': 0, 'false_positive': 0, 'false_negative': 1}, '39.75185838--104.98355459999999-135.jpg': {'true_positive': 0, 'false_positive': 0, 'false_negative': 1}, '39.75189315--104.98873130000001-135.jpg': {'true_positive': 0, 'false_positive': 0, 'false_negative': 1}, '39.75189315--104.98873130000001-315.jpg': {'true_positive': 0, 'false_positive': 0, 'false_negative': 1}, '39.75189566--104.9852457-135.jpg': {'true_positive': 0, 'false_positive': 0, 'false_negative': 1}, '39.75189792--104.9869774-315.jpg': {'true_positive': 1, 'false_positive': 0, 'false_negative': 0}, '39.75193303--104.98402659999998-135.jpg': {'true_positive': 1, 'false_positive': 0, 'false_negative': 0}, '39.75193303--104.98402659999998-315.jpg': {'true_positive': 1, 'false_positive': 0, 'false_negative': 0}, '39.75193941--104.99736170000001-135.jpg': {'true_positive': 0, 'false_positive': 0, 'false_negative': 1}, '39.75197523--104.99033429999999-315.jpg': {'true_positive': 0, 'false_positive': 0, 'false_negative': 1}, '39.75198252--104.9873925-135.jpg': {'true_positive': 1, 'false_positive': 0, 'false_negative': 0}, '39.75198252--104.9873925-315.jpg': {'true_positive': 0, 'false_positive': 0, 'false_negative': 1}, '39.75200831--104.98336110000001-135.jpg': {'true_positive': 0, 'false_positive': 1, 'false_negative': 0}, '39.75202361--104.9816403-315.jpg': {'true_positive': 0, 'false_positive': 0, 'false_negative': 1}, '39.75204633--104.98505279999999-315.jpg': {'true_positive': 0, 'false_positive': 0, 'false_negative': 1}, '39.75214731--104.99884399999999-315.jpg': {'true_positive': 0, 'false_positive': 0, 'false_negative': 1}, '39.75215342--104.99186399999999-135.jpg': {'true_positive': 1, 'false_positive': 0, 'false_negative': 0}, '39.75217304--104.98144640000001-135.jpg': {'true_positive': 0, 'false_positive': 0, 'false_negative': 1}, '39.75217304--104.98144640000001-315.jpg': {'true_positive': 0, 'false_positive': 2, 'false_negative': 0}, '39.75219931--104.98659170000002-315.jpg': {'true_positive': 1, 'false_positive': 0, 'false_negative': 0}, '39.75220264--104.99355109999999-135.jpg': {'true_positive': 0, 'false_positive': 0, 'false_negative': 1}, '39.75220264--104.99355109999999-315.jpg': {'true_positive': 0, 'false_positive': 0, 'false_negative': 1}, '39.75223936--104.99697479999999-315.jpg': {'true_positive': 0, 'false_positive': 0, 'false_negative': 1}, '39.75227684--104.9899487-135.jpg': {'true_positive': 0, 'false_positive': 0, 'false_negative': 0}, '39.75230322--104.99167050000001-135.jpg': {'true_positive': 0, 'false_positive': 0, 'false_negative': 2}, '39.75230322--104.99167050000001-315.jpg': {'true_positive': 1, 'false_positive': 0, 'false_negative': 0}, '39.75233625--104.98814579999998-315.jpg': {'true_positive': 0, 'false_positive': 0, 'false_negative': 0}, '39.75234714--104.9863966-315.jpg': {'true_positive': 1, 'false_positive': 0, 'false_negative': 0}, '39.75234793--104.9846673-315.jpg': {'true_positive': 0, 'false_positive': 0, 'false_negative': 1}, '39.75235255--104.9933577-135.jpg': {'true_positive': 0, 'false_positive': 0, 'false_negative': 1}, '39.75235255--104.9933577-315.jpg': {'true_positive': 0, 'false_positive': 0, 'false_negative': 1}, '39.75238657--104.9846041-135.jpg': {'true_positive': 0, 'false_positive': 1, 'false_negative': 0}, '39.75238657--104.9846041-315.jpg': {'true_positive': 1, 'false_positive': 0, 'false_negative': 1}, '39.75238974--104.9967817-135.jpg': {'true_positive': 0, 'false_positive': 0, 'false_negative': 1}, '39.75238974--104.9967817-315.jpg': {'true_positive': 0, 'false_positive': 0, 'false_negative': 1}, '39.75242772--104.989756-135.jpg': {'true_positive': 0, 'false_positive': 1, 'false_negative': 0}, '39.75242772--104.989756-315.jpg': {'true_positive': 1, 'false_positive': 0, 'false_negative': 0}, '39.75245371--104.99147749999999-135.jpg': {'true_positive': 1, 'false_positive': 0, 'false_negative': 1}, '39.75245371--104.99147749999999-315.jpg': {'true_positive': 0, 'false_positive': 1, 'false_negative': 0}, '39.75247189--104.9874045-135.jpg': {'true_positive': 1, 'false_positive': 0, 'false_negative': 0}, '39.75247189--104.9874045-315.jpg': {'true_positive': 1, 'false_positive': 0, 'false_negative': 0}, '39.75247303--104.9810596-135.jpg': {'true_positive': 0, 'false_positive': 0, 'false_negative': 1}, '39.75247303--104.9810596-315.jpg': {'true_positive': 1, 'false_positive': 0, 'false_negative': 0}, '39.75253742--104.99658649999999-315.jpg': {'true_positive': 1, 'false_positive': 0, 'false_negative': 0}, '39.75271656--104.98741100000001-315.jpg': {'true_positive': 1, 'false_positive': 1, 'false_negative': 0}, '39.75283257--104.996196-315.jpg': {'true_positive': 0, 'false_positive': 0, 'false_negative': 1}, '39.75316601--104.9784342-315.jpg': {'true_positive': 0, 'false_positive': 0, 'false_negative': 0}, '39.75320592--104.9874068-135.jpg': {'true_positive': 1, 'false_positive': 0, 'false_negative': 0}, '39.75333508--104.9886013-315.jpg': {'true_positive': 1, 'false_positive': 0, 'false_negative': 1}, '39.75430592--104.9871419-135.jpg': {'true_positive': 1, 'false_positive': 0, 'false_negative': 0}, '39.75464121--104.99388200000001-315.jpg': {'true_positive': 0, 'false_positive': 0, 'false_negative': 1}, '39.75505882--104.9880773-135.jpg': {'true_positive': 1, 'false_positive': 0, 'false_negative': 2}, '39.75608767--104.9745971-135.jpg': {'true_positive': 0, 'false_positive': 0, 'false_negative': 1}, '39.75659675--104.98963390000002-315.jpg': {'true_positive': 1, 'false_positive': 0, 'false_negative': 0}, '39.75664902--104.9773584-315.jpg': {'true_positive': 1, 'false_positive': 0, 'false_negative': 0}, '39.75668782--104.9790507-135.jpg': {'true_positive': 0, 'false_positive': 0, 'false_negative': 0}, '39.75675048--104.98419390000001-315.jpg': {'true_positive': 0, 'false_positive': 0, 'false_negative': 1}}\n"
          ],
          "name": "stdout"
        }
      ]
    },
    {
      "cell_type": "code",
      "metadata": {
        "id": "cPZi0ShMx_t7",
        "colab_type": "code",
        "colab": {
          "base_uri": "https://localhost:8080/",
          "height": 34
        },
        "outputId": "5f708c5d-c18b-4531-ba27-f14b7dd0ee99"
      },
      "source": [
        "calc_mAP(images_dict2)"
      ],
      "execution_count": null,
      "outputs": [
        {
          "output_type": "execute_result",
          "data": {
            "text/plain": [
              "0.25012025012025013"
            ]
          },
          "metadata": {
            "tags": []
          },
          "execution_count": 27
        }
      ]
    },
    {
      "cell_type": "code",
      "metadata": {
        "id": "45UmF15TwpbO",
        "colab_type": "code",
        "colab": {}
      },
      "source": [
        "# import numpy as np\n",
        "# #NEW probably don't need to separate the class out\n",
        "# # img[0] is title list\n",
        "# # img[1] is label list\n",
        "# # img[2] is bbox list\n",
        "# # img[3] is score list\n",
        "# #gt_test_images_sort\n",
        "# #pred_test_images_sort\n",
        "\n",
        "# # this is for class 0 (lamp), need to calcualte for each image\n",
        "# # step 1.1 for one test_img, one pred_img\n",
        "# #     if pred_img=[], len(test_img[1]) = num FN\n",
        "\n",
        "# # step 1.2 calculate all the ioU and need to take into consideration of class.\n",
        "# #     for all class lamp; calcualte iou, assign TP and FP\n",
        "\n",
        "# # step 1.3 for different class all FN\n",
        "\n",
        "# # img_results (dict): dictionary formatted like:\n",
        "# #             {'img_id1': {'true_pos': int, 'false_pos': int, 'false_neg': int},\n",
        "# #             'img_id2': ...}\n",
        "\n",
        "# img_name='39.74880082--104.9873972-135.jpg'\n",
        "# cls=0 #lamp calss\n",
        "# clsA=1\n",
        "# clsB=2\n",
        "# tp=0\n",
        "# fp=0\n",
        "# fn=0\n",
        "# for i in range(len(gt_test_images_sort)):\n",
        "#   if gt_test_images_sort[i][0] == img_name:\n",
        "#     ind = i\n",
        "#     break\n",
        "# print('ind',ind)\n",
        "\n",
        "# gt_img_ind = gt_test_images_sort[ind]\n",
        "# pr_img_ind = pred_test_images_sort[ind]\n",
        "\n",
        "# #if no prediction at all\n",
        "# if pr_img_ind[1] ==[]:\n",
        "#   fn = gt_img_ind[1].count(cls)\n",
        "#   print( tp, fp, fn)\n",
        "#   #break\n",
        "# #if there is prediction\n",
        "# else:\n",
        "#   #if the prediction is NOT in cls\n",
        "#   for label in pr_img_ind[1]:\n",
        "#     if label = cls:\n",
        "#       break\n",
        "#     fn = gt_img_ind[1].count(cls)\n",
        "#   print( tp, fp, fn)\n",
        "#   #break\n",
        "\n",
        "#   #do a filter for ground truth image list only contain 0 class\n",
        "#   #gt_test_images_sort_filter only contain 0 class\n",
        "#   gt_test_images_sort_filter = filter_bboxes(gt_test_images_sort[ind],cls)\n",
        "\n",
        "#   #calcualte iou for all combination:  \n",
        "#   for igb, gt_bbox in enumerate(gt_test_images_sort_filter[2]):   #igb is index\n",
        "#       for ipb, pred_bbox in  enumerate(pred_test_images_sort[ind][2]):  #ipb is index\n",
        "#         iou = calc_iou(gt_bbox, pred_bbox)\n",
        "#         if iou > 0.5:\n",
        "#           # prediction are in the same class\n",
        "#           if pred_test_images_sort[ind][1][ipb]==cls:\n",
        "#             tp = tp + 1\n",
        "#           #prediction are in the different class\n",
        "#           else:\n",
        "#             fn = fn + 1\n",
        "#         else:  #if iou<0.5\n",
        "#           # prediction are in the same class\n",
        "#           if pred_test_images_sort[ind][1][ipb]==cls:\n",
        "#             fp = fp+1\n",
        "#           #prediction are in the different class\n",
        "#           else: \n",
        "#             fn=fn+1"
      ],
      "execution_count": null,
      "outputs": []
    },
    {
      "cell_type": "markdown",
      "metadata": {
        "id": "D5X8YMrLVmSw",
        "colab_type": "text"
      },
      "source": [
        "# Use cocoEval"
      ]
    },
    {
      "cell_type": "code",
      "metadata": {
        "id": "BVJ3V8YlVq9S",
        "colab_type": "code",
        "colab": {}
      },
      "source": [
        "# %matplotlib inline\n",
        "# import matplotlib.pyplot as plt\n",
        "# from pycocotools.coco import COCO\n",
        "# from pycocotools.cocoeval import COCOeval\n",
        "# import numpy as np\n",
        "# import skimage.io as io\n",
        "# import pylab\n",
        "# pylab.rcParams['figure.figsize'] = (10.0, 8.0)"
      ],
      "execution_count": null,
      "outputs": []
    },
    {
      "cell_type": "code",
      "metadata": {
        "id": "WOI_7P2tVyct",
        "colab_type": "code",
        "colab": {
          "base_uri": "https://localhost:8080/",
          "height": 34
        },
        "outputId": "2af59a86-5948-4620-bb73-06a9e4f1b9ca"
      },
      "source": [
        "# annType = ['segm','bbox','keypoints']\n",
        "# annType = annType[1]      #specify type here\n",
        "# prefix = 'person_keypoints' if annType=='keypoints' else 'instances'\n",
        "# print('Running demo for *%s* results.'%annType)"
      ],
      "execution_count": null,
      "outputs": [
        {
          "output_type": "stream",
          "text": [
            "Running demo for *bbox* results.\n"
          ],
          "name": "stdout"
        }
      ]
    },
    {
      "cell_type": "code",
      "metadata": {
        "id": "AIWni7UxWKaW",
        "colab_type": "code",
        "colab": {
          "base_uri": "https://localhost:8080/",
          "height": 34
        },
        "outputId": "52ad1a9a-fc2e-4230-a548-e7e3da8c7f3b"
      },
      "source": [
        "# %mkdir Testdir/Annotations\n",
        "\n",
        "# %cp /content/output.json /content/Testdir/Annotations/\n",
        "\n",
        "# annFile = '/content/Testdir/Annotations/output.json'\n",
        "# cocoGt=COCO(annFile)"
      ],
      "execution_count": null,
      "outputs": [
        {
          "output_type": "stream",
          "text": [
            "mkdir: cannot create directory ‘Testdir/Annotations’: File exists\n"
          ],
          "name": "stdout"
        }
      ]
    },
    {
      "cell_type": "code",
      "metadata": {
        "id": "53RHCByYcsIu",
        "colab_type": "code",
        "colab": {}
      },
      "source": [
        "# pred_test_images_1 = sorted(pred_test_images)\n",
        "# pred_test_images_1[0]"
      ],
      "execution_count": null,
      "outputs": []
    },
    {
      "cell_type": "code",
      "metadata": {
        "id": "H8he1ktKMlXm",
        "colab_type": "code",
        "colab": {
          "base_uri": "https://localhost:8080/",
          "height": 34
        },
        "outputId": "5a2c320a-21a1-48c3-9c97-672372f4448f"
      },
      "source": [
        "# # resfile change to another format\n",
        "# #[{\"image_id\": 2007000033, \"category_id\": 2, \"bbox\": [1, 265, 450, 95], \"score\": 1.0},\n",
        "# #{\"image_id\": 2007000033, \"category_id\": 1, \"bbox\": [8.0, 109.0, 492.0, 153.0], \"score\": 0.5}]\n",
        "\n",
        "# pred_list=[]\n",
        "# pred_dict={}\n",
        "# for i in range(len(pred_test_images_1)):\n",
        "#   cnt=0\n",
        "#   pred_dict[\"image_id\"]=cnt\n",
        "#   cnt+=1\n",
        "#   #pred_test_images_1[i] is a list of list\n",
        "#   #j is one bbox\n",
        "#   for j in pred_test_images_1[i][2]:\n",
        "#     ele_index = pred_test_images_1[i][2].index(j)\n",
        "#     pred_dict['category_id'] = pred_test_images_1[i][1][ele_index]\n",
        "#     xmin = j[0] -1\n",
        "#     ymin = j[1] -1\n",
        "#     xmax = j[2]\n",
        "#     ymax = j[3]\n",
        "#     width = xmax - xmin\n",
        "#     height = ymax - ymin\n",
        "#     pred_dict['bbox']= [xmin, ymin, width, height]\n",
        "#     pred_dict['score']= pred_test_images_1[i][3][ele_index]\n",
        "#   pred_list.append(pred_dict)\n",
        "# len(pred_list)"
      ],
      "execution_count": null,
      "outputs": [
        {
          "output_type": "execute_result",
          "data": {
            "text/plain": [
              "351"
            ]
          },
          "metadata": {
            "tags": []
          },
          "execution_count": 15
        }
      ]
    },
    {
      "cell_type": "code",
      "metadata": {
        "id": "v0GKEgr5QAPn",
        "colab_type": "code",
        "colab": {}
      },
      "source": [
        "# pred_list[:1]"
      ],
      "execution_count": null,
      "outputs": []
    },
    {
      "cell_type": "code",
      "metadata": {
        "id": "5W69rzDuP_gF",
        "colab_type": "code",
        "colab": {}
      },
      "source": [
        "# import json\n",
        "# with open('predict_output.json', 'w') as fp:\n",
        "#     json.dump(pred_list, fp,indent=None, sort_keys=False)"
      ],
      "execution_count": null,
      "outputs": []
    },
    {
      "cell_type": "code",
      "metadata": {
        "id": "9Gvnf2fUQSzr",
        "colab_type": "code",
        "colab": {}
      },
      "source": [
        "# resFile = '/content/predict_output.json'\n",
        "# cocoDt=cocoGt.loadRes(resFile)"
      ],
      "execution_count": null,
      "outputs": []
    },
    {
      "cell_type": "code",
      "metadata": {
        "id": "jEj_n_8rQYQ4",
        "colab_type": "code",
        "colab": {}
      },
      "source": [
        "# imgIds=sorted(cocoGt.getImgIds())"
      ],
      "execution_count": null,
      "outputs": []
    },
    {
      "cell_type": "code",
      "metadata": {
        "id": "GYO5XiE4Qowj",
        "colab_type": "code",
        "colab": {}
      },
      "source": [
        "# cocoEval = COCOeval(cocoGt,cocoDt,annType)\n",
        "# cocoEval.params.imgIds  = imgIds\n",
        "# cocoEval.evaluate()\n",
        "# cocoEval.accumulate()\n",
        "# cocoEval.summarize()"
      ],
      "execution_count": null,
      "outputs": []
    },
    {
      "cell_type": "code",
      "metadata": {
        "id": "9XvphMKLfNnU",
        "colab_type": "code",
        "colab": {}
      },
      "source": [
        "# cocoEval = COCOeval(cocoGt,cocoDt,annType)\n",
        "# cocoEval.params.imgIds  = imgIds\n",
        "# cocoEval.params.catIds = [2] # 1 stands for the 'person' class, you can increase or decrease the category as needed\n",
        "# cocoEval.evaluate()\n",
        "# cocoEval.accumulate()\n",
        "# cocoEval.summarize()"
      ],
      "execution_count": null,
      "outputs": []
    },
    {
      "cell_type": "markdown",
      "metadata": {
        "id": "W3LnYZvuA6Oj",
        "colab_type": "text"
      },
      "source": [
        "# Calculate Metrics at single threshold (score cutoff pt =0.1)\n"
      ]
    },
    {
      "cell_type": "code",
      "metadata": {
        "id": "vZLa0nqKBAYS",
        "colab_type": "code",
        "colab": {}
      },
      "source": [
        "#Here this function process individual xml is easier\n",
        "import xml.etree.ElementTree as ET\n",
        "\n",
        "def read_content(xml_file: str):\n",
        "  tree = ET.parse(xml_file)\n",
        "  root = tree.getroot()\n",
        "  list_with_all_boxes = []\n",
        "  list_with_all_labels = []\n",
        "  for boxes in root.iter('object'):\n",
        "      filename = root.find('filename').text\n",
        "      label = boxes.find('name').text\n",
        "      ymin, xmin, ymax, xmax = None, None, None, None\n",
        "      for box in boxes.findall(\"bndbox\"):\n",
        "          ymin = int(box.find(\"ymin\").text)\n",
        "          xmin = int(box.find(\"xmin\").text)\n",
        "          ymax = int(box.find(\"ymax\").text)\n",
        "          xmax = int(box.find(\"xmax\").text)\n",
        "      list_with_single_boxes = [xmin, ymin, xmax, ymax]\n",
        "      list_with_all_labels.append(label)\n",
        "      list_with_all_boxes.append(list_with_single_boxes)\n",
        "  return filename, list_with_all_labels,list_with_all_boxes"
      ],
      "execution_count": null,
      "outputs": []
    },
    {
      "cell_type": "markdown",
      "metadata": {
        "id": "HGJaTkCV93R-",
        "colab_type": "text"
      },
      "source": [
        ""
      ]
    },
    {
      "cell_type": "code",
      "metadata": {
        "id": "3YMMHaWpK9bP",
        "colab_type": "code",
        "colab": {
          "base_uri": "https://localhost:8080/",
          "height": 105
        },
        "outputId": "5d4738cc-3b28-4524-ebe6-18a793a225d3"
      },
      "source": [
        "#Get the test image labels from xml to list of list format. List name: gt_test_images\n",
        "gt_test_images = []\n",
        "from glob import glob\n",
        "%cd /content/Testdir/annotations\n",
        "for file_path in glob('/content/Testdir/annotations/*.xml'):\n",
        "  single_image =[]\n",
        "  image_filename = os.path.basename(file_path)  \n",
        "  filename,labels,boxes = read_content(image_filename)\n",
        "  single_image.append(filename)\n",
        "  single_image.append(labels)\n",
        "  single_image.append(boxes)\n",
        "  gt_test_images.append(single_image)\n",
        "print(gt_test_images[1])\n",
        "#len(gt_test_images)\n",
        "\n",
        "#go back to original folder\n",
        "%cd ..\n",
        "%cd ..\n"
      ],
      "execution_count": null,
      "outputs": [
        {
          "output_type": "stream",
          "text": [
            "/content/Testdir/annotations\n",
            "['39.74887806--104.9821726-135.jpg', ['lamp', 'lamp', 'fh'], [[301, 272, 323, 473], [511, 269, 551, 444], [424, 391, 432, 406]]]\n",
            "/content/Testdir\n",
            "/content\n"
          ],
          "name": "stdout"
        }
      ]
    },
    {
      "cell_type": "code",
      "metadata": {
        "id": "6W2enPQWWG1I",
        "colab_type": "code",
        "colab": {}
      },
      "source": [
        "#sort the pred_test_images and gt_test_images, so that the file name is in the same index in each list \n",
        "# def Sort(sub_li): \n",
        "#     sub_li.sort(key = lambda x: x[0]) \n",
        "#     return sub_li \n",
        "\n",
        "# sort_pred_test_images = Sort(pred_test_images)\n",
        "# sort_gt_test_images = Sort(gt_test_images)\n",
        "# print('below is a test for element 20 in both list')\n",
        "# print(sort_pred_test_images[20])\n",
        "# print(sort_gt_test_images[20])"
      ],
      "execution_count": null,
      "outputs": []
    },
    {
      "cell_type": "code",
      "metadata": {
        "id": "I88s2pusTkQ0",
        "colab_type": "code",
        "colab": {
          "base_uri": "https://localhost:8080/",
          "height": 71
        },
        "outputId": "0ebc7e95-9193-4af2-c034-3405b8b95f9d"
      },
      "source": [
        "#example\n",
        "print('predict image exmaple: ',pred_test_images[1])\n",
        "print('ground truth image example: ', gt_test_images[1])"
      ],
      "execution_count": null,
      "outputs": [
        {
          "output_type": "stream",
          "text": [
            "predict image exmaple:  ['39.75238974--104.9967817-135.jpg', [0], [[366.3421325683594, 187.24301147460938, 447.1222229003906, 418.2540283203125]], [0.9672479629516602]]\n",
            "ground truth image example:  ['39.74887806--104.9821726-135.jpg', ['lamp', 'lamp', 'fh'], [[301, 272, 323, 473], [511, 269, 551, 444], [424, 391, 432, 406]]]\n"
          ],
          "name": "stdout"
        }
      ]
    },
    {
      "cell_type": "code",
      "metadata": {
        "id": "m2VKgG0DW4w2",
        "colab_type": "code",
        "colab": {
          "base_uri": "https://localhost:8080/",
          "height": 136
        },
        "outputId": "dd6614ce-fbc1-4c4d-8582-7484fc62f799"
      },
      "source": [
        "#convert ground truth image list labels from labm, sign-h, fh to 0,1,2\n",
        "for i in range(len(gt_test_images)):\n",
        "  for index,label in enumerate(gt_test_images[i][1]):\n",
        "    if label == 'lamp':\n",
        "      gt_test_images[i][1][index] = 0\n",
        "    if label == 'sign-h':\n",
        "      gt_test_images[i][1][index] = 1\n",
        "    if label == 'fh':\n",
        "      gt_test_images[i][1][index] = 2\n",
        "#example\n",
        "gt_test_images[2]\n",
        "pred_test_images[1]"
      ],
      "execution_count": null,
      "outputs": [
        {
          "output_type": "execute_result",
          "data": {
            "text/plain": [
              "['39.75238974--104.9967817-135.jpg',\n",
              " [0],\n",
              " [[366.3421325683594,\n",
              "   187.24301147460938,\n",
              "   447.1222229003906,\n",
              "   418.2540283203125]],\n",
              " [0.9672479629516602]]"
            ]
          },
          "metadata": {
            "tags": []
          },
          "execution_count": 113
        }
      ]
    },
    {
      "cell_type": "code",
      "metadata": {
        "id": "d6uAL25aLu0b",
        "colab_type": "code",
        "colab": {}
      },
      "source": [
        "def sep_class_w_bbox(image_list):\n",
        "  images_label_0=[]\n",
        "  images_label_1=[]\n",
        "  images_label_2=[]\n",
        "  for single_image in image_list:\n",
        "    if len(single_image)==4: #test pred has score\n",
        "      image_label_0 = []  #each image\n",
        "      image_label_1 = []\n",
        "      image_label_2 = []  \n",
        "      bbox_label_0 = []\n",
        "      bbox_label_1 = []\n",
        "      bbox_label_2 = []\n",
        "      score_label_0 = []\n",
        "      score_label_1 = []\n",
        "      score_label_2 = []\n",
        "      label_num = len(single_image[1])\n",
        "      for i in range(label_num):\n",
        "        if single_image[1][i] == 0 :\n",
        "          bbox_label_0.append(single_image[2][i])\n",
        "          score_label_0.append(single_image[3][i])\n",
        "        if single_image[1][i] == 1 :\n",
        "          bbox_label_1.append(single_image[2][i])\n",
        "          score_label_1.append(single_image[3][i])\n",
        "        if single_image[1][i] == 2 :\n",
        "          bbox_label_2.append(single_image[2][i])\n",
        "          score_label_2.append(single_image[3][i])\n",
        "      if bbox_label_0 != []:\n",
        "        image_label_0.append(single_image[0])\n",
        "        image_label_0.append(bbox_label_0)\n",
        "        image_label_0.append(score_label_0)\n",
        "      if bbox_label_1 !=[]:\n",
        "        image_label_1.append(single_image[0])\n",
        "        image_label_1.append(bbox_label_1)\n",
        "        image_label_1.append(score_label_1)\n",
        "      if bbox_label_2 !=[]:\n",
        "        image_label_2.append(single_image[0])\n",
        "        image_label_2.append(bbox_label_2)\n",
        "        image_label_2.append(score_label_2)\n",
        "      \n",
        "      images_label_0.append(image_label_0)\n",
        "      images_label_1.append(image_label_1)\n",
        "      images_label_2.append(image_label_2)\n",
        "    else:     #len(single_image)=3, ground truth images no test score\n",
        "      image_label_0 = []  #each image\n",
        "      image_label_1 = []\n",
        "      image_label_2 = []  \n",
        "      bbox_label_0 = []\n",
        "      bbox_label_1 = []\n",
        "      bbox_label_2 = []\n",
        "      label_num = len(single_image[1])\n",
        "      for i in range(label_num):\n",
        "        if single_image[1][i] == 0 :\n",
        "          bbox_label_0.append(single_image[2][i])\n",
        "        if single_image[1][i] == 1 :\n",
        "          bbox_label_1.append(single_image[2][i])\n",
        "        if single_image[1][i] == 2 :\n",
        "          bbox_label_2.append(single_image[2][i])\n",
        "      if bbox_label_0 != []:\n",
        "        image_label_0.append(single_image[0])\n",
        "        image_label_0.append(bbox_label_0)\n",
        "      if bbox_label_1 !=[]:\n",
        "        image_label_1.append(single_image[0])\n",
        "        image_label_1.append(bbox_label_1)\n",
        "      if bbox_label_2 !=[]:\n",
        "        image_label_2.append(single_image[0])\n",
        "        image_label_2.append(bbox_label_2)\n",
        "      \n",
        "      images_label_0.append(image_label_0)\n",
        "      images_label_1.append(image_label_1)\n",
        "      images_label_2.append(image_label_2) \n",
        "\n",
        "  #remove empty list form the list\n",
        "  images_label_0 = [ele for ele in images_label_0 if ele != []] \n",
        "  images_label_1 = [ele for ele in images_label_1 if ele != []] \n",
        "  images_label_2 = [ele for ele in images_label_2 if ele != []]\n",
        "  return[images_label_0,images_label_1,images_label_2]"
      ],
      "execution_count": null,
      "outputs": []
    },
    {
      "cell_type": "code",
      "metadata": {
        "id": "mT4C2GU8GK6c",
        "colab_type": "code",
        "colab": {
          "base_uri": "https://localhost:8080/",
          "height": 221
        },
        "outputId": "a27f53f3-0772-4e3c-bdd8-683b6463cb46"
      },
      "source": [
        "pred_sep_class = sep_class_w_bbox(pred_test_images)\n",
        "pred_lamp_w_bbox = pred_sep_class[0]\n",
        "pred_signh_w_bbox = pred_sep_class[1]  #empty since threshold=0.1\n",
        "pred_fh_w_bbox = pred_sep_class[2] #empty since threshold=0.1\n",
        "\n",
        "print('predicted lamp with bbox length is', len(pred_lamp_w_bbox))\n",
        "print('predicted signh with bbox length is', len(pred_signh_w_bbox))\n",
        "print('predicted fh with bbox length is', len(pred_fh_w_bbox))\n",
        "\n",
        "gt_sep_class = sep_class_w_bbox(gt_test_images)\n",
        "gt_lamp_w_bbox = gt_sep_class[0]\n",
        "gt_signh_w_bbox = gt_sep_class[1]\n",
        "gt_fh_w_bbox = gt_sep_class[2]\n",
        "\n",
        "print('ground truth lamp with bbox length is', len(gt_lamp_w_bbox))\n",
        "print('ground truth signh with bbox length is', len(gt_signh_w_bbox))\n",
        "print('ground truth fh with bbox length is', len(gt_fh_w_bbox))\n",
        "pred_lamp_w_bbox[0]"
      ],
      "execution_count": null,
      "outputs": [
        {
          "output_type": "stream",
          "text": [
            "predicted lamp with bbox length is 174\n",
            "predicted signh with bbox length is 0\n",
            "predicted fh with bbox length is 16\n",
            "ground truth lamp with bbox length is 323\n",
            "ground truth signh with bbox length is 14\n",
            "ground truth fh with bbox length is 52\n"
          ],
          "name": "stdout"
        },
        {
          "output_type": "execute_result",
          "data": {
            "text/plain": [
              "['39.75238974--104.9967817-135.jpg',\n",
              " [[366.3421325683594,\n",
              "   187.24301147460938,\n",
              "   447.1222229003906,\n",
              "   418.2540283203125]],\n",
              " [0.9672479629516602]]"
            ]
          },
          "metadata": {
            "tags": []
          },
          "execution_count": 115
        }
      ]
    },
    {
      "cell_type": "code",
      "metadata": {
        "id": "sEEGpj7SH5yV",
        "colab_type": "code",
        "colab": {
          "base_uri": "https://localhost:8080/",
          "height": 306
        },
        "outputId": "f5cb3ff7-cf9b-4bc8-c5c4-e877ea442d69"
      },
      "source": [
        "#check the image for fire hydrant\n",
        "for i in pred_fh_w_bbox:\n",
        "  print(i[0])"
      ],
      "execution_count": null,
      "outputs": [
        {
          "output_type": "stream",
          "text": [
            "39.74879542--105.001427-315.jpg\n",
            "39.74950059--104.97969099999999-135.jpg\n",
            "39.75115277--104.9879481-135.jpg\n",
            "39.75009683--104.98756750000001-315.jpg\n",
            "39.75025541--104.9908683-135.jpg\n",
            "39.74964685--104.9881478-135.jpg\n",
            "39.74902595--104.98724250000001-135.jpg\n",
            "39.75050879--104.9939957-315.jpg\n",
            "39.75116755--104.99491640000001-315.jpg\n",
            "39.74955921--104.9830703-135.jpg\n",
            "39.75045516--104.9993077-135.jpg\n",
            "39.75039931--104.9889124-135.jpg\n",
            "39.74960256--105.00213590000001-315.jpg\n",
            "39.74920428--104.9904635-135.jpg\n",
            "39.75045516--104.9993077-315.jpg\n",
            "39.75149005--104.99794240000001-135.jpg\n",
            "39.75064966--104.985095-135.jpg\n"
          ],
          "name": "stdout"
        }
      ]
    },
    {
      "cell_type": "code",
      "metadata": {
        "id": "NTIBTkgnD9h6",
        "colab_type": "code",
        "colab": {}
      },
      "source": [
        "#calculate iou for one gt_box and one pred_box\n",
        "def calc_iou( gt_bbox, pred_bbox):\n",
        "    x_topleft_gt, y_topleft_gt, x_bottomright_gt, y_bottomright_gt= gt_bbox\n",
        "    x_topleft_p, y_topleft_p, x_bottomright_p, y_bottomright_p= pred_bbox\n",
        "    \n",
        "    if (x_topleft_gt > x_bottomright_gt) or (y_topleft_gt> y_bottomright_gt):\n",
        "        raise AssertionError(\"Ground Truth Bounding Box is not correct\")\n",
        "    if (x_topleft_p > x_bottomright_p) or (y_topleft_p> y_bottomright_p):\n",
        "        raise AssertionError(\"Predicted Bounding Box is not correct\",x_topleft_p, x_bottomright_p,y_topleft_p,y_bottomright_gt)        \n",
        "         \n",
        "    #if the GT bbox and predcited BBox do not overlap then iou=0\n",
        "    if(x_bottomright_gt< x_topleft_p): # If bottom right of x-coordinate  GT  bbox is less than or above the top left of x coordinate of  the predicted BBox      \n",
        "        return 0.0\n",
        "    if(y_bottomright_gt< y_topleft_p):  # If bottom right of y-coordinate  GT  bbox is less than or above the top left of y coordinate of  the predicted BBox       \n",
        "        return 0.0\n",
        "    if(x_topleft_gt> x_bottomright_p): # If bottom right of x-coordinate  GT  bbox is greater than or below the bottom right  of x coordinate of  the predcited BBox       \n",
        "        return 0.0\n",
        "    if(y_topleft_gt> y_bottomright_p): # If bottom right of y-coordinate  GT  bbox is greater than or below the bottom right  of y coordinate of  the predcited BBox       \n",
        "        return 0.0\n",
        "        \n",
        "    GT_bbox_area = (x_bottomright_gt -  x_topleft_gt + 1) * (  y_bottomright_gt -y_topleft_gt + 1)\n",
        "    Pred_bbox_area =(x_bottomright_p - x_topleft_p + 1 ) * ( y_bottomright_p -y_topleft_p + 1)\n",
        "    \n",
        "    x_top_left =np.max([x_topleft_gt, x_topleft_p])\n",
        "    y_top_left = np.max([y_topleft_gt, y_topleft_p])\n",
        "    x_bottom_right = np.min([x_bottomright_gt, x_bottomright_p])\n",
        "    y_bottom_right = np.min([y_bottomright_gt, y_bottomright_p])\n",
        "    \n",
        "    intersection_area = (x_bottom_right- x_top_left + 1) * (y_bottom_right-y_top_left  + 1)   \n",
        "    union_area = (GT_bbox_area + Pred_bbox_area - intersection_area)  \n",
        "    return intersection_area/union_area"
      ],
      "execution_count": null,
      "outputs": []
    },
    {
      "cell_type": "code",
      "metadata": {
        "id": "PN-dxVZBcDyD",
        "colab_type": "code",
        "colab": {}
      },
      "source": [
        "def get_single_image_results(gt_boxes, pred_boxes, iou_thr):\n",
        "    \"\"\"Calculates number of true_pos, false_pos, false_neg from single batch of boxes.\n",
        "    Args:\n",
        "        gt_boxes (list of list of floats): list of locations of ground truth objects as [xmin, ymin, xmax, ymax]\n",
        "        pred_boxes (dict): dict of dicts of 'boxes' (formatted like `gt_boxes`) and 'scores' iou_thr (float): value of IoU to consider as threshold for a\n",
        "        true prediction.\n",
        "    Returns:\n",
        "        dict: true positives (int), false positives (int), false negatives (int)\n",
        "    \"\"\"\n",
        "    all_pred_indices= range(len(pred_boxes))\n",
        "    all_gt_indices=range(len(gt_boxes))\n",
        "    if len(all_pred_indices)==0:\n",
        "        tp=0\n",
        "        fp=0\n",
        "        fn=0\n",
        "        return {'true_positive':tp, 'false_positive':fp, 'false_negative':fn}\n",
        "    if len(all_gt_indices)==0:\n",
        "        tp=0\n",
        "        fp=0\n",
        "        fn=0\n",
        "        return {'true_positive':tp, 'false_positive':fp, 'false_negative':fn}\n",
        "    \n",
        "    gt_idx_thr=[]\n",
        "    pred_idx_thr=[]\n",
        "    ious=[]\n",
        "    for ipb, pred_box in enumerate(pred_boxes):\n",
        "        for igb, gt_box in enumerate(gt_boxes):\n",
        "            iou= calc_iou(gt_box, pred_box)\n",
        "            \n",
        "            if iou >iou_thr:\n",
        "                gt_idx_thr.append(igb)\n",
        "                pred_idx_thr.append(ipb)\n",
        "                ious.append(iou)\n",
        "    iou_sort = np.argsort(ious)[::1]\n",
        "    if len(iou_sort)==0:\n",
        "        tp=0\n",
        "        fp=0\n",
        "        fn=0\n",
        "        return {'true_positive':tp, 'false_positive':fp, 'false_negative':fn}\n",
        "    else:\n",
        "        gt_match_idx=[]\n",
        "        pred_match_idx=[]\n",
        "        for idx in iou_sort:\n",
        "            gt_idx=gt_idx_thr[idx]\n",
        "            pr_idx= pred_idx_thr[idx]\n",
        "            # If the boxes are unmatched, add them to matches\n",
        "            if(gt_idx not in gt_match_idx) and (pr_idx not in pred_match_idx):\n",
        "                gt_match_idx.append(gt_idx)\n",
        "                pred_match_idx.append(pr_idx)\n",
        "        tp= len(gt_match_idx)\n",
        "        fp= len(pred_boxes) - len(pred_match_idx)\n",
        "        fn = len(gt_boxes) - len(gt_match_idx)\n",
        "    return {'true_positive': tp, 'false_positive': fp, 'false_negative': fn}\n"
      ],
      "execution_count": null,
      "outputs": []
    },
    {
      "cell_type": "code",
      "metadata": {
        "id": "l71Ns7PFfomc",
        "colab_type": "code",
        "colab": {}
      },
      "source": [
        "#analyze lamp class\n",
        "img_results={}\n",
        "for i in gt_lamp_w_bbox:\n",
        "  for j in pred_lamp_w_bbox:\n",
        "    if i[0]==j[0]:\n",
        "      img_results[i[0]]= get_single_image_results(i[1], j[1], 0.5) #here 0.5 is iou threshold\n",
        "#img_results\n",
        "#{'39.74880082--104.9873972-135.jpg': {'false_negative': 2,'false_positive': 2, 'true_positive': 1},'39.74887857--104.98743789999999-315.jpg': {'false_negative': 1,\n",
        "#  'false_positive': 0, 'true_positive': 1},}"
      ],
      "execution_count": null,
      "outputs": []
    },
    {
      "cell_type": "code",
      "metadata": {
        "id": "pjHJQVo7zfHR",
        "colab_type": "code",
        "colab": {}
      },
      "source": [
        "def calc_precision_recall(image_results):\n",
        "    \"\"\"Calculates precision and recall from the set of images\n",
        "    Args:\n",
        "        img_results (dict): dictionary formatted like:\n",
        "            {\n",
        "                'img_id1': {'true_pos': int, 'false_pos': int, 'false_neg': int},\n",
        "                'img_id2': ...\n",
        "                ...\n",
        "            }\n",
        "    Returns:\n",
        "        tuple: of floats of (precision, recall)\n",
        "    \"\"\"\n",
        "    true_positive=0\n",
        "    false_positive=0\n",
        "    false_negative=0\n",
        "    for img_id, res in image_results.items():\n",
        "        true_positive +=res['true_positive']\n",
        "        false_positive += res['false_positive']\n",
        "        false_negative += res['false_negative']\n",
        "        try:\n",
        "            precision = true_positive/(true_positive+ false_positive)\n",
        "            #print('TP',true_positive)\n",
        "            #print('FP',false_positive)\n",
        "        except ZeroDivisionError:\n",
        "            precision=0.0\n",
        "        try:\n",
        "            recall = true_positive/(true_positive + false_negative)\n",
        "            #print('FN',false_negative)\n",
        "        except ZeroDivisionError:\n",
        "            recall=0.0\n",
        "    return (precision, recall)"
      ],
      "execution_count": null,
      "outputs": []
    },
    {
      "cell_type": "code",
      "metadata": {
        "id": "1xD2Ox6smTaW",
        "colab_type": "code",
        "colab": {
          "base_uri": "https://localhost:8080/",
          "height": 34
        },
        "outputId": "458db5f2-e165-4e2b-f6f8-1c1da365d3d4"
      },
      "source": [
        "#this one is the overall precision recall for bunch of images\n",
        "#this function does not generate precision recall curve\n",
        "calc_precision_recall(img_results)\n",
        "#precision should be ~0.5? "
      ],
      "execution_count": null,
      "outputs": [
        {
          "output_type": "execute_result",
          "data": {
            "text/plain": [
              "(0.7559523809523809, 0.7383720930232558)"
            ]
          },
          "metadata": {
            "tags": []
          },
          "execution_count": 50
        }
      ]
    },
    {
      "cell_type": "code",
      "metadata": {
        "id": "nb1VtX8_UtbP",
        "colab_type": "code",
        "colab": {}
      },
      "source": [
        "def calc_mAP(img_results):\n",
        "  precisions=[]\n",
        "  recalls=[]\n",
        "  img_results_dict_tolist = []\n",
        "  for i in img_results.keys():\n",
        "    img_results_dict_tolist.append(img_results[i])\n",
        "  true_positive=0\n",
        "  false_positive=0\n",
        "  false_negative=0\n",
        "  for j in img_results_dict_tolist:\n",
        "    true_positive += j['true_positive']\n",
        "    false_positive += j['false_positive']\n",
        "    false_negative += j['false_negative']\n",
        "    try:\n",
        "      prec = true_positive/(true_positive+ false_positive)\n",
        "    except ZeroDivisionError:\n",
        "      prec=0.0\n",
        "    try:\n",
        "      rec = true_positive/(true_positive + false_negative)\n",
        "    except ZeroDivisionError:\n",
        "      rec=0.0\n",
        "    #print('prec', prec, 'rec',rec)\n",
        "    precisions.append(prec)\n",
        "    recalls.append(rec)\n",
        "  precisions = np.array(precisions)\n",
        "  recalls = np.array(recalls)\n",
        "  prec_at_rec = []\n",
        "  for recall_level in np.linspace(0.0, 1.0, 11):\n",
        "    #recall_level is 0, 0.1, 0.2, 0.3, ...1.0\n",
        "    try:\n",
        "      args= np.argwhere(recalls>recall_level).flatten()\n",
        "      prec= max(precisions[args])\n",
        "      #print(recalls,\"Recall\")\n",
        "      #print(      recall_level,\"Recall Level\")\n",
        "      #print(       args, \"Args\")\n",
        "      #print(       prec, \"precision\")\n",
        "    except ValueError:\n",
        "      prec=0.0\n",
        "    prec_at_rec.append(prec)\n",
        "  avg_prec = np.mean(prec_at_rec)\n",
        "  return avg_prec"
      ],
      "execution_count": null,
      "outputs": []
    },
    {
      "cell_type": "code",
      "metadata": {
        "id": "qTUUDEfSUwS4",
        "colab_type": "code",
        "colab": {
          "base_uri": "https://localhost:8080/",
          "height": 34
        },
        "outputId": "635f3672-f52a-49c2-f8b8-f5159659fb1a"
      },
      "source": [
        "#calculate the lamp mAP at 0.1 threshold\n",
        "calc_mAP(img_results)"
      ],
      "execution_count": null,
      "outputs": [
        {
          "output_type": "execute_result",
          "data": {
            "text/plain": [
              "0.9090909090909091"
            ]
          },
          "metadata": {
            "tags": []
          },
          "execution_count": 52
        }
      ]
    },
    {
      "cell_type": "markdown",
      "metadata": {
        "id": "9aYsCixv-uwM",
        "colab_type": "text"
      },
      "source": [
        "# Below are Appendix\n",
        "# Vary threshold (0.05 to 0.9) to get mAP (with 100epochs) \n"
      ]
    },
    {
      "cell_type": "code",
      "metadata": {
        "id": "A_NRTS15-t-Z",
        "colab_type": "code",
        "colab": {}
      },
      "source": [
        "import os\n",
        "import argparse\n",
        "import torch\n",
        "import torch.nn as nn\n",
        "from torch.utils.data import DataLoader\n",
        "from torchvision import transforms\n",
        "from src.dataset import CocoDataset, Resizer, Normalizer, Augmenter, collater\n",
        "from src.model import EfficientDet\n",
        "from tensorboardX import SummaryWriter\n",
        "import shutil\n",
        "import numpy as np\n",
        "from tqdm.autonotebook import tqdm\n",
        "from src.config import colors\n",
        "import cv2\n",
        "import tensorflow as tf\n",
        "\n",
        "verbose=1\n",
        "system_dict = {};\n",
        "system_dict[\"verbose\"] = verbose;\n",
        "system_dict[\"local\"] = {};\n",
        "system_dict[\"local\"][\"common_size\"] = 512;\n",
        "system_dict[\"local\"][\"mean\"] = np.array([[[0.485, 0.456, 0.406]]])\n",
        "system_dict[\"local\"][\"std\"] = np.array([[[0.229, 0.224, 0.225]]])\n",
        "\n",
        "model_dir=\"trained/\"\n",
        "system_dict[\"local\"][\"model\"] = torch.load(model_dir + \"/signatrix_efficientdet_coco.pth\").module\n",
        "if torch.cuda.is_available():\n",
        "  system_dict[\"local\"][\"model\"] = system_dict[\"local\"][\"model\"].cuda();\n",
        "\n",
        "test_images=os.listdir(\"/content/Testdir/Images/\")\n",
        "img_path=[]\n",
        "for i in test_images:\n",
        "  img_path.append('/content/Testdir/Images/'+i)\n",
        "\n",
        "def pred_test_img_thrs(img_path, threshold):\n",
        "  test_images=[]\n",
        "  for single_path in img_path:\n",
        "    image_filename = os.path.basename(single_path)\n",
        "    img = cv2.imread(single_path)\n",
        "    img = cv2.cvtColor(img, cv2.COLOR_BGR2RGB);\n",
        "    #img.shape (640,640,3)\n",
        "    image = img.astype(np.float32) / 255.\n",
        "    image = (image.astype(np.float32) - system_dict[\"local\"][\"mean\"]) / system_dict[\"local\"][\"std\"]\n",
        "\n",
        "    height, width, _ = image.shape\n",
        "    if height > width:\n",
        "      scale = system_dict[\"local\"][\"common_size\"] / height\n",
        "      resized_height = system_dict[\"local\"][\"common_size\"]\n",
        "      resized_width = int(width * scale)\n",
        "    else:\n",
        "      scale = system_dict[\"local\"][\"common_size\"] / width\n",
        "      resized_height = int(height * scale)\n",
        "      resized_width = system_dict[\"local\"][\"common_size\"]\n",
        "\n",
        "    image = cv2.resize(image, (resized_width, resized_height))\n",
        "    #image.shape (512,512,3)\n",
        "\n",
        "    new_image = np.zeros((system_dict[\"local\"][\"common_size\"], system_dict[\"local\"][\"common_size\"], 3))\n",
        "    new_image[0:resized_height, 0:resized_width] = image\n",
        "\n",
        "    img = torch.from_numpy(new_image)\n",
        "\n",
        "    with torch.no_grad():\n",
        "      scores, labels, boxes = system_dict[\"local\"][\"model\"](img.cuda().permute(2, 0, 1).float().unsqueeze(dim=0))\n",
        "      boxes /= scale;\n",
        "    #if boxes.shape[0] > 0:\n",
        "\n",
        "    single_test_img =[]\n",
        "    single_test_img.append(image_filename)\n",
        "    single_test_img.append(labels.cpu().numpy())\n",
        "    single_test_img.append(boxes.cpu().numpy())\n",
        "    single_test_img.append(scores.cpu().numpy())\n",
        "    #print(single_test_img)\n",
        "    # IMPORTANT! cut off the boxes if the score is lower than certain threshhold\n",
        "    indices = np.where(single_test_img[3] >= threshold)\n",
        "    filtered_labels = single_test_img[1][indices]\n",
        "    filtered_boxes = single_test_img[2][indices]\n",
        "    filtered_scores = single_test_img[3][indices]\n",
        "    filtered_single_test_img = []\n",
        "    filtered_single_test_img.append(image_filename)\n",
        "    filtered_single_test_img.append(filtered_labels.tolist())\n",
        "    filtered_single_test_img.append(filtered_boxes.tolist())\n",
        "    filtered_single_test_img.append(filtered_scores.tolist())\n",
        "    test_images.append(filtered_single_test_img)\n",
        "  return test_images"
      ],
      "execution_count": null,
      "outputs": []
    },
    {
      "cell_type": "code",
      "metadata": {
        "id": "h4MCCsSZ_hl3",
        "colab_type": "code",
        "colab": {}
      },
      "source": [
        "# make different pred test images at different threshold--> make a dict\n",
        "def my_range(start, end, step):\n",
        "    while start <= end:\n",
        "        yield round(start,2)\n",
        "        start += step\n",
        "pred_test_img_dict_w_diff_thrshold={}\n",
        "for threshold in my_range(0.05,0.95,0.05):\n",
        "  pred_test_img_dict_w_diff_thrshold['pred_test_images_%s' % threshold] = pred_test_img_thrs(img_path, threshold)"
      ],
      "execution_count": null,
      "outputs": []
    },
    {
      "cell_type": "code",
      "metadata": {
        "id": "CC3jHjmqBHRi",
        "colab_type": "code",
        "colab": {
          "base_uri": "https://localhost:8080/",
          "height": 88
        },
        "outputId": "57b7ef9e-3329-4bde-c723-1872125b16db"
      },
      "source": [
        "print(len(pred_test_img_dict_w_diff_thrshold['pred_test_images_0.05']))\n",
        "print(len(pred_test_img_dict_w_diff_thrshold['pred_test_images_0.25']))\n",
        "#pred_test_img_dict_w_diff_thrshold['pred_test_images_0.6']\n",
        "pred_test_img_dict_w_diff_thrshold.keys()"
      ],
      "execution_count": null,
      "outputs": [
        {
          "output_type": "stream",
          "text": [
            "351\n",
            "351\n"
          ],
          "name": "stdout"
        },
        {
          "output_type": "execute_result",
          "data": {
            "text/plain": [
              "dict_keys(['pred_test_images_0.05', 'pred_test_images_0.1', 'pred_test_images_0.15', 'pred_test_images_0.2', 'pred_test_images_0.25', 'pred_test_images_0.3', 'pred_test_images_0.35', 'pred_test_images_0.4', 'pred_test_images_0.45', 'pred_test_images_0.5', 'pred_test_images_0.55', 'pred_test_images_0.6', 'pred_test_images_0.65', 'pred_test_images_0.7', 'pred_test_images_0.75', 'pred_test_images_0.8', 'pred_test_images_0.85', 'pred_test_images_0.9'])"
            ]
          },
          "metadata": {
            "tags": []
          },
          "execution_count": 55
        }
      ]
    },
    {
      "cell_type": "code",
      "metadata": {
        "id": "YkSLJqW3DWLA",
        "colab_type": "code",
        "colab": {}
      },
      "source": [
        "#GROUND TRUTH TEST LABEL is ready created\n",
        "#gt_test_labels\n",
        "#now seperate into different classe\n",
        "# each call of sep_class_w_bbox(), will return [pred_test_images_0, pred_test_images_1, pred_test_images_2]\n",
        "#can't have loop, error message, hence we just write it out\n",
        "pred_sep_class_dict={}\n",
        "pred_sep_class_dict['pred_test_images_0.05'] = sep_class_w_bbox(pred_test_img_dict_w_diff_thrshold['pred_test_images_0.05'])\n",
        "pred_sep_class_dict['pred_test_images_0.1'] = sep_class_w_bbox(pred_test_img_dict_w_diff_thrshold['pred_test_images_0.1'])\n",
        "pred_sep_class_dict['pred_test_images_0.15'] = sep_class_w_bbox(pred_test_img_dict_w_diff_thrshold['pred_test_images_0.15'])\n",
        "pred_sep_class_dict['pred_test_images_0.2'] = sep_class_w_bbox(pred_test_img_dict_w_diff_thrshold['pred_test_images_0.2'])\n",
        "pred_sep_class_dict['pred_test_images_0.25'] = sep_class_w_bbox(pred_test_img_dict_w_diff_thrshold['pred_test_images_0.25'])\n",
        "pred_sep_class_dict['pred_test_images_0.3'] = sep_class_w_bbox(pred_test_img_dict_w_diff_thrshold['pred_test_images_0.3'])\n",
        "pred_sep_class_dict['pred_test_images_0.35'] = sep_class_w_bbox(pred_test_img_dict_w_diff_thrshold['pred_test_images_0.35'])\n",
        "pred_sep_class_dict['pred_test_images_0.4'] = sep_class_w_bbox(pred_test_img_dict_w_diff_thrshold['pred_test_images_0.4'])\n",
        "pred_sep_class_dict['pred_test_images_0.45'] = sep_class_w_bbox(pred_test_img_dict_w_diff_thrshold['pred_test_images_0.45'])\n",
        "pred_sep_class_dict['pred_test_images_0.5'] = sep_class_w_bbox(pred_test_img_dict_w_diff_thrshold['pred_test_images_0.5'])\n",
        "pred_sep_class_dict['pred_test_images_0.55'] = sep_class_w_bbox(pred_test_img_dict_w_diff_thrshold['pred_test_images_0.55'])\n",
        "pred_sep_class_dict['pred_test_images_0.6'] = sep_class_w_bbox(pred_test_img_dict_w_diff_thrshold['pred_test_images_0.6']) \n",
        "pred_sep_class_dict['pred_test_images_0.65'] = sep_class_w_bbox(pred_test_img_dict_w_diff_thrshold['pred_test_images_0.65'])  \n",
        "pred_sep_class_dict['pred_test_images_0.7'] = sep_class_w_bbox(pred_test_img_dict_w_diff_thrshold['pred_test_images_0.7'])  \n",
        "pred_sep_class_dict['pred_test_images_0.75'] = sep_class_w_bbox(pred_test_img_dict_w_diff_thrshold['pred_test_images_0.75'])  \n",
        "pred_sep_class_dict['pred_test_images_0.8'] = sep_class_w_bbox(pred_test_img_dict_w_diff_thrshold['pred_test_images_0.8'])  \n",
        "pred_sep_class_dict['pred_test_images_0.85'] = sep_class_w_bbox(pred_test_img_dict_w_diff_thrshold['pred_test_images_0.85'])\n",
        "pred_sep_class_dict['pred_test_images_0.9'] = sep_class_w_bbox(pred_test_img_dict_w_diff_thrshold['pred_test_images_0.9'])\n"
      ],
      "execution_count": null,
      "outputs": []
    },
    {
      "cell_type": "code",
      "metadata": {
        "id": "N5fZkXvKE9UM",
        "colab_type": "code",
        "colab": {
          "base_uri": "https://localhost:8080/",
          "height": 34
        },
        "outputId": "fb00c45e-6463-4a86-e56d-b7c024e83302"
      },
      "source": [
        "len(pred_sep_class_dict['pred_test_images_0.05'])\n",
        "#first list if lamp, second list is signh, 3rd list is fh at threshold=0.05"
      ],
      "execution_count": null,
      "outputs": [
        {
          "output_type": "execute_result",
          "data": {
            "text/plain": [
              "3"
            ]
          },
          "metadata": {
            "tags": []
          },
          "execution_count": 57
        }
      ]
    },
    {
      "cell_type": "code",
      "metadata": {
        "id": "bcU0S-uIIuzc",
        "colab_type": "code",
        "colab": {}
      },
      "source": [
        "#FOR LAMP CLASS\n",
        "pred_lamp_w_bbox_dict={}\n",
        "for i in my_range(0.05,0.95,0.05):\n",
        "  pred_lamp_w_bbox_dict['threshold_%s' %i] = pred_sep_class_dict['pred_test_images_%s' %i][0]\n"
      ],
      "execution_count": null,
      "outputs": []
    },
    {
      "cell_type": "code",
      "metadata": {
        "id": "VcTPfi8fJbZH",
        "colab_type": "code",
        "colab": {
          "base_uri": "https://localhost:8080/",
          "height": 54
        },
        "outputId": "7a8f78a4-9107-42e5-c449-abdc370eb2ce"
      },
      "source": [
        "pred_lamp_w_bbox_dict.keys()"
      ],
      "execution_count": null,
      "outputs": [
        {
          "output_type": "execute_result",
          "data": {
            "text/plain": [
              "dict_keys(['threshold_0.05', 'threshold_0.1', 'threshold_0.15', 'threshold_0.2', 'threshold_0.25', 'threshold_0.3', 'threshold_0.35', 'threshold_0.4', 'threshold_0.45', 'threshold_0.5', 'threshold_0.55', 'threshold_0.6', 'threshold_0.65', 'threshold_0.7', 'threshold_0.75', 'threshold_0.8', 'threshold_0.85', 'threshold_0.9'])"
            ]
          },
          "metadata": {
            "tags": []
          },
          "execution_count": 59
        }
      ]
    },
    {
      "cell_type": "code",
      "metadata": {
        "id": "UNHd_CzjJf5o",
        "colab_type": "code",
        "colab": {
          "base_uri": "https://localhost:8080/",
          "height": 221
        },
        "outputId": "c803bc20-ac67-44f5-f598-47e4a7b1fe31"
      },
      "source": [
        "#check each image (diff threshold) contains how many images\n",
        "print(len(pred_lamp_w_bbox_dict['threshold_0.1']))\n",
        "print(len(pred_lamp_w_bbox_dict['threshold_0.15']))\n",
        "print(len(pred_lamp_w_bbox_dict['threshold_0.2']))\n",
        "print(len(pred_lamp_w_bbox_dict['threshold_0.25']))\n",
        "print(len(pred_lamp_w_bbox_dict['threshold_0.3']))\n",
        "print(len(pred_lamp_w_bbox_dict['threshold_0.35']))\n",
        "print(len(pred_lamp_w_bbox_dict['threshold_0.4']))\n",
        "print(len(pred_lamp_w_bbox_dict['threshold_0.5']))\n",
        "print(len(pred_lamp_w_bbox_dict['threshold_0.6']))\n",
        "print(len(pred_lamp_w_bbox_dict['threshold_0.7']))\n",
        "print(len(pred_lamp_w_bbox_dict['threshold_0.8']))\n",
        "print(len(pred_lamp_w_bbox_dict['threshold_0.9']))"
      ],
      "execution_count": null,
      "outputs": [
        {
          "output_type": "stream",
          "text": [
            "176\n",
            "163\n",
            "155\n",
            "140\n",
            "136\n",
            "129\n",
            "124\n",
            "108\n",
            "103\n",
            "91\n",
            "81\n",
            "65\n"
          ],
          "name": "stdout"
        }
      ]
    },
    {
      "cell_type": "code",
      "metadata": {
        "id": "PLZg6I3TWL9Q",
        "colab_type": "code",
        "colab": {}
      },
      "source": [
        "img_results={}\n",
        "for i in gt_lamp_w_bbox:\n",
        "  for j in pred_lamp_w_bbox:\n",
        "    if i[0]==j[0]:\n",
        "      img_results[i[0]]= get_single_image_results(i[1], j[1], 0.5) #here 0.5 is iou threshold"
      ],
      "execution_count": null,
      "outputs": []
    },
    {
      "cell_type": "code",
      "metadata": {
        "id": "YzvfSR_dJsjm",
        "colab_type": "code",
        "colab": {
          "base_uri": "https://localhost:8080/",
          "height": 34
        },
        "outputId": "9c5c03fb-adf7-412d-aeb3-4519331afe58"
      },
      "source": [
        "# #analyze lamp class\n",
        "img_results_diff_thrshd =[]\n",
        "for keys,value in pred_lamp_w_bbox_dict.items():\n",
        "  img_results={}\n",
        "  for i in gt_lamp_w_bbox:\n",
        "    for j in value:\n",
        "      if i[0]==j[0]:\n",
        "        img_results[i[0]]= get_single_image_results(i[1], j[1], 0.5) #here 0.5 is iou threshold\n",
        "  img_results_diff_thrshd.append(img_results)\n",
        "\n",
        "len(img_results_diff_thrshd)"
      ],
      "execution_count": null,
      "outputs": [
        {
          "output_type": "execute_result",
          "data": {
            "text/plain": [
              "18"
            ]
          },
          "metadata": {
            "tags": []
          },
          "execution_count": 62
        }
      ]
    },
    {
      "cell_type": "code",
      "metadata": {
        "id": "FJaWGwcIWxOH",
        "colab_type": "code",
        "colab": {
          "base_uri": "https://localhost:8080/",
          "height": 323
        },
        "outputId": "3683c6b7-a7c8-4bd8-c33e-fe292c2687ce"
      },
      "source": [
        "for i in range(len(img_results_diff_thrshd)):\n",
        "  print('mAP at score threshold', (i+1)*0.05, 'is ', calc_mAP(img_results_diff_thrshd[i]))"
      ],
      "execution_count": null,
      "outputs": [
        {
          "output_type": "stream",
          "text": [
            "mAP at score threshold 0.05 is  0.9090909090909091\n",
            "mAP at score threshold 0.1 is  0.9090909090909091\n",
            "mAP at score threshold 0.15000000000000002 is  0.9090909090909091\n",
            "mAP at score threshold 0.2 is  0.9090909090909091\n",
            "mAP at score threshold 0.25 is  0.9090909090909091\n",
            "mAP at score threshold 0.30000000000000004 is  0.9090909090909091\n",
            "mAP at score threshold 0.35000000000000003 is  0.9090909090909091\n",
            "mAP at score threshold 0.4 is  0.9090909090909091\n",
            "mAP at score threshold 0.45 is  0.9090909090909091\n",
            "mAP at score threshold 0.5 is  0.9090909090909091\n",
            "mAP at score threshold 0.55 is  0.9090909090909091\n",
            "mAP at score threshold 0.6000000000000001 is  0.9090909090909091\n",
            "mAP at score threshold 0.65 is  0.9090909090909091\n",
            "mAP at score threshold 0.7000000000000001 is  0.9090909090909091\n",
            "mAP at score threshold 0.75 is  0.9090909090909091\n",
            "mAP at score threshold 0.8 is  0.9090909090909091\n",
            "mAP at score threshold 0.8500000000000001 is  0.9090909090909091\n",
            "mAP at score threshold 0.9 is  0.817367220593027\n"
          ],
          "name": "stdout"
        }
      ]
    },
    {
      "cell_type": "code",
      "metadata": {
        "id": "EDU6Vtmqx_Lv",
        "colab_type": "code",
        "colab": {}
      },
      "source": [
        "#FOR sign-h class\n",
        "pred_signh_w_bbox_dict={}\n",
        "for i in my_range(0.05,0.6,0.05):\n",
        "  pred_signh_w_bbox_dict['threshold_%s' %i] = pred_sep_class_dict['pred_test_images_%s' %i][1]"
      ],
      "execution_count": null,
      "outputs": []
    },
    {
      "cell_type": "code",
      "metadata": {
        "id": "F85RFd3PyXNW",
        "colab_type": "code",
        "colab": {
          "base_uri": "https://localhost:8080/",
          "height": 54
        },
        "outputId": "8f368d3e-10a9-464f-8e65-d544ef362f4e"
      },
      "source": [
        "pred_signh_w_bbox_dict.keys()"
      ],
      "execution_count": null,
      "outputs": [
        {
          "output_type": "execute_result",
          "data": {
            "text/plain": [
              "dict_keys(['threshold_0.05', 'threshold_0.1', 'threshold_0.15', 'threshold_0.2', 'threshold_0.25', 'threshold_0.3', 'threshold_0.35', 'threshold_0.4', 'threshold_0.45', 'threshold_0.5', 'threshold_0.55', 'threshold_0.6'])"
            ]
          },
          "metadata": {
            "tags": []
          },
          "execution_count": 65
        }
      ]
    },
    {
      "cell_type": "code",
      "metadata": {
        "id": "oheQ6IUuyZG5",
        "colab_type": "code",
        "colab": {
          "base_uri": "https://localhost:8080/",
          "height": 119
        },
        "outputId": "dc35ef0e-1ba4-43c0-d619-52247f086257"
      },
      "source": [
        "#check results, since there is no prediction for sign-h, can't see mAP\n",
        "print(len(pred_signh_w_bbox_dict['threshold_0.1']))\n",
        "print(len(pred_signh_w_bbox_dict['threshold_0.15']))\n",
        "print(len(pred_signh_w_bbox_dict['threshold_0.2']))\n",
        "print(len(pred_signh_w_bbox_dict['threshold_0.25']))\n",
        "print(len(pred_signh_w_bbox_dict['threshold_0.3']))\n",
        "print(len(pred_signh_w_bbox_dict['threshold_0.35']))"
      ],
      "execution_count": null,
      "outputs": [
        {
          "output_type": "stream",
          "text": [
            "0\n",
            "0\n",
            "0\n",
            "0\n",
            "0\n",
            "0\n"
          ],
          "name": "stdout"
        }
      ]
    },
    {
      "cell_type": "code",
      "metadata": {
        "id": "hO63x1NKyyyJ",
        "colab_type": "code",
        "colab": {}
      },
      "source": [
        "#FOR fh classes\n",
        "pred_fh_w_bbox_dict={}\n",
        "for i in my_range(0.05,0.6,0.05):\n",
        "  pred_fh_w_bbox_dict['threshold_%s' %i] = pred_sep_class_dict['pred_test_images_%s' %i][2]"
      ],
      "execution_count": null,
      "outputs": []
    },
    {
      "cell_type": "code",
      "metadata": {
        "id": "JVuFNlgrzApP",
        "colab_type": "code",
        "colab": {
          "base_uri": "https://localhost:8080/",
          "height": 54
        },
        "outputId": "b15c800f-b926-4d0e-842b-ca1d9704378b"
      },
      "source": [
        "pred_fh_w_bbox_dict.keys()"
      ],
      "execution_count": null,
      "outputs": [
        {
          "output_type": "execute_result",
          "data": {
            "text/plain": [
              "dict_keys(['threshold_0.05', 'threshold_0.1', 'threshold_0.15', 'threshold_0.2', 'threshold_0.25', 'threshold_0.3', 'threshold_0.35', 'threshold_0.4', 'threshold_0.45', 'threshold_0.5', 'threshold_0.55', 'threshold_0.6'])"
            ]
          },
          "metadata": {
            "tags": []
          },
          "execution_count": 68
        }
      ]
    },
    {
      "cell_type": "code",
      "metadata": {
        "id": "o5jOIU1jzErU",
        "colab_type": "code",
        "colab": {
          "base_uri": "https://localhost:8080/",
          "height": 119
        },
        "outputId": "d3a20675-328d-47e9-be53-51696f2ed253"
      },
      "source": [
        "#check results\n",
        "print(len(pred_fh_w_bbox_dict['threshold_0.1']))\n",
        "print(len(pred_fh_w_bbox_dict['threshold_0.15']))\n",
        "print(len(pred_fh_w_bbox_dict['threshold_0.2']))\n",
        "print(len(pred_fh_w_bbox_dict['threshold_0.25']))\n",
        "print(len(pred_fh_w_bbox_dict['threshold_0.3']))\n",
        "print(len(pred_fh_w_bbox_dict['threshold_0.35']))"
      ],
      "execution_count": null,
      "outputs": [
        {
          "output_type": "stream",
          "text": [
            "17\n",
            "12\n",
            "13\n",
            "10\n",
            "10\n",
            "10\n"
          ],
          "name": "stdout"
        }
      ]
    },
    {
      "cell_type": "code",
      "metadata": {
        "id": "wHOj9TgE7b86",
        "colab_type": "code",
        "colab": {}
      },
      "source": [
        "# img_results={}\n",
        "# for i in gt_fh_w_bbox:\n",
        "#   for j in pred_fh_w_bbox:\n",
        "#     if i[0]==j[0]:\n",
        "#       img_results[i[0]]= get_single_image_results(i[1], j[1], 0.5)"
      ],
      "execution_count": null,
      "outputs": []
    },
    {
      "cell_type": "code",
      "metadata": {
        "id": "OtdbP0jD7qz-",
        "colab_type": "code",
        "colab": {
          "base_uri": "https://localhost:8080/",
          "height": 34
        },
        "outputId": "3b7d0f1a-4807-434e-9f71-4bcf613c161c"
      },
      "source": [
        "# #analyze fh class\n",
        "img_results_diff_thrshd =[]\n",
        "for keys,value in pred_fh_w_bbox_dict.items():\n",
        "  img_results={}\n",
        "  for i in gt_fh_w_bbox:\n",
        "    for j in value:\n",
        "      if i[0]==j[0]:\n",
        "        img_results[i[0]]= get_single_image_results(i[1], j[1], 0.5) #here 0.5 is iou threshold\n",
        "  img_results_diff_thrshd.append(img_results)\n",
        "\n",
        "len(img_results_diff_thrshd)"
      ],
      "execution_count": null,
      "outputs": [
        {
          "output_type": "execute_result",
          "data": {
            "text/plain": [
              "12"
            ]
          },
          "metadata": {
            "tags": []
          },
          "execution_count": 83
        }
      ]
    },
    {
      "cell_type": "code",
      "metadata": {
        "id": "uZLlWI73CBWo",
        "colab_type": "code",
        "colab": {
          "base_uri": "https://localhost:8080/",
          "height": 221
        },
        "outputId": "f85ade12-e522-4d4e-8738-a385044d313f"
      },
      "source": [
        "for i in range(len(img_results_diff_thrshd)):\n",
        "  print('mAP at score threshold', (i+1)*0.05, 'is ', calc_mAP(img_results_diff_thrshd[i]))\n",
        "#result may not be correct"
      ],
      "execution_count": null,
      "outputs": [
        {
          "output_type": "stream",
          "text": [
            "mAP at score threshold 0.05 is  0.9090909090909091\n",
            "mAP at score threshold 0.1 is  0.9090909090909091\n",
            "mAP at score threshold 0.15000000000000002 is  0.9090909090909091\n",
            "mAP at score threshold 0.2 is  0.9090909090909091\n",
            "mAP at score threshold 0.25 is  0.9090909090909091\n",
            "mAP at score threshold 0.30000000000000004 is  0.9090909090909091\n",
            "mAP at score threshold 0.35000000000000003 is  0.9090909090909091\n",
            "mAP at score threshold 0.4 is  0.9090909090909091\n",
            "mAP at score threshold 0.45 is  0.9090909090909091\n",
            "mAP at score threshold 0.5 is  0.9090909090909091\n",
            "mAP at score threshold 0.55 is  0.9090909090909091\n",
            "mAP at score threshold 0.6000000000000001 is  0.9090909090909091\n"
          ],
          "name": "stdout"
        }
      ]
    },
    {
      "cell_type": "code",
      "metadata": {
        "id": "_bxyhU9p7rNp",
        "colab_type": "code",
        "colab": {}
      },
      "source": [
        ""
      ],
      "execution_count": null,
      "outputs": []
    },
    {
      "cell_type": "code",
      "metadata": {
        "id": "kUc5H-pPzXMd",
        "colab_type": "code",
        "colab": {}
      },
      "source": [
        "#for fh is we use 0.1 as threshold\n",
        "pred_low_thrsh = pred_test_img_thrs(img_path, 0.1)"
      ],
      "execution_count": null,
      "outputs": []
    },
    {
      "cell_type": "code",
      "metadata": {
        "id": "_pH-iPBrz_Yd",
        "colab_type": "code",
        "colab": {
          "base_uri": "https://localhost:8080/",
          "height": 34
        },
        "outputId": "bbe86f2d-6b04-49ff-d57d-8accbf9bca51"
      },
      "source": [
        "pred_low_thrsh_classes = sep_class_w_bbox(pred_low_thrsh)\n",
        "len(pred_low_thrsh_classes)"
      ],
      "execution_count": null,
      "outputs": [
        {
          "output_type": "execute_result",
          "data": {
            "text/plain": [
              "3"
            ]
          },
          "metadata": {
            "tags": []
          },
          "execution_count": 86
        }
      ]
    },
    {
      "cell_type": "code",
      "metadata": {
        "id": "26YyHAri0PH4",
        "colab_type": "code",
        "colab": {
          "base_uri": "https://localhost:8080/",
          "height": 34
        },
        "outputId": "7c6b9b94-04e2-44e6-c5a8-063479e3126e"
      },
      "source": [
        "pred_fh_low_thrsh = pred_low_thrsh_classes[2]\n",
        "\n",
        "img_results={}\n",
        "for i in gt_fh_w_bbox:\n",
        "  for j in pred_fh_low_thrsh:\n",
        "    if i[0]==j[0]:\n",
        "      img_results[i[0]]= get_single_image_results(i[1], j[1], 0.5) #here 0.5 is iou threshold\n",
        "\n",
        "len(img_results)\n",
        "\n",
        "calc_mAP(img_results)"
      ],
      "execution_count": null,
      "outputs": [
        {
          "output_type": "execute_result",
          "data": {
            "text/plain": [
              "0.9090909090909091"
            ]
          },
          "metadata": {
            "tags": []
          },
          "execution_count": 87
        }
      ]
    },
    {
      "cell_type": "markdown",
      "metadata": {
        "id": "WfyWosXWrbWN",
        "colab_type": "text"
      },
      "source": [
        "# Export Trained Weights"
      ]
    },
    {
      "cell_type": "code",
      "metadata": {
        "id": "KwDS9qqBbMQa",
        "colab_type": "code",
        "colab": {
          "base_uri": "https://localhost:8080/",
          "height": 122
        },
        "outputId": "c91fa10b-298b-45ee-deb0-08afbf3172b0"
      },
      "source": [
        "#export trained model\n",
        "#mount Google Drive\n",
        "from google.colab import drive\n",
        "drive.mount('/content/drive')"
      ],
      "execution_count": null,
      "outputs": [
        {
          "output_type": "stream",
          "text": [
            "Go to this URL in a browser: https://accounts.google.com/o/oauth2/auth?client_id=947318989803-6bn6qk8qdgf4n4g3pfee6491hc0brc4i.apps.googleusercontent.com&redirect_uri=urn%3aietf%3awg%3aoauth%3a2.0%3aoob&response_type=code&scope=email%20https%3a%2f%2fwww.googleapis.com%2fauth%2fdocs.test%20https%3a%2f%2fwww.googleapis.com%2fauth%2fdrive%20https%3a%2f%2fwww.googleapis.com%2fauth%2fdrive.photos.readonly%20https%3a%2f%2fwww.googleapis.com%2fauth%2fpeopleapi.readonly\n",
            "\n",
            "Enter your authorization code:\n",
            "··········\n",
            "Mounted at /content/drive\n"
          ],
          "name": "stdout"
        }
      ]
    },
    {
      "cell_type": "code",
      "metadata": {
        "id": "WSqXvZhlbfCc",
        "colab_type": "code",
        "colab": {}
      },
      "source": [
        "%mkdir trained_export\n",
        "%cp ./trained/signatrix_efficientdet_coco.onnx ./trained_export/signatrix_efficientdet_coco_$(date +%F-%H:%M).onnx\n",
        "%cp ./trained/signatrix_efficientdet_coco.pth ./trained_export/signatrix_efficientdet_coco_$(date +%F-%H:%M).pth\n",
        "%mv ./trained_export/* /content/drive/My\\ Drive/"
      ],
      "execution_count": null,
      "outputs": []
    },
    {
      "cell_type": "markdown",
      "metadata": {
        "id": "7ieAIXwm11CO",
        "colab_type": "text"
      },
      "source": [
        "# Reloading Trained Weights after Export\n",
        "\n",
        "Imagine you have exported your trained model and would like to reaccess it later. This portion of the notebook picks up the trained model and starts at inference\n"
      ]
    },
    {
      "cell_type": "code",
      "metadata": {
        "id": "fJ5__F0haiqP",
        "colab_type": "code",
        "colab": {
          "base_uri": "https://localhost:8080/",
          "height": 122
        },
        "outputId": "41c5bc07-d7a2-49a1-8031-7c81edc75c61"
      },
      "source": [
        "#export trained model\n",
        "# mount Google Drive\n",
        "from google.colab import drive\n",
        "drive.mount('/content/drive')"
      ],
      "execution_count": null,
      "outputs": [
        {
          "output_type": "stream",
          "text": [
            "Go to this URL in a browser: https://accounts.google.com/o/oauth2/auth?client_id=947318989803-6bn6qk8qdgf4n4g3pfee6491hc0brc4i.apps.googleusercontent.com&redirect_uri=urn%3aietf%3awg%3aoauth%3a2.0%3aoob&response_type=code&scope=email%20https%3a%2f%2fwww.googleapis.com%2fauth%2fdocs.test%20https%3a%2f%2fwww.googleapis.com%2fauth%2fdrive%20https%3a%2f%2fwww.googleapis.com%2fauth%2fdrive.photos.readonly%20https%3a%2f%2fwww.googleapis.com%2fauth%2fpeopleapi.readonly\n",
            "\n",
            "Enter your authorization code:\n",
            "··········\n",
            "Mounted at /content/drive\n"
          ],
          "name": "stdout"
        }
      ]
    },
    {
      "cell_type": "code",
      "metadata": {
        "id": "nhyNJ7GsatcD",
        "colab_type": "code",
        "colab": {}
      },
      "source": [
        "#our fork of the Tessellate-Imaging image detection library\n",
        "#!rm -rf Monk_Object_Detection\n",
        "# ! git clone https://github.com/roboflow-ai/Monk_Object_Detection.git"
      ],
      "execution_count": null,
      "outputs": []
    },
    {
      "cell_type": "code",
      "metadata": {
        "id": "pTVWQohaa2WU",
        "colab_type": "code",
        "colab": {
          "base_uri": "https://localhost:8080/",
          "height": 34
        },
        "outputId": "6530accd-baf3-4181-fd60-931805712c82"
      },
      "source": [
        "# For colab use the command below\n",
        "# Set up library requirments\n",
        "# ! cd Monk_Object_Detection/3_mxrcnn/installation && cat requirements_colab.txt | xargs -n 1 -L 1 pip install\n",
        "\n",
        "#fixed version of tqdm output for Colab\n",
        "# !pip install --force https://github.com/chengs/tqdm/archive/colab.zip\n",
        "#IGNORE restart runtime warning, it is indeed installed\n",
        "#missing a few extra packages that we will need later! \n",
        "# !pip install efficientnet_pytorch\n",
        "# !pip install tensorboardX\n",
        "!pwd"
      ],
      "execution_count": null,
      "outputs": [
        {
          "output_type": "stream",
          "text": [
            "/content\n"
          ],
          "name": "stdout"
        }
      ]
    },
    {
      "cell_type": "code",
      "metadata": {
        "id": "_rKXFWlLbZlf",
        "colab_type": "code",
        "colab": {}
      },
      "source": [
        "#recover trained weights\n",
        "!mkdir '/content/trained'\n",
        "#note these are old weights that I didn't train for too long\n",
        "!cp '/content/drive/My Drive/signatrix_efficientdet_coco_2020-06-10-19:56.onnx' '/content/trained/signatrix_efficientdet_coco.onnx'\n",
        "!cp '/content/drive/My Drive/signatrix_efficientdet_coco_2020-06-10-19:56.pth' '/content/trained/signatrix_efficientdet_coco.pth'"
      ],
      "execution_count": null,
      "outputs": []
    },
    {
      "cell_type": "code",
      "metadata": {
        "id": "maetU4VddJNC",
        "colab_type": "code",
        "colab": {}
      },
      "source": [
        "# import os\n",
        "# import sys\n",
        "# sys.path.append(\"Monk_Object_Detection/4_efficientdet/lib/\");"
      ],
      "execution_count": null,
      "outputs": []
    },
    {
      "cell_type": "code",
      "metadata": {
        "id": "C3Jrco_TdkhU",
        "colab_type": "code",
        "colab": {}
      },
      "source": [
        "# from infer_detector import Infer\n",
        "# gtf = Infer();"
      ],
      "execution_count": null,
      "outputs": []
    },
    {
      "cell_type": "code",
      "metadata": {
        "id": "GgZKzmI1egUa",
        "colab_type": "code",
        "colab": {}
      },
      "source": [
        "# #our trained model weights are in here in onxx format\n",
        "# gtf.Model(model_dir=\"/trained\")"
      ],
      "execution_count": null,
      "outputs": []
    },
    {
      "cell_type": "code",
      "metadata": {
        "id": "lEksZQC5fMQ2",
        "colab_type": "code",
        "colab": {}
      },
      "source": [
        "# #download some test data\n",
        "# !curl -L [YOUR LINK HERE] | jar -x"
      ],
      "execution_count": null,
      "outputs": []
    },
    {
      "cell_type": "code",
      "metadata": {
        "id": "ZOOGlzad1Kln",
        "colab_type": "code",
        "colab": {}
      },
      "source": [
        "# !ls test"
      ],
      "execution_count": null,
      "outputs": []
    },
    {
      "cell_type": "code",
      "metadata": {
        "id": "M0qOyjPh1MOs",
        "colab_type": "code",
        "colab": {}
      },
      "source": [
        "# #extract class list from our annotations\n",
        "# #in your application you will probably already have this saved\n",
        "# import json\n",
        "# with open('train/_annotations.coco.json') as json_file:\n",
        "#     data = json.load(json_file)\n",
        "# class_list = []\n",
        "# for category in data['categories']:\n",
        "#   class_list.append(category['name'])"
      ],
      "execution_count": null,
      "outputs": []
    },
    {
      "cell_type": "code",
      "metadata": {
        "id": "xW8EEb111csu",
        "colab_type": "code",
        "colab": {}
      },
      "source": [
        "# class_list"
      ],
      "execution_count": null,
      "outputs": []
    },
    {
      "cell_type": "code",
      "metadata": {
        "id": "ObmqK4EI1ga0",
        "colab_type": "code",
        "colab": {}
      },
      "source": [
        "# %%time\n",
        "# #bang!\n",
        "# img_path = \"test/2f6fb003bb89cd401322a535acb42f65_jpg.rf.49b342a7b1f6de3f0e328beaf094a945.jpg\";\n",
        "# duration, scores, labels, boxes = gtf.Predict(img_path, class_list, vis_threshold=0.2);"
      ],
      "execution_count": null,
      "outputs": []
    },
    {
      "cell_type": "code",
      "metadata": {
        "id": "AINktQgG1kmc",
        "colab_type": "code",
        "colab": {}
      },
      "source": [
        "# from IPython.display import Image\n",
        "# Image(filename='output.jpg') "
      ],
      "execution_count": null,
      "outputs": []
    },
    {
      "cell_type": "code",
      "metadata": {
        "id": "FHIdI0d81m_N",
        "colab_type": "code",
        "colab": {}
      },
      "source": [
        ""
      ],
      "execution_count": null,
      "outputs": []
    }
  ]
}