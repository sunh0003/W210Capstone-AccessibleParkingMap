{
 "cells": [
  {
   "cell_type": "markdown",
   "metadata": {},
   "source": [
    "## Get the github and import functions"
   ]
  },
  {
   "cell_type": "code",
   "execution_count": null,
   "metadata": {},
   "outputs": [],
   "source": [
    "!pwd"
   ]
  },
  {
   "cell_type": "code",
   "execution_count": null,
   "metadata": {},
   "outputs": [],
   "source": [
    "!git clone https://github.com/Paperspace/DataAugmentationForObjectDetection"
   ]
  },
  {
   "cell_type": "code",
   "execution_count": 1,
   "metadata": {},
   "outputs": [],
   "source": [
    "import random\n",
    "import numpy as np\n",
    "import cv2\n",
    "import matplotlib.pyplot as plt\n",
    "import sys\n",
    "import os"
   ]
  },
  {
   "cell_type": "code",
   "execution_count": 2,
   "metadata": {},
   "outputs": [
    {
     "name": "stdout",
     "output_type": "stream",
     "text": [
      "/Users/KirbyMac/Desktop/BerkeleyClass/W210/POC1/FourBatch\n",
      "/Users/KirbyMac/Desktop/BerkeleyClass/W210/POC1/FourBatch/DataAugmentationForObjectDetection\n"
     ]
    }
   ],
   "source": [
    "!pwd\n",
    "%cd DataAugmentationForObjectDetection"
   ]
  },
  {
   "cell_type": "code",
   "execution_count": 3,
   "metadata": {},
   "outputs": [],
   "source": [
    "from data_aug.data_aug import *\n",
    "import cv2 \n",
    "import pickle as pkl\n",
    "import numpy as np \n",
    "import matplotlib.pyplot as plt"
   ]
  },
  {
   "cell_type": "code",
   "execution_count": 4,
   "metadata": {},
   "outputs": [
    {
     "name": "stdout",
     "output_type": "stream",
     "text": [
      "/Users/KirbyMac/Desktop/BerkeleyClass/W210/POC1/FourBatch\n"
     ]
    }
   ],
   "source": [
    "%cd .."
   ]
  },
  {
   "cell_type": "markdown",
   "metadata": {},
   "source": [
    "## Generate yflip images"
   ]
  },
  {
   "cell_type": "code",
   "execution_count": 5,
   "metadata": {},
   "outputs": [],
   "source": [
    "#need to have bbox in the right format\n",
    "import xml.etree.ElementTree as ET\n",
    "import os\n",
    "def read_content(xml_file: str):\n",
    "    tree = ET.parse(xml_file)\n",
    "    root = tree.getroot()\n",
    "    list_with_all_boxes = []\n",
    "    list_with_all_labels = []\n",
    "    for boxes in root.iter('object'):\n",
    "        filename = root.find('filename').text\n",
    "        label = boxes.find('name').text\n",
    "        ymin, xmin, ymax, xmax = None, None, None, None\n",
    "        for box in boxes.findall(\"bndbox\"):\n",
    "            ymin = int(box.find(\"ymin\").text)\n",
    "            xmin = int(box.find(\"xmin\").text)\n",
    "            ymax = int(box.find(\"ymax\").text)\n",
    "            xmax = int(box.find(\"xmax\").text)\n",
    "        list_with_single_boxes = [xmin, ymin, xmax, ymax]\n",
    "        list_with_all_labels.append(label)\n",
    "        list_with_all_boxes.append(list_with_single_boxes)\n",
    "    return list_with_all_labels,list_with_all_boxes"
   ]
  },
  {
   "cell_type": "code",
   "execution_count": 6,
   "metadata": {},
   "outputs": [
    {
     "name": "stdout",
     "output_type": "stream",
     "text": [
      "/Users/KirbyMac/Desktop/BerkeleyClass/W210/POC1/FourBatch/batch4/batch2BfAug\n",
      "1168\n",
      "/Users/KirbyMac/Desktop/BerkeleyClass/W210/POC1/FourBatch/batch4\n"
     ]
    }
   ],
   "source": [
    "#the folder before aug is called batch2BfAug\n",
    "img_bf_aug_test = []\n",
    "from glob import glob\n",
    "%cd /Users/KirbyMac/Desktop/BerkeleyClass/W210/POC1/FourBatch/batch4/batch2BfAug/\n",
    "for file_path in glob('/Users/KirbyMac/Desktop/BerkeleyClass/W210/POC1/FourBatch/batch4/batch2BfAug/*.xml'):\n",
    "    single_image =[]\n",
    "    image_filename = os.path.basename(file_path)\n",
    "    #print(image_filename)\n",
    "    labels,boxes = read_content(image_filename)\n",
    "    single_image.append(image_filename)\n",
    "    single_image.append(labels)\n",
    "    single_image.append(boxes)\n",
    "    img_bf_aug_test.append(single_image)\n",
    "#print(gt_train_labels[1])\n",
    "print(len(img_bf_aug_test))\n",
    "%cd .."
   ]
  },
  {
   "cell_type": "code",
   "execution_count": 7,
   "metadata": {},
   "outputs": [
    {
     "name": "stdout",
     "output_type": "stream",
     "text": [
      "number of empty label images are 0\n"
     ]
    }
   ],
   "source": [
    "cnt=0\n",
    "for i in img_bf_aug_test:\n",
    "    if i[1]==[]:\n",
    "        cnt+=1\n",
    "print('number of empty label images are',cnt)"
   ]
  },
  {
   "cell_type": "code",
   "execution_count": 8,
   "metadata": {},
   "outputs": [
    {
     "name": "stdout",
     "output_type": "stream",
     "text": [
      "['39.74551276--104.98828359999999-135.xml', ['lamp'], [[285, 175, 304, 425]], '39.74551276--104.98828359999999-135.jpg', '39.74551276--104.98828359999999-135']\n",
      "['39.75050027--104.9852889-315.xml', ['lamp'], [[1, 66, 225, 487]], '39.75050027--104.9852889-315.jpg', '39.75050027--104.9852889-315']\n"
     ]
    }
   ],
   "source": [
    "#append name with \".jpg\" and no_'.xml'& no_\".jpg\"\n",
    "import imageio\n",
    "for i in img_bf_aug_test:\n",
    "    i.append(i[0].replace('.xml','.jpg'))\n",
    "    i.append(i[0].replace('.xml',''))\n",
    "for j in img_bf_aug_test[:2]:\n",
    "    print(j)"
   ]
  },
  {
   "cell_type": "code",
   "execution_count": 9,
   "metadata": {},
   "outputs": [
    {
     "name": "stdout",
     "output_type": "stream",
     "text": [
      "/Users/KirbyMac/Desktop/BerkeleyClass/W210/POC1/FourBatch/batch4/batch2AfAug\n"
     ]
    }
   ],
   "source": [
    "img_af_aug=[]\n",
    "%cd /Users/KirbyMac/Desktop/BerkeleyClass/W210/POC1/FourBatch/batch4/batch2AfAug/\n",
    "#cnt=0\n",
    "for j in img_bf_aug_test:\n",
    "    for file_path in glob('/Users/KirbyMac/Desktop/BerkeleyClass/W210/POC1/FourBatch/batch4/batch2AfAug/*.jpg'):\n",
    "        single_img_af_aug =[]\n",
    "        image_filename = os.path.basename(file_path)\n",
    "        if j[3] == image_filename:\n",
    "            #print(cnt,j[3],j[2])\n",
    "            bboxes = np.array(j[2]).astype(np.float64)\n",
    "            img = cv2.imread(image_filename)[:,:,::-1]\n",
    "            hor_flip = RandomHorizontalFlip(1)  \n",
    "            img, bboxes = hor_flip(img, bboxes)\n",
    "            imageio.imwrite(j[4]+str('_yflip.jpg'), img)\n",
    "            single_img_af_aug.append(j[4]+str('_yflip.jpg'))\n",
    "            single_img_af_aug.append(j[1][::-1])\n",
    "            single_img_af_aug.append(bboxes.tolist())\n",
    "            img_af_aug.append(single_img_af_aug)\n",
    "            #cnt+=1"
   ]
  },
  {
   "cell_type": "code",
   "execution_count": null,
   "metadata": {},
   "outputs": [],
   "source": [
    "# img_af_aug=[]\n",
    "# %cd /Users/KirbyMac/Desktop/BerkeleyClass/W210/POC1/FourBatch/batch4/batch2AfAug/\n",
    "# for file_path in glob('/Users/KirbyMac/Desktop/BerkeleyClass/W210/POC1/FourBatch/batch4/batch2AfAug/*.jpg'):\n",
    "#     single_img_af_aug =[]\n",
    "#     image_filename = os.path.basename(file_path)\n",
    "#     for j in img_bf_aug_test:\n",
    "#         if j[3] == image_filename:\n",
    "#             print(j[3],j[2])\n",
    "#             bboxes = np.array(j[2]).astype(np.float64)\n",
    "#             img = cv2.imread(image_filename)[:,:,::-1]\n",
    "#             hor_flip = RandomHorizontalFlip(1)  \n",
    "#             img, bboxes = hor_flip(img, bboxes)\n",
    "#             imageio.imwrite(j[4]+str('_yflip.jpg'), img)\n",
    "#             single_img_af_aug.append(j[4]+str('_yflip.jpg'))\n",
    "#             single_img_af_aug.append(j[1][::-1])\n",
    "#             single_img_af_aug.append(bboxes.tolist())\n",
    "#             img_af_aug.append(single_img_af_aug)\n",
    "#img_af_aug"
   ]
  },
  {
   "cell_type": "markdown",
   "metadata": {},
   "source": [
    "## Generate XML file from bbox"
   ]
  },
  {
   "cell_type": "code",
   "execution_count": 11,
   "metadata": {},
   "outputs": [
    {
     "data": {
      "text/plain": [
       "[['39.74551276--104.98828359999999-135_yflip.jpg',\n",
       "  ['lamp', [336.0, 175.0, 355.0, 425.0]]],\n",
       " ['39.75050027--104.9852889-315_yflip.jpg',\n",
       "  ['lamp', [415.0, 66.0, 639.0, 487.0]]],\n",
       " ['39.74751024--104.9978648-315_yflip.jpg',\n",
       "  ['fh', [161.0, 119.0, 279.0, 447.0]],\n",
       "  ['lamp', [419.0, 436.0, 444.0, 476.0]]],\n",
       " ['39.74180225--104.9913497-135_yflip.jpg',\n",
       "  ['lamp', [368.0, 137.0, 404.0, 448.0]]],\n",
       " ['39.74434244--104.98805420000001-135_yflip.jpg',\n",
       "  ['lamp', [515.0, 318.0, 578.0, 512.0]],\n",
       "  ['lamp', [182.0, 315.0, 231.0, 511.0]]]]"
      ]
     },
     "execution_count": 11,
     "metadata": {},
     "output_type": "execute_result"
    }
   ],
   "source": [
    "#change format to use below function\n",
    "new_img_af_aug=[]\n",
    "for img in img_af_aug:\n",
    "    single_img=[]\n",
    "    single_img.append(img[0])\n",
    "    for i in range(len(img[1])):\n",
    "        temp = [img[1][i], img[2][i]]\n",
    "        single_img.append(temp)\n",
    "    new_img_af_aug.append(single_img)\n",
    "new_img_af_aug[:5]"
   ]
  },
  {
   "cell_type": "code",
   "execution_count": 13,
   "metadata": {},
   "outputs": [
    {
     "data": {
      "text/plain": [
       "1168"
      ]
     },
     "execution_count": 13,
     "metadata": {},
     "output_type": "execute_result"
    }
   ],
   "source": [
    "len(new_img_af_aug)"
   ]
  },
  {
   "cell_type": "code",
   "execution_count": 15,
   "metadata": {},
   "outputs": [],
   "source": [
    "#code is to create XML file for yflip images\n",
    "def create_root(filename, width, height):\n",
    "    root = ET.Element(\"annotations\")\n",
    "    ET.SubElement(root, \"folder\").text = \"batch2AfAug\"\n",
    "    ET.SubElement(root, \"filename\").text = filename #\"{}.jpg\".format(file_prefix)\n",
    "    ET.SubElement(root,\"path\").text = \"/Users/KirbyMac/Desktop/BerkeleyClass/W210/POC1/FourBatch/batch4/batch2AfAug\"\n",
    "    source = ET.SubElement(root,\"source\")\n",
    "    ET.SubElement(source,\"database\").text = \"Unknown\"\n",
    "    size = ET.SubElement(root, \"size\")\n",
    "    ET.SubElement(size, \"width\").text = str(width)\n",
    "    ET.SubElement(size, \"height\").text = str(height)\n",
    "    ET.SubElement(size, \"depth\").text = \"3\"\n",
    "    ET.SubElement(root,\"segmented\").text = \"0\"\n",
    "    return root\n",
    "\n",
    "\n",
    "def create_object_annotation(root, voc_label):\n",
    "    #for voc_label in voc_labels:\n",
    "    obj = ET.SubElement(root, \"object\")\n",
    "    ET.SubElement(obj, \"name\").text = voc_label[0]\n",
    "    ET.SubElement(obj, \"pose\").text = \"Unspecified\"\n",
    "    ET.SubElement(obj, \"truncated\").text = str(0)\n",
    "    ET.SubElement(obj, \"difficult\").text = str(0)\n",
    "    bbox = ET.SubElement(obj, \"bndbox\")\n",
    "    ET.SubElement(bbox, \"xmin\").text = str(voc_label[1][0])\n",
    "    ET.SubElement(bbox, \"ymin\").text = str(voc_label[1][1])\n",
    "    ET.SubElement(bbox, \"xmax\").text = str(voc_label[1][2])\n",
    "    ET.SubElement(bbox, \"ymax\").text = str(voc_label[1][3])\n",
    "    return root\n",
    "\n",
    "DESTINATION_DIR = \"/Users/KirbyMac/Desktop/BerkeleyClass/W210/POC1/FourBatch/batch4/batch2AfAug\"\n",
    "width=640\n",
    "height=640\n",
    "for image in new_img_af_aug:\n",
    "    filename = image[0]\n",
    "    root = create_root(filename, width, height)\n",
    "    for j in range(1,len(image)):\n",
    "        root = create_object_annotation(root, image[j])\n",
    "    tree = ET.ElementTree(root)\n",
    "    update_filename = filename.replace('.jpg','')\n",
    "    tree.write(\"{}/{}.xml\".format(DESTINATION_DIR, update_filename))\n"
   ]
  },
  {
   "cell_type": "markdown",
   "metadata": {},
   "source": [
    "## Random split the filename to 70/30 two list"
   ]
  },
  {
   "cell_type": "code",
   "execution_count": 31,
   "metadata": {},
   "outputs": [
    {
     "data": {
      "text/plain": [
       "1168"
      ]
     },
     "execution_count": 31,
     "metadata": {},
     "output_type": "execute_result"
    }
   ],
   "source": [
    "image_name=[]\n",
    "for i in new_img_af_aug:\n",
    "    image_name.append((i[0]))\n",
    "len(image_name)"
   ]
  },
  {
   "cell_type": "code",
   "execution_count": 32,
   "metadata": {},
   "outputs": [
    {
     "data": {
      "text/plain": [
       "817.5999999999999"
      ]
     },
     "execution_count": 32,
     "metadata": {},
     "output_type": "execute_result"
    }
   ],
   "source": [
    "# we should do a 70/30 split\n",
    "1168*0.7"
   ]
  },
  {
   "cell_type": "code",
   "execution_count": 33,
   "metadata": {},
   "outputs": [
    {
     "name": "stdout",
     "output_type": "stream",
     "text": [
      "818\n",
      "350\n"
     ]
    }
   ],
   "source": [
    "random.shuffle(image_name)\n",
    "\n",
    "train_names = image_name[:818]\n",
    "test_names = image_name[818:]\n",
    "print(len(train_names))\n",
    "print(len(test_names))\n"
   ]
  },
  {
   "cell_type": "code",
   "execution_count": 41,
   "metadata": {},
   "outputs": [
    {
     "name": "stdout",
     "output_type": "stream",
     "text": [
      "39.74468424--104.9910852-315_yflip.jpg\n",
      "39.74163155--104.99896389999999-135_yflip.jpg\n",
      "39.74030936--104.99152409999999-135_yflip.jpg\n",
      "39.74315057--104.9896078-135_yflip.jpg\n",
      "39.75197523--104.99033429999999-315_yflip.jpg\n",
      "39.74618427--104.9891511-315_yflip.jpg\n",
      "39.7492102--104.99742479999999-315_yflip.jpg\n",
      "39.74934789--104.9885354-135_yflip.jpg\n"
     ]
    }
   ],
   "source": [
    "for i in test_names[:8]:\n",
    "    print(i)"
   ]
  },
  {
   "cell_type": "code",
   "execution_count": 38,
   "metadata": {},
   "outputs": [
    {
     "name": "stdout",
     "output_type": "stream",
     "text": [
      "length of the files need to move to test folder are  1400\n"
     ]
    }
   ],
   "source": [
    "# each name has 4 files\n",
    "# (1) .jpg\n",
    "# (2) .xml\n",
    "# (3) _yflip.jpg\n",
    "# (4) _yflip.xml\n",
    "\n",
    "full_test_name=[]\n",
    "for test_name in test_names:\n",
    "    full_test_name.append(test_name)\n",
    "    full_test_name.append(test_name.replace('.jpg','.xml'))\n",
    "    full_test_name.append(test_name.replace('_yflip.jpg','.jpg'))\n",
    "    full_test_name.append(test_name.replace('_yflip.jpg','.xml'))\n",
    "    \n",
    "print('length of the files need to move to test folder are ', len(full_test_name))"
   ]
  },
  {
   "cell_type": "code",
   "execution_count": 40,
   "metadata": {},
   "outputs": [
    {
     "data": {
      "text/plain": [
       "['39.74468424--104.9910852-315_yflip.jpg',\n",
       " '39.74468424--104.9910852-315_yflip.xml',\n",
       " '39.74468424--104.9910852-315.jpg',\n",
       " '39.74468424--104.9910852-315.xml',\n",
       " '39.74163155--104.99896389999999-135_yflip.jpg',\n",
       " '39.74163155--104.99896389999999-135_yflip.xml',\n",
       " '39.74163155--104.99896389999999-135.jpg',\n",
       " '39.74163155--104.99896389999999-135.xml']"
      ]
     },
     "execution_count": 40,
     "metadata": {},
     "output_type": "execute_result"
    }
   ],
   "source": [
    "full_test_name[:8]"
   ]
  },
  {
   "cell_type": "code",
   "execution_count": 42,
   "metadata": {},
   "outputs": [],
   "source": [
    "import shutil, os\n",
    "for f in full_test_name:\n",
    "    shutil.move(f, \"/Users/KirbyMac/Desktop/BerkeleyClass/W210/POC1/FourBatch/batch4/test\")"
   ]
  }
 ],
 "metadata": {
  "kernelspec": {
   "display_name": "Python 3",
   "language": "python",
   "name": "python3"
  },
  "language_info": {
   "codemirror_mode": {
    "name": "ipython",
    "version": 3
   },
   "file_extension": ".py",
   "mimetype": "text/x-python",
   "name": "python",
   "nbconvert_exporter": "python",
   "pygments_lexer": "ipython3",
   "version": "3.7.3"
  }
 },
 "nbformat": 4,
 "nbformat_minor": 4
}
