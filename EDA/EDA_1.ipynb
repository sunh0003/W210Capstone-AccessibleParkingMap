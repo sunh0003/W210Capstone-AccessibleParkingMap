{
 "cells": [
  {
   "cell_type": "markdown",
   "metadata": {},
   "source": [
    "## Batch 1 dataset : 299 train + 112 test"
   ]
  },
  {
   "cell_type": "code",
   "execution_count": 1,
   "metadata": {},
   "outputs": [
    {
     "name": "stdout",
     "output_type": "stream",
     "text": [
      "/Users/KirbyMac/Desktop/BerkeleyClass/W210/POC1/training\r\n"
     ]
    }
   ],
   "source": [
    "!pwd"
   ]
  },
  {
   "cell_type": "code",
   "execution_count": 24,
   "metadata": {},
   "outputs": [
    {
     "name": "stdout",
     "output_type": "stream",
     "text": [
      "/Users/KirbyMac/Desktop/BerkeleyClass/W210/POC1/training/michelle1Label\r\n"
     ]
    }
   ],
   "source": [
    "#the train is in micelle1, michelle1Label\n",
    "#the test folder is in michelle2, michelle2Label\n",
    "!pwd"
   ]
  },
  {
   "cell_type": "code",
   "execution_count": 66,
   "metadata": {},
   "outputs": [],
   "source": [
    "import xml.etree.ElementTree as ET\n",
    "import os\n",
    "def read_content(xml_file: str):\n",
    "    tree = ET.parse(xml_file)\n",
    "    root = tree.getroot()\n",
    "    list_with_all_boxes = []\n",
    "    list_with_all_labels = []\n",
    "    for boxes in root.iter('object'):\n",
    "        filename = root.find('filename').text\n",
    "        label = boxes.find('name').text\n",
    "        ymin, xmin, ymax, xmax = None, None, None, None\n",
    "        for box in boxes.findall(\"bndbox\"):\n",
    "            ymin = int(box.find(\"ymin\").text)\n",
    "            xmin = int(box.find(\"xmin\").text)\n",
    "            ymax = int(box.find(\"ymax\").text)\n",
    "            xmax = int(box.find(\"xmax\").text)\n",
    "        list_with_single_boxes = [xmin, ymin, xmax, ymax]\n",
    "        list_with_all_labels.append(label)\n",
    "        list_with_all_boxes.append(list_with_single_boxes)\n",
    "    return list_with_all_labels,list_with_all_boxes\n"
   ]
  },
  {
   "cell_type": "code",
   "execution_count": 47,
   "metadata": {},
   "outputs": [
    {
     "name": "stdout",
     "output_type": "stream",
     "text": [
      "/Users/KirbyMac/Desktop/BerkeleyClass/W210/POC1/training/michelle1Label\n",
      "299\n",
      "['39.7565745--104.9899989-135.jpg', ['lamp', 'lamp'], [[40, 269, 74, 496], [568, 274, 633, 462]]]\n",
      "/Users/KirbyMac/Desktop/BerkeleyClass/W210/POC1/training\n"
     ]
    }
   ],
   "source": [
    "#get training labels\n",
    "\n",
    "gt_train_labels = []\n",
    "from glob import glob\n",
    "%cd /Users/KirbyMac/Desktop/BerkeleyClass/W210/POC1/training/michelle1Label\n",
    "for file_path in glob('/Users/KirbyMac/Desktop/BerkeleyClass/W210/POC1/training/michelle1Label/*.xml'):\n",
    "    single_image =[]\n",
    "    image_filename = os.path.basename(file_path)\n",
    "    #print(image_filename)\n",
    "    labels,boxes = read_content(image_filename)\n",
    "    single_image.append(filename)\n",
    "    single_image.append(labels)\n",
    "    single_image.append(boxes)\n",
    "    gt_train_labels.append(single_image)\n",
    "#print(gt_train_labels[1])\n",
    "print(len(gt_train_labels))\n",
    "print(gt_train_labels[1])\n",
    "%cd .."
   ]
  },
  {
   "cell_type": "code",
   "execution_count": 49,
   "metadata": {},
   "outputs": [
    {
     "name": "stdout",
     "output_type": "stream",
     "text": [
      "/Users/KirbyMac/Desktop/BerkeleyClass/W210/POC1/training/MIchelle2Label\n",
      "112\n",
      "['39.7565745--104.9899989-135.jpg', ['sign-h'], [[530, 337, 538, 357]]]\n",
      "/Users/KirbyMac/Desktop/BerkeleyClass/W210/POC1/training\n"
     ]
    }
   ],
   "source": [
    "#get the list for gt_test_labels\n",
    "gt_test_labels = []\n",
    "from glob import glob\n",
    "%cd /Users/KirbyMac/Desktop/BerkeleyClass/W210/POC1/training/MIchelle2Label\n",
    "for file_path in glob('/Users/KirbyMac/Desktop/BerkeleyClass/W210/POC1/training/MIchelle2Label/*.xml'):\n",
    "    single_image =[]\n",
    "    image_filename = os.path.basename(file_path)\n",
    "    #print(image_filename)\n",
    "    labels,boxes = read_content(image_filename)\n",
    "    single_image.append(filename)\n",
    "    single_image.append(labels)\n",
    "    single_image.append(boxes)\n",
    "    gt_test_labels.append(single_image)\n",
    "#print(gt_train_labels[1])\n",
    "print(len(gt_test_labels))\n",
    "print(gt_test_labels[1])\n",
    "%cd .."
   ]
  },
  {
   "cell_type": "code",
   "execution_count": 51,
   "metadata": {},
   "outputs": [
    {
     "name": "stdout",
     "output_type": "stream",
     "text": [
      "['39.7565745--104.9899989-135.jpg', [0], [[396, 278, 450, 407]]]\n",
      "['39.7565745--104.9899989-135.jpg', [0], [[433, 283, 457, 450]]]\n"
     ]
    }
   ],
   "source": [
    "#convert ground truth image list labels from labm, sign-h, fh to 0,1,2\n",
    "\n",
    "for i in range(len(gt_train_labels)):\n",
    "    for index,label in enumerate(gt_train_labels[i][1]):\n",
    "        if label == 'lamp':\n",
    "            gt_train_labels[i][1][index] = 0\n",
    "        if label == 'sign-h':\n",
    "            gt_train_labels[i][1][index] = 1\n",
    "        if label == 'fh':\n",
    "            gt_train_labels[i][1][index] = 2\n",
    "            \n",
    "for i in range(len(gt_test_labels)):\n",
    "    for index,label in enumerate(gt_test_labels[i][1]):\n",
    "        if label == 'lamp':\n",
    "            gt_test_labels[i][1][index] = 0\n",
    "        if label == 'sign-h':\n",
    "            gt_test_labels[i][1][index] = 1\n",
    "        if label == 'fh':\n",
    "            gt_test_labels[i][1][index] = 2\n",
    "\n",
    "#check example\n",
    "print(gt_train_labels[2])\n",
    "print(gt_test_labels[2])"
   ]
  },
  {
   "cell_type": "code",
   "execution_count": 52,
   "metadata": {},
   "outputs": [],
   "source": [
    "def sep_class_w_bbox(image_list):\n",
    "    images_label_0=[]\n",
    "    images_label_1=[]\n",
    "    images_label_2=[]\n",
    "    for single_image in image_list:\n",
    "        image_label_0 = []  #each image\n",
    "        image_label_1 = []\n",
    "        image_label_2 = []  \n",
    "        bbox_label_0 = []\n",
    "        bbox_label_1 = []\n",
    "        bbox_label_2 = []\n",
    "        label_num = len(single_image[1])\n",
    "        for i in range(label_num):\n",
    "            if single_image[1][i] == 0 :\n",
    "                bbox_label_0.append(single_image[2][i])\n",
    "            if single_image[1][i] == 1 :\n",
    "                bbox_label_1.append(single_image[2][i])\n",
    "            if single_image[1][i] == 2 :\n",
    "                bbox_label_2.append(single_image[2][i])\n",
    "        if bbox_label_0 != []:\n",
    "            image_label_0.append(single_image[0])\n",
    "            image_label_0.append(bbox_label_0)\n",
    "        if bbox_label_1 !=[]:\n",
    "            image_label_1.append(single_image[0])\n",
    "            image_label_1.append(bbox_label_1)\n",
    "        if bbox_label_2 !=[]:\n",
    "            image_label_2.append(single_image[0])\n",
    "            image_label_2.append(bbox_label_2)\n",
    "      \n",
    "        images_label_0.append(image_label_0)\n",
    "        images_label_1.append(image_label_1)\n",
    "        images_label_2.append(image_label_2) \n",
    "\n",
    "    #remove empty list form the list\n",
    "    images_label_0 = [ele for ele in images_label_0 if ele != []] \n",
    "    images_label_1 = [ele for ele in images_label_1 if ele != []] \n",
    "    images_label_2 = [ele for ele in images_label_2 if ele != []]\n",
    "    return[images_label_0,images_label_1,images_label_2]"
   ]
  },
  {
   "cell_type": "code",
   "execution_count": 57,
   "metadata": {},
   "outputs": [
    {
     "name": "stdout",
     "output_type": "stream",
     "text": [
      "train class 1 sign-h number is  13\n",
      "train class 2 fh number is  24\n",
      "test class 1 sign-h number is  5\n",
      "test class 2 fh number is  14\n"
     ]
    }
   ],
   "source": [
    "print('train class 1 sign-h number is ', len(sep_class_w_bbox(gt_train_labels)[1]))\n",
    "print('train class 2 fh number is ', len(sep_class_w_bbox(gt_train_labels)[2]))\n",
    "print('test class 1 sign-h number is ', len(sep_class_w_bbox(gt_test_labels)[1]))\n",
    "print('test class 2 fh number is ', len(sep_class_w_bbox(gt_test_labels)[2]))"
   ]
  },
  {
   "cell_type": "markdown",
   "metadata": {},
   "source": [
    "## Batch 2 dataset: 800 train + 300 test"
   ]
  },
  {
   "cell_type": "code",
   "execution_count": 58,
   "metadata": {},
   "outputs": [
    {
     "name": "stdout",
     "output_type": "stream",
     "text": [
      "/Users/KirbyMac/Desktop/BerkeleyClass/W210/POC1/training\r\n"
     ]
    }
   ],
   "source": [
    "!pwd"
   ]
  },
  {
   "cell_type": "code",
   "execution_count": 68,
   "metadata": {},
   "outputs": [
    {
     "name": "stdout",
     "output_type": "stream",
     "text": [
      "/Users/KirbyMac/Desktop/BerkeleyClass/W210/POC1/training/threeBatch/rmr_img/train\n",
      "818\n",
      "['39.7565745--104.9899989-135.jpg', ['lamp', 'fh'], [[361, 119, 479, 447], [196, 436, 221, 476]]]\n",
      "/Users/KirbyMac/Desktop/BerkeleyClass/W210/POC1/training/threeBatch/rmr_img\n"
     ]
    }
   ],
   "source": [
    "gt_train_labels = []\n",
    "from glob import glob\n",
    "%cd /Users/KirbyMac/Desktop/BerkeleyClass/W210/POC1/training/threeBatch/rmr_img/train\n",
    "for file_path in glob('/Users/KirbyMac/Desktop/BerkeleyClass/W210/POC1/training/threeBatch/rmr_img/train/*.xml'):\n",
    "    single_image =[]\n",
    "    image_filename = os.path.basename(file_path)\n",
    "    #print(image_filename)\n",
    "    labels,boxes = read_content(image_filename)\n",
    "    single_image.append(filename)\n",
    "    single_image.append(labels)\n",
    "    single_image.append(boxes)\n",
    "    gt_train_labels.append(single_image)\n",
    "\n",
    "print(len(gt_train_labels))\n",
    "print(gt_train_labels[1])\n",
    "%cd .."
   ]
  },
  {
   "cell_type": "code",
   "execution_count": 72,
   "metadata": {},
   "outputs": [
    {
     "name": "stdout",
     "output_type": "stream",
     "text": [
      "/Users/KirbyMac/Desktop/BerkeleyClass/W210/POC1/training/threeBatch/rmr_img\r\n"
     ]
    }
   ],
   "source": [
    "!pwd"
   ]
  },
  {
   "cell_type": "code",
   "execution_count": 75,
   "metadata": {},
   "outputs": [
    {
     "name": "stdout",
     "output_type": "stream",
     "text": [
      "/Users/KirbyMac/Desktop/BerkeleyClass/W210/POC1/training/threeBatch/rmr_img/test\n",
      "351\n",
      "['39.7565745--104.9899989-135.jpg', ['fh', 'lamp'], [[273, 401, 285, 420], [314, 187, 335, 419]]]\n",
      "/Users/KirbyMac/Desktop/BerkeleyClass/W210/POC1/training/threeBatch/rmr_img\n"
     ]
    }
   ],
   "source": [
    "#get the list for gt_test_labels\n",
    "gt_test_labels = []\n",
    "from glob import glob\n",
    "%cd /Users/KirbyMac/Desktop/BerkeleyClass/W210/POC1/training/threeBatch/rmr_img/test/\n",
    "for file_path in glob('/Users/KirbyMac/Desktop/BerkeleyClass/W210/POC1/training/threeBatch/rmr_img/test/*.xml'):\n",
    "    single_image =[]\n",
    "    image_filename = os.path.basename(file_path)\n",
    "    #print(image_filename)\n",
    "    labels,boxes = read_content(image_filename)\n",
    "    single_image.append(filename)\n",
    "    single_image.append(labels)\n",
    "    single_image.append(boxes)\n",
    "    gt_test_labels.append(single_image)\n",
    "#print(gt_train_labels[1])\n",
    "print(len(gt_test_labels))\n",
    "print(gt_test_labels[1])\n",
    "%cd .."
   ]
  },
  {
   "cell_type": "code",
   "execution_count": 76,
   "metadata": {},
   "outputs": [
    {
     "name": "stdout",
     "output_type": "stream",
     "text": [
      "['39.7565745--104.9899989-135.jpg', [0], [[236, 137, 272, 448]]]\n",
      "['39.7565745--104.9899989-135.jpg', [0], [[305, 314, 320, 409]]]\n"
     ]
    }
   ],
   "source": [
    "#convert ground truth image list labels from labm, sign-h, fh to 0,1,2\n",
    "\n",
    "for i in range(len(gt_train_labels)):\n",
    "    for index,label in enumerate(gt_train_labels[i][1]):\n",
    "        if label == 'lamp':\n",
    "            gt_train_labels[i][1][index] = 0\n",
    "        if label == 'sign-h':\n",
    "            gt_train_labels[i][1][index] = 1\n",
    "        if label == 'fh':\n",
    "            gt_train_labels[i][1][index] = 2\n",
    "            \n",
    "for i in range(len(gt_test_labels)):\n",
    "    for index,label in enumerate(gt_test_labels[i][1]):\n",
    "        if label == 'lamp':\n",
    "            gt_test_labels[i][1][index] = 0\n",
    "        if label == 'sign-h':\n",
    "            gt_test_labels[i][1][index] = 1\n",
    "        if label == 'fh':\n",
    "            gt_test_labels[i][1][index] = 2\n",
    "\n",
    "#check example\n",
    "print(gt_train_labels[2])\n",
    "print(gt_test_labels[2])"
   ]
  },
  {
   "cell_type": "code",
   "execution_count": 77,
   "metadata": {},
   "outputs": [
    {
     "name": "stdout",
     "output_type": "stream",
     "text": [
      "train class 1 sign-h number is  24\n",
      "train class 2 fh number is  96\n",
      "test class 1 sign-h number is  14\n",
      "test class 2 fh number is  52\n"
     ]
    }
   ],
   "source": [
    "print('train class 1 sign-h number is ', len(sep_class_w_bbox(gt_train_labels)[1]))\n",
    "print('train class 2 fh number is ', len(sep_class_w_bbox(gt_train_labels)[2]))\n",
    "print('test class 1 sign-h number is ', len(sep_class_w_bbox(gt_test_labels)[1]))\n",
    "print('test class 2 fh number is ', len(sep_class_w_bbox(gt_test_labels)[2]))"
   ]
  }
 ],
 "metadata": {
  "kernelspec": {
   "display_name": "Python 3",
   "language": "python",
   "name": "python3"
  },
  "language_info": {
   "codemirror_mode": {
    "name": "ipython",
    "version": 3
   },
   "file_extension": ".py",
   "mimetype": "text/x-python",
   "name": "python",
   "nbconvert_exporter": "python",
   "pygments_lexer": "ipython3",
   "version": "3.7.3"
  }
 },
 "nbformat": 4,
 "nbformat_minor": 4
}
